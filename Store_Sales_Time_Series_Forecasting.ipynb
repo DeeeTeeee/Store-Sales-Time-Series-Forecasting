{
  "cells": [
    {
      "cell_type": "markdown",
      "metadata": {
        "id": "view-in-github",
        "colab_type": "text"
      },
      "source": [
        "<a href=\"https://colab.research.google.com/github/DeeeTeeee/Store-Sales-Time-Series-Forecasting/blob/main/Store_Sales_Time_Series_Forecasting.ipynb\" target=\"_parent\"><img src=\"https://colab.research.google.com/assets/colab-badge.svg\" alt=\"Open In Colab\"/></a>"
      ]
    },
    {
      "cell_type": "markdown",
      "metadata": {
        "id": "BzK4yMsDloLs"
      },
      "source": [
        "# Regression Project (Store Sales -- Time Series Forecasting)\n"
      ]
    },
    {
      "cell_type": "code",
      "source": [
        "# !pip install category_encoders\n",
        "# !pip install squarify\n",
        "# !pip install pmdarima"
      ],
      "metadata": {
        "id": "2TjllbgGzODH"
      },
      "execution_count": 22,
      "outputs": []
    },
    {
      "cell_type": "markdown",
      "metadata": {
        "id": "pu_bByuPyQCe"
      },
      "source": [
        "## Import Packages"
      ]
    },
    {
      "cell_type": "code",
      "execution_count": 23,
      "metadata": {
        "id": "gjRNDsUIQzQo"
      },
      "outputs": [],
      "source": [
        "import pandas as pd\n",
        "import numpy as np\n",
        "import matplotlib.pyplot as plt\n",
        "import matplotlib.patches as mpathes\n",
        "import matplotlib.dates as mdates\n",
        "import seaborn as sns\n",
        "import plotly.express as px\n",
        "import ipywidgets as widgets\n",
        "from IPython.display import display\n",
        "import warnings\n",
        "import plotly.graph_objects as go\n",
        "warnings.filterwarnings('ignore')\n",
        "import datetime as dt\n",
        "import squarify\n",
        "\n",
        "from scipy.stats import f_oneway\n",
        "from datetime import datetime\n",
        "from datetime import date\n",
        "\n",
        "from  category_encoders import BinaryEncoder\n",
        "from sklearn import preprocessing\n",
        "from sklearn.preprocessing import StandardScaler\n",
        "from sklearn.model_selection import train_test_split\n",
        "\n",
        "from statsmodels.graphics.tsaplots import plot_pacf,plot_acf\n",
        "from statsmodels.tsa.ar_model import AutoReg\n",
        "from pmdarima import auto_arima\n",
        "from statsmodels.tsa.arima.model import ARIMA\n",
        "from statsmodels.tsa.statespace.sarimax import SARIMAX\n",
        "\n",
        "from sklearn.linear_model import LinearRegression\n",
        "from sklearn.tree import DecisionTreeRegressor\n",
        "from sklearn.ensemble import RandomForestRegressor\n",
        "import xgboost as xgb\n",
        "\n",
        "from sklearn.metrics import mean_squared_error\n",
        "from sklearn.metrics import mean_squared_log_error"
      ]
    },
    {
      "cell_type": "code",
      "source": [
        "# # For CSV, use pandas.read_csv\n",
        "# from google.colab import drive\n",
        "# drive.mount('/content/drive')\n"
      ],
      "metadata": {
        "id": "hilaC2ftzuQk"
      },
      "execution_count": 24,
      "outputs": []
    },
    {
      "cell_type": "markdown",
      "metadata": {
        "id": "16sWU3AZyQCh"
      },
      "source": [
        "## Load Data"
      ]
    },
    {
      "cell_type": "code",
      "execution_count": 25,
      "metadata": {
        "id": "FxUMzySBQ9Bs"
      },
      "outputs": [],
      "source": [
        "# #Loading all datasets\n",
        "holiday = pd.read_csv('/content/holidays_events.csv',index_col=[\"date\"],parse_dates=[\"date\"])\n",
        "oil = pd.read_csv('/content/oil.csv', parse_dates=[\"date\"])\n",
        "stores = pd.read_csv('/content/stores.csv')\n",
        "test = pd.read_csv('/content/test.csv',index_col=[\"date\"],parse_dates=[\"date\"])\n",
        "train = pd.read_csv('/content/train.csv',index_col=[\"date\"],parse_dates=['date'])\n",
        "transactions = pd.read_csv('/content/transactions.csv',index_col=[\"date\"],parse_dates=[\"date\"])\n",
        "sample_submission = pd.read_csv('/content/sample_submission.csv')"
      ]
    },
    {
      "cell_type": "markdown",
      "metadata": {
        "id": "BBNajc6IRauL"
      },
      "source": [
        "## Exploratory Data Analysis: EDA"
      ]
    },
    {
      "cell_type": "markdown",
      "metadata": {
        "id": "PQPKuCNWyQCj"
      },
      "source": [
        "### Questions\n",
        "\n",
        "#### 1. Is the train dataset complete (has all the required dates)?\n",
        "\n",
        "#### 2. Which dates have the lowest and highest sales for each year?\n",
        "\n",
        "#### 3. Did the earthquake impact sales?\n",
        "\n",
        "#### 4. Are certain groups of stores selling more products? (Cluster, city, state, type)\n",
        "\n",
        "#### 5. Are sales affected by promotions, oil prices and holidays?\n",
        "\n"
      ]
    },
    {
      "cell_type": "markdown",
      "metadata": {
        "id": "vTiXZYLGyQCj"
      },
      "source": [
        "### Hypothesis\n",
        "\n",
        "##### Null Hypothesis:  Holidays do not affect the unit store sales\n",
        "##### Alternate Hypothesis:  Holidays affect the sales in the store sales"
      ]
    },
    {
      "cell_type": "markdown",
      "metadata": {
        "id": "EUtpfNOIyQCk"
      },
      "source": [
        "### Data Overview\n",
        "Here, the following were checked:<br>\n",
        "* The shape of all the datasets\n",
        "* The datatypes of the columns in the datasets\n",
        "* Summary statistics\n",
        "* Missing values"
      ]
    },
    {
      "cell_type": "markdown",
      "metadata": {
        "id": "6GLJaIX9yQCl"
      },
      "source": [
        "##### Data Shape"
      ]
    },
    {
      "cell_type": "code",
      "execution_count": 26,
      "metadata": {
        "colab": {
          "base_uri": "https://localhost:8080/"
        },
        "id": "SQlX3HBNQ9Ee",
        "outputId": "90e44c82-2733-437d-f7f4-9677c9a0a120"
      },
      "outputs": [
        {
          "output_type": "stream",
          "name": "stdout",
          "text": [
            "The shape of the holiday dataset is: (350, 5)\n",
            "The shape of the oil dataset is: (1218, 2)\n",
            "The shape of the stores dataset is: (54, 5)\n",
            "The shape of the test dataset is: (28512, 4)\n",
            "The shape of the train dataset is: (1597939, 5)\n",
            "The shape of the transactions dataset is: (83488, 2)\n",
            "The shape of the sample_submission dataset is: (28512, 2)\n"
          ]
        }
      ],
      "source": [
        "# Print out the shapes of the datasets\n",
        "print(f\"The shape of the holiday dataset is: {holiday.shape}\")\n",
        "print(f\"The shape of the oil dataset is: {oil.shape}\")\n",
        "print(f\"The shape of the stores dataset is: {stores.shape}\")\n",
        "print(f\"The shape of the test dataset is: {test.shape}\")\n",
        "print(f\"The shape of the train dataset is: {train.shape}\")\n",
        "print(f\"The shape of the transactions dataset is: {transactions.shape}\")\n",
        "print(f\"The shape of the sample_submission dataset is: {sample_submission.shape}\")"
      ]
    },
    {
      "cell_type": "markdown",
      "metadata": {
        "id": "JPTF4cQKyQCn"
      },
      "source": [
        "##### Datatypes"
      ]
    },
    {
      "cell_type": "code",
      "execution_count": 27,
      "metadata": {
        "colab": {
          "base_uri": "https://localhost:8080/"
        },
        "id": "MlJsPrCFQ9Hn",
        "outputId": "68572993-6cde-492b-a1e1-418cde31c53b"
      },
      "outputs": [
        {
          "output_type": "stream",
          "name": "stdout",
          "text": [
            "Data types for Stores:\n",
            "store_nbr     int64\n",
            "city         object\n",
            "state        object\n",
            "type         object\n",
            "cluster       int64\n",
            "dtype: object\n",
            "__________________________________________________\n",
            "Data types for Train:\n",
            "id               int64\n",
            "store_nbr        int64\n",
            "family          object\n",
            "sales          float64\n",
            "onpromotion    float64\n",
            "dtype: object\n",
            "__________________________________________________\n",
            "Data types for Test:\n",
            "id              int64\n",
            "store_nbr       int64\n",
            "family         object\n",
            "onpromotion     int64\n",
            "dtype: object\n",
            "__________________________________________________\n",
            "Data types for Transactions:\n",
            "store_nbr       int64\n",
            "transactions    int64\n",
            "dtype: object\n",
            "__________________________________________________\n",
            "Data types for Oil:\n",
            "date          datetime64[ns]\n",
            "dcoilwtico           float64\n",
            "dtype: object\n",
            "__________________________________________________\n",
            "Data types for Holiday:\n",
            "type           object\n",
            "locale         object\n",
            "locale_name    object\n",
            "description    object\n",
            "transferred      bool\n",
            "dtype: object\n",
            "__________________________________________________\n",
            "Data types for Sample_Submission:\n",
            "id         int64\n",
            "sales    float64\n",
            "dtype: object\n",
            "__________________________________________________\n"
          ]
        }
      ],
      "source": [
        "# Print the data types of each dataset\n",
        "def show_data_type(dataset_name, dataset):\n",
        "    print(f\"Data types for {dataset_name}:\")\n",
        "    print(dataset.dtypes)\n",
        "    print('_' * 50)\n",
        "\n",
        "show_data_type('Stores', stores)\n",
        "show_data_type('Train', train)\n",
        "show_data_type('Test', test)\n",
        "show_data_type('Transactions', transactions)\n",
        "show_data_type('Oil', oil)\n",
        "show_data_type('Holiday', holiday)\n",
        "show_data_type('Sample_Submission', sample_submission)\n",
        "\n"
      ]
    },
    {
      "cell_type": "markdown",
      "metadata": {
        "id": "0ZigK7CAyQCo"
      },
      "source": [
        "##### Summary Statistics"
      ]
    },
    {
      "cell_type": "code",
      "execution_count": 28,
      "metadata": {
        "colab": {
          "base_uri": "https://localhost:8080/"
        },
        "id": "HAiaFJ9DijXq",
        "outputId": "32121ed6-aede-440b-ca03-2b363d5c1af6"
      },
      "outputs": [
        {
          "output_type": "stream",
          "name": "stdout",
          "text": [
            "\n",
            "Holiday dataset summary statistics:\n",
            "\n",
            "           type    locale locale_name description transferred\n",
            "count       350       350         350         350         350\n",
            "unique        6         3          24         103           2\n",
            "top     Holiday  National     Ecuador    Carnaval       False\n",
            "freq        221       174         174          10         338\n",
            "__________________________________________________\n",
            "\n",
            "Oil dataset summary statistics:\n",
            "\n",
            "        dcoilwtico\n",
            "count  1175.000000\n",
            "mean     67.714366\n",
            "std      25.630476\n",
            "min      26.190000\n",
            "25%      46.405000\n",
            "50%      53.190000\n",
            "75%      95.660000\n",
            "max     110.620000\n",
            "__________________________________________________\n",
            "\n",
            "Stores dataset summary statistics:\n",
            "\n",
            "       store_nbr    cluster\n",
            "count  54.000000  54.000000\n",
            "mean   27.500000   8.481481\n",
            "std    15.732133   4.693395\n",
            "min     1.000000   1.000000\n",
            "25%    14.250000   4.000000\n",
            "50%    27.500000   8.500000\n",
            "75%    40.750000  13.000000\n",
            "max    54.000000  17.000000\n",
            "__________________________________________________\n",
            "\n",
            "Train dataset summary statistics:\n",
            "\n",
            "                 id     store_nbr         sales   onpromotion\n",
            "count  1.597939e+06  1.597939e+06  1.597938e+06  1.597938e+06\n",
            "mean   7.989690e+05  2.749737e+01  2.751014e+02  4.818885e-01\n",
            "std    4.612854e+05  1.558353e+01  8.883180e+02  4.719297e+00\n",
            "min    0.000000e+00  1.000000e+00  0.000000e+00  0.000000e+00\n",
            "25%    3.994845e+05  1.400000e+01  0.000000e+00  0.000000e+00\n",
            "50%    7.989690e+05  2.700000e+01  3.000000e+00  0.000000e+00\n",
            "75%    1.198454e+06  4.100000e+01  1.420000e+02  0.000000e+00\n",
            "max    1.597938e+06  5.400000e+01  4.627100e+04  2.090000e+02\n",
            "__________________________________________________\n",
            "\n",
            "Test dataset summary statistics:\n",
            "\n",
            "                 id     store_nbr   onpromotion\n",
            "count  2.851200e+04  28512.000000  28512.000000\n",
            "mean   3.015144e+06     27.500000      6.965383\n",
            "std    8.230850e+03     15.586057     20.683952\n",
            "min    3.000888e+06      1.000000      0.000000\n",
            "25%    3.008016e+06     14.000000      0.000000\n",
            "50%    3.015144e+06     27.500000      0.000000\n",
            "75%    3.022271e+06     41.000000      6.000000\n",
            "max    3.029399e+06     54.000000    646.000000\n",
            "__________________________________________________\n",
            "\n",
            "Transactions dataset summary statistics:\n",
            "\n",
            "          store_nbr  transactions\n",
            "count  83488.000000  83488.000000\n",
            "mean      26.939237   1694.602158\n",
            "std       15.608204    963.286644\n",
            "min        1.000000      5.000000\n",
            "25%       13.000000   1046.000000\n",
            "50%       27.000000   1393.000000\n",
            "75%       40.000000   2079.000000\n",
            "max       54.000000   8359.000000\n",
            "__________________________________________________\n",
            "\n",
            "Sample_submission dataset summary statistics:\n",
            "\n",
            "                 id    sales\n",
            "count  2.851200e+04  28512.0\n",
            "mean   3.015144e+06      0.0\n",
            "std    8.230850e+03      0.0\n",
            "min    3.000888e+06      0.0\n",
            "25%    3.008016e+06      0.0\n",
            "50%    3.015144e+06      0.0\n",
            "75%    3.022271e+06      0.0\n",
            "max    3.029399e+06      0.0\n",
            "__________________________________________________\n"
          ]
        }
      ],
      "source": [
        "#checking for the summary of the datasets:\n",
        "datasets = {'holiday': holiday, 'oil': oil, 'stores': stores, 'train': train, 'test': test, 'transactions': transactions, 'sample_submission' : sample_submission}\n",
        "\n",
        "for name, data in datasets.items():\n",
        "    print(f\"\\n{name.capitalize()} dataset summary statistics:\\n\")\n",
        "    print(data.describe())\n",
        "    print('_' * 50)"
      ]
    },
    {
      "cell_type": "markdown",
      "metadata": {
        "id": "MoBVYYQQyQCq"
      },
      "source": [
        "##### Missing Values"
      ]
    },
    {
      "cell_type": "code",
      "execution_count": 29,
      "metadata": {
        "colab": {
          "base_uri": "https://localhost:8080/"
        },
        "id": "kcffAUPakf0R",
        "outputId": "64e71f95-db32-4bb8-a631-022b05a4b0c6"
      },
      "outputs": [
        {
          "output_type": "stream",
          "name": "stdout",
          "text": [
            "Missing values in stores dataset:\n",
            "store_nbr    0\n",
            "city         0\n",
            "state        0\n",
            "type         0\n",
            "cluster      0\n",
            "dtype: int64\n",
            "__________________________________________________\n",
            "Missing values in train dataset:\n",
            "id             0\n",
            "store_nbr      0\n",
            "family         0\n",
            "sales          1\n",
            "onpromotion    1\n",
            "dtype: int64\n",
            "__________________________________________________\n",
            "Missing values in test dataset:\n",
            "id             0\n",
            "store_nbr      0\n",
            "family         0\n",
            "onpromotion    0\n",
            "dtype: int64\n",
            "__________________________________________________\n",
            "Missing values in transactions dataset:\n",
            "store_nbr       0\n",
            "transactions    0\n",
            "dtype: int64\n",
            "__________________________________________________\n",
            "Missing values in oil dataset:\n",
            "date           0\n",
            "dcoilwtico    43\n",
            "dtype: int64\n",
            "__________________________________________________\n",
            "Missing values in holiday dataset:\n",
            "type           0\n",
            "locale         0\n",
            "locale_name    0\n",
            "description    0\n",
            "transferred    0\n",
            "dtype: int64\n",
            "__________________________________________________\n",
            "Missing values in sample_submission dataset:\n",
            "id       0\n",
            "sales    0\n",
            "dtype: int64\n",
            "__________________________________________________\n"
          ]
        }
      ],
      "source": [
        "# showing missing values in all dataset using a function\n",
        "\n",
        "datasets = {'stores': stores, 'train': train, 'test': test, 'transactions': transactions, 'oil': oil, 'holiday': holiday, 'sample_submission' : sample_submission}\n",
        "\n",
        "def show_missing_values(datasets):\n",
        "    for name, data in datasets.items():\n",
        "        print(f\"Missing values in {name} dataset:\")\n",
        "        print(data.isnull().sum())\n",
        "        print('_' * 50)\n",
        "\n",
        "show_missing_values(datasets)\n"
      ]
    },
    {
      "cell_type": "markdown",
      "metadata": {
        "id": "7_qmHndIlsGa"
      },
      "source": [
        "#### Comment:\n",
        "* Missing data was found in the oil datasets.\n",
        "\n",
        "#### Approach:\n",
        "* The missing data were to be replaced by the mean value per month.<br> The rationale was to represent the missing values properly by the values over the month period.\n",
        "\n",
        "\n"
      ]
    },
    {
      "cell_type": "code",
      "execution_count": 30,
      "metadata": {
        "id": "K4gK60b0XAp1"
      },
      "outputs": [],
      "source": [
        "#replacing the nan with the mean of each month of its year\n",
        "for year in range(2013, 2023):\n",
        "    for month in range(1, 13):\n",
        "        mask = (oil['date'].dt.month == month) & (oil['date'].dt.year == year)\n",
        "        mean = oil.loc[mask, 'dcoilwtico'].mean()\n",
        "        oil.loc[mask, 'dcoilwtico'] = oil.loc[mask, 'dcoilwtico'].fillna(mean)\n",
        "\n"
      ]
    },
    {
      "cell_type": "code",
      "execution_count": 31,
      "metadata": {
        "colab": {
          "base_uri": "https://localhost:8080/"
        },
        "id": "--Qi2wU0Q9TD",
        "outputId": "2df057c2-832d-434c-8e35-7e4a4b1265ad"
      },
      "outputs": [
        {
          "output_type": "stream",
          "name": "stdout",
          "text": [
            "date          0\n",
            "dcoilwtico    0\n",
            "dtype: int64\n"
          ]
        }
      ],
      "source": [
        "# Print the missing values in the dataset again to confirm that there are no missing values left\n",
        "print(oil.isnull().sum())"
      ]
    },
    {
      "cell_type": "markdown",
      "metadata": {
        "id": "BDhMI4ekoM_3"
      },
      "source": [
        "### Merging Data"
      ]
    },
    {
      "cell_type": "code",
      "execution_count": 32,
      "metadata": {
        "id": "6kgYoo76XmJ_"
      },
      "outputs": [],
      "source": [
        "# combine the datasets on common columns one after the other\n",
        "merged_data1 = pd.merge(train, transactions, how='outer', on=['date', 'store_nbr'])\n",
        "merged_data2 = pd.merge(merged_data1, holiday, how='outer', on='date')\n",
        "merged_data3 = pd.merge(merged_data2, oil, how='outer', on='date')\n",
        "merged_data = pd.merge(merged_data3, stores, how='outer', on='store_nbr')"
      ]
    },
    {
      "cell_type": "code",
      "execution_count": 33,
      "metadata": {
        "colab": {
          "base_uri": "https://localhost:8080/"
        },
        "id": "mdsEAYazXmM2",
        "outputId": "cf48c27a-8264-4e9b-875d-5e784e2dee6a"
      },
      "outputs": [
        {
          "output_type": "stream",
          "name": "stdout",
          "text": [
            "<class 'pandas.core.frame.DataFrame'>\n",
            "Int64Index: 1659855 entries, 0 to 1659854\n",
            "Data columns (total 17 columns):\n",
            " #   Column        Non-Null Count    Dtype         \n",
            "---  ------        --------------    -----         \n",
            " 0   date          1659855 non-null  datetime64[ns]\n",
            " 1   id            1617541 non-null  float64       \n",
            " 2   store_nbr     1659775 non-null  float64       \n",
            " 3   family        1617541 non-null  object        \n",
            " 4   sales         1617540 non-null  float64       \n",
            " 5   onpromotion   1617540 non-null  float64       \n",
            " 6   transactions  1453723 non-null  float64       \n",
            " 7   type_x        243104 non-null   object        \n",
            " 8   locale        243104 non-null   object        \n",
            " 9   locale_name   243104 non-null   object        \n",
            " 10  description   243104 non-null   object        \n",
            " 11  transferred   243104 non-null   object        \n",
            " 12  dcoilwtico    1187775 non-null  float64       \n",
            " 13  city          1659775 non-null  object        \n",
            " 14  state         1659775 non-null  object        \n",
            " 15  type_y        1659775 non-null  object        \n",
            " 16  cluster       1659775 non-null  float64       \n",
            "dtypes: datetime64[ns](1), float64(7), object(9)\n",
            "memory usage: 227.9+ MB\n"
          ]
        }
      ],
      "source": [
        "merged_data.info()"
      ]
    },
    {
      "cell_type": "markdown",
      "metadata": {
        "id": "dDL5F0iuqxiT"
      },
      "source": [
        "##### Renaming Columns\n",
        "\n",
        "* Two columns had to be renamed.\n",
        "* 'type_x' column was changed to holiday_type\n",
        "* 'type_y' column was changed to store_type"
      ]
    },
    {
      "cell_type": "code",
      "execution_count": 34,
      "metadata": {
        "colab": {
          "base_uri": "https://localhost:8080/",
          "height": 357
        },
        "id": "H9ASjiAjXmPN",
        "outputId": "5af2e117-f3f6-4f38-bcf5-67aa209304b9"
      },
      "outputs": [
        {
          "output_type": "execute_result",
          "data": {
            "text/plain": [
              "        date   id  store_nbr      family  sales  onpromotion  transactions  \\\n",
              "0 2013-01-01  0.0        1.0  AUTOMOTIVE    0.0          0.0           NaN   \n",
              "1 2013-01-01  1.0        1.0   BABY CARE    0.0          0.0           NaN   \n",
              "2 2013-01-01  2.0        1.0      BEAUTY    0.0          0.0           NaN   \n",
              "3 2013-01-01  3.0        1.0   BEVERAGES    0.0          0.0           NaN   \n",
              "4 2013-01-01  4.0        1.0       BOOKS    0.0          0.0           NaN   \n",
              "\n",
              "  holiday_type    locale locale_name         description transferred  \\\n",
              "0      Holiday  National     Ecuador  Primer dia del ano       False   \n",
              "1      Holiday  National     Ecuador  Primer dia del ano       False   \n",
              "2      Holiday  National     Ecuador  Primer dia del ano       False   \n",
              "3      Holiday  National     Ecuador  Primer dia del ano       False   \n",
              "4      Holiday  National     Ecuador  Primer dia del ano       False   \n",
              "\n",
              "   dcoilwtico   city      state store_type  cluster  \n",
              "0   94.756667  Quito  Pichincha          D     13.0  \n",
              "1   94.756667  Quito  Pichincha          D     13.0  \n",
              "2   94.756667  Quito  Pichincha          D     13.0  \n",
              "3   94.756667  Quito  Pichincha          D     13.0  \n",
              "4   94.756667  Quito  Pichincha          D     13.0  "
            ],
            "text/html": [
              "\n",
              "  <div id=\"df-0b814096-1639-487c-97e5-3f89d4d1d2f2\">\n",
              "    <div class=\"colab-df-container\">\n",
              "      <div>\n",
              "<style scoped>\n",
              "    .dataframe tbody tr th:only-of-type {\n",
              "        vertical-align: middle;\n",
              "    }\n",
              "\n",
              "    .dataframe tbody tr th {\n",
              "        vertical-align: top;\n",
              "    }\n",
              "\n",
              "    .dataframe thead th {\n",
              "        text-align: right;\n",
              "    }\n",
              "</style>\n",
              "<table border=\"1\" class=\"dataframe\">\n",
              "  <thead>\n",
              "    <tr style=\"text-align: right;\">\n",
              "      <th></th>\n",
              "      <th>date</th>\n",
              "      <th>id</th>\n",
              "      <th>store_nbr</th>\n",
              "      <th>family</th>\n",
              "      <th>sales</th>\n",
              "      <th>onpromotion</th>\n",
              "      <th>transactions</th>\n",
              "      <th>holiday_type</th>\n",
              "      <th>locale</th>\n",
              "      <th>locale_name</th>\n",
              "      <th>description</th>\n",
              "      <th>transferred</th>\n",
              "      <th>dcoilwtico</th>\n",
              "      <th>city</th>\n",
              "      <th>state</th>\n",
              "      <th>store_type</th>\n",
              "      <th>cluster</th>\n",
              "    </tr>\n",
              "  </thead>\n",
              "  <tbody>\n",
              "    <tr>\n",
              "      <th>0</th>\n",
              "      <td>2013-01-01</td>\n",
              "      <td>0.0</td>\n",
              "      <td>1.0</td>\n",
              "      <td>AUTOMOTIVE</td>\n",
              "      <td>0.0</td>\n",
              "      <td>0.0</td>\n",
              "      <td>NaN</td>\n",
              "      <td>Holiday</td>\n",
              "      <td>National</td>\n",
              "      <td>Ecuador</td>\n",
              "      <td>Primer dia del ano</td>\n",
              "      <td>False</td>\n",
              "      <td>94.756667</td>\n",
              "      <td>Quito</td>\n",
              "      <td>Pichincha</td>\n",
              "      <td>D</td>\n",
              "      <td>13.0</td>\n",
              "    </tr>\n",
              "    <tr>\n",
              "      <th>1</th>\n",
              "      <td>2013-01-01</td>\n",
              "      <td>1.0</td>\n",
              "      <td>1.0</td>\n",
              "      <td>BABY CARE</td>\n",
              "      <td>0.0</td>\n",
              "      <td>0.0</td>\n",
              "      <td>NaN</td>\n",
              "      <td>Holiday</td>\n",
              "      <td>National</td>\n",
              "      <td>Ecuador</td>\n",
              "      <td>Primer dia del ano</td>\n",
              "      <td>False</td>\n",
              "      <td>94.756667</td>\n",
              "      <td>Quito</td>\n",
              "      <td>Pichincha</td>\n",
              "      <td>D</td>\n",
              "      <td>13.0</td>\n",
              "    </tr>\n",
              "    <tr>\n",
              "      <th>2</th>\n",
              "      <td>2013-01-01</td>\n",
              "      <td>2.0</td>\n",
              "      <td>1.0</td>\n",
              "      <td>BEAUTY</td>\n",
              "      <td>0.0</td>\n",
              "      <td>0.0</td>\n",
              "      <td>NaN</td>\n",
              "      <td>Holiday</td>\n",
              "      <td>National</td>\n",
              "      <td>Ecuador</td>\n",
              "      <td>Primer dia del ano</td>\n",
              "      <td>False</td>\n",
              "      <td>94.756667</td>\n",
              "      <td>Quito</td>\n",
              "      <td>Pichincha</td>\n",
              "      <td>D</td>\n",
              "      <td>13.0</td>\n",
              "    </tr>\n",
              "    <tr>\n",
              "      <th>3</th>\n",
              "      <td>2013-01-01</td>\n",
              "      <td>3.0</td>\n",
              "      <td>1.0</td>\n",
              "      <td>BEVERAGES</td>\n",
              "      <td>0.0</td>\n",
              "      <td>0.0</td>\n",
              "      <td>NaN</td>\n",
              "      <td>Holiday</td>\n",
              "      <td>National</td>\n",
              "      <td>Ecuador</td>\n",
              "      <td>Primer dia del ano</td>\n",
              "      <td>False</td>\n",
              "      <td>94.756667</td>\n",
              "      <td>Quito</td>\n",
              "      <td>Pichincha</td>\n",
              "      <td>D</td>\n",
              "      <td>13.0</td>\n",
              "    </tr>\n",
              "    <tr>\n",
              "      <th>4</th>\n",
              "      <td>2013-01-01</td>\n",
              "      <td>4.0</td>\n",
              "      <td>1.0</td>\n",
              "      <td>BOOKS</td>\n",
              "      <td>0.0</td>\n",
              "      <td>0.0</td>\n",
              "      <td>NaN</td>\n",
              "      <td>Holiday</td>\n",
              "      <td>National</td>\n",
              "      <td>Ecuador</td>\n",
              "      <td>Primer dia del ano</td>\n",
              "      <td>False</td>\n",
              "      <td>94.756667</td>\n",
              "      <td>Quito</td>\n",
              "      <td>Pichincha</td>\n",
              "      <td>D</td>\n",
              "      <td>13.0</td>\n",
              "    </tr>\n",
              "  </tbody>\n",
              "</table>\n",
              "</div>\n",
              "      <button class=\"colab-df-convert\" onclick=\"convertToInteractive('df-0b814096-1639-487c-97e5-3f89d4d1d2f2')\"\n",
              "              title=\"Convert this dataframe to an interactive table.\"\n",
              "              style=\"display:none;\">\n",
              "        \n",
              "  <svg xmlns=\"http://www.w3.org/2000/svg\" height=\"24px\"viewBox=\"0 0 24 24\"\n",
              "       width=\"24px\">\n",
              "    <path d=\"M0 0h24v24H0V0z\" fill=\"none\"/>\n",
              "    <path d=\"M18.56 5.44l.94 2.06.94-2.06 2.06-.94-2.06-.94-.94-2.06-.94 2.06-2.06.94zm-11 1L8.5 8.5l.94-2.06 2.06-.94-2.06-.94L8.5 2.5l-.94 2.06-2.06.94zm10 10l.94 2.06.94-2.06 2.06-.94-2.06-.94-.94-2.06-.94 2.06-2.06.94z\"/><path d=\"M17.41 7.96l-1.37-1.37c-.4-.4-.92-.59-1.43-.59-.52 0-1.04.2-1.43.59L10.3 9.45l-7.72 7.72c-.78.78-.78 2.05 0 2.83L4 21.41c.39.39.9.59 1.41.59.51 0 1.02-.2 1.41-.59l7.78-7.78 2.81-2.81c.8-.78.8-2.07 0-2.86zM5.41 20L4 18.59l7.72-7.72 1.47 1.35L5.41 20z\"/>\n",
              "  </svg>\n",
              "      </button>\n",
              "      \n",
              "  <style>\n",
              "    .colab-df-container {\n",
              "      display:flex;\n",
              "      flex-wrap:wrap;\n",
              "      gap: 12px;\n",
              "    }\n",
              "\n",
              "    .colab-df-convert {\n",
              "      background-color: #E8F0FE;\n",
              "      border: none;\n",
              "      border-radius: 50%;\n",
              "      cursor: pointer;\n",
              "      display: none;\n",
              "      fill: #1967D2;\n",
              "      height: 32px;\n",
              "      padding: 0 0 0 0;\n",
              "      width: 32px;\n",
              "    }\n",
              "\n",
              "    .colab-df-convert:hover {\n",
              "      background-color: #E2EBFA;\n",
              "      box-shadow: 0px 1px 2px rgba(60, 64, 67, 0.3), 0px 1px 3px 1px rgba(60, 64, 67, 0.15);\n",
              "      fill: #174EA6;\n",
              "    }\n",
              "\n",
              "    [theme=dark] .colab-df-convert {\n",
              "      background-color: #3B4455;\n",
              "      fill: #D2E3FC;\n",
              "    }\n",
              "\n",
              "    [theme=dark] .colab-df-convert:hover {\n",
              "      background-color: #434B5C;\n",
              "      box-shadow: 0px 1px 3px 1px rgba(0, 0, 0, 0.15);\n",
              "      filter: drop-shadow(0px 1px 2px rgba(0, 0, 0, 0.3));\n",
              "      fill: #FFFFFF;\n",
              "    }\n",
              "  </style>\n",
              "\n",
              "      <script>\n",
              "        const buttonEl =\n",
              "          document.querySelector('#df-0b814096-1639-487c-97e5-3f89d4d1d2f2 button.colab-df-convert');\n",
              "        buttonEl.style.display =\n",
              "          google.colab.kernel.accessAllowed ? 'block' : 'none';\n",
              "\n",
              "        async function convertToInteractive(key) {\n",
              "          const element = document.querySelector('#df-0b814096-1639-487c-97e5-3f89d4d1d2f2');\n",
              "          const dataTable =\n",
              "            await google.colab.kernel.invokeFunction('convertToInteractive',\n",
              "                                                     [key], {});\n",
              "          if (!dataTable) return;\n",
              "\n",
              "          const docLinkHtml = 'Like what you see? Visit the ' +\n",
              "            '<a target=\"_blank\" href=https://colab.research.google.com/notebooks/data_table.ipynb>data table notebook</a>'\n",
              "            + ' to learn more about interactive tables.';\n",
              "          element.innerHTML = '';\n",
              "          dataTable['output_type'] = 'display_data';\n",
              "          await google.colab.output.renderOutput(dataTable, element);\n",
              "          const docLink = document.createElement('div');\n",
              "          docLink.innerHTML = docLinkHtml;\n",
              "          element.appendChild(docLink);\n",
              "        }\n",
              "      </script>\n",
              "    </div>\n",
              "  </div>\n",
              "  "
            ]
          },
          "metadata": {},
          "execution_count": 34
        }
      ],
      "source": [
        "#Renaming Columns\n",
        "merged_data = merged_data.rename(columns={\"type_x\": \"holiday_type\", \"type_y\": \"store_type\"})\n",
        "merged_data.head()"
      ]
    },
    {
      "cell_type": "code",
      "execution_count": 35,
      "metadata": {
        "colab": {
          "base_uri": "https://localhost:8080/",
          "height": 269
        },
        "id": "dMu0_tfZXmYb",
        "outputId": "2387dc22-d5f5-461b-d5fb-1b18a24bf164",
        "scrolled": true
      },
      "outputs": [
        {
          "output_type": "execute_result",
          "data": {
            "text/plain": [
              "                  count           mean            std    min        25%  \\\n",
              "id            1617541.0  798375.313793  460428.792170   0.00  397257.00   \n",
              "store_nbr     1659775.0      27.488335      15.580187   1.00      14.00   \n",
              "sales         1617540.0     275.229050     889.023450   0.00       0.00   \n",
              "onpromotion   1617540.0       0.482689       4.706615   0.00       0.00   \n",
              "transactions  1453723.0    1733.409008     975.758259   5.00    1076.00   \n",
              "dcoilwtico    1187775.0      86.530478      20.283753  26.19      74.55   \n",
              "cluster       1659775.0       8.479983       4.650161   1.00       4.00   \n",
              "\n",
              "                        50%         75%         max  \n",
              "id            799860.000000  1197117.00  1597938.00  \n",
              "store_nbr         27.000000       41.00       54.00  \n",
              "sales              3.000000      142.00    46271.00  \n",
              "onpromotion        0.000000        0.00      209.00  \n",
              "transactions    1425.000000     2180.00     8359.00  \n",
              "dcoilwtico        94.756667      101.39      110.62  \n",
              "cluster            8.000000       13.00       17.00  "
            ],
            "text/html": [
              "\n",
              "  <div id=\"df-c5b66b40-6779-4d4a-99f2-10e794d41915\">\n",
              "    <div class=\"colab-df-container\">\n",
              "      <div>\n",
              "<style scoped>\n",
              "    .dataframe tbody tr th:only-of-type {\n",
              "        vertical-align: middle;\n",
              "    }\n",
              "\n",
              "    .dataframe tbody tr th {\n",
              "        vertical-align: top;\n",
              "    }\n",
              "\n",
              "    .dataframe thead th {\n",
              "        text-align: right;\n",
              "    }\n",
              "</style>\n",
              "<table border=\"1\" class=\"dataframe\">\n",
              "  <thead>\n",
              "    <tr style=\"text-align: right;\">\n",
              "      <th></th>\n",
              "      <th>count</th>\n",
              "      <th>mean</th>\n",
              "      <th>std</th>\n",
              "      <th>min</th>\n",
              "      <th>25%</th>\n",
              "      <th>50%</th>\n",
              "      <th>75%</th>\n",
              "      <th>max</th>\n",
              "    </tr>\n",
              "  </thead>\n",
              "  <tbody>\n",
              "    <tr>\n",
              "      <th>id</th>\n",
              "      <td>1617541.0</td>\n",
              "      <td>798375.313793</td>\n",
              "      <td>460428.792170</td>\n",
              "      <td>0.00</td>\n",
              "      <td>397257.00</td>\n",
              "      <td>799860.000000</td>\n",
              "      <td>1197117.00</td>\n",
              "      <td>1597938.00</td>\n",
              "    </tr>\n",
              "    <tr>\n",
              "      <th>store_nbr</th>\n",
              "      <td>1659775.0</td>\n",
              "      <td>27.488335</td>\n",
              "      <td>15.580187</td>\n",
              "      <td>1.00</td>\n",
              "      <td>14.00</td>\n",
              "      <td>27.000000</td>\n",
              "      <td>41.00</td>\n",
              "      <td>54.00</td>\n",
              "    </tr>\n",
              "    <tr>\n",
              "      <th>sales</th>\n",
              "      <td>1617540.0</td>\n",
              "      <td>275.229050</td>\n",
              "      <td>889.023450</td>\n",
              "      <td>0.00</td>\n",
              "      <td>0.00</td>\n",
              "      <td>3.000000</td>\n",
              "      <td>142.00</td>\n",
              "      <td>46271.00</td>\n",
              "    </tr>\n",
              "    <tr>\n",
              "      <th>onpromotion</th>\n",
              "      <td>1617540.0</td>\n",
              "      <td>0.482689</td>\n",
              "      <td>4.706615</td>\n",
              "      <td>0.00</td>\n",
              "      <td>0.00</td>\n",
              "      <td>0.000000</td>\n",
              "      <td>0.00</td>\n",
              "      <td>209.00</td>\n",
              "    </tr>\n",
              "    <tr>\n",
              "      <th>transactions</th>\n",
              "      <td>1453723.0</td>\n",
              "      <td>1733.409008</td>\n",
              "      <td>975.758259</td>\n",
              "      <td>5.00</td>\n",
              "      <td>1076.00</td>\n",
              "      <td>1425.000000</td>\n",
              "      <td>2180.00</td>\n",
              "      <td>8359.00</td>\n",
              "    </tr>\n",
              "    <tr>\n",
              "      <th>dcoilwtico</th>\n",
              "      <td>1187775.0</td>\n",
              "      <td>86.530478</td>\n",
              "      <td>20.283753</td>\n",
              "      <td>26.19</td>\n",
              "      <td>74.55</td>\n",
              "      <td>94.756667</td>\n",
              "      <td>101.39</td>\n",
              "      <td>110.62</td>\n",
              "    </tr>\n",
              "    <tr>\n",
              "      <th>cluster</th>\n",
              "      <td>1659775.0</td>\n",
              "      <td>8.479983</td>\n",
              "      <td>4.650161</td>\n",
              "      <td>1.00</td>\n",
              "      <td>4.00</td>\n",
              "      <td>8.000000</td>\n",
              "      <td>13.00</td>\n",
              "      <td>17.00</td>\n",
              "    </tr>\n",
              "  </tbody>\n",
              "</table>\n",
              "</div>\n",
              "      <button class=\"colab-df-convert\" onclick=\"convertToInteractive('df-c5b66b40-6779-4d4a-99f2-10e794d41915')\"\n",
              "              title=\"Convert this dataframe to an interactive table.\"\n",
              "              style=\"display:none;\">\n",
              "        \n",
              "  <svg xmlns=\"http://www.w3.org/2000/svg\" height=\"24px\"viewBox=\"0 0 24 24\"\n",
              "       width=\"24px\">\n",
              "    <path d=\"M0 0h24v24H0V0z\" fill=\"none\"/>\n",
              "    <path d=\"M18.56 5.44l.94 2.06.94-2.06 2.06-.94-2.06-.94-.94-2.06-.94 2.06-2.06.94zm-11 1L8.5 8.5l.94-2.06 2.06-.94-2.06-.94L8.5 2.5l-.94 2.06-2.06.94zm10 10l.94 2.06.94-2.06 2.06-.94-2.06-.94-.94-2.06-.94 2.06-2.06.94z\"/><path d=\"M17.41 7.96l-1.37-1.37c-.4-.4-.92-.59-1.43-.59-.52 0-1.04.2-1.43.59L10.3 9.45l-7.72 7.72c-.78.78-.78 2.05 0 2.83L4 21.41c.39.39.9.59 1.41.59.51 0 1.02-.2 1.41-.59l7.78-7.78 2.81-2.81c.8-.78.8-2.07 0-2.86zM5.41 20L4 18.59l7.72-7.72 1.47 1.35L5.41 20z\"/>\n",
              "  </svg>\n",
              "      </button>\n",
              "      \n",
              "  <style>\n",
              "    .colab-df-container {\n",
              "      display:flex;\n",
              "      flex-wrap:wrap;\n",
              "      gap: 12px;\n",
              "    }\n",
              "\n",
              "    .colab-df-convert {\n",
              "      background-color: #E8F0FE;\n",
              "      border: none;\n",
              "      border-radius: 50%;\n",
              "      cursor: pointer;\n",
              "      display: none;\n",
              "      fill: #1967D2;\n",
              "      height: 32px;\n",
              "      padding: 0 0 0 0;\n",
              "      width: 32px;\n",
              "    }\n",
              "\n",
              "    .colab-df-convert:hover {\n",
              "      background-color: #E2EBFA;\n",
              "      box-shadow: 0px 1px 2px rgba(60, 64, 67, 0.3), 0px 1px 3px 1px rgba(60, 64, 67, 0.15);\n",
              "      fill: #174EA6;\n",
              "    }\n",
              "\n",
              "    [theme=dark] .colab-df-convert {\n",
              "      background-color: #3B4455;\n",
              "      fill: #D2E3FC;\n",
              "    }\n",
              "\n",
              "    [theme=dark] .colab-df-convert:hover {\n",
              "      background-color: #434B5C;\n",
              "      box-shadow: 0px 1px 3px 1px rgba(0, 0, 0, 0.15);\n",
              "      filter: drop-shadow(0px 1px 2px rgba(0, 0, 0, 0.3));\n",
              "      fill: #FFFFFF;\n",
              "    }\n",
              "  </style>\n",
              "\n",
              "      <script>\n",
              "        const buttonEl =\n",
              "          document.querySelector('#df-c5b66b40-6779-4d4a-99f2-10e794d41915 button.colab-df-convert');\n",
              "        buttonEl.style.display =\n",
              "          google.colab.kernel.accessAllowed ? 'block' : 'none';\n",
              "\n",
              "        async function convertToInteractive(key) {\n",
              "          const element = document.querySelector('#df-c5b66b40-6779-4d4a-99f2-10e794d41915');\n",
              "          const dataTable =\n",
              "            await google.colab.kernel.invokeFunction('convertToInteractive',\n",
              "                                                     [key], {});\n",
              "          if (!dataTable) return;\n",
              "\n",
              "          const docLinkHtml = 'Like what you see? Visit the ' +\n",
              "            '<a target=\"_blank\" href=https://colab.research.google.com/notebooks/data_table.ipynb>data table notebook</a>'\n",
              "            + ' to learn more about interactive tables.';\n",
              "          element.innerHTML = '';\n",
              "          dataTable['output_type'] = 'display_data';\n",
              "          await google.colab.output.renderOutput(dataTable, element);\n",
              "          const docLink = document.createElement('div');\n",
              "          docLink.innerHTML = docLinkHtml;\n",
              "          element.appendChild(docLink);\n",
              "        }\n",
              "      </script>\n",
              "    </div>\n",
              "  </div>\n",
              "  "
            ]
          },
          "metadata": {},
          "execution_count": 35
        }
      ],
      "source": [
        "merged_data.describe().T"
      ]
    },
    {
      "cell_type": "markdown",
      "metadata": {
        "id": "o-zaWGbSyQCv"
      },
      "source": [
        "#### Missing Values after merge"
      ]
    },
    {
      "cell_type": "code",
      "execution_count": 36,
      "metadata": {
        "colab": {
          "base_uri": "https://localhost:8080/"
        },
        "id": "AAYvjNn6yQCv",
        "outputId": "86d56a19-c75e-4178-d55f-75ca5a1d8574"
      },
      "outputs": [
        {
          "output_type": "execute_result",
          "data": {
            "text/plain": [
              "date             0.000000\n",
              "id               2.549259\n",
              "store_nbr        0.004820\n",
              "family           2.549259\n",
              "sales            2.549319\n",
              "onpromotion      2.549319\n",
              "transactions    12.418675\n",
              "holiday_type    85.353901\n",
              "locale          85.353901\n",
              "locale_name     85.353901\n",
              "description     85.353901\n",
              "transferred     85.353901\n",
              "dcoilwtico      28.441039\n",
              "city             0.004820\n",
              "state            0.004820\n",
              "store_type       0.004820\n",
              "cluster          0.004820\n",
              "dtype: float64"
            ]
          },
          "metadata": {},
          "execution_count": 36
        }
      ],
      "source": [
        "merged_data.isna().sum()/len(merged_data)*100"
      ]
    },
    {
      "cell_type": "markdown",
      "metadata": {
        "id": "6Q7QSyuxyQCw"
      },
      "source": [
        "#### Approach:\n",
        "* Drop missing values in sales column\n",
        "* Create new category for missing values in holidays"
      ]
    },
    {
      "cell_type": "code",
      "execution_count": 37,
      "metadata": {
        "id": "HYCF-v4EyQCx"
      },
      "outputs": [],
      "source": [
        "#drop missing values in sales\n",
        "merged_data.dropna(subset=['sales'],inplace=True)"
      ]
    },
    {
      "cell_type": "code",
      "execution_count": 38,
      "metadata": {
        "id": "2_OUycrlyQCx"
      },
      "outputs": [],
      "source": [
        "#All unique columns in the holiday column\n",
        "merged_data['holiday_type'].unique()\n",
        "\n",
        "#Replacing missing values with a new category\n",
        "merged_data['holiday_type'].replace(np.nan,'Not Holiday', inplace=True)\n",
        "\n"
      ]
    },
    {
      "cell_type": "code",
      "execution_count": 39,
      "metadata": {
        "colab": {
          "base_uri": "https://localhost:8080/"
        },
        "id": "rn-ZzSotyQCx",
        "outputId": "5243aa8f-467e-43fc-8b7e-a02d97158fa4"
      },
      "outputs": [
        {
          "output_type": "execute_result",
          "data": {
            "text/plain": [
              "date                  0\n",
              "id                    0\n",
              "store_nbr             0\n",
              "family                0\n",
              "sales                 0\n",
              "onpromotion           0\n",
              "transactions     206052\n",
              "holiday_type          0\n",
              "locale          1382316\n",
              "locale_name     1382316\n",
              "description     1382316\n",
              "transferred     1382316\n",
              "dcoilwtico       459756\n",
              "city                  0\n",
              "state                 0\n",
              "store_type            0\n",
              "cluster               0\n",
              "dtype: int64"
            ]
          },
          "metadata": {},
          "execution_count": 39
        }
      ],
      "source": [
        "merged_data.isna().sum()"
      ]
    },
    {
      "cell_type": "markdown",
      "metadata": {
        "id": "u3Pk5r-7u12w"
      },
      "source": [
        "### Analysis"
      ]
    },
    {
      "cell_type": "markdown",
      "metadata": {
        "id": "0kB6FkWtvFNF"
      },
      "source": [
        "### 1. Is the train dataset complete (has all the required dates)?"
      ]
    },
    {
      "cell_type": "code",
      "execution_count": 40,
      "metadata": {
        "colab": {
          "base_uri": "https://localhost:8080/"
        },
        "id": "s7VlHoRPykaD",
        "outputId": "a20c5289-c285-4465-c3ae-8d25474477f3"
      },
      "outputs": [
        {
          "output_type": "stream",
          "name": "stdout",
          "text": [
            "The time series is not complete. The following dates are missing:\n",
            "DatetimeIndex(['2013-12-25', '2014-12-25'], dtype='datetime64[ns]', freq=None)\n"
          ]
        }
      ],
      "source": [
        "# Create a date range from the first date to the last date in the series\n",
        "date_range = pd.date_range(start=train.index.min(), end=train.index.max())\n",
        "\n",
        "# Check if there are any dates in the range that are not in the index\n",
        "missing_dates = date_range.difference(train.index)\n",
        "\n",
        "if len(missing_dates) == 0:\n",
        "    print(\"The time series is complete.\")\n",
        "else:\n",
        "    print(\"The time series is not complete. The following dates are missing:\")\n",
        "    print(missing_dates)"
      ]
    },
    {
      "cell_type": "markdown",
      "metadata": {
        "id": "XCAEnubIyQC2"
      },
      "source": [
        "### 2.  Which dates have the lowest and highest sales for each year?"
      ]
    },
    {
      "cell_type": "code",
      "execution_count": 41,
      "metadata": {
        "id": "RnI0MR_nu0Ef"
      },
      "outputs": [],
      "source": [
        "merged_data['year'] = pd.to_datetime(merged_data['date']).dt.year\n",
        "\n",
        "\n",
        "\n",
        "#Group merged_data by year and date\n",
        "grouped_data = merged_data.groupby(['year', 'date'])\n",
        "\n",
        "#Calculate total sales for each date\n",
        "sales_by_date = grouped_data['sales'].sum()\n",
        "\n",
        "\n",
        "# Putting everything in a dataframe\n",
        "pd.set_option('display.float_format', lambda x: f'{x:,.3f}')\n",
        "lowest_sales = pd.DataFrame(sales_by_date.groupby('year').nsmallest(1))\n",
        "highest_sales = pd.DataFrame(sales_by_date.groupby('year').nlargest(1))\n",
        "\n",
        "\n",
        "\n",
        "# # Print dates with lowest and highest sales for each year\n",
        "# # for year in merged_data['year'].unique():\n",
        "# #     print(\"Year:\", year)\n",
        "# # print(\"Lowest sales:\", lowest_sales['sales'])\n",
        "# # print(\"Highest sales:\", highest_sales['sales'])\n",
        "# # print(\"-\" * 50)\n"
      ]
    },
    {
      "cell_type": "code",
      "execution_count": 42,
      "metadata": {
        "colab": {
          "base_uri": "https://localhost:8080/",
          "height": 175
        },
        "id": "xBX1lPB5yQC3",
        "outputId": "fe4c1a7d-79d3-42d3-de21-8971284bf8ba"
      },
      "outputs": [
        {
          "output_type": "execute_result",
          "data": {
            "text/plain": [
              "                             sales\n",
              "year year date                    \n",
              "2013 2013 2013-12-22 1,392,590.294\n",
              "2014 2014 2014-12-22 2,016,286.692\n",
              "2015 2015 2015-06-07 1,070,695.918"
            ],
            "text/html": [
              "\n",
              "  <div id=\"df-fb2cc8aa-1556-460a-9951-fddeae46f0d8\">\n",
              "    <div class=\"colab-df-container\">\n",
              "      <div>\n",
              "<style scoped>\n",
              "    .dataframe tbody tr th:only-of-type {\n",
              "        vertical-align: middle;\n",
              "    }\n",
              "\n",
              "    .dataframe tbody tr th {\n",
              "        vertical-align: top;\n",
              "    }\n",
              "\n",
              "    .dataframe thead th {\n",
              "        text-align: right;\n",
              "    }\n",
              "</style>\n",
              "<table border=\"1\" class=\"dataframe\">\n",
              "  <thead>\n",
              "    <tr style=\"text-align: right;\">\n",
              "      <th></th>\n",
              "      <th></th>\n",
              "      <th></th>\n",
              "      <th>sales</th>\n",
              "    </tr>\n",
              "    <tr>\n",
              "      <th>year</th>\n",
              "      <th>year</th>\n",
              "      <th>date</th>\n",
              "      <th></th>\n",
              "    </tr>\n",
              "  </thead>\n",
              "  <tbody>\n",
              "    <tr>\n",
              "      <th>2013</th>\n",
              "      <th>2013</th>\n",
              "      <th>2013-12-22</th>\n",
              "      <td>1,392,590.294</td>\n",
              "    </tr>\n",
              "    <tr>\n",
              "      <th>2014</th>\n",
              "      <th>2014</th>\n",
              "      <th>2014-12-22</th>\n",
              "      <td>2,016,286.692</td>\n",
              "    </tr>\n",
              "    <tr>\n",
              "      <th>2015</th>\n",
              "      <th>2015</th>\n",
              "      <th>2015-06-07</th>\n",
              "      <td>1,070,695.918</td>\n",
              "    </tr>\n",
              "  </tbody>\n",
              "</table>\n",
              "</div>\n",
              "      <button class=\"colab-df-convert\" onclick=\"convertToInteractive('df-fb2cc8aa-1556-460a-9951-fddeae46f0d8')\"\n",
              "              title=\"Convert this dataframe to an interactive table.\"\n",
              "              style=\"display:none;\">\n",
              "        \n",
              "  <svg xmlns=\"http://www.w3.org/2000/svg\" height=\"24px\"viewBox=\"0 0 24 24\"\n",
              "       width=\"24px\">\n",
              "    <path d=\"M0 0h24v24H0V0z\" fill=\"none\"/>\n",
              "    <path d=\"M18.56 5.44l.94 2.06.94-2.06 2.06-.94-2.06-.94-.94-2.06-.94 2.06-2.06.94zm-11 1L8.5 8.5l.94-2.06 2.06-.94-2.06-.94L8.5 2.5l-.94 2.06-2.06.94zm10 10l.94 2.06.94-2.06 2.06-.94-2.06-.94-.94-2.06-.94 2.06-2.06.94z\"/><path d=\"M17.41 7.96l-1.37-1.37c-.4-.4-.92-.59-1.43-.59-.52 0-1.04.2-1.43.59L10.3 9.45l-7.72 7.72c-.78.78-.78 2.05 0 2.83L4 21.41c.39.39.9.59 1.41.59.51 0 1.02-.2 1.41-.59l7.78-7.78 2.81-2.81c.8-.78.8-2.07 0-2.86zM5.41 20L4 18.59l7.72-7.72 1.47 1.35L5.41 20z\"/>\n",
              "  </svg>\n",
              "      </button>\n",
              "      \n",
              "  <style>\n",
              "    .colab-df-container {\n",
              "      display:flex;\n",
              "      flex-wrap:wrap;\n",
              "      gap: 12px;\n",
              "    }\n",
              "\n",
              "    .colab-df-convert {\n",
              "      background-color: #E8F0FE;\n",
              "      border: none;\n",
              "      border-radius: 50%;\n",
              "      cursor: pointer;\n",
              "      display: none;\n",
              "      fill: #1967D2;\n",
              "      height: 32px;\n",
              "      padding: 0 0 0 0;\n",
              "      width: 32px;\n",
              "    }\n",
              "\n",
              "    .colab-df-convert:hover {\n",
              "      background-color: #E2EBFA;\n",
              "      box-shadow: 0px 1px 2px rgba(60, 64, 67, 0.3), 0px 1px 3px 1px rgba(60, 64, 67, 0.15);\n",
              "      fill: #174EA6;\n",
              "    }\n",
              "\n",
              "    [theme=dark] .colab-df-convert {\n",
              "      background-color: #3B4455;\n",
              "      fill: #D2E3FC;\n",
              "    }\n",
              "\n",
              "    [theme=dark] .colab-df-convert:hover {\n",
              "      background-color: #434B5C;\n",
              "      box-shadow: 0px 1px 3px 1px rgba(0, 0, 0, 0.15);\n",
              "      filter: drop-shadow(0px 1px 2px rgba(0, 0, 0, 0.3));\n",
              "      fill: #FFFFFF;\n",
              "    }\n",
              "  </style>\n",
              "\n",
              "      <script>\n",
              "        const buttonEl =\n",
              "          document.querySelector('#df-fb2cc8aa-1556-460a-9951-fddeae46f0d8 button.colab-df-convert');\n",
              "        buttonEl.style.display =\n",
              "          google.colab.kernel.accessAllowed ? 'block' : 'none';\n",
              "\n",
              "        async function convertToInteractive(key) {\n",
              "          const element = document.querySelector('#df-fb2cc8aa-1556-460a-9951-fddeae46f0d8');\n",
              "          const dataTable =\n",
              "            await google.colab.kernel.invokeFunction('convertToInteractive',\n",
              "                                                     [key], {});\n",
              "          if (!dataTable) return;\n",
              "\n",
              "          const docLinkHtml = 'Like what you see? Visit the ' +\n",
              "            '<a target=\"_blank\" href=https://colab.research.google.com/notebooks/data_table.ipynb>data table notebook</a>'\n",
              "            + ' to learn more about interactive tables.';\n",
              "          element.innerHTML = '';\n",
              "          dataTable['output_type'] = 'display_data';\n",
              "          await google.colab.output.renderOutput(dataTable, element);\n",
              "          const docLink = document.createElement('div');\n",
              "          docLink.innerHTML = docLinkHtml;\n",
              "          element.appendChild(docLink);\n",
              "        }\n",
              "      </script>\n",
              "    </div>\n",
              "  </div>\n",
              "  "
            ]
          },
          "metadata": {},
          "execution_count": 42
        }
      ],
      "source": [
        "#Dates with highest sales\n",
        "highest_sales"
      ]
    },
    {
      "cell_type": "code",
      "execution_count": 43,
      "metadata": {
        "colab": {
          "base_uri": "https://localhost:8080/",
          "height": 175
        },
        "id": "0OVmyGhDyQC3",
        "outputId": "c026eff2-8060-4ac8-921d-bf16810a8ece"
      },
      "outputs": [
        {
          "output_type": "execute_result",
          "data": {
            "text/plain": [
              "                          sales\n",
              "year year date                 \n",
              "2013 2013 2013-01-01  2,511.619\n",
              "2014 2014 2014-01-01  8,602.065\n",
              "2015 2015 2015-01-01 12,773.617"
            ],
            "text/html": [
              "\n",
              "  <div id=\"df-b87426d7-d48f-45ba-95bb-a69063b0e1d8\">\n",
              "    <div class=\"colab-df-container\">\n",
              "      <div>\n",
              "<style scoped>\n",
              "    .dataframe tbody tr th:only-of-type {\n",
              "        vertical-align: middle;\n",
              "    }\n",
              "\n",
              "    .dataframe tbody tr th {\n",
              "        vertical-align: top;\n",
              "    }\n",
              "\n",
              "    .dataframe thead th {\n",
              "        text-align: right;\n",
              "    }\n",
              "</style>\n",
              "<table border=\"1\" class=\"dataframe\">\n",
              "  <thead>\n",
              "    <tr style=\"text-align: right;\">\n",
              "      <th></th>\n",
              "      <th></th>\n",
              "      <th></th>\n",
              "      <th>sales</th>\n",
              "    </tr>\n",
              "    <tr>\n",
              "      <th>year</th>\n",
              "      <th>year</th>\n",
              "      <th>date</th>\n",
              "      <th></th>\n",
              "    </tr>\n",
              "  </thead>\n",
              "  <tbody>\n",
              "    <tr>\n",
              "      <th>2013</th>\n",
              "      <th>2013</th>\n",
              "      <th>2013-01-01</th>\n",
              "      <td>2,511.619</td>\n",
              "    </tr>\n",
              "    <tr>\n",
              "      <th>2014</th>\n",
              "      <th>2014</th>\n",
              "      <th>2014-01-01</th>\n",
              "      <td>8,602.065</td>\n",
              "    </tr>\n",
              "    <tr>\n",
              "      <th>2015</th>\n",
              "      <th>2015</th>\n",
              "      <th>2015-01-01</th>\n",
              "      <td>12,773.617</td>\n",
              "    </tr>\n",
              "  </tbody>\n",
              "</table>\n",
              "</div>\n",
              "      <button class=\"colab-df-convert\" onclick=\"convertToInteractive('df-b87426d7-d48f-45ba-95bb-a69063b0e1d8')\"\n",
              "              title=\"Convert this dataframe to an interactive table.\"\n",
              "              style=\"display:none;\">\n",
              "        \n",
              "  <svg xmlns=\"http://www.w3.org/2000/svg\" height=\"24px\"viewBox=\"0 0 24 24\"\n",
              "       width=\"24px\">\n",
              "    <path d=\"M0 0h24v24H0V0z\" fill=\"none\"/>\n",
              "    <path d=\"M18.56 5.44l.94 2.06.94-2.06 2.06-.94-2.06-.94-.94-2.06-.94 2.06-2.06.94zm-11 1L8.5 8.5l.94-2.06 2.06-.94-2.06-.94L8.5 2.5l-.94 2.06-2.06.94zm10 10l.94 2.06.94-2.06 2.06-.94-2.06-.94-.94-2.06-.94 2.06-2.06.94z\"/><path d=\"M17.41 7.96l-1.37-1.37c-.4-.4-.92-.59-1.43-.59-.52 0-1.04.2-1.43.59L10.3 9.45l-7.72 7.72c-.78.78-.78 2.05 0 2.83L4 21.41c.39.39.9.59 1.41.59.51 0 1.02-.2 1.41-.59l7.78-7.78 2.81-2.81c.8-.78.8-2.07 0-2.86zM5.41 20L4 18.59l7.72-7.72 1.47 1.35L5.41 20z\"/>\n",
              "  </svg>\n",
              "      </button>\n",
              "      \n",
              "  <style>\n",
              "    .colab-df-container {\n",
              "      display:flex;\n",
              "      flex-wrap:wrap;\n",
              "      gap: 12px;\n",
              "    }\n",
              "\n",
              "    .colab-df-convert {\n",
              "      background-color: #E8F0FE;\n",
              "      border: none;\n",
              "      border-radius: 50%;\n",
              "      cursor: pointer;\n",
              "      display: none;\n",
              "      fill: #1967D2;\n",
              "      height: 32px;\n",
              "      padding: 0 0 0 0;\n",
              "      width: 32px;\n",
              "    }\n",
              "\n",
              "    .colab-df-convert:hover {\n",
              "      background-color: #E2EBFA;\n",
              "      box-shadow: 0px 1px 2px rgba(60, 64, 67, 0.3), 0px 1px 3px 1px rgba(60, 64, 67, 0.15);\n",
              "      fill: #174EA6;\n",
              "    }\n",
              "\n",
              "    [theme=dark] .colab-df-convert {\n",
              "      background-color: #3B4455;\n",
              "      fill: #D2E3FC;\n",
              "    }\n",
              "\n",
              "    [theme=dark] .colab-df-convert:hover {\n",
              "      background-color: #434B5C;\n",
              "      box-shadow: 0px 1px 3px 1px rgba(0, 0, 0, 0.15);\n",
              "      filter: drop-shadow(0px 1px 2px rgba(0, 0, 0, 0.3));\n",
              "      fill: #FFFFFF;\n",
              "    }\n",
              "  </style>\n",
              "\n",
              "      <script>\n",
              "        const buttonEl =\n",
              "          document.querySelector('#df-b87426d7-d48f-45ba-95bb-a69063b0e1d8 button.colab-df-convert');\n",
              "        buttonEl.style.display =\n",
              "          google.colab.kernel.accessAllowed ? 'block' : 'none';\n",
              "\n",
              "        async function convertToInteractive(key) {\n",
              "          const element = document.querySelector('#df-b87426d7-d48f-45ba-95bb-a69063b0e1d8');\n",
              "          const dataTable =\n",
              "            await google.colab.kernel.invokeFunction('convertToInteractive',\n",
              "                                                     [key], {});\n",
              "          if (!dataTable) return;\n",
              "\n",
              "          const docLinkHtml = 'Like what you see? Visit the ' +\n",
              "            '<a target=\"_blank\" href=https://colab.research.google.com/notebooks/data_table.ipynb>data table notebook</a>'\n",
              "            + ' to learn more about interactive tables.';\n",
              "          element.innerHTML = '';\n",
              "          dataTable['output_type'] = 'display_data';\n",
              "          await google.colab.output.renderOutput(dataTable, element);\n",
              "          const docLink = document.createElement('div');\n",
              "          docLink.innerHTML = docLinkHtml;\n",
              "          element.appendChild(docLink);\n",
              "        }\n",
              "      </script>\n",
              "    </div>\n",
              "  </div>\n",
              "  "
            ]
          },
          "metadata": {},
          "execution_count": 43
        }
      ],
      "source": [
        "#Dates with lowest sales\n",
        "lowest_sales"
      ]
    },
    {
      "cell_type": "code",
      "execution_count": 44,
      "metadata": {
        "colab": {
          "base_uri": "https://localhost:8080/",
          "height": 734,
          "referenced_widgets": [
            "e632b4e378594480a0608646f7cdfc7d",
            "a9cbc599cbd7442e927a3bab79e8b15d"
          ]
        },
        "id": "o4E_qHKrm57g",
        "outputId": "563ee774-c113-4ad2-a973-342dd643e3b6"
      },
      "outputs": [
        {
          "output_type": "display_data",
          "data": {
            "text/plain": [
              "Output()"
            ],
            "application/vnd.jupyter.widget-view+json": {
              "version_major": 2,
              "version_minor": 0,
              "model_id": "e632b4e378594480a0608646f7cdfc7d"
            }
          },
          "metadata": {}
        }
      ],
      "source": [
        "# Group the merged_data by year and date, and calculate the minimum and maximum sales for each date\n",
        "sales_by_date = merged_data.groupby(['year', 'date'])['sales'].agg(['min', 'max'])\n",
        "\n",
        "# Create a slide object\n",
        "slide = widgets.Output()\n",
        "\n",
        "# Loop through each year, and plot the minimum and maximum sales for each date as two lines\n",
        "for year in sales_by_date.index.get_level_values('year').unique():\n",
        "    data = sales_by_date.loc[year]\n",
        "    fig, ax = plt.subplots(figsize=(8, 2))\n",
        "    ax.plot(data.index.get_level_values('date'), data['min'], label=f'Min Sales {year}')\n",
        "    ax.plot(data.index.get_level_values('date'), data['max'], label=f'Max Sales {year}')\n",
        "    ax.set_title(f'Lowest and Highest Sales for {year}')\n",
        "    ax.set_xlabel('Date')\n",
        "    ax.set_ylabel('Sales')\n",
        "    ax.legend()\n",
        "    # Display the figure in the slide\n",
        "    with slide:\n",
        "        display(fig)\n",
        "    plt.close(fig)\n",
        "\n",
        "# Display the slide\n",
        "display(slide)\n"
      ]
    },
    {
      "cell_type": "markdown",
      "metadata": {
        "id": "k6AdSAW5yQC4"
      },
      "source": [
        "#### Insights:\n",
        " * From 2013 to 2015, the highest sales have been recorded in December.\n",
        " * However, the trends changed in 2016 and 2017 where the highest sales were recorded in June.\n",
        " * Perhaps, more promotions were carried out in June as compared to December"
      ]
    },
    {
      "cell_type": "markdown",
      "metadata": {
        "id": "P92F4izS1oAm"
      },
      "source": [
        "### 3. Did the earthquake impact sales?\n",
        "\n",
        " A magnitude 7.8 earthquake struck Ecuador on April 16, 2016. People rallied in relief efforts donating water and other first need products which greatly affected supermarket sales for several weeks after the earthquake."
      ]
    },
    {
      "cell_type": "code",
      "execution_count": 45,
      "metadata": {
        "colab": {
          "base_uri": "https://localhost:8080/"
        },
        "id": "u9qo-Y4HhWxm",
        "outputId": "24b54006-f1b8-408c-e167-b9aec02bd195"
      },
      "outputs": [
        {
          "output_type": "stream",
          "name": "stdout",
          "text": [
            "The sales for the date 2016-04-16 is $0.00\n"
          ]
        }
      ],
      "source": [
        "# merged_data[merged_data['date'] == '2016-04-16']['sales'].sum()\n",
        "date = '2016-04-16'\n",
        "sales_sum = merged_data[merged_data['date'] == date]['sales'].sum()\n",
        "print(\"The sales for the date {} is ${:,.2f}\".format(date, sales_sum))\n"
      ]
    },
    {
      "cell_type": "code",
      "execution_count": 46,
      "metadata": {
        "colab": {
          "base_uri": "https://localhost:8080/",
          "height": 403
        },
        "id": "s9dFLntm_Vmo",
        "outputId": "5152a953-82a1-4b25-d02d-3291107611b6"
      },
      "outputs": [
        {
          "output_type": "display_data",
          "data": {
            "text/plain": [
              "<Figure size 2000x600 with 1 Axes>"
            ],
            "image/png": "[encoded data removed]"
          },
          "metadata": {}
        }
      ],
      "source": [
        "#define earthquake date\n",
        "earthquake = [pd.to_datetime('2016-04-16')]\n",
        "\n",
        "#Obtain 2016 dataset\n",
        "data16 = merged_data[merged_data['year'] ==2016]\n",
        "\n",
        "#Plotting\n",
        "ax = data16.groupby(['date'],as_index=False)['sales'].sum().plot(\n",
        "    'date', 'sales', figsize=(20,6))\n",
        "ax.axvline(earthquake, color='purple', linestyle='--')\n",
        "ax.legend(['sales', 'earthquake'])\n",
        "plt.title('Sales Trend in 2016',fontsize = 20)\n",
        "plt.xlabel('Month',fontsize = 15)\n",
        "plt.ylabel('Sales in Millions', fontsize=15);"
      ]
    },
    {
      "cell_type": "markdown",
      "metadata": {
        "id": "8s7CfCOrbl7A"
      },
      "source": [
        "#### Insights\n",
        "From the Graph:\n",
        "* Sales were on a steady rise from previous weeks prior the earthquake.\n",
        "* A few days after the earthquake, sales took a dip but rose steadily for about a week and suffered a major dip until May.\n",
        ""
      ]
    },
    {
      "cell_type": "markdown",
      "metadata": {
        "id": "iW6C56bT3Tqd"
      },
      "source": [
        "### 4. Are certain groups of stores selling more products? (Cluster, city, state, type)"
      ]
    },
    {
      "cell_type": "markdown",
      "metadata": {
        "id": "z9XflyCTyQC8"
      },
      "source": [
        "#### Collective grouping of cluster, city,state,type by transactions made"
      ]
    },
    {
      "cell_type": "code",
      "execution_count": 47,
      "metadata": {
        "colab": {
          "base_uri": "https://localhost:8080/"
        },
        "id": "I3SQeRiz5vo3",
        "outputId": "b0d7a89d-5315-4377-abec-66f5f6a6405b"
      },
      "outputs": [
        {
          "output_type": "stream",
          "name": "stdout",
          "text": [
            "cluster  city           state                           type\n",
            "1        Daule          Guayas                          D        2485687\n",
            "         Guayaquil      Guayas                          D        3568206\n",
            "         Salinas        Santa Elena                     D        1520362\n",
            "2        Cuenca         Azuay                           D        3284365\n",
            "3        El Carmen      Manabi                          C        1451290\n",
            "         Guayaquil      Guayas                          C        2236356\n",
            "         Machala        El Oro                          C        2181195\n",
            "         Playas         Guayas                          C        1123889\n",
            "         Quevedo        Los Rios                        C        1743003\n",
            "         Santo Domingo  Santo Domingo de los Tsachilas  C        1464498\n",
            "4        Loja           Loja                            D        2867052\n",
            "         Machala        El Oro                          D        1764146\n",
            "         Santo Domingo  Santo Domingo de los Tsachilas  D        2347877\n",
            "5        Quito          Pichincha                       A        7273093\n",
            "6        Cayambe        Pichincha                       B        3972488\n",
            "         Cuenca         Azuay                           B        2389482\n",
            "         Guayaquil      Guayas                          B        3864018\n",
            "         Quito          Pichincha                       B        4938701\n",
            "         Santo Domingo  Santo Domingo de los Tsachilas  B         842891\n",
            "7        Puyo           Pastaza                         C         504156\n",
            "         Riobamba       Chimborazo                      C        2287850\n",
            "8        Quito          Pichincha                       D       13000314\n",
            "9        Ambato         Tungurahua                      D        1788171\n",
            "         Quito          Pichincha                       D        2519007\n",
            "10       Babahoyo       Los Rios                        B        2306044\n",
            "         Esmeraldas     Esmeraldas                      E        2182356\n",
            "         Guayaquil      Guayas                          D        1065059\n",
            "                                                        E        2939042\n",
            "         Libertad       Guayas                          E        1738129\n",
            "11       Manta          Manabi                          A         275393\n",
            "         Quito          Pichincha                       A       10775218\n",
            "12       Quito          Pichincha                       C        2295485\n",
            "13       Manta          Manabi                          D        1180082\n",
            "         Quito          Pichincha                       D        8839760\n",
            "14       Ambato         Tungurahua                      A        4384444\n",
            "         Quito          Pichincha                       A       17633708\n",
            "15       Guaranda       Bolivar                         C        2107489\n",
            "         Ibarra         Imbabura                        C        2209898\n",
            "         Latacunga      Cotopaxi                        C        3531356\n",
            "         Quito          Pichincha                       C        1652493\n",
            "16       Quito          Pichincha                       B        2071278\n",
            "17       Guayaquil      Guayas                          A        2873614\n",
            "Name: transactions, dtype: int64\n"
          ]
        }
      ],
      "source": [
        "# Here, the stores and transactions were merged to help analysis\n",
        "merged = pd.merge(stores, transactions, on='store_nbr')\n",
        "\n",
        "# group the merged dataset by cluster, city, state, and type and calculate the sum of transactions for each group\n",
        "grouped = merged.groupby(['cluster', 'city', 'state', 'type'])['transactions'].sum()\n",
        "\n",
        "# print the grouped data\n",
        "print(grouped)\n"
      ]
    },
    {
      "cell_type": "markdown",
      "metadata": {
        "id": "hHrgGcqkyQC9"
      },
      "source": [
        "#### Group transactions made by city"
      ]
    },
    {
      "cell_type": "code",
      "execution_count": 48,
      "metadata": {
        "colab": {
          "base_uri": "https://localhost:8080/",
          "height": 739
        },
        "id": "WMa5HYb05vrY",
        "outputId": "c9dcf220-c471-40e0-e5a4-1bbc27f59219"
      },
      "outputs": [
        {
          "output_type": "execute_result",
          "data": {
            "text/plain": [
              "             city  transactions\n",
              "18          Quito      70999057\n",
              "8       Guayaquil      16546295\n",
              "0          Ambato       6172615\n",
              "3          Cuenca       5673847\n",
              "21  Santo Domingo       4655266\n",
              "2         Cayambe       3972488\n",
              "13        Machala       3945341\n",
              "10      Latacunga       3531356\n",
              "12           Loja       2867052\n",
              "4           Daule       2485687\n",
              "1        Babahoyo       2306044\n",
              "19       Riobamba       2287850\n",
              "9          Ibarra       2209898\n",
              "6      Esmeraldas       2182356\n",
              "7        Guaranda       2107489\n",
              "17        Quevedo       1743003\n",
              "11       Libertad       1738129\n",
              "20        Salinas       1520362\n",
              "14          Manta       1455475\n",
              "5       El Carmen       1451290\n",
              "15         Playas       1123889\n",
              "16           Puyo        504156"
            ],
            "text/html": [
              "\n",
              "  <div id=\"df-7dee9231-4201-47ed-9a3e-267908d431ae\">\n",
              "    <div class=\"colab-df-container\">\n",
              "      <div>\n",
              "<style scoped>\n",
              "    .dataframe tbody tr th:only-of-type {\n",
              "        vertical-align: middle;\n",
              "    }\n",
              "\n",
              "    .dataframe tbody tr th {\n",
              "        vertical-align: top;\n",
              "    }\n",
              "\n",
              "    .dataframe thead th {\n",
              "        text-align: right;\n",
              "    }\n",
              "</style>\n",
              "<table border=\"1\" class=\"dataframe\">\n",
              "  <thead>\n",
              "    <tr style=\"text-align: right;\">\n",
              "      <th></th>\n",
              "      <th>city</th>\n",
              "      <th>transactions</th>\n",
              "    </tr>\n",
              "  </thead>\n",
              "  <tbody>\n",
              "    <tr>\n",
              "      <th>18</th>\n",
              "      <td>Quito</td>\n",
              "      <td>70999057</td>\n",
              "    </tr>\n",
              "    <tr>\n",
              "      <th>8</th>\n",
              "      <td>Guayaquil</td>\n",
              "      <td>16546295</td>\n",
              "    </tr>\n",
              "    <tr>\n",
              "      <th>0</th>\n",
              "      <td>Ambato</td>\n",
              "      <td>6172615</td>\n",
              "    </tr>\n",
              "    <tr>\n",
              "      <th>3</th>\n",
              "      <td>Cuenca</td>\n",
              "      <td>5673847</td>\n",
              "    </tr>\n",
              "    <tr>\n",
              "      <th>21</th>\n",
              "      <td>Santo Domingo</td>\n",
              "      <td>4655266</td>\n",
              "    </tr>\n",
              "    <tr>\n",
              "      <th>2</th>\n",
              "      <td>Cayambe</td>\n",
              "      <td>3972488</td>\n",
              "    </tr>\n",
              "    <tr>\n",
              "      <th>13</th>\n",
              "      <td>Machala</td>\n",
              "      <td>3945341</td>\n",
              "    </tr>\n",
              "    <tr>\n",
              "      <th>10</th>\n",
              "      <td>Latacunga</td>\n",
              "      <td>3531356</td>\n",
              "    </tr>\n",
              "    <tr>\n",
              "      <th>12</th>\n",
              "      <td>Loja</td>\n",
              "      <td>2867052</td>\n",
              "    </tr>\n",
              "    <tr>\n",
              "      <th>4</th>\n",
              "      <td>Daule</td>\n",
              "      <td>2485687</td>\n",
              "    </tr>\n",
              "    <tr>\n",
              "      <th>1</th>\n",
              "      <td>Babahoyo</td>\n",
              "      <td>2306044</td>\n",
              "    </tr>\n",
              "    <tr>\n",
              "      <th>19</th>\n",
              "      <td>Riobamba</td>\n",
              "      <td>2287850</td>\n",
              "    </tr>\n",
              "    <tr>\n",
              "      <th>9</th>\n",
              "      <td>Ibarra</td>\n",
              "      <td>2209898</td>\n",
              "    </tr>\n",
              "    <tr>\n",
              "      <th>6</th>\n",
              "      <td>Esmeraldas</td>\n",
              "      <td>2182356</td>\n",
              "    </tr>\n",
              "    <tr>\n",
              "      <th>7</th>\n",
              "      <td>Guaranda</td>\n",
              "      <td>2107489</td>\n",
              "    </tr>\n",
              "    <tr>\n",
              "      <th>17</th>\n",
              "      <td>Quevedo</td>\n",
              "      <td>1743003</td>\n",
              "    </tr>\n",
              "    <tr>\n",
              "      <th>11</th>\n",
              "      <td>Libertad</td>\n",
              "      <td>1738129</td>\n",
              "    </tr>\n",
              "    <tr>\n",
              "      <th>20</th>\n",
              "      <td>Salinas</td>\n",
              "      <td>1520362</td>\n",
              "    </tr>\n",
              "    <tr>\n",
              "      <th>14</th>\n",
              "      <td>Manta</td>\n",
              "      <td>1455475</td>\n",
              "    </tr>\n",
              "    <tr>\n",
              "      <th>5</th>\n",
              "      <td>El Carmen</td>\n",
              "      <td>1451290</td>\n",
              "    </tr>\n",
              "    <tr>\n",
              "      <th>15</th>\n",
              "      <td>Playas</td>\n",
              "      <td>1123889</td>\n",
              "    </tr>\n",
              "    <tr>\n",
              "      <th>16</th>\n",
              "      <td>Puyo</td>\n",
              "      <td>504156</td>\n",
              "    </tr>\n",
              "  </tbody>\n",
              "</table>\n",
              "</div>\n",
              "      <button class=\"colab-df-convert\" onclick=\"convertToInteractive('df-7dee9231-4201-47ed-9a3e-267908d431ae')\"\n",
              "              title=\"Convert this dataframe to an interactive table.\"\n",
              "              style=\"display:none;\">\n",
              "        \n",
              "  <svg xmlns=\"http://www.w3.org/2000/svg\" height=\"24px\"viewBox=\"0 0 24 24\"\n",
              "       width=\"24px\">\n",
              "    <path d=\"M0 0h24v24H0V0z\" fill=\"none\"/>\n",
              "    <path d=\"M18.56 5.44l.94 2.06.94-2.06 2.06-.94-2.06-.94-.94-2.06-.94 2.06-2.06.94zm-11 1L8.5 8.5l.94-2.06 2.06-.94-2.06-.94L8.5 2.5l-.94 2.06-2.06.94zm10 10l.94 2.06.94-2.06 2.06-.94-2.06-.94-.94-2.06-.94 2.06-2.06.94z\"/><path d=\"M17.41 7.96l-1.37-1.37c-.4-.4-.92-.59-1.43-.59-.52 0-1.04.2-1.43.59L10.3 9.45l-7.72 7.72c-.78.78-.78 2.05 0 2.83L4 21.41c.39.39.9.59 1.41.59.51 0 1.02-.2 1.41-.59l7.78-7.78 2.81-2.81c.8-.78.8-2.07 0-2.86zM5.41 20L4 18.59l7.72-7.72 1.47 1.35L5.41 20z\"/>\n",
              "  </svg>\n",
              "      </button>\n",
              "      \n",
              "  <style>\n",
              "    .colab-df-container {\n",
              "      display:flex;\n",
              "      flex-wrap:wrap;\n",
              "      gap: 12px;\n",
              "    }\n",
              "\n",
              "    .colab-df-convert {\n",
              "      background-color: #E8F0FE;\n",
              "      border: none;\n",
              "      border-radius: 50%;\n",
              "      cursor: pointer;\n",
              "      display: none;\n",
              "      fill: #1967D2;\n",
              "      height: 32px;\n",
              "      padding: 0 0 0 0;\n",
              "      width: 32px;\n",
              "    }\n",
              "\n",
              "    .colab-df-convert:hover {\n",
              "      background-color: #E2EBFA;\n",
              "      box-shadow: 0px 1px 2px rgba(60, 64, 67, 0.3), 0px 1px 3px 1px rgba(60, 64, 67, 0.15);\n",
              "      fill: #174EA6;\n",
              "    }\n",
              "\n",
              "    [theme=dark] .colab-df-convert {\n",
              "      background-color: #3B4455;\n",
              "      fill: #D2E3FC;\n",
              "    }\n",
              "\n",
              "    [theme=dark] .colab-df-convert:hover {\n",
              "      background-color: #434B5C;\n",
              "      box-shadow: 0px 1px 3px 1px rgba(0, 0, 0, 0.15);\n",
              "      filter: drop-shadow(0px 1px 2px rgba(0, 0, 0, 0.3));\n",
              "      fill: #FFFFFF;\n",
              "    }\n",
              "  </style>\n",
              "\n",
              "      <script>\n",
              "        const buttonEl =\n",
              "          document.querySelector('#df-7dee9231-4201-47ed-9a3e-267908d431ae button.colab-df-convert');\n",
              "        buttonEl.style.display =\n",
              "          google.colab.kernel.accessAllowed ? 'block' : 'none';\n",
              "\n",
              "        async function convertToInteractive(key) {\n",
              "          const element = document.querySelector('#df-7dee9231-4201-47ed-9a3e-267908d431ae');\n",
              "          const dataTable =\n",
              "            await google.colab.kernel.invokeFunction('convertToInteractive',\n",
              "                                                     [key], {});\n",
              "          if (!dataTable) return;\n",
              "\n",
              "          const docLinkHtml = 'Like what you see? Visit the ' +\n",
              "            '<a target=\"_blank\" href=https://colab.research.google.com/notebooks/data_table.ipynb>data table notebook</a>'\n",
              "            + ' to learn more about interactive tables.';\n",
              "          element.innerHTML = '';\n",
              "          dataTable['output_type'] = 'display_data';\n",
              "          await google.colab.output.renderOutput(dataTable, element);\n",
              "          const docLink = document.createElement('div');\n",
              "          docLink.innerHTML = docLinkHtml;\n",
              "          element.appendChild(docLink);\n",
              "        }\n",
              "      </script>\n",
              "    </div>\n",
              "  </div>\n",
              "  "
            ]
          },
          "metadata": {},
          "execution_count": 48
        }
      ],
      "source": [
        "# Aggregate sales data by city\n",
        "sales_by_city = merged.groupby('city')['transactions'].sum().reset_index().sort_values(by = 'transactions', ascending = False)\n",
        "sales_by_city"
      ]
    },
    {
      "cell_type": "code",
      "execution_count": 49,
      "metadata": {
        "colab": {
          "base_uri": "https://localhost:8080/",
          "height": 565
        },
        "id": "NamHrOCDyQC-",
        "outputId": "7d4a1d2a-f0c3-4d77-aaa8-625a363b850b"
      },
      "outputs": [
        {
          "output_type": "display_data",
          "data": {
            "text/plain": [
              "<Figure size 1400x500 with 1 Axes>"
            ],
            "image/png": "[encoded data removed]"
          },
          "metadata": {}
        }
      ],
      "source": [
        "# Create bubble plot\n",
        "plt.figure(figsize=(14,5))\n",
        "sns.scatterplot(x='city', y='transactions', size='transactions', sizes=(50, 1000), data=sales_by_city, palette='Set2')\n",
        "plt.title('Total Sales by City', fontsize=15)\n",
        "plt.xlabel('City',fontsize=12)\n",
        "plt.ylabel('Total Transactions in ten million',fontsize=12)\n",
        "plt.xticks(rotation=45)\n",
        "plt.show()"
      ]
    },
    {
      "cell_type": "markdown",
      "metadata": {
        "id": "Bw-l6YHNyQC-"
      },
      "source": [
        "#### Insights\n",
        "\n",
        "* The City Quita recorded the highest sale transactions with Puyo recording the lowest"
      ]
    },
    {
      "cell_type": "markdown",
      "metadata": {
        "id": "HZRuhNMmyQC-"
      },
      "source": [
        "#### Group transactions by State"
      ]
    },
    {
      "cell_type": "code",
      "execution_count": 50,
      "metadata": {
        "colab": {
          "base_uri": "https://localhost:8080/",
          "height": 551
        },
        "id": "oHVdBXd85vw_",
        "outputId": "4804bdc8-987b-41eb-81e3-c13a90ab3e67"
      },
      "outputs": [
        {
          "output_type": "execute_result",
          "data": {
            "text/plain": [
              "                             state  transactions\n",
              "12                       Pichincha      74971545\n",
              "6                           Guayas      21894000\n",
              "15                      Tungurahua       6172615\n",
              "0                            Azuay       5673847\n",
              "14  Santo Domingo de los Tsachilas       4655266\n",
              "9                         Los Rios       4049047\n",
              "4                           El Oro       3945341\n",
              "3                         Cotopaxi       3531356\n",
              "10                          Manabi       2906765\n",
              "8                             Loja       2867052\n",
              "2                       Chimborazo       2287850\n",
              "7                         Imbabura       2209898\n",
              "5                       Esmeraldas       2182356\n",
              "1                          Bolivar       2107489\n",
              "13                     Santa Elena       1520362\n",
              "11                         Pastaza        504156"
            ],
            "text/html": [
              "\n",
              "  <div id=\"df-ca64f91a-2c85-4fd7-b1c9-c2c62748df7f\">\n",
              "    <div class=\"colab-df-container\">\n",
              "      <div>\n",
              "<style scoped>\n",
              "    .dataframe tbody tr th:only-of-type {\n",
              "        vertical-align: middle;\n",
              "    }\n",
              "\n",
              "    .dataframe tbody tr th {\n",
              "        vertical-align: top;\n",
              "    }\n",
              "\n",
              "    .dataframe thead th {\n",
              "        text-align: right;\n",
              "    }\n",
              "</style>\n",
              "<table border=\"1\" class=\"dataframe\">\n",
              "  <thead>\n",
              "    <tr style=\"text-align: right;\">\n",
              "      <th></th>\n",
              "      <th>state</th>\n",
              "      <th>transactions</th>\n",
              "    </tr>\n",
              "  </thead>\n",
              "  <tbody>\n",
              "    <tr>\n",
              "      <th>12</th>\n",
              "      <td>Pichincha</td>\n",
              "      <td>74971545</td>\n",
              "    </tr>\n",
              "    <tr>\n",
              "      <th>6</th>\n",
              "      <td>Guayas</td>\n",
              "      <td>21894000</td>\n",
              "    </tr>\n",
              "    <tr>\n",
              "      <th>15</th>\n",
              "      <td>Tungurahua</td>\n",
              "      <td>6172615</td>\n",
              "    </tr>\n",
              "    <tr>\n",
              "      <th>0</th>\n",
              "      <td>Azuay</td>\n",
              "      <td>5673847</td>\n",
              "    </tr>\n",
              "    <tr>\n",
              "      <th>14</th>\n",
              "      <td>Santo Domingo de los Tsachilas</td>\n",
              "      <td>4655266</td>\n",
              "    </tr>\n",
              "    <tr>\n",
              "      <th>9</th>\n",
              "      <td>Los Rios</td>\n",
              "      <td>4049047</td>\n",
              "    </tr>\n",
              "    <tr>\n",
              "      <th>4</th>\n",
              "      <td>El Oro</td>\n",
              "      <td>3945341</td>\n",
              "    </tr>\n",
              "    <tr>\n",
              "      <th>3</th>\n",
              "      <td>Cotopaxi</td>\n",
              "      <td>3531356</td>\n",
              "    </tr>\n",
              "    <tr>\n",
              "      <th>10</th>\n",
              "      <td>Manabi</td>\n",
              "      <td>2906765</td>\n",
              "    </tr>\n",
              "    <tr>\n",
              "      <th>8</th>\n",
              "      <td>Loja</td>\n",
              "      <td>2867052</td>\n",
              "    </tr>\n",
              "    <tr>\n",
              "      <th>2</th>\n",
              "      <td>Chimborazo</td>\n",
              "      <td>2287850</td>\n",
              "    </tr>\n",
              "    <tr>\n",
              "      <th>7</th>\n",
              "      <td>Imbabura</td>\n",
              "      <td>2209898</td>\n",
              "    </tr>\n",
              "    <tr>\n",
              "      <th>5</th>\n",
              "      <td>Esmeraldas</td>\n",
              "      <td>2182356</td>\n",
              "    </tr>\n",
              "    <tr>\n",
              "      <th>1</th>\n",
              "      <td>Bolivar</td>\n",
              "      <td>2107489</td>\n",
              "    </tr>\n",
              "    <tr>\n",
              "      <th>13</th>\n",
              "      <td>Santa Elena</td>\n",
              "      <td>1520362</td>\n",
              "    </tr>\n",
              "    <tr>\n",
              "      <th>11</th>\n",
              "      <td>Pastaza</td>\n",
              "      <td>504156</td>\n",
              "    </tr>\n",
              "  </tbody>\n",
              "</table>\n",
              "</div>\n",
              "      <button class=\"colab-df-convert\" onclick=\"convertToInteractive('df-ca64f91a-2c85-4fd7-b1c9-c2c62748df7f')\"\n",
              "              title=\"Convert this dataframe to an interactive table.\"\n",
              "              style=\"display:none;\">\n",
              "        \n",
              "  <svg xmlns=\"http://www.w3.org/2000/svg\" height=\"24px\"viewBox=\"0 0 24 24\"\n",
              "       width=\"24px\">\n",
              "    <path d=\"M0 0h24v24H0V0z\" fill=\"none\"/>\n",
              "    <path d=\"M18.56 5.44l.94 2.06.94-2.06 2.06-.94-2.06-.94-.94-2.06-.94 2.06-2.06.94zm-11 1L8.5 8.5l.94-2.06 2.06-.94-2.06-.94L8.5 2.5l-.94 2.06-2.06.94zm10 10l.94 2.06.94-2.06 2.06-.94-2.06-.94-.94-2.06-.94 2.06-2.06.94z\"/><path d=\"M17.41 7.96l-1.37-1.37c-.4-.4-.92-.59-1.43-.59-.52 0-1.04.2-1.43.59L10.3 9.45l-7.72 7.72c-.78.78-.78 2.05 0 2.83L4 21.41c.39.39.9.59 1.41.59.51 0 1.02-.2 1.41-.59l7.78-7.78 2.81-2.81c.8-.78.8-2.07 0-2.86zM5.41 20L4 18.59l7.72-7.72 1.47 1.35L5.41 20z\"/>\n",
              "  </svg>\n",
              "      </button>\n",
              "      \n",
              "  <style>\n",
              "    .colab-df-container {\n",
              "      display:flex;\n",
              "      flex-wrap:wrap;\n",
              "      gap: 12px;\n",
              "    }\n",
              "\n",
              "    .colab-df-convert {\n",
              "      background-color: #E8F0FE;\n",
              "      border: none;\n",
              "      border-radius: 50%;\n",
              "      cursor: pointer;\n",
              "      display: none;\n",
              "      fill: #1967D2;\n",
              "      height: 32px;\n",
              "      padding: 0 0 0 0;\n",
              "      width: 32px;\n",
              "    }\n",
              "\n",
              "    .colab-df-convert:hover {\n",
              "      background-color: #E2EBFA;\n",
              "      box-shadow: 0px 1px 2px rgba(60, 64, 67, 0.3), 0px 1px 3px 1px rgba(60, 64, 67, 0.15);\n",
              "      fill: #174EA6;\n",
              "    }\n",
              "\n",
              "    [theme=dark] .colab-df-convert {\n",
              "      background-color: #3B4455;\n",
              "      fill: #D2E3FC;\n",
              "    }\n",
              "\n",
              "    [theme=dark] .colab-df-convert:hover {\n",
              "      background-color: #434B5C;\n",
              "      box-shadow: 0px 1px 3px 1px rgba(0, 0, 0, 0.15);\n",
              "      filter: drop-shadow(0px 1px 2px rgba(0, 0, 0, 0.3));\n",
              "      fill: #FFFFFF;\n",
              "    }\n",
              "  </style>\n",
              "\n",
              "      <script>\n",
              "        const buttonEl =\n",
              "          document.querySelector('#df-ca64f91a-2c85-4fd7-b1c9-c2c62748df7f button.colab-df-convert');\n",
              "        buttonEl.style.display =\n",
              "          google.colab.kernel.accessAllowed ? 'block' : 'none';\n",
              "\n",
              "        async function convertToInteractive(key) {\n",
              "          const element = document.querySelector('#df-ca64f91a-2c85-4fd7-b1c9-c2c62748df7f');\n",
              "          const dataTable =\n",
              "            await google.colab.kernel.invokeFunction('convertToInteractive',\n",
              "                                                     [key], {});\n",
              "          if (!dataTable) return;\n",
              "\n",
              "          const docLinkHtml = 'Like what you see? Visit the ' +\n",
              "            '<a target=\"_blank\" href=https://colab.research.google.com/notebooks/data_table.ipynb>data table notebook</a>'\n",
              "            + ' to learn more about interactive tables.';\n",
              "          element.innerHTML = '';\n",
              "          dataTable['output_type'] = 'display_data';\n",
              "          await google.colab.output.renderOutput(dataTable, element);\n",
              "          const docLink = document.createElement('div');\n",
              "          docLink.innerHTML = docLinkHtml;\n",
              "          element.appendChild(docLink);\n",
              "        }\n",
              "      </script>\n",
              "    </div>\n",
              "  </div>\n",
              "  "
            ]
          },
          "metadata": {},
          "execution_count": 50
        }
      ],
      "source": [
        "# Group merged dataset by state and sum transactions\n",
        "state_transactions = merged.groupby('state')['transactions'].sum().reset_index().sort_values(by = 'transactions', ascending = False)\n",
        "state_transactions"
      ]
    },
    {
      "cell_type": "code",
      "execution_count": 51,
      "metadata": {
        "colab": {
          "base_uri": "https://localhost:8080/",
          "height": 570
        },
        "id": "-rg1z1b_fnDM",
        "outputId": "02a686b8-8aa9-423d-bf23-85afbeb9eb98"
      },
      "outputs": [
        {
          "output_type": "display_data",
          "data": {
            "text/plain": [
              "<Figure size 1000x600 with 1 Axes>"
            ],
            "image/png": "[encoded data removed]"
          },
          "metadata": {}
        }
      ],
      "source": [
        "#Create a horizontal bar chart with Seaborn\n",
        "sns.set_style('whitegrid')\n",
        "plt.figure(figsize=(10,6))\n",
        "sns.barplot(data=state_transactions,x ='transactions',y ='state', palette ='pastel')\n",
        "plt.title('Total Sales by State',fontsize =15)\n",
        "plt.xlabel('Total Sales in ten millions', fontsize =12)\n",
        "plt.ylabel('State',fontsize =12)\n",
        "plt.show()\n"
      ]
    },
    {
      "cell_type": "markdown",
      "metadata": {
        "id": "3V5X73bmyQC_"
      },
      "source": [
        "#### Insights\n",
        "\n",
        "The state with the highest sale transsactions is Pinchincha with Pastaza recording the lowest number of transactions"
      ]
    },
    {
      "cell_type": "markdown",
      "metadata": {
        "id": "mQm0pMS_yQC_"
      },
      "source": [
        "#### Group transactions by store"
      ]
    },
    {
      "cell_type": "code",
      "execution_count": 52,
      "metadata": {
        "id": "9TbdOibs5v2Y"
      },
      "outputs": [],
      "source": [
        "trans_store = merged.groupby('type')['transactions'].sum().reset_index()"
      ]
    },
    {
      "cell_type": "code",
      "execution_count": 53,
      "metadata": {
        "colab": {
          "base_uri": "https://localhost:8080/",
          "height": 521
        },
        "id": "883rLKhV5v7O",
        "outputId": "60c754c8-85d7-4179-fdfd-305fa8341ec9"
      },
      "outputs": [
        {
          "output_type": "display_data",
          "data": {
            "text/plain": [
              "<Figure size 800x600 with 1 Axes>"
            ],
            "image/png": "[encoded data removed]"
          },
          "metadata": {}
        }
      ],
      "source": [
        "# Set up the color gradient\n",
        "colors = sns.color_palette('Blues', len(trans_store))\n",
        "color_map = dict(zip(trans_store['type'], colors))\n",
        "\n",
        "# Create the treemap\n",
        "fig, ax = plt.subplots(figsize=(8, 6))\n",
        "squarify.plot(sizes=trans_store['transactions'], label=trans_store['type'], alpha=0.8, color=[color_map[type] for type in trans_store['type']])\n",
        "plt.axis('off')\n",
        "plt.title('Total Sales by Store Type')\n",
        "plt.show()\n"
      ]
    },
    {
      "cell_type": "markdown",
      "metadata": {
        "id": "RBVqo2P1yQDA"
      },
      "source": [
        "#### Insights\n",
        "\n",
        "The store type D was found to record the highest number of transactions"
      ]
    },
    {
      "cell_type": "markdown",
      "metadata": {
        "id": "WrqsVvcxJtLV"
      },
      "source": [
        "### 5. Are sales affected by promotions, oil prices and holidays?"
      ]
    },
    {
      "cell_type": "code",
      "execution_count": 54,
      "metadata": {
        "colab": {
          "base_uri": "https://localhost:8080/"
        },
        "id": "zoXajKudKLuO",
        "outputId": "e719786a-f48f-4184-e3d4-9c794caa62f6"
      },
      "outputs": [
        {
          "output_type": "stream",
          "name": "stdout",
          "text": [
            "Correlation coefficient, Promotion: 0.1926386873171909\n",
            "Correlation coefficient, Sales: -0.035095221600241394\n"
          ]
        }
      ],
      "source": [
        "# Calculate the correlation between sales and promotions\n",
        "corr1 = merged_data['sales'].corr(merged_data['onpromotion'])\n",
        "corr2 = merged_data['sales'].corr(merged_data['dcoilwtico'])\n",
        "\n",
        "# Print the correlation coefficient\n",
        "print('Correlation coefficient, Promotion:', corr1)\n",
        "print('Correlation coefficient, Sales:', corr2)"
      ]
    },
    {
      "cell_type": "markdown",
      "metadata": {
        "id": "xinGtUujwYDu"
      },
      "source": [
        "#### Insights\n",
        "\n",
        "From the values obtained:\n",
        "* Sales is positively correlated with promotion, thus an increase in promotion products may increase sales.\n",
        "* However, the relationship is quite weak.\n",
        "* Also, it can be deduced that the oil prices have a negative correlation with sales, thus, an increase in oil prices will may decrease sales at the stores due to increased prices which checks consumer spending.\n",
        "* However, there relationship is very weak"
      ]
    },
    {
      "cell_type": "markdown",
      "metadata": {
        "id": "ex2OBNiPyQDC"
      },
      "source": [
        "#### Hypothesis for holiday column using ANOVA test"
      ]
    },
    {
      "cell_type": "code",
      "execution_count": 55,
      "metadata": {
        "colab": {
          "base_uri": "https://localhost:8080/"
        },
        "id": "ZUr9BFmKyQDC",
        "outputId": "a40be0ed-3ebd-4cc7-b5b1-a4dc90236482"
      },
      "outputs": [
        {
          "output_type": "stream",
          "name": "stdout",
          "text": [
            "F_onewayResult(statistic=132.39180606779658, pvalue=2.8180234280726913e-168)\n"
          ]
        }
      ],
      "source": [
        "holiday_list = merged_data.groupby('holiday_type')['sales'].apply(list)\n",
        "Anova_results = f_oneway(*holiday_list)\n",
        "print(Anova_results)"
      ]
    },
    {
      "cell_type": "markdown",
      "metadata": {
        "id": "SlezdTXDyQDD"
      },
      "source": [
        "#### Insights\n",
        "The p-value is less than the significant level 0.05 so we reject the null hypothesis. That is, holiday columns are correlated with the sales made. Thus, sales are affected by holidays"
      ]
    },
    {
      "cell_type": "markdown",
      "metadata": {
        "id": "JZLlJoZSpopx"
      },
      "source": [
        "### Feature Processing"
      ]
    },
    {
      "cell_type": "code",
      "execution_count": 56,
      "metadata": {
        "id": "HgG0fkABC9Ko"
      },
      "outputs": [],
      "source": [
        "#drop unnecessary columns\n",
        "merged_data = merged_data.drop(columns=['id','locale', 'locale_name', 'description', 'transferred'])"
      ]
    },
    {
      "cell_type": "code",
      "execution_count": 57,
      "metadata": {
        "id": "5BJ_XCTxyQDE"
      },
      "outputs": [],
      "source": [
        "#drop columns for univariate analysis\n",
        "merged_data1 = merged_data.drop(columns=['store_nbr','family','state','onpromotion','transactions','city','dcoilwtico','holiday_type','cluster','year','store_type'])"
      ]
    },
    {
      "cell_type": "markdown",
      "metadata": {
        "id": "6tRtdHlCyQDF"
      },
      "source": [
        "### Feature Engineering"
      ]
    },
    {
      "cell_type": "code",
      "execution_count": 58,
      "metadata": {
        "id": "7KMivniMyQDF"
      },
      "outputs": [],
      "source": [
        "def getDateFeatures(df,date):\n",
        "    df['month'] = df['date'].dt.month\n",
        "    df['is_month_start'] = df['date'].dt.is_month_start.astype(int)\n",
        "    df['is_month_end'] = df['date'].dt.is_month_end.astype(int)\n",
        "    df['day'] = df['date'].dt.day\n",
        "    df['is_weekend'] = df['date'].dt.isocalendar().week\n",
        "    df['day_of_the_year'] = df['date'].dt.dayofyear\n",
        "    df['quarter'] = df['date'].dt.quarter\n",
        "    df['is_quarter_start'] = df['date'].dt.is_quarter_start.astype(int)\n",
        "    df['is_quarter_end'] = df['date'].dt.is_quarter_end.astype(int)\n",
        "\n",
        "    return df"
      ]
    },
    {
      "cell_type": "code",
      "execution_count": 59,
      "metadata": {
        "id": "HVN6wFTfyQDG"
      },
      "outputs": [],
      "source": [
        "merged_data = getDateFeatures(merged_data, 'date')"
      ]
    },
    {
      "cell_type": "code",
      "execution_count": 60,
      "metadata": {
        "colab": {
          "base_uri": "https://localhost:8080/",
          "height": 679
        },
        "id": "hyGMi_VoyQDG",
        "outputId": "13363d3b-de10-4ad3-c868-fba46dbac38a"
      },
      "outputs": [
        {
          "output_type": "execute_result",
          "data": {
            "text/plain": [
              "              date  store_nbr                      family     sales  \\\n",
              "0       2013-01-01      1.000                  AUTOMOTIVE     0.000   \n",
              "1       2013-01-01      1.000                   BABY CARE     0.000   \n",
              "2       2013-01-01      1.000                      BEAUTY     0.000   \n",
              "3       2013-01-01      1.000                   BEVERAGES     0.000   \n",
              "4       2013-01-01      1.000                       BOOKS     0.000   \n",
              "...            ...        ...                         ...       ...   \n",
              "1658968 2015-06-17      9.000                     POULTRY   372.736   \n",
              "1658969 2015-06-17      9.000              PREPARED FOODS    61.000   \n",
              "1658970 2015-06-17      9.000                     PRODUCE 1,267.097   \n",
              "1658971 2015-06-17      9.000  SCHOOL AND OFFICE SUPPLIES     5.000   \n",
              "1658972 2015-06-17      9.000                     SEAFOOD     7.000   \n",
              "\n",
              "         onpromotion  transactions holiday_type  dcoilwtico   city      state  \\\n",
              "0              0.000           NaN      Holiday      94.757  Quito  Pichincha   \n",
              "1              0.000           NaN      Holiday      94.757  Quito  Pichincha   \n",
              "2              0.000           NaN      Holiday      94.757  Quito  Pichincha   \n",
              "3              0.000           NaN      Holiday      94.757  Quito  Pichincha   \n",
              "4              0.000           NaN      Holiday      94.757  Quito  Pichincha   \n",
              "...              ...           ...          ...         ...    ...        ...   \n",
              "1658968        0.000     1,959.000  Not Holiday      59.890  Quito  Pichincha   \n",
              "1658969        9.000     1,959.000  Not Holiday      59.890  Quito  Pichincha   \n",
              "1658970        3.000     1,959.000  Not Holiday      59.890  Quito  Pichincha   \n",
              "1658971        0.000     1,959.000  Not Holiday      59.890  Quito  Pichincha   \n",
              "1658972        0.000     1,959.000  Not Holiday      59.890  Quito  Pichincha   \n",
              "\n",
              "         ...  year  month  is_month_start  is_month_end  day  is_weekend  \\\n",
              "0        ...  2013      1               1             0    1           1   \n",
              "1        ...  2013      1               1             0    1           1   \n",
              "2        ...  2013      1               1             0    1           1   \n",
              "3        ...  2013      1               1             0    1           1   \n",
              "4        ...  2013      1               1             0    1           1   \n",
              "...      ...   ...    ...             ...           ...  ...         ...   \n",
              "1658968  ...  2015      6               0             0   17          25   \n",
              "1658969  ...  2015      6               0             0   17          25   \n",
              "1658970  ...  2015      6               0             0   17          25   \n",
              "1658971  ...  2015      6               0             0   17          25   \n",
              "1658972  ...  2015      6               0             0   17          25   \n",
              "\n",
              "         day_of_the_year  quarter  is_quarter_start  is_quarter_end  \n",
              "0                      1        1                 1               0  \n",
              "1                      1        1                 1               0  \n",
              "2                      1        1                 1               0  \n",
              "3                      1        1                 1               0  \n",
              "4                      1        1                 1               0  \n",
              "...                  ...      ...               ...             ...  \n",
              "1658968              168        2                 0               0  \n",
              "1658969              168        2                 0               0  \n",
              "1658970              168        2                 0               0  \n",
              "1658971              168        2                 0               0  \n",
              "1658972              168        2                 0               0  \n",
              "\n",
              "[1617540 rows x 22 columns]"
            ],
            "text/html": [
              "\n",
              "  <div id=\"df-9a9fbc1b-cffb-456f-a58d-227aeae70b70\">\n",
              "    <div class=\"colab-df-container\">\n",
              "      <div>\n",
              "<style scoped>\n",
              "    .dataframe tbody tr th:only-of-type {\n",
              "        vertical-align: middle;\n",
              "    }\n",
              "\n",
              "    .dataframe tbody tr th {\n",
              "        vertical-align: top;\n",
              "    }\n",
              "\n",
              "    .dataframe thead th {\n",
              "        text-align: right;\n",
              "    }\n",
              "</style>\n",
              "<table border=\"1\" class=\"dataframe\">\n",
              "  <thead>\n",
              "    <tr style=\"text-align: right;\">\n",
              "      <th></th>\n",
              "      <th>date</th>\n",
              "      <th>store_nbr</th>\n",
              "      <th>family</th>\n",
              "      <th>sales</th>\n",
              "      <th>onpromotion</th>\n",
              "      <th>transactions</th>\n",
              "      <th>holiday_type</th>\n",
              "      <th>dcoilwtico</th>\n",
              "      <th>city</th>\n",
              "      <th>state</th>\n",
              "      <th>...</th>\n",
              "      <th>year</th>\n",
              "      <th>month</th>\n",
              "      <th>is_month_start</th>\n",
              "      <th>is_month_end</th>\n",
              "      <th>day</th>\n",
              "      <th>is_weekend</th>\n",
              "      <th>day_of_the_year</th>\n",
              "      <th>quarter</th>\n",
              "      <th>is_quarter_start</th>\n",
              "      <th>is_quarter_end</th>\n",
              "    </tr>\n",
              "  </thead>\n",
              "  <tbody>\n",
              "    <tr>\n",
              "      <th>0</th>\n",
              "      <td>2013-01-01</td>\n",
              "      <td>1.000</td>\n",
              "      <td>AUTOMOTIVE</td>\n",
              "      <td>0.000</td>\n",
              "      <td>0.000</td>\n",
              "      <td>NaN</td>\n",
              "      <td>Holiday</td>\n",
              "      <td>94.757</td>\n",
              "      <td>Quito</td>\n",
              "      <td>Pichincha</td>\n",
              "      <td>...</td>\n",
              "      <td>2013</td>\n",
              "      <td>1</td>\n",
              "      <td>1</td>\n",
              "      <td>0</td>\n",
              "      <td>1</td>\n",
              "      <td>1</td>\n",
              "      <td>1</td>\n",
              "      <td>1</td>\n",
              "      <td>1</td>\n",
              "      <td>0</td>\n",
              "    </tr>\n",
              "    <tr>\n",
              "      <th>1</th>\n",
              "      <td>2013-01-01</td>\n",
              "      <td>1.000</td>\n",
              "      <td>BABY CARE</td>\n",
              "      <td>0.000</td>\n",
              "      <td>0.000</td>\n",
              "      <td>NaN</td>\n",
              "      <td>Holiday</td>\n",
              "      <td>94.757</td>\n",
              "      <td>Quito</td>\n",
              "      <td>Pichincha</td>\n",
              "      <td>...</td>\n",
              "      <td>2013</td>\n",
              "      <td>1</td>\n",
              "      <td>1</td>\n",
              "      <td>0</td>\n",
              "      <td>1</td>\n",
              "      <td>1</td>\n",
              "      <td>1</td>\n",
              "      <td>1</td>\n",
              "      <td>1</td>\n",
              "      <td>0</td>\n",
              "    </tr>\n",
              "    <tr>\n",
              "      <th>2</th>\n",
              "      <td>2013-01-01</td>\n",
              "      <td>1.000</td>\n",
              "      <td>BEAUTY</td>\n",
              "      <td>0.000</td>\n",
              "      <td>0.000</td>\n",
              "      <td>NaN</td>\n",
              "      <td>Holiday</td>\n",
              "      <td>94.757</td>\n",
              "      <td>Quito</td>\n",
              "      <td>Pichincha</td>\n",
              "      <td>...</td>\n",
              "      <td>2013</td>\n",
              "      <td>1</td>\n",
              "      <td>1</td>\n",
              "      <td>0</td>\n",
              "      <td>1</td>\n",
              "      <td>1</td>\n",
              "      <td>1</td>\n",
              "      <td>1</td>\n",
              "      <td>1</td>\n",
              "      <td>0</td>\n",
              "    </tr>\n",
              "    <tr>\n",
              "      <th>3</th>\n",
              "      <td>2013-01-01</td>\n",
              "      <td>1.000</td>\n",
              "      <td>BEVERAGES</td>\n",
              "      <td>0.000</td>\n",
              "      <td>0.000</td>\n",
              "      <td>NaN</td>\n",
              "      <td>Holiday</td>\n",
              "      <td>94.757</td>\n",
              "      <td>Quito</td>\n",
              "      <td>Pichincha</td>\n",
              "      <td>...</td>\n",
              "      <td>2013</td>\n",
              "      <td>1</td>\n",
              "      <td>1</td>\n",
              "      <td>0</td>\n",
              "      <td>1</td>\n",
              "      <td>1</td>\n",
              "      <td>1</td>\n",
              "      <td>1</td>\n",
              "      <td>1</td>\n",
              "      <td>0</td>\n",
              "    </tr>\n",
              "    <tr>\n",
              "      <th>4</th>\n",
              "      <td>2013-01-01</td>\n",
              "      <td>1.000</td>\n",
              "      <td>BOOKS</td>\n",
              "      <td>0.000</td>\n",
              "      <td>0.000</td>\n",
              "      <td>NaN</td>\n",
              "      <td>Holiday</td>\n",
              "      <td>94.757</td>\n",
              "      <td>Quito</td>\n",
              "      <td>Pichincha</td>\n",
              "      <td>...</td>\n",
              "      <td>2013</td>\n",
              "      <td>1</td>\n",
              "      <td>1</td>\n",
              "      <td>0</td>\n",
              "      <td>1</td>\n",
              "      <td>1</td>\n",
              "      <td>1</td>\n",
              "      <td>1</td>\n",
              "      <td>1</td>\n",
              "      <td>0</td>\n",
              "    </tr>\n",
              "    <tr>\n",
              "      <th>...</th>\n",
              "      <td>...</td>\n",
              "      <td>...</td>\n",
              "      <td>...</td>\n",
              "      <td>...</td>\n",
              "      <td>...</td>\n",
              "      <td>...</td>\n",
              "      <td>...</td>\n",
              "      <td>...</td>\n",
              "      <td>...</td>\n",
              "      <td>...</td>\n",
              "      <td>...</td>\n",
              "      <td>...</td>\n",
              "      <td>...</td>\n",
              "      <td>...</td>\n",
              "      <td>...</td>\n",
              "      <td>...</td>\n",
              "      <td>...</td>\n",
              "      <td>...</td>\n",
              "      <td>...</td>\n",
              "      <td>...</td>\n",
              "      <td>...</td>\n",
              "    </tr>\n",
              "    <tr>\n",
              "      <th>1658968</th>\n",
              "      <td>2015-06-17</td>\n",
              "      <td>9.000</td>\n",
              "      <td>POULTRY</td>\n",
              "      <td>372.736</td>\n",
              "      <td>0.000</td>\n",
              "      <td>1,959.000</td>\n",
              "      <td>Not Holiday</td>\n",
              "      <td>59.890</td>\n",
              "      <td>Quito</td>\n",
              "      <td>Pichincha</td>\n",
              "      <td>...</td>\n",
              "      <td>2015</td>\n",
              "      <td>6</td>\n",
              "      <td>0</td>\n",
              "      <td>0</td>\n",
              "      <td>17</td>\n",
              "      <td>25</td>\n",
              "      <td>168</td>\n",
              "      <td>2</td>\n",
              "      <td>0</td>\n",
              "      <td>0</td>\n",
              "    </tr>\n",
              "    <tr>\n",
              "      <th>1658969</th>\n",
              "      <td>2015-06-17</td>\n",
              "      <td>9.000</td>\n",
              "      <td>PREPARED FOODS</td>\n",
              "      <td>61.000</td>\n",
              "      <td>9.000</td>\n",
              "      <td>1,959.000</td>\n",
              "      <td>Not Holiday</td>\n",
              "      <td>59.890</td>\n",
              "      <td>Quito</td>\n",
              "      <td>Pichincha</td>\n",
              "      <td>...</td>\n",
              "      <td>2015</td>\n",
              "      <td>6</td>\n",
              "      <td>0</td>\n",
              "      <td>0</td>\n",
              "      <td>17</td>\n",
              "      <td>25</td>\n",
              "      <td>168</td>\n",
              "      <td>2</td>\n",
              "      <td>0</td>\n",
              "      <td>0</td>\n",
              "    </tr>\n",
              "    <tr>\n",
              "      <th>1658970</th>\n",
              "      <td>2015-06-17</td>\n",
              "      <td>9.000</td>\n",
              "      <td>PRODUCE</td>\n",
              "      <td>1,267.097</td>\n",
              "      <td>3.000</td>\n",
              "      <td>1,959.000</td>\n",
              "      <td>Not Holiday</td>\n",
              "      <td>59.890</td>\n",
              "      <td>Quito</td>\n",
              "      <td>Pichincha</td>\n",
              "      <td>...</td>\n",
              "      <td>2015</td>\n",
              "      <td>6</td>\n",
              "      <td>0</td>\n",
              "      <td>0</td>\n",
              "      <td>17</td>\n",
              "      <td>25</td>\n",
              "      <td>168</td>\n",
              "      <td>2</td>\n",
              "      <td>0</td>\n",
              "      <td>0</td>\n",
              "    </tr>\n",
              "    <tr>\n",
              "      <th>1658971</th>\n",
              "      <td>2015-06-17</td>\n",
              "      <td>9.000</td>\n",
              "      <td>SCHOOL AND OFFICE SUPPLIES</td>\n",
              "      <td>5.000</td>\n",
              "      <td>0.000</td>\n",
              "      <td>1,959.000</td>\n",
              "      <td>Not Holiday</td>\n",
              "      <td>59.890</td>\n",
              "      <td>Quito</td>\n",
              "      <td>Pichincha</td>\n",
              "      <td>...</td>\n",
              "      <td>2015</td>\n",
              "      <td>6</td>\n",
              "      <td>0</td>\n",
              "      <td>0</td>\n",
              "      <td>17</td>\n",
              "      <td>25</td>\n",
              "      <td>168</td>\n",
              "      <td>2</td>\n",
              "      <td>0</td>\n",
              "      <td>0</td>\n",
              "    </tr>\n",
              "    <tr>\n",
              "      <th>1658972</th>\n",
              "      <td>2015-06-17</td>\n",
              "      <td>9.000</td>\n",
              "      <td>SEAFOOD</td>\n",
              "      <td>7.000</td>\n",
              "      <td>0.000</td>\n",
              "      <td>1,959.000</td>\n",
              "      <td>Not Holiday</td>\n",
              "      <td>59.890</td>\n",
              "      <td>Quito</td>\n",
              "      <td>Pichincha</td>\n",
              "      <td>...</td>\n",
              "      <td>2015</td>\n",
              "      <td>6</td>\n",
              "      <td>0</td>\n",
              "      <td>0</td>\n",
              "      <td>17</td>\n",
              "      <td>25</td>\n",
              "      <td>168</td>\n",
              "      <td>2</td>\n",
              "      <td>0</td>\n",
              "      <td>0</td>\n",
              "    </tr>\n",
              "  </tbody>\n",
              "</table>\n",
              "<p>1617540 rows × 22 columns</p>\n",
              "</div>\n",
              "      <button class=\"colab-df-convert\" onclick=\"convertToInteractive('df-9a9fbc1b-cffb-456f-a58d-227aeae70b70')\"\n",
              "              title=\"Convert this dataframe to an interactive table.\"\n",
              "              style=\"display:none;\">\n",
              "        \n",
              "  <svg xmlns=\"http://www.w3.org/2000/svg\" height=\"24px\"viewBox=\"0 0 24 24\"\n",
              "       width=\"24px\">\n",
              "    <path d=\"M0 0h24v24H0V0z\" fill=\"none\"/>\n",
              "    <path d=\"M18.56 5.44l.94 2.06.94-2.06 2.06-.94-2.06-.94-.94-2.06-.94 2.06-2.06.94zm-11 1L8.5 8.5l.94-2.06 2.06-.94-2.06-.94L8.5 2.5l-.94 2.06-2.06.94zm10 10l.94 2.06.94-2.06 2.06-.94-2.06-.94-.94-2.06-.94 2.06-2.06.94z\"/><path d=\"M17.41 7.96l-1.37-1.37c-.4-.4-.92-.59-1.43-.59-.52 0-1.04.2-1.43.59L10.3 9.45l-7.72 7.72c-.78.78-.78 2.05 0 2.83L4 21.41c.39.39.9.59 1.41.59.51 0 1.02-.2 1.41-.59l7.78-7.78 2.81-2.81c.8-.78.8-2.07 0-2.86zM5.41 20L4 18.59l7.72-7.72 1.47 1.35L5.41 20z\"/>\n",
              "  </svg>\n",
              "      </button>\n",
              "      \n",
              "  <style>\n",
              "    .colab-df-container {\n",
              "      display:flex;\n",
              "      flex-wrap:wrap;\n",
              "      gap: 12px;\n",
              "    }\n",
              "\n",
              "    .colab-df-convert {\n",
              "      background-color: #E8F0FE;\n",
              "      border: none;\n",
              "      border-radius: 50%;\n",
              "      cursor: pointer;\n",
              "      display: none;\n",
              "      fill: #1967D2;\n",
              "      height: 32px;\n",
              "      padding: 0 0 0 0;\n",
              "      width: 32px;\n",
              "    }\n",
              "\n",
              "    .colab-df-convert:hover {\n",
              "      background-color: #E2EBFA;\n",
              "      box-shadow: 0px 1px 2px rgba(60, 64, 67, 0.3), 0px 1px 3px 1px rgba(60, 64, 67, 0.15);\n",
              "      fill: #174EA6;\n",
              "    }\n",
              "\n",
              "    [theme=dark] .colab-df-convert {\n",
              "      background-color: #3B4455;\n",
              "      fill: #D2E3FC;\n",
              "    }\n",
              "\n",
              "    [theme=dark] .colab-df-convert:hover {\n",
              "      background-color: #434B5C;\n",
              "      box-shadow: 0px 1px 3px 1px rgba(0, 0, 0, 0.15);\n",
              "      filter: drop-shadow(0px 1px 2px rgba(0, 0, 0, 0.3));\n",
              "      fill: #FFFFFF;\n",
              "    }\n",
              "  </style>\n",
              "\n",
              "      <script>\n",
              "        const buttonEl =\n",
              "          document.querySelector('#df-9a9fbc1b-cffb-456f-a58d-227aeae70b70 button.colab-df-convert');\n",
              "        buttonEl.style.display =\n",
              "          google.colab.kernel.accessAllowed ? 'block' : 'none';\n",
              "\n",
              "        async function convertToInteractive(key) {\n",
              "          const element = document.querySelector('#df-9a9fbc1b-cffb-456f-a58d-227aeae70b70');\n",
              "          const dataTable =\n",
              "            await google.colab.kernel.invokeFunction('convertToInteractive',\n",
              "                                                     [key], {});\n",
              "          if (!dataTable) return;\n",
              "\n",
              "          const docLinkHtml = 'Like what you see? Visit the ' +\n",
              "            '<a target=\"_blank\" href=https://colab.research.google.com/notebooks/data_table.ipynb>data table notebook</a>'\n",
              "            + ' to learn more about interactive tables.';\n",
              "          element.innerHTML = '';\n",
              "          dataTable['output_type'] = 'display_data';\n",
              "          await google.colab.output.renderOutput(dataTable, element);\n",
              "          const docLink = document.createElement('div');\n",
              "          docLink.innerHTML = docLinkHtml;\n",
              "          element.appendChild(docLink);\n",
              "        }\n",
              "      </script>\n",
              "    </div>\n",
              "  </div>\n",
              "  "
            ]
          },
          "metadata": {},
          "execution_count": 60
        }
      ],
      "source": [
        "merged_data"
      ]
    },
    {
      "cell_type": "markdown",
      "metadata": {
        "id": "2se9uUBXyQDG"
      },
      "source": [
        "### Binary Encoding"
      ]
    },
    {
      "cell_type": "code",
      "execution_count": 61,
      "metadata": {
        "id": "pO9YdTVBjuqv"
      },
      "outputs": [],
      "source": [
        "# Import necessary libraries\n",
        "from  category_encoders import BinaryEncoder\n",
        "\n",
        "# Instantiate BinaryEncoder\n",
        "ce = BinaryEncoder\n",
        "\n",
        "encoder = ce(cols=['family','city','state','store_type','cluster','holiday_type'], drop_invariant=True)\n",
        "merged_data = encoder.fit_transform(merged_data)"
      ]
    },
    {
      "cell_type": "code",
      "execution_count": 62,
      "metadata": {
        "colab": {
          "base_uri": "https://localhost:8080/",
          "height": 532
        },
        "id": "gbUNyKjk5Twz",
        "outputId": "318b03af-0d2f-4a8b-e863-2371165aaf41"
      },
      "outputs": [
        {
          "output_type": "execute_result",
          "data": {
            "text/plain": [
              "              date  store_nbr  family_0  family_1  family_2  family_3  \\\n",
              "1196756 2015-04-22     44.000         0         0         0         0   \n",
              "90852   2015-05-30     11.000         0         1         0         0   \n",
              "76665   2014-03-31     11.000         0         1         0         1   \n",
              "390348  2014-09-29     20.000         0         1         1         1   \n",
              "162109  2013-09-05     14.000         0         0         0         0   \n",
              "810483  2013-11-23     33.000         0         0         1         1   \n",
              "1120892 2014-02-14     42.000         0         1         0         1   \n",
              "1258921 2015-05-12     46.000         0         1         1         0   \n",
              "\n",
              "         family_4  family_5   sales  onpromotion  ...  year  month  \\\n",
              "1196756         0         1  14.000        0.000  ...  2015      4   \n",
              "90852           1         1 698.000        0.000  ...  2015      5   \n",
              "76665           1         0  31.000        0.000  ...  2014      3   \n",
              "390348          0         0   0.000        0.000  ...  2014      9   \n",
              "162109          1         0   0.000        0.000  ...  2013      9   \n",
              "810483          1         0   2.000        0.000  ...  2013     11   \n",
              "1120892         0         0   0.000        0.000  ...  2014      2   \n",
              "1258921         1         0 532.000        5.000  ...  2015      5   \n",
              "\n",
              "         is_month_start  is_month_end  day  is_weekend  day_of_the_year  \\\n",
              "1196756               0             0   22          17              112   \n",
              "90852                 0             0   30          22              150   \n",
              "76665                 0             1   31          14               90   \n",
              "390348                0             0   29          40              272   \n",
              "162109                0             0    5          36              248   \n",
              "810483                0             0   23          47              327   \n",
              "1120892               0             0   14           7               45   \n",
              "1258921               0             0   12          20              132   \n",
              "\n",
              "         quarter  is_quarter_start  is_quarter_end  \n",
              "1196756        2                 0               0  \n",
              "90852          2                 0               0  \n",
              "76665          1                 0               1  \n",
              "390348         3                 0               0  \n",
              "162109         3                 0               0  \n",
              "810483         4                 0               0  \n",
              "1120892        1                 0               0  \n",
              "1258921        2                 0               0  \n",
              "\n",
              "[8 rows x 43 columns]"
            ],
            "text/html": [
              "\n",
              "  <div id=\"df-8a2e1344-5529-484e-a8d4-22d3b07febc3\">\n",
              "    <div class=\"colab-df-container\">\n",
              "      <div>\n",
              "<style scoped>\n",
              "    .dataframe tbody tr th:only-of-type {\n",
              "        vertical-align: middle;\n",
              "    }\n",
              "\n",
              "    .dataframe tbody tr th {\n",
              "        vertical-align: top;\n",
              "    }\n",
              "\n",
              "    .dataframe thead th {\n",
              "        text-align: right;\n",
              "    }\n",
              "</style>\n",
              "<table border=\"1\" class=\"dataframe\">\n",
              "  <thead>\n",
              "    <tr style=\"text-align: right;\">\n",
              "      <th></th>\n",
              "      <th>date</th>\n",
              "      <th>store_nbr</th>\n",
              "      <th>family_0</th>\n",
              "      <th>family_1</th>\n",
              "      <th>family_2</th>\n",
              "      <th>family_3</th>\n",
              "      <th>family_4</th>\n",
              "      <th>family_5</th>\n",
              "      <th>sales</th>\n",
              "      <th>onpromotion</th>\n",
              "      <th>...</th>\n",
              "      <th>year</th>\n",
              "      <th>month</th>\n",
              "      <th>is_month_start</th>\n",
              "      <th>is_month_end</th>\n",
              "      <th>day</th>\n",
              "      <th>is_weekend</th>\n",
              "      <th>day_of_the_year</th>\n",
              "      <th>quarter</th>\n",
              "      <th>is_quarter_start</th>\n",
              "      <th>is_quarter_end</th>\n",
              "    </tr>\n",
              "  </thead>\n",
              "  <tbody>\n",
              "    <tr>\n",
              "      <th>1196756</th>\n",
              "      <td>2015-04-22</td>\n",
              "      <td>44.000</td>\n",
              "      <td>0</td>\n",
              "      <td>0</td>\n",
              "      <td>0</td>\n",
              "      <td>0</td>\n",
              "      <td>0</td>\n",
              "      <td>1</td>\n",
              "      <td>14.000</td>\n",
              "      <td>0.000</td>\n",
              "      <td>...</td>\n",
              "      <td>2015</td>\n",
              "      <td>4</td>\n",
              "      <td>0</td>\n",
              "      <td>0</td>\n",
              "      <td>22</td>\n",
              "      <td>17</td>\n",
              "      <td>112</td>\n",
              "      <td>2</td>\n",
              "      <td>0</td>\n",
              "      <td>0</td>\n",
              "    </tr>\n",
              "    <tr>\n",
              "      <th>90852</th>\n",
              "      <td>2015-05-30</td>\n",
              "      <td>11.000</td>\n",
              "      <td>0</td>\n",
              "      <td>1</td>\n",
              "      <td>0</td>\n",
              "      <td>0</td>\n",
              "      <td>1</td>\n",
              "      <td>1</td>\n",
              "      <td>698.000</td>\n",
              "      <td>0.000</td>\n",
              "      <td>...</td>\n",
              "      <td>2015</td>\n",
              "      <td>5</td>\n",
              "      <td>0</td>\n",
              "      <td>0</td>\n",
              "      <td>30</td>\n",
              "      <td>22</td>\n",
              "      <td>150</td>\n",
              "      <td>2</td>\n",
              "      <td>0</td>\n",
              "      <td>0</td>\n",
              "    </tr>\n",
              "    <tr>\n",
              "      <th>76665</th>\n",
              "      <td>2014-03-31</td>\n",
              "      <td>11.000</td>\n",
              "      <td>0</td>\n",
              "      <td>1</td>\n",
              "      <td>0</td>\n",
              "      <td>1</td>\n",
              "      <td>1</td>\n",
              "      <td>0</td>\n",
              "      <td>31.000</td>\n",
              "      <td>0.000</td>\n",
              "      <td>...</td>\n",
              "      <td>2014</td>\n",
              "      <td>3</td>\n",
              "      <td>0</td>\n",
              "      <td>1</td>\n",
              "      <td>31</td>\n",
              "      <td>14</td>\n",
              "      <td>90</td>\n",
              "      <td>1</td>\n",
              "      <td>0</td>\n",
              "      <td>1</td>\n",
              "    </tr>\n",
              "    <tr>\n",
              "      <th>390348</th>\n",
              "      <td>2014-09-29</td>\n",
              "      <td>20.000</td>\n",
              "      <td>0</td>\n",
              "      <td>1</td>\n",
              "      <td>1</td>\n",
              "      <td>1</td>\n",
              "      <td>0</td>\n",
              "      <td>0</td>\n",
              "      <td>0.000</td>\n",
              "      <td>0.000</td>\n",
              "      <td>...</td>\n",
              "      <td>2014</td>\n",
              "      <td>9</td>\n",
              "      <td>0</td>\n",
              "      <td>0</td>\n",
              "      <td>29</td>\n",
              "      <td>40</td>\n",
              "      <td>272</td>\n",
              "      <td>3</td>\n",
              "      <td>0</td>\n",
              "      <td>0</td>\n",
              "    </tr>\n",
              "    <tr>\n",
              "      <th>162109</th>\n",
              "      <td>2013-09-05</td>\n",
              "      <td>14.000</td>\n",
              "      <td>0</td>\n",
              "      <td>0</td>\n",
              "      <td>0</td>\n",
              "      <td>0</td>\n",
              "      <td>1</td>\n",
              "      <td>0</td>\n",
              "      <td>0.000</td>\n",
              "      <td>0.000</td>\n",
              "      <td>...</td>\n",
              "      <td>2013</td>\n",
              "      <td>9</td>\n",
              "      <td>0</td>\n",
              "      <td>0</td>\n",
              "      <td>5</td>\n",
              "      <td>36</td>\n",
              "      <td>248</td>\n",
              "      <td>3</td>\n",
              "      <td>0</td>\n",
              "      <td>0</td>\n",
              "    </tr>\n",
              "    <tr>\n",
              "      <th>810483</th>\n",
              "      <td>2013-11-23</td>\n",
              "      <td>33.000</td>\n",
              "      <td>0</td>\n",
              "      <td>0</td>\n",
              "      <td>1</td>\n",
              "      <td>1</td>\n",
              "      <td>1</td>\n",
              "      <td>0</td>\n",
              "      <td>2.000</td>\n",
              "      <td>0.000</td>\n",
              "      <td>...</td>\n",
              "      <td>2013</td>\n",
              "      <td>11</td>\n",
              "      <td>0</td>\n",
              "      <td>0</td>\n",
              "      <td>23</td>\n",
              "      <td>47</td>\n",
              "      <td>327</td>\n",
              "      <td>4</td>\n",
              "      <td>0</td>\n",
              "      <td>0</td>\n",
              "    </tr>\n",
              "    <tr>\n",
              "      <th>1120892</th>\n",
              "      <td>2014-02-14</td>\n",
              "      <td>42.000</td>\n",
              "      <td>0</td>\n",
              "      <td>1</td>\n",
              "      <td>0</td>\n",
              "      <td>1</td>\n",
              "      <td>0</td>\n",
              "      <td>0</td>\n",
              "      <td>0.000</td>\n",
              "      <td>0.000</td>\n",
              "      <td>...</td>\n",
              "      <td>2014</td>\n",
              "      <td>2</td>\n",
              "      <td>0</td>\n",
              "      <td>0</td>\n",
              "      <td>14</td>\n",
              "      <td>7</td>\n",
              "      <td>45</td>\n",
              "      <td>1</td>\n",
              "      <td>0</td>\n",
              "      <td>0</td>\n",
              "    </tr>\n",
              "    <tr>\n",
              "      <th>1258921</th>\n",
              "      <td>2015-05-12</td>\n",
              "      <td>46.000</td>\n",
              "      <td>0</td>\n",
              "      <td>1</td>\n",
              "      <td>1</td>\n",
              "      <td>0</td>\n",
              "      <td>1</td>\n",
              "      <td>0</td>\n",
              "      <td>532.000</td>\n",
              "      <td>5.000</td>\n",
              "      <td>...</td>\n",
              "      <td>2015</td>\n",
              "      <td>5</td>\n",
              "      <td>0</td>\n",
              "      <td>0</td>\n",
              "      <td>12</td>\n",
              "      <td>20</td>\n",
              "      <td>132</td>\n",
              "      <td>2</td>\n",
              "      <td>0</td>\n",
              "      <td>0</td>\n",
              "    </tr>\n",
              "  </tbody>\n",
              "</table>\n",
              "<p>8 rows × 43 columns</p>\n",
              "</div>\n",
              "      <button class=\"colab-df-convert\" onclick=\"convertToInteractive('df-8a2e1344-5529-484e-a8d4-22d3b07febc3')\"\n",
              "              title=\"Convert this dataframe to an interactive table.\"\n",
              "              style=\"display:none;\">\n",
              "        \n",
              "  <svg xmlns=\"http://www.w3.org/2000/svg\" height=\"24px\"viewBox=\"0 0 24 24\"\n",
              "       width=\"24px\">\n",
              "    <path d=\"M0 0h24v24H0V0z\" fill=\"none\"/>\n",
              "    <path d=\"M18.56 5.44l.94 2.06.94-2.06 2.06-.94-2.06-.94-.94-2.06-.94 2.06-2.06.94zm-11 1L8.5 8.5l.94-2.06 2.06-.94-2.06-.94L8.5 2.5l-.94 2.06-2.06.94zm10 10l.94 2.06.94-2.06 2.06-.94-2.06-.94-.94-2.06-.94 2.06-2.06.94z\"/><path d=\"M17.41 7.96l-1.37-1.37c-.4-.4-.92-.59-1.43-.59-.52 0-1.04.2-1.43.59L10.3 9.45l-7.72 7.72c-.78.78-.78 2.05 0 2.83L4 21.41c.39.39.9.59 1.41.59.51 0 1.02-.2 1.41-.59l7.78-7.78 2.81-2.81c.8-.78.8-2.07 0-2.86zM5.41 20L4 18.59l7.72-7.72 1.47 1.35L5.41 20z\"/>\n",
              "  </svg>\n",
              "      </button>\n",
              "      \n",
              "  <style>\n",
              "    .colab-df-container {\n",
              "      display:flex;\n",
              "      flex-wrap:wrap;\n",
              "      gap: 12px;\n",
              "    }\n",
              "\n",
              "    .colab-df-convert {\n",
              "      background-color: #E8F0FE;\n",
              "      border: none;\n",
              "      border-radius: 50%;\n",
              "      cursor: pointer;\n",
              "      display: none;\n",
              "      fill: #1967D2;\n",
              "      height: 32px;\n",
              "      padding: 0 0 0 0;\n",
              "      width: 32px;\n",
              "    }\n",
              "\n",
              "    .colab-df-convert:hover {\n",
              "      background-color: #E2EBFA;\n",
              "      box-shadow: 0px 1px 2px rgba(60, 64, 67, 0.3), 0px 1px 3px 1px rgba(60, 64, 67, 0.15);\n",
              "      fill: #174EA6;\n",
              "    }\n",
              "\n",
              "    [theme=dark] .colab-df-convert {\n",
              "      background-color: #3B4455;\n",
              "      fill: #D2E3FC;\n",
              "    }\n",
              "\n",
              "    [theme=dark] .colab-df-convert:hover {\n",
              "      background-color: #434B5C;\n",
              "      box-shadow: 0px 1px 3px 1px rgba(0, 0, 0, 0.15);\n",
              "      filter: drop-shadow(0px 1px 2px rgba(0, 0, 0, 0.3));\n",
              "      fill: #FFFFFF;\n",
              "    }\n",
              "  </style>\n",
              "\n",
              "      <script>\n",
              "        const buttonEl =\n",
              "          document.querySelector('#df-8a2e1344-5529-484e-a8d4-22d3b07febc3 button.colab-df-convert');\n",
              "        buttonEl.style.display =\n",
              "          google.colab.kernel.accessAllowed ? 'block' : 'none';\n",
              "\n",
              "        async function convertToInteractive(key) {\n",
              "          const element = document.querySelector('#df-8a2e1344-5529-484e-a8d4-22d3b07febc3');\n",
              "          const dataTable =\n",
              "            await google.colab.kernel.invokeFunction('convertToInteractive',\n",
              "                                                     [key], {});\n",
              "          if (!dataTable) return;\n",
              "\n",
              "          const docLinkHtml = 'Like what you see? Visit the ' +\n",
              "            '<a target=\"_blank\" href=https://colab.research.google.com/notebooks/data_table.ipynb>data table notebook</a>'\n",
              "            + ' to learn more about interactive tables.';\n",
              "          element.innerHTML = '';\n",
              "          dataTable['output_type'] = 'display_data';\n",
              "          await google.colab.output.renderOutput(dataTable, element);\n",
              "          const docLink = document.createElement('div');\n",
              "          docLink.innerHTML = docLinkHtml;\n",
              "          element.appendChild(docLink);\n",
              "        }\n",
              "      </script>\n",
              "    </div>\n",
              "  </div>\n",
              "  "
            ]
          },
          "metadata": {},
          "execution_count": 62
        }
      ],
      "source": [
        "merged_data.sample(8)"
      ]
    },
    {
      "cell_type": "markdown",
      "metadata": {
        "id": "BstxcIDEyQDH"
      },
      "source": [
        "### Feature Drop"
      ]
    },
    {
      "cell_type": "code",
      "execution_count": 63,
      "metadata": {
        "id": "6GU4UNHAQ7Is"
      },
      "outputs": [],
      "source": [
        "# drop columns\n",
        "merged_data = merged_data.drop(columns=['date'])"
      ]
    },
    {
      "cell_type": "markdown",
      "metadata": {
        "id": "NbuTyRJkyQDI"
      },
      "source": [
        "### Scaling"
      ]
    },
    {
      "cell_type": "code",
      "execution_count": 64,
      "metadata": {
        "id": "MUG4DyTRQ7Im"
      },
      "outputs": [],
      "source": [
        "from sklearn.preprocessing import StandardScaler\n",
        "\n",
        "# create an instance of StandardScaler\n",
        "scaler = StandardScaler()\n",
        "\n",
        "# select numerical columns\n",
        "num_cols = ['store_nbr','sales', 'transactions', 'dcoilwtico', 'year','month','is_month_start','is_month_end','day','is_weekend','day_of_the_year','quarter','is_quarter_start','is_quarter_end']\n",
        "\n",
        "# fit and transform the numerical columns\n",
        "merged_data[num_cols] = scaler.fit_transform(merged_data[num_cols])"
      ]
    },
    {
      "cell_type": "code",
      "execution_count": 65,
      "metadata": {
        "colab": {
          "base_uri": "https://localhost:8080/",
          "height": 488
        },
        "id": "-dYKy8VFQ7It",
        "outputId": "5f86f27e-6e46-4ee8-908a-4c65f89f4118"
      },
      "outputs": [
        {
          "output_type": "execute_result",
          "data": {
            "text/plain": [
              "         store_nbr  family_0  family_1  family_2  family_3  family_4  \\\n",
              "0           -1.700         0         0         0         0         0   \n",
              "1           -1.700         0         0         0         0         1   \n",
              "2           -1.700         0         0         0         0         1   \n",
              "3           -1.700         0         0         0         1         0   \n",
              "4           -1.700         0         0         0         1         0   \n",
              "...            ...       ...       ...       ...       ...       ...   \n",
              "1658968     -1.187         0         1         1         1         0   \n",
              "1658969     -1.187         0         1         1         1         1   \n",
              "1658970     -1.187         0         1         1         1         1   \n",
              "1658971     -1.187         1         0         0         0         0   \n",
              "1658972     -1.187         1         0         0         0         0   \n",
              "\n",
              "         family_5  sales  onpromotion  transactions  ...   year  month  \\\n",
              "0               1 -0.310        0.000           NaN  ... -1.057 -1.446   \n",
              "1               0 -0.310        0.000           NaN  ... -1.057 -1.446   \n",
              "2               1 -0.310        0.000           NaN  ... -1.057 -1.446   \n",
              "3               0 -0.310        0.000           NaN  ... -1.057 -1.446   \n",
              "4               1 -0.310        0.000           NaN  ... -1.057 -1.446   \n",
              "...           ...    ...          ...           ...  ...    ...    ...   \n",
              "1658968         1  0.110        0.000         0.229  ...  1.655  0.019   \n",
              "1658969         0 -0.241        9.000         0.229  ...  1.655  0.019   \n",
              "1658970         1  1.116        3.000         0.229  ...  1.655  0.019   \n",
              "1658971         0 -0.304        0.000         0.229  ...  1.655  0.019   \n",
              "1658972         1 -0.302        0.000         0.229  ...  1.655  0.019   \n",
              "\n",
              "         is_month_start  is_month_end    day  is_weekend  day_of_the_year  \\\n",
              "0                 5.409        -0.182 -1.663      -1.550           -1.572   \n",
              "1                 5.409        -0.182 -1.663      -1.550           -1.572   \n",
              "2                 5.409        -0.182 -1.663      -1.550           -1.572   \n",
              "3                 5.409        -0.182 -1.663      -1.550           -1.572   \n",
              "4                 5.409        -0.182 -1.663      -1.550           -1.572   \n",
              "...                 ...           ...    ...         ...              ...   \n",
              "1658968          -0.185        -0.182  0.159       0.071            0.030   \n",
              "1658969          -0.185        -0.182  0.159       0.071            0.030   \n",
              "1658970          -0.185        -0.182  0.159       0.071            0.030   \n",
              "1658971          -0.185        -0.182  0.159       0.071            0.030   \n",
              "1658972          -0.185        -0.182  0.159       0.071            0.030   \n",
              "\n",
              "         quarter  is_quarter_start  is_quarter_end  \n",
              "0         -1.191             9.475          -0.100  \n",
              "1         -1.191             9.475          -0.100  \n",
              "2         -1.191             9.475          -0.100  \n",
              "3         -1.191             9.475          -0.100  \n",
              "4         -1.191             9.475          -0.100  \n",
              "...          ...               ...             ...  \n",
              "1658968   -0.285            -0.106          -0.100  \n",
              "1658969   -0.285            -0.106          -0.100  \n",
              "1658970   -0.285            -0.106          -0.100  \n",
              "1658971   -0.285            -0.106          -0.100  \n",
              "1658972   -0.285            -0.106          -0.100  \n",
              "\n",
              "[1617540 rows x 42 columns]"
            ],
            "text/html": [
              "\n",
              "  <div id=\"df-ff759a74-f973-4f5a-868b-74c9b724a71f\">\n",
              "    <div class=\"colab-df-container\">\n",
              "      <div>\n",
              "<style scoped>\n",
              "    .dataframe tbody tr th:only-of-type {\n",
              "        vertical-align: middle;\n",
              "    }\n",
              "\n",
              "    .dataframe tbody tr th {\n",
              "        vertical-align: top;\n",
              "    }\n",
              "\n",
              "    .dataframe thead th {\n",
              "        text-align: right;\n",
              "    }\n",
              "</style>\n",
              "<table border=\"1\" class=\"dataframe\">\n",
              "  <thead>\n",
              "    <tr style=\"text-align: right;\">\n",
              "      <th></th>\n",
              "      <th>store_nbr</th>\n",
              "      <th>family_0</th>\n",
              "      <th>family_1</th>\n",
              "      <th>family_2</th>\n",
              "      <th>family_3</th>\n",
              "      <th>family_4</th>\n",
              "      <th>family_5</th>\n",
              "      <th>sales</th>\n",
              "      <th>onpromotion</th>\n",
              "      <th>transactions</th>\n",
              "      <th>...</th>\n",
              "      <th>year</th>\n",
              "      <th>month</th>\n",
              "      <th>is_month_start</th>\n",
              "      <th>is_month_end</th>\n",
              "      <th>day</th>\n",
              "      <th>is_weekend</th>\n",
              "      <th>day_of_the_year</th>\n",
              "      <th>quarter</th>\n",
              "      <th>is_quarter_start</th>\n",
              "      <th>is_quarter_end</th>\n",
              "    </tr>\n",
              "  </thead>\n",
              "  <tbody>\n",
              "    <tr>\n",
              "      <th>0</th>\n",
              "      <td>-1.700</td>\n",
              "      <td>0</td>\n",
              "      <td>0</td>\n",
              "      <td>0</td>\n",
              "      <td>0</td>\n",
              "      <td>0</td>\n",
              "      <td>1</td>\n",
              "      <td>-0.310</td>\n",
              "      <td>0.000</td>\n",
              "      <td>NaN</td>\n",
              "      <td>...</td>\n",
              "      <td>-1.057</td>\n",
              "      <td>-1.446</td>\n",
              "      <td>5.409</td>\n",
              "      <td>-0.182</td>\n",
              "      <td>-1.663</td>\n",
              "      <td>-1.550</td>\n",
              "      <td>-1.572</td>\n",
              "      <td>-1.191</td>\n",
              "      <td>9.475</td>\n",
              "      <td>-0.100</td>\n",
              "    </tr>\n",
              "    <tr>\n",
              "      <th>1</th>\n",
              "      <td>-1.700</td>\n",
              "      <td>0</td>\n",
              "      <td>0</td>\n",
              "      <td>0</td>\n",
              "      <td>0</td>\n",
              "      <td>1</td>\n",
              "      <td>0</td>\n",
              "      <td>-0.310</td>\n",
              "      <td>0.000</td>\n",
              "      <td>NaN</td>\n",
              "      <td>...</td>\n",
              "      <td>-1.057</td>\n",
              "      <td>-1.446</td>\n",
              "      <td>5.409</td>\n",
              "      <td>-0.182</td>\n",
              "      <td>-1.663</td>\n",
              "      <td>-1.550</td>\n",
              "      <td>-1.572</td>\n",
              "      <td>-1.191</td>\n",
              "      <td>9.475</td>\n",
              "      <td>-0.100</td>\n",
              "    </tr>\n",
              "    <tr>\n",
              "      <th>2</th>\n",
              "      <td>-1.700</td>\n",
              "      <td>0</td>\n",
              "      <td>0</td>\n",
              "      <td>0</td>\n",
              "      <td>0</td>\n",
              "      <td>1</td>\n",
              "      <td>1</td>\n",
              "      <td>-0.310</td>\n",
              "      <td>0.000</td>\n",
              "      <td>NaN</td>\n",
              "      <td>...</td>\n",
              "      <td>-1.057</td>\n",
              "      <td>-1.446</td>\n",
              "      <td>5.409</td>\n",
              "      <td>-0.182</td>\n",
              "      <td>-1.663</td>\n",
              "      <td>-1.550</td>\n",
              "      <td>-1.572</td>\n",
              "      <td>-1.191</td>\n",
              "      <td>9.475</td>\n",
              "      <td>-0.100</td>\n",
              "    </tr>\n",
              "    <tr>\n",
              "      <th>3</th>\n",
              "      <td>-1.700</td>\n",
              "      <td>0</td>\n",
              "      <td>0</td>\n",
              "      <td>0</td>\n",
              "      <td>1</td>\n",
              "      <td>0</td>\n",
              "      <td>0</td>\n",
              "      <td>-0.310</td>\n",
              "      <td>0.000</td>\n",
              "      <td>NaN</td>\n",
              "      <td>...</td>\n",
              "      <td>-1.057</td>\n",
              "      <td>-1.446</td>\n",
              "      <td>5.409</td>\n",
              "      <td>-0.182</td>\n",
              "      <td>-1.663</td>\n",
              "      <td>-1.550</td>\n",
              "      <td>-1.572</td>\n",
              "      <td>-1.191</td>\n",
              "      <td>9.475</td>\n",
              "      <td>-0.100</td>\n",
              "    </tr>\n",
              "    <tr>\n",
              "      <th>4</th>\n",
              "      <td>-1.700</td>\n",
              "      <td>0</td>\n",
              "      <td>0</td>\n",
              "      <td>0</td>\n",
              "      <td>1</td>\n",
              "      <td>0</td>\n",
              "      <td>1</td>\n",
              "      <td>-0.310</td>\n",
              "      <td>0.000</td>\n",
              "      <td>NaN</td>\n",
              "      <td>...</td>\n",
              "      <td>-1.057</td>\n",
              "      <td>-1.446</td>\n",
              "      <td>5.409</td>\n",
              "      <td>-0.182</td>\n",
              "      <td>-1.663</td>\n",
              "      <td>-1.550</td>\n",
              "      <td>-1.572</td>\n",
              "      <td>-1.191</td>\n",
              "      <td>9.475</td>\n",
              "      <td>-0.100</td>\n",
              "    </tr>\n",
              "    <tr>\n",
              "      <th>...</th>\n",
              "      <td>...</td>\n",
              "      <td>...</td>\n",
              "      <td>...</td>\n",
              "      <td>...</td>\n",
              "      <td>...</td>\n",
              "      <td>...</td>\n",
              "      <td>...</td>\n",
              "      <td>...</td>\n",
              "      <td>...</td>\n",
              "      <td>...</td>\n",
              "      <td>...</td>\n",
              "      <td>...</td>\n",
              "      <td>...</td>\n",
              "      <td>...</td>\n",
              "      <td>...</td>\n",
              "      <td>...</td>\n",
              "      <td>...</td>\n",
              "      <td>...</td>\n",
              "      <td>...</td>\n",
              "      <td>...</td>\n",
              "      <td>...</td>\n",
              "    </tr>\n",
              "    <tr>\n",
              "      <th>1658968</th>\n",
              "      <td>-1.187</td>\n",
              "      <td>0</td>\n",
              "      <td>1</td>\n",
              "      <td>1</td>\n",
              "      <td>1</td>\n",
              "      <td>0</td>\n",
              "      <td>1</td>\n",
              "      <td>0.110</td>\n",
              "      <td>0.000</td>\n",
              "      <td>0.229</td>\n",
              "      <td>...</td>\n",
              "      <td>1.655</td>\n",
              "      <td>0.019</td>\n",
              "      <td>-0.185</td>\n",
              "      <td>-0.182</td>\n",
              "      <td>0.159</td>\n",
              "      <td>0.071</td>\n",
              "      <td>0.030</td>\n",
              "      <td>-0.285</td>\n",
              "      <td>-0.106</td>\n",
              "      <td>-0.100</td>\n",
              "    </tr>\n",
              "    <tr>\n",
              "      <th>1658969</th>\n",
              "      <td>-1.187</td>\n",
              "      <td>0</td>\n",
              "      <td>1</td>\n",
              "      <td>1</td>\n",
              "      <td>1</td>\n",
              "      <td>1</td>\n",
              "      <td>0</td>\n",
              "      <td>-0.241</td>\n",
              "      <td>9.000</td>\n",
              "      <td>0.229</td>\n",
              "      <td>...</td>\n",
              "      <td>1.655</td>\n",
              "      <td>0.019</td>\n",
              "      <td>-0.185</td>\n",
              "      <td>-0.182</td>\n",
              "      <td>0.159</td>\n",
              "      <td>0.071</td>\n",
              "      <td>0.030</td>\n",
              "      <td>-0.285</td>\n",
              "      <td>-0.106</td>\n",
              "      <td>-0.100</td>\n",
              "    </tr>\n",
              "    <tr>\n",
              "      <th>1658970</th>\n",
              "      <td>-1.187</td>\n",
              "      <td>0</td>\n",
              "      <td>1</td>\n",
              "      <td>1</td>\n",
              "      <td>1</td>\n",
              "      <td>1</td>\n",
              "      <td>1</td>\n",
              "      <td>1.116</td>\n",
              "      <td>3.000</td>\n",
              "      <td>0.229</td>\n",
              "      <td>...</td>\n",
              "      <td>1.655</td>\n",
              "      <td>0.019</td>\n",
              "      <td>-0.185</td>\n",
              "      <td>-0.182</td>\n",
              "      <td>0.159</td>\n",
              "      <td>0.071</td>\n",
              "      <td>0.030</td>\n",
              "      <td>-0.285</td>\n",
              "      <td>-0.106</td>\n",
              "      <td>-0.100</td>\n",
              "    </tr>\n",
              "    <tr>\n",
              "      <th>1658971</th>\n",
              "      <td>-1.187</td>\n",
              "      <td>1</td>\n",
              "      <td>0</td>\n",
              "      <td>0</td>\n",
              "      <td>0</td>\n",
              "      <td>0</td>\n",
              "      <td>0</td>\n",
              "      <td>-0.304</td>\n",
              "      <td>0.000</td>\n",
              "      <td>0.229</td>\n",
              "      <td>...</td>\n",
              "      <td>1.655</td>\n",
              "      <td>0.019</td>\n",
              "      <td>-0.185</td>\n",
              "      <td>-0.182</td>\n",
              "      <td>0.159</td>\n",
              "      <td>0.071</td>\n",
              "      <td>0.030</td>\n",
              "      <td>-0.285</td>\n",
              "      <td>-0.106</td>\n",
              "      <td>-0.100</td>\n",
              "    </tr>\n",
              "    <tr>\n",
              "      <th>1658972</th>\n",
              "      <td>-1.187</td>\n",
              "      <td>1</td>\n",
              "      <td>0</td>\n",
              "      <td>0</td>\n",
              "      <td>0</td>\n",
              "      <td>0</td>\n",
              "      <td>1</td>\n",
              "      <td>-0.302</td>\n",
              "      <td>0.000</td>\n",
              "      <td>0.229</td>\n",
              "      <td>...</td>\n",
              "      <td>1.655</td>\n",
              "      <td>0.019</td>\n",
              "      <td>-0.185</td>\n",
              "      <td>-0.182</td>\n",
              "      <td>0.159</td>\n",
              "      <td>0.071</td>\n",
              "      <td>0.030</td>\n",
              "      <td>-0.285</td>\n",
              "      <td>-0.106</td>\n",
              "      <td>-0.100</td>\n",
              "    </tr>\n",
              "  </tbody>\n",
              "</table>\n",
              "<p>1617540 rows × 42 columns</p>\n",
              "</div>\n",
              "      <button class=\"colab-df-convert\" onclick=\"convertToInteractive('df-ff759a74-f973-4f5a-868b-74c9b724a71f')\"\n",
              "              title=\"Convert this dataframe to an interactive table.\"\n",
              "              style=\"display:none;\">\n",
              "        \n",
              "  <svg xmlns=\"http://www.w3.org/2000/svg\" height=\"24px\"viewBox=\"0 0 24 24\"\n",
              "       width=\"24px\">\n",
              "    <path d=\"M0 0h24v24H0V0z\" fill=\"none\"/>\n",
              "    <path d=\"M18.56 5.44l.94 2.06.94-2.06 2.06-.94-2.06-.94-.94-2.06-.94 2.06-2.06.94zm-11 1L8.5 8.5l.94-2.06 2.06-.94-2.06-.94L8.5 2.5l-.94 2.06-2.06.94zm10 10l.94 2.06.94-2.06 2.06-.94-2.06-.94-.94-2.06-.94 2.06-2.06.94z\"/><path d=\"M17.41 7.96l-1.37-1.37c-.4-.4-.92-.59-1.43-.59-.52 0-1.04.2-1.43.59L10.3 9.45l-7.72 7.72c-.78.78-.78 2.05 0 2.83L4 21.41c.39.39.9.59 1.41.59.51 0 1.02-.2 1.41-.59l7.78-7.78 2.81-2.81c.8-.78.8-2.07 0-2.86zM5.41 20L4 18.59l7.72-7.72 1.47 1.35L5.41 20z\"/>\n",
              "  </svg>\n",
              "      </button>\n",
              "      \n",
              "  <style>\n",
              "    .colab-df-container {\n",
              "      display:flex;\n",
              "      flex-wrap:wrap;\n",
              "      gap: 12px;\n",
              "    }\n",
              "\n",
              "    .colab-df-convert {\n",
              "      background-color: #E8F0FE;\n",
              "      border: none;\n",
              "      border-radius: 50%;\n",
              "      cursor: pointer;\n",
              "      display: none;\n",
              "      fill: #1967D2;\n",
              "      height: 32px;\n",
              "      padding: 0 0 0 0;\n",
              "      width: 32px;\n",
              "    }\n",
              "\n",
              "    .colab-df-convert:hover {\n",
              "      background-color: #E2EBFA;\n",
              "      box-shadow: 0px 1px 2px rgba(60, 64, 67, 0.3), 0px 1px 3px 1px rgba(60, 64, 67, 0.15);\n",
              "      fill: #174EA6;\n",
              "    }\n",
              "\n",
              "    [theme=dark] .colab-df-convert {\n",
              "      background-color: #3B4455;\n",
              "      fill: #D2E3FC;\n",
              "    }\n",
              "\n",
              "    [theme=dark] .colab-df-convert:hover {\n",
              "      background-color: #434B5C;\n",
              "      box-shadow: 0px 1px 3px 1px rgba(0, 0, 0, 0.15);\n",
              "      filter: drop-shadow(0px 1px 2px rgba(0, 0, 0, 0.3));\n",
              "      fill: #FFFFFF;\n",
              "    }\n",
              "  </style>\n",
              "\n",
              "      <script>\n",
              "        const buttonEl =\n",
              "          document.querySelector('#df-ff759a74-f973-4f5a-868b-74c9b724a71f button.colab-df-convert');\n",
              "        buttonEl.style.display =\n",
              "          google.colab.kernel.accessAllowed ? 'block' : 'none';\n",
              "\n",
              "        async function convertToInteractive(key) {\n",
              "          const element = document.querySelector('#df-ff759a74-f973-4f5a-868b-74c9b724a71f');\n",
              "          const dataTable =\n",
              "            await google.colab.kernel.invokeFunction('convertToInteractive',\n",
              "                                                     [key], {});\n",
              "          if (!dataTable) return;\n",
              "\n",
              "          const docLinkHtml = 'Like what you see? Visit the ' +\n",
              "            '<a target=\"_blank\" href=https://colab.research.google.com/notebooks/data_table.ipynb>data table notebook</a>'\n",
              "            + ' to learn more about interactive tables.';\n",
              "          element.innerHTML = '';\n",
              "          dataTable['output_type'] = 'display_data';\n",
              "          await google.colab.output.renderOutput(dataTable, element);\n",
              "          const docLink = document.createElement('div');\n",
              "          docLink.innerHTML = docLinkHtml;\n",
              "          element.appendChild(docLink);\n",
              "        }\n",
              "      </script>\n",
              "    </div>\n",
              "  </div>\n",
              "  "
            ]
          },
          "metadata": {},
          "execution_count": 65
        }
      ],
      "source": [
        "merged_data"
      ]
    },
    {
      "cell_type": "markdown",
      "metadata": {
        "id": "C1XknlT3xMWP"
      },
      "source": [
        "### Spliting the Dataset"
      ]
    },
    {
      "cell_type": "code",
      "execution_count": 66,
      "metadata": {
        "id": "jWFWbeiKQ7I0"
      },
      "outputs": [],
      "source": [
        "# split the data into train and test sets\n",
        "X_train, X_test, y_train, y_test = train_test_split(merged_data.drop('sales', axis=1), merged_data['sales'], test_size=0.2, random_state=42)"
      ]
    },
    {
      "cell_type": "code",
      "execution_count": 67,
      "metadata": {
        "id": "ZiAmS8MSyQDJ"
      },
      "outputs": [],
      "source": [
        "# split for the stats model\n",
        "combined = merged_data1.groupby('date')['sales'].sum().reset_index()\n",
        "combined =combined.set_index('date')\n",
        "\n",
        "train_data = combined[1:len(combined)-337]\n",
        "test_data = combined[len(combined)-337:]"
      ]
    },
    {
      "cell_type": "code",
      "execution_count": 68,
      "metadata": {
        "id": "2gyUBAgPQ7Ip"
      },
      "outputs": [],
      "source": [
        "merged_data.dropna(subset=['sales'], inplace=True)"
      ]
    },
    {
      "cell_type": "code",
      "execution_count": 69,
      "metadata": {
        "colab": {
          "base_uri": "https://localhost:8080/",
          "height": 205
        },
        "id": "mkgK0pAEQ7Iq",
        "outputId": "a53601f1-5733-4ac1-919d-637a7a7c6e5d"
      },
      "outputs": [
        {
          "output_type": "execute_result",
          "data": {
            "text/plain": [
              "   store_nbr  family_0  family_1  family_2  family_3  family_4  family_5  \\\n",
              "0     -1.700         0         0         0         0         0         1   \n",
              "1     -1.700         0         0         0         0         1         0   \n",
              "\n",
              "   sales  onpromotion  transactions  ...   year  month  is_month_start  \\\n",
              "0 -0.310        0.000           NaN  ... -1.057 -1.446           5.409   \n",
              "1 -0.310        0.000           NaN  ... -1.057 -1.446           5.409   \n",
              "\n",
              "   is_month_end    day  is_weekend  day_of_the_year  quarter  \\\n",
              "0        -0.182 -1.663      -1.550           -1.572   -1.191   \n",
              "1        -0.182 -1.663      -1.550           -1.572   -1.191   \n",
              "\n",
              "   is_quarter_start  is_quarter_end  \n",
              "0             9.475          -0.100  \n",
              "1             9.475          -0.100  \n",
              "\n",
              "[2 rows x 42 columns]"
            ],
            "text/html": [
              "\n",
              "  <div id=\"df-c4227923-50c1-43be-af8d-39dbe757bfd2\">\n",
              "    <div class=\"colab-df-container\">\n",
              "      <div>\n",
              "<style scoped>\n",
              "    .dataframe tbody tr th:only-of-type {\n",
              "        vertical-align: middle;\n",
              "    }\n",
              "\n",
              "    .dataframe tbody tr th {\n",
              "        vertical-align: top;\n",
              "    }\n",
              "\n",
              "    .dataframe thead th {\n",
              "        text-align: right;\n",
              "    }\n",
              "</style>\n",
              "<table border=\"1\" class=\"dataframe\">\n",
              "  <thead>\n",
              "    <tr style=\"text-align: right;\">\n",
              "      <th></th>\n",
              "      <th>store_nbr</th>\n",
              "      <th>family_0</th>\n",
              "      <th>family_1</th>\n",
              "      <th>family_2</th>\n",
              "      <th>family_3</th>\n",
              "      <th>family_4</th>\n",
              "      <th>family_5</th>\n",
              "      <th>sales</th>\n",
              "      <th>onpromotion</th>\n",
              "      <th>transactions</th>\n",
              "      <th>...</th>\n",
              "      <th>year</th>\n",
              "      <th>month</th>\n",
              "      <th>is_month_start</th>\n",
              "      <th>is_month_end</th>\n",
              "      <th>day</th>\n",
              "      <th>is_weekend</th>\n",
              "      <th>day_of_the_year</th>\n",
              "      <th>quarter</th>\n",
              "      <th>is_quarter_start</th>\n",
              "      <th>is_quarter_end</th>\n",
              "    </tr>\n",
              "  </thead>\n",
              "  <tbody>\n",
              "    <tr>\n",
              "      <th>0</th>\n",
              "      <td>-1.700</td>\n",
              "      <td>0</td>\n",
              "      <td>0</td>\n",
              "      <td>0</td>\n",
              "      <td>0</td>\n",
              "      <td>0</td>\n",
              "      <td>1</td>\n",
              "      <td>-0.310</td>\n",
              "      <td>0.000</td>\n",
              "      <td>NaN</td>\n",
              "      <td>...</td>\n",
              "      <td>-1.057</td>\n",
              "      <td>-1.446</td>\n",
              "      <td>5.409</td>\n",
              "      <td>-0.182</td>\n",
              "      <td>-1.663</td>\n",
              "      <td>-1.550</td>\n",
              "      <td>-1.572</td>\n",
              "      <td>-1.191</td>\n",
              "      <td>9.475</td>\n",
              "      <td>-0.100</td>\n",
              "    </tr>\n",
              "    <tr>\n",
              "      <th>1</th>\n",
              "      <td>-1.700</td>\n",
              "      <td>0</td>\n",
              "      <td>0</td>\n",
              "      <td>0</td>\n",
              "      <td>0</td>\n",
              "      <td>1</td>\n",
              "      <td>0</td>\n",
              "      <td>-0.310</td>\n",
              "      <td>0.000</td>\n",
              "      <td>NaN</td>\n",
              "      <td>...</td>\n",
              "      <td>-1.057</td>\n",
              "      <td>-1.446</td>\n",
              "      <td>5.409</td>\n",
              "      <td>-0.182</td>\n",
              "      <td>-1.663</td>\n",
              "      <td>-1.550</td>\n",
              "      <td>-1.572</td>\n",
              "      <td>-1.191</td>\n",
              "      <td>9.475</td>\n",
              "      <td>-0.100</td>\n",
              "    </tr>\n",
              "  </tbody>\n",
              "</table>\n",
              "<p>2 rows × 42 columns</p>\n",
              "</div>\n",
              "      <button class=\"colab-df-convert\" onclick=\"convertToInteractive('df-c4227923-50c1-43be-af8d-39dbe757bfd2')\"\n",
              "              title=\"Convert this dataframe to an interactive table.\"\n",
              "              style=\"display:none;\">\n",
              "        \n",
              "  <svg xmlns=\"http://www.w3.org/2000/svg\" height=\"24px\"viewBox=\"0 0 24 24\"\n",
              "       width=\"24px\">\n",
              "    <path d=\"M0 0h24v24H0V0z\" fill=\"none\"/>\n",
              "    <path d=\"M18.56 5.44l.94 2.06.94-2.06 2.06-.94-2.06-.94-.94-2.06-.94 2.06-2.06.94zm-11 1L8.5 8.5l.94-2.06 2.06-.94-2.06-.94L8.5 2.5l-.94 2.06-2.06.94zm10 10l.94 2.06.94-2.06 2.06-.94-2.06-.94-.94-2.06-.94 2.06-2.06.94z\"/><path d=\"M17.41 7.96l-1.37-1.37c-.4-.4-.92-.59-1.43-.59-.52 0-1.04.2-1.43.59L10.3 9.45l-7.72 7.72c-.78.78-.78 2.05 0 2.83L4 21.41c.39.39.9.59 1.41.59.51 0 1.02-.2 1.41-.59l7.78-7.78 2.81-2.81c.8-.78.8-2.07 0-2.86zM5.41 20L4 18.59l7.72-7.72 1.47 1.35L5.41 20z\"/>\n",
              "  </svg>\n",
              "      </button>\n",
              "      \n",
              "  <style>\n",
              "    .colab-df-container {\n",
              "      display:flex;\n",
              "      flex-wrap:wrap;\n",
              "      gap: 12px;\n",
              "    }\n",
              "\n",
              "    .colab-df-convert {\n",
              "      background-color: #E8F0FE;\n",
              "      border: none;\n",
              "      border-radius: 50%;\n",
              "      cursor: pointer;\n",
              "      display: none;\n",
              "      fill: #1967D2;\n",
              "      height: 32px;\n",
              "      padding: 0 0 0 0;\n",
              "      width: 32px;\n",
              "    }\n",
              "\n",
              "    .colab-df-convert:hover {\n",
              "      background-color: #E2EBFA;\n",
              "      box-shadow: 0px 1px 2px rgba(60, 64, 67, 0.3), 0px 1px 3px 1px rgba(60, 64, 67, 0.15);\n",
              "      fill: #174EA6;\n",
              "    }\n",
              "\n",
              "    [theme=dark] .colab-df-convert {\n",
              "      background-color: #3B4455;\n",
              "      fill: #D2E3FC;\n",
              "    }\n",
              "\n",
              "    [theme=dark] .colab-df-convert:hover {\n",
              "      background-color: #434B5C;\n",
              "      box-shadow: 0px 1px 3px 1px rgba(0, 0, 0, 0.15);\n",
              "      filter: drop-shadow(0px 1px 2px rgba(0, 0, 0, 0.3));\n",
              "      fill: #FFFFFF;\n",
              "    }\n",
              "  </style>\n",
              "\n",
              "      <script>\n",
              "        const buttonEl =\n",
              "          document.querySelector('#df-c4227923-50c1-43be-af8d-39dbe757bfd2 button.colab-df-convert');\n",
              "        buttonEl.style.display =\n",
              "          google.colab.kernel.accessAllowed ? 'block' : 'none';\n",
              "\n",
              "        async function convertToInteractive(key) {\n",
              "          const element = document.querySelector('#df-c4227923-50c1-43be-af8d-39dbe757bfd2');\n",
              "          const dataTable =\n",
              "            await google.colab.kernel.invokeFunction('convertToInteractive',\n",
              "                                                     [key], {});\n",
              "          if (!dataTable) return;\n",
              "\n",
              "          const docLinkHtml = 'Like what you see? Visit the ' +\n",
              "            '<a target=\"_blank\" href=https://colab.research.google.com/notebooks/data_table.ipynb>data table notebook</a>'\n",
              "            + ' to learn more about interactive tables.';\n",
              "          element.innerHTML = '';\n",
              "          dataTable['output_type'] = 'display_data';\n",
              "          await google.colab.output.renderOutput(dataTable, element);\n",
              "          const docLink = document.createElement('div');\n",
              "          docLink.innerHTML = docLinkHtml;\n",
              "          element.appendChild(docLink);\n",
              "        }\n",
              "      </script>\n",
              "    </div>\n",
              "  </div>\n",
              "  "
            ]
          },
          "metadata": {},
          "execution_count": 69
        }
      ],
      "source": [
        "merged_data.head(2)"
      ]
    },
    {
      "cell_type": "markdown",
      "metadata": {
        "id": "xsytlKYiyQDL"
      },
      "source": [
        "#### Imputation"
      ]
    },
    {
      "cell_type": "code",
      "execution_count": 70,
      "metadata": {
        "id": "DpnAYjZYQ7I6"
      },
      "outputs": [],
      "source": [
        "from sklearn.impute import SimpleImputer\n",
        "\n",
        "# create an instance of the SimpleImputer class\n",
        "imputer = SimpleImputer(strategy='mean')\n",
        "col = ['transactions','dcoilwtico']\n",
        "# impute the missing values in your data\n",
        "X_train[col] = imputer.fit_transform(X_train[col])\n",
        "X_test[col] = imputer.transform(X_test[col])"
      ]
    },
    {
      "cell_type": "markdown",
      "metadata": {
        "id": "H5ZJNCqKy7MV"
      },
      "source": [
        "### Modelling"
      ]
    },
    {
      "cell_type": "markdown",
      "metadata": {
        "id": "9rHheW6KyQDM"
      },
      "source": [
        "### Univariate Time Forecasting\n",
        "\n",
        "Approah:\n",
        "\n",
        "Use AR, ARIMA and SARIMA models"
      ]
    },
    {
      "cell_type": "markdown",
      "metadata": {
        "id": "Rkedt4HZyQDM"
      },
      "source": [
        "#### AR Model"
      ]
    },
    {
      "cell_type": "markdown",
      "metadata": {
        "id": "yT8rjSY3yQDN"
      },
      "source": [
        "##### Autocorrelation and Partial Autocorrelation\n"
      ]
    },
    {
      "cell_type": "code",
      "execution_count": 71,
      "metadata": {
        "colab": {
          "base_uri": "https://localhost:8080/",
          "height": 904
        },
        "id": "cAoK_quGyQDN",
        "outputId": "29972148-2d37-4538-d9fb-0800a3c4b66b"
      },
      "outputs": [
        {
          "output_type": "display_data",
          "data": {
            "text/plain": [
              "<Figure size 500x800 with 0 Axes>"
            ]
          },
          "metadata": {}
        },
        {
          "output_type": "display_data",
          "data": {
            "text/plain": [
              "<Figure size 640x480 with 1 Axes>"
            ],
            "image/png": "[encoded data removed]"
          },
          "metadata": {}
        },
        {
          "output_type": "display_data",
          "data": {
            "text/plain": [
              "<Figure size 640x480 with 1 Axes>"
            ],
            "image/png": "[encoded data removed]"
          },
          "metadata": {}
        }
      ],
      "source": [
        "plt.figure(figsize=(5,8))\n",
        "pacf = plot_pacf(combined['sales'],lags =10)\n",
        "acf = plot_acf(combined['sales'],lags =10)"
      ]
    },
    {
      "cell_type": "markdown",
      "metadata": {
        "id": "ENwOAnhgyQDN"
      },
      "source": [
        "##### Stationarity Test"
      ]
    },
    {
      "cell_type": "code",
      "execution_count": 72,
      "metadata": {
        "colab": {
          "base_uri": "https://localhost:8080/",
          "height": 468
        },
        "id": "VBYaNdMnyQDO",
        "outputId": "0f5e3024-3d03-4d23-c211-b4cafcad4521"
      },
      "outputs": [
        {
          "output_type": "display_data",
          "data": {
            "text/plain": [
              "<Figure size 1200x500 with 1 Axes>"
            ],
            "image/png": "[encoded data removed]"
          },
          "metadata": {}
        }
      ],
      "source": [
        "plt.figure(figsize=(12,5))\n",
        "rmean=combined['sales'].rolling(window=12).mean()\n",
        "rstd=combined['sales'].rolling(window=12).std()\n",
        "# print(rmean,rstd)\n",
        "orig=plt.plot(combined['sales'], color='black',label='Original')\n",
        "mean= plt.plot(rmean , color='red',label='Rolling Mean')\n",
        "std=plt.plot(rstd,color='blue',label = 'Rolling Standard Deviation')\n",
        "plt.legend(loc='best')\n",
        "plt.title(\"Rolling mean and standard deviation\")\n",
        "plt.show();"
      ]
    },
    {
      "cell_type": "markdown",
      "metadata": {
        "id": "6Pbc3cMkyQDO"
      },
      "source": [
        "###### Comment:\n",
        "From the graph above, the rolling mean and rolling standard deviation is constant, thus the dataset can be said to be stationary"
      ]
    },
    {
      "cell_type": "markdown",
      "metadata": {
        "id": "c6cIlnmqyQDO"
      },
      "source": [
        "#### Ar Model"
      ]
    },
    {
      "cell_type": "code",
      "execution_count": 73,
      "metadata": {
        "colab": {
          "base_uri": "https://localhost:8080/",
          "height": 485
        },
        "id": "90xnAgIkyQDP",
        "outputId": "b53aeca6-bd75-4612-f3a5-81e46701cf5a"
      },
      "outputs": [
        {
          "output_type": "execute_result",
          "data": {
            "text/plain": [
              "<class 'statsmodels.iolib.summary.Summary'>\n",
              "\"\"\"\n",
              "                            AutoReg Model Results                             \n",
              "==============================================================================\n",
              "Dep. Variable:                  sales   No. Observations:                  559\n",
              "Model:                     AutoReg(5)   Log Likelihood               -7295.190\n",
              "Method:               Conditional MLE   S.D. of innovations         126661.577\n",
              "Date:                Wed, 14 Jun 2023   AIC                          14604.380\n",
              "Time:                        10:45:39   BIC                          14634.600\n",
              "Sample:                             5   HQIC                         14616.185\n",
              "                                  559                                         \n",
              "==============================================================================\n",
              "                 coef    std err          z      P>|z|      [0.025      0.975]\n",
              "------------------------------------------------------------------------------\n",
              "const       1.519e+05   2.28e+04      6.671      0.000    1.07e+05    1.97e+05\n",
              "sales.L1       0.5385      0.042     12.721      0.000       0.456       0.622\n",
              "sales.L2      -0.0901      0.048     -1.873      0.061      -0.184       0.004\n",
              "sales.L3       0.1195      0.048      2.488      0.013       0.025       0.214\n",
              "sales.L4       0.0024      0.048      0.049      0.961      -0.092       0.097\n",
              "sales.L5       0.0835      0.043      1.964      0.050       0.000       0.167\n",
              "                                    Roots                                    \n",
              "=============================================================================\n",
              "                  Real          Imaginary           Modulus         Frequency\n",
              "-----------------------------------------------------------------------------\n",
              "AR.1            1.2361           -0.0000j            1.2361           -0.0000\n",
              "AR.2            0.6418           -1.5399j            1.6683           -0.1871\n",
              "AR.3            0.6418           +1.5399j            1.6683            0.1871\n",
              "AR.4           -1.2741           -1.3635j            1.8662           -0.3696\n",
              "AR.5           -1.2741           +1.3635j            1.8662            0.3696\n",
              "-----------------------------------------------------------------------------\n",
              "\"\"\""
            ],
            "text/html": [
              "<table class=\"simpletable\">\n",
              "<caption>AutoReg Model Results</caption>\n",
              "<tr>\n",
              "  <th>Dep. Variable:</th>       <td>sales</td>      <th>  No. Observations:  </th>     <td>559</td>   \n",
              "</tr>\n",
              "<tr>\n",
              "  <th>Model:</th>            <td>AutoReg(5)</td>    <th>  Log Likelihood     </th>  <td>-7295.190</td>\n",
              "</tr>\n",
              "<tr>\n",
              "  <th>Method:</th>         <td>Conditional MLE</td> <th>  S.D. of innovations</th> <td>126661.577</td>\n",
              "</tr>\n",
              "<tr>\n",
              "  <th>Date:</th>          <td>Wed, 14 Jun 2023</td> <th>  AIC                </th>  <td>14604.380</td>\n",
              "</tr>\n",
              "<tr>\n",
              "  <th>Time:</th>              <td>10:45:39</td>     <th>  BIC                </th>  <td>14634.600</td>\n",
              "</tr>\n",
              "<tr>\n",
              "  <th>Sample:</th>                <td>5</td>        <th>  HQIC               </th>  <td>14616.185</td>\n",
              "</tr>\n",
              "<tr>\n",
              "  <th></th>                      <td>559</td>       <th>                     </th>      <td> </td>    \n",
              "</tr>\n",
              "</table>\n",
              "<table class=\"simpletable\">\n",
              "<tr>\n",
              "      <td></td>        <th>coef</th>     <th>std err</th>      <th>z</th>      <th>P>|z|</th>  <th>[0.025</th>    <th>0.975]</th>  \n",
              "</tr>\n",
              "<tr>\n",
              "  <th>const</th>    <td> 1.519e+05</td> <td> 2.28e+04</td> <td>    6.671</td> <td> 0.000</td> <td> 1.07e+05</td> <td> 1.97e+05</td>\n",
              "</tr>\n",
              "<tr>\n",
              "  <th>sales.L1</th> <td>    0.5385</td> <td>    0.042</td> <td>   12.721</td> <td> 0.000</td> <td>    0.456</td> <td>    0.622</td>\n",
              "</tr>\n",
              "<tr>\n",
              "  <th>sales.L2</th> <td>   -0.0901</td> <td>    0.048</td> <td>   -1.873</td> <td> 0.061</td> <td>   -0.184</td> <td>    0.004</td>\n",
              "</tr>\n",
              "<tr>\n",
              "  <th>sales.L3</th> <td>    0.1195</td> <td>    0.048</td> <td>    2.488</td> <td> 0.013</td> <td>    0.025</td> <td>    0.214</td>\n",
              "</tr>\n",
              "<tr>\n",
              "  <th>sales.L4</th> <td>    0.0024</td> <td>    0.048</td> <td>    0.049</td> <td> 0.961</td> <td>   -0.092</td> <td>    0.097</td>\n",
              "</tr>\n",
              "<tr>\n",
              "  <th>sales.L5</th> <td>    0.0835</td> <td>    0.043</td> <td>    1.964</td> <td> 0.050</td> <td>    0.000</td> <td>    0.167</td>\n",
              "</tr>\n",
              "</table>\n",
              "<table class=\"simpletable\">\n",
              "<caption>Roots</caption>\n",
              "<tr>\n",
              "    <td></td>   <th>            Real</th>  <th>         Imaginary</th> <th>         Modulus</th>  <th>        Frequency</th>\n",
              "</tr>\n",
              "<tr>\n",
              "  <th>AR.1</th> <td>           1.2361</td> <td>          -0.0000j</td> <td>           1.2361</td> <td>          -0.0000</td>\n",
              "</tr>\n",
              "<tr>\n",
              "  <th>AR.2</th> <td>           0.6418</td> <td>          -1.5399j</td> <td>           1.6683</td> <td>          -0.1871</td>\n",
              "</tr>\n",
              "<tr>\n",
              "  <th>AR.3</th> <td>           0.6418</td> <td>          +1.5399j</td> <td>           1.6683</td> <td>           0.1871</td>\n",
              "</tr>\n",
              "<tr>\n",
              "  <th>AR.4</th> <td>          -1.2741</td> <td>          -1.3635j</td> <td>           1.8662</td> <td>          -0.3696</td>\n",
              "</tr>\n",
              "<tr>\n",
              "  <th>AR.5</th> <td>          -1.2741</td> <td>          +1.3635j</td> <td>           1.8662</td> <td>           0.3696</td>\n",
              "</tr>\n",
              "</table>"
            ]
          },
          "metadata": {},
          "execution_count": 73
        }
      ],
      "source": [
        "model1 =AutoReg(train_data, lags=5).fit()\n",
        "model1.summary()"
      ]
    },
    {
      "cell_type": "markdown",
      "metadata": {
        "id": "dZF3gmSHyQDP"
      },
      "source": [
        "##### Predictions"
      ]
    },
    {
      "cell_type": "code",
      "execution_count": 74,
      "metadata": {
        "id": "nSrBJEWnyQDQ"
      },
      "outputs": [],
      "source": [
        "Ar_pred = model1.predict(start =len(train_data),\n",
        "                       end = len(train_data) +len(test_data)-1,\n",
        "                       dynamic =False)"
      ]
    },
    {
      "cell_type": "code",
      "execution_count": 75,
      "metadata": {
        "colab": {
          "base_uri": "https://localhost:8080/",
          "height": 314
        },
        "id": "dWbVD7zUyQDR",
        "outputId": "83a27f9f-bd50-462d-cecd-6b9d9e6a70a4"
      },
      "outputs": [
        {
          "output_type": "display_data",
          "data": {
            "text/plain": [
              "<Figure size 500x300 with 1 Axes>"
            ],
            "image/png": "[encoded data removed]"
          },
          "metadata": {}
        }
      ],
      "source": [
        "plt.figure(figsize=(5,3))\n",
        "plt.plot(train_data['sales'], label ='Train')\n",
        "plt.plot(test_data['sales'], label ='Test')\n",
        "plt.plot(Ar_pred, label ='Ar Forecast')\n",
        "plt.legend(loc='best')\n",
        "plt.title('AutoRegression Model Forecast')\n",
        "plt.show;"
      ]
    },
    {
      "cell_type": "markdown",
      "metadata": {
        "id": "P_SmyZBJyQDS"
      },
      "source": [
        "##### Evaluation"
      ]
    },
    {
      "cell_type": "code",
      "execution_count": 76,
      "metadata": {
        "id": "bTnA2fgEyQDT"
      },
      "outputs": [],
      "source": [
        "mse = mean_squared_error(test_data,Ar_pred)\n",
        "msle = mean_squared_log_error(test_data, Ar_pred)\n",
        "rmse =np.sqrt(mse).round(2)\n",
        "rmsle =np.sqrt(msle).round(2)"
      ]
    },
    {
      "cell_type": "code",
      "execution_count": 77,
      "metadata": {
        "colab": {
          "base_uri": "https://localhost:8080/",
          "height": 81
        },
        "id": "TWou97nhyQDT",
        "outputId": "63ff702e-813b-46e5-9847-c9e7efdb8140"
      },
      "outputs": [
        {
          "output_type": "execute_result",
          "data": {
            "text/plain": [
              "  Model                mse  msle        rmse  rmsle\n",
              "0    AR 62,117,015,608.195 0.186 249,232.850  0.430"
            ],
            "text/html": [
              "\n",
              "  <div id=\"df-0c904f04-4210-4513-880a-5fcd41ae39ac\">\n",
              "    <div class=\"colab-df-container\">\n",
              "      <div>\n",
              "<style scoped>\n",
              "    .dataframe tbody tr th:only-of-type {\n",
              "        vertical-align: middle;\n",
              "    }\n",
              "\n",
              "    .dataframe tbody tr th {\n",
              "        vertical-align: top;\n",
              "    }\n",
              "\n",
              "    .dataframe thead th {\n",
              "        text-align: right;\n",
              "    }\n",
              "</style>\n",
              "<table border=\"1\" class=\"dataframe\">\n",
              "  <thead>\n",
              "    <tr style=\"text-align: right;\">\n",
              "      <th></th>\n",
              "      <th>Model</th>\n",
              "      <th>mse</th>\n",
              "      <th>msle</th>\n",
              "      <th>rmse</th>\n",
              "      <th>rmsle</th>\n",
              "    </tr>\n",
              "  </thead>\n",
              "  <tbody>\n",
              "    <tr>\n",
              "      <th>0</th>\n",
              "      <td>AR</td>\n",
              "      <td>62,117,015,608.195</td>\n",
              "      <td>0.186</td>\n",
              "      <td>249,232.850</td>\n",
              "      <td>0.430</td>\n",
              "    </tr>\n",
              "  </tbody>\n",
              "</table>\n",
              "</div>\n",
              "      <button class=\"colab-df-convert\" onclick=\"convertToInteractive('df-0c904f04-4210-4513-880a-5fcd41ae39ac')\"\n",
              "              title=\"Convert this dataframe to an interactive table.\"\n",
              "              style=\"display:none;\">\n",
              "        \n",
              "  <svg xmlns=\"http://www.w3.org/2000/svg\" height=\"24px\"viewBox=\"0 0 24 24\"\n",
              "       width=\"24px\">\n",
              "    <path d=\"M0 0h24v24H0V0z\" fill=\"none\"/>\n",
              "    <path d=\"M18.56 5.44l.94 2.06.94-2.06 2.06-.94-2.06-.94-.94-2.06-.94 2.06-2.06.94zm-11 1L8.5 8.5l.94-2.06 2.06-.94-2.06-.94L8.5 2.5l-.94 2.06-2.06.94zm10 10l.94 2.06.94-2.06 2.06-.94-2.06-.94-.94-2.06-.94 2.06-2.06.94z\"/><path d=\"M17.41 7.96l-1.37-1.37c-.4-.4-.92-.59-1.43-.59-.52 0-1.04.2-1.43.59L10.3 9.45l-7.72 7.72c-.78.78-.78 2.05 0 2.83L4 21.41c.39.39.9.59 1.41.59.51 0 1.02-.2 1.41-.59l7.78-7.78 2.81-2.81c.8-.78.8-2.07 0-2.86zM5.41 20L4 18.59l7.72-7.72 1.47 1.35L5.41 20z\"/>\n",
              "  </svg>\n",
              "      </button>\n",
              "      \n",
              "  <style>\n",
              "    .colab-df-container {\n",
              "      display:flex;\n",
              "      flex-wrap:wrap;\n",
              "      gap: 12px;\n",
              "    }\n",
              "\n",
              "    .colab-df-convert {\n",
              "      background-color: #E8F0FE;\n",
              "      border: none;\n",
              "      border-radius: 50%;\n",
              "      cursor: pointer;\n",
              "      display: none;\n",
              "      fill: #1967D2;\n",
              "      height: 32px;\n",
              "      padding: 0 0 0 0;\n",
              "      width: 32px;\n",
              "    }\n",
              "\n",
              "    .colab-df-convert:hover {\n",
              "      background-color: #E2EBFA;\n",
              "      box-shadow: 0px 1px 2px rgba(60, 64, 67, 0.3), 0px 1px 3px 1px rgba(60, 64, 67, 0.15);\n",
              "      fill: #174EA6;\n",
              "    }\n",
              "\n",
              "    [theme=dark] .colab-df-convert {\n",
              "      background-color: #3B4455;\n",
              "      fill: #D2E3FC;\n",
              "    }\n",
              "\n",
              "    [theme=dark] .colab-df-convert:hover {\n",
              "      background-color: #434B5C;\n",
              "      box-shadow: 0px 1px 3px 1px rgba(0, 0, 0, 0.15);\n",
              "      filter: drop-shadow(0px 1px 2px rgba(0, 0, 0, 0.3));\n",
              "      fill: #FFFFFF;\n",
              "    }\n",
              "  </style>\n",
              "\n",
              "      <script>\n",
              "        const buttonEl =\n",
              "          document.querySelector('#df-0c904f04-4210-4513-880a-5fcd41ae39ac button.colab-df-convert');\n",
              "        buttonEl.style.display =\n",
              "          google.colab.kernel.accessAllowed ? 'block' : 'none';\n",
              "\n",
              "        async function convertToInteractive(key) {\n",
              "          const element = document.querySelector('#df-0c904f04-4210-4513-880a-5fcd41ae39ac');\n",
              "          const dataTable =\n",
              "            await google.colab.kernel.invokeFunction('convertToInteractive',\n",
              "                                                     [key], {});\n",
              "          if (!dataTable) return;\n",
              "\n",
              "          const docLinkHtml = 'Like what you see? Visit the ' +\n",
              "            '<a target=\"_blank\" href=https://colab.research.google.com/notebooks/data_table.ipynb>data table notebook</a>'\n",
              "            + ' to learn more about interactive tables.';\n",
              "          element.innerHTML = '';\n",
              "          dataTable['output_type'] = 'display_data';\n",
              "          await google.colab.output.renderOutput(dataTable, element);\n",
              "          const docLink = document.createElement('div');\n",
              "          docLink.innerHTML = docLinkHtml;\n",
              "          element.appendChild(docLink);\n",
              "        }\n",
              "      </script>\n",
              "    </div>\n",
              "  </div>\n",
              "  "
            ]
          },
          "metadata": {},
          "execution_count": 77
        }
      ],
      "source": [
        "results =pd.DataFrame([['AR',mse, msle,rmse,rmsle]], columns =['Model','mse','msle','rmse','rmsle'])\n",
        "\n",
        "results"
      ]
    },
    {
      "cell_type": "markdown",
      "metadata": {
        "id": "F9-McnGfyQDU"
      },
      "source": [
        "#### ARIMA"
      ]
    },
    {
      "cell_type": "code",
      "execution_count": 78,
      "metadata": {
        "colab": {
          "base_uri": "https://localhost:8080/",
          "height": 1000
        },
        "id": "z1ws6jWvyQDU",
        "outputId": "0eae77bf-d9f1-4834-b620-02fac33a12fe"
      },
      "outputs": [
        {
          "output_type": "stream",
          "name": "stdout",
          "text": [
            "Performing stepwise search to minimize aic\n",
            " ARIMA(2,1,2)(0,0,0)[0] intercept   : AIC=14654.781, Time=0.99 sec\n",
            " ARIMA(0,1,0)(0,0,0)[0] intercept   : AIC=14858.175, Time=0.04 sec\n",
            " ARIMA(1,1,0)(0,0,0)[0] intercept   : AIC=14831.422, Time=0.08 sec\n",
            " ARIMA(0,1,1)(0,0,0)[0] intercept   : AIC=14731.267, Time=0.12 sec\n",
            " ARIMA(0,1,0)(0,0,0)[0]             : AIC=14856.177, Time=0.03 sec\n",
            " ARIMA(1,1,2)(0,0,0)[0] intercept   : AIC=14665.376, Time=0.29 sec\n",
            " ARIMA(2,1,1)(0,0,0)[0] intercept   : AIC=14670.115, Time=0.28 sec\n",
            " ARIMA(3,1,2)(0,0,0)[0] intercept   : AIC=14661.616, Time=0.77 sec\n",
            " ARIMA(2,1,3)(0,0,0)[0] intercept   : AIC=14559.768, Time=1.35 sec\n",
            " ARIMA(1,1,3)(0,0,0)[0] intercept   : AIC=14660.325, Time=0.91 sec\n",
            " ARIMA(3,1,3)(0,0,0)[0] intercept   : AIC=14559.727, Time=1.66 sec\n",
            " ARIMA(4,1,3)(0,0,0)[0] intercept   : AIC=14543.541, Time=1.89 sec\n",
            " ARIMA(4,1,2)(0,0,0)[0] intercept   : AIC=14576.239, Time=1.91 sec\n",
            " ARIMA(5,1,3)(0,0,0)[0] intercept   : AIC=14525.685, Time=4.29 sec\n",
            " ARIMA(5,1,2)(0,0,0)[0] intercept   : AIC=14529.811, Time=1.22 sec\n",
            " ARIMA(5,1,4)(0,0,0)[0] intercept   : AIC=14524.705, Time=2.54 sec\n",
            " ARIMA(4,1,4)(0,0,0)[0] intercept   : AIC=14558.354, Time=0.97 sec\n",
            " ARIMA(5,1,5)(0,0,0)[0] intercept   : AIC=14474.483, Time=3.27 sec\n",
            " ARIMA(4,1,5)(0,0,0)[0] intercept   : AIC=14495.804, Time=4.37 sec\n",
            " ARIMA(5,1,5)(0,0,0)[0]             : AIC=14472.768, Time=3.24 sec\n",
            " ARIMA(4,1,5)(0,0,0)[0]             : AIC=14494.314, Time=2.51 sec\n",
            " ARIMA(5,1,4)(0,0,0)[0]             : AIC=14522.891, Time=2.21 sec\n",
            " ARIMA(4,1,4)(0,0,0)[0]             : AIC=14556.008, Time=0.92 sec\n",
            "\n",
            "Best model:  ARIMA(5,1,5)(0,0,0)[0]          \n",
            "Total fit time: 35.939 seconds\n"
          ]
        },
        {
          "output_type": "execute_result",
          "data": {
            "text/plain": [
              "<class 'statsmodels.iolib.summary.Summary'>\n",
              "\"\"\"\n",
              "                               SARIMAX Results                                \n",
              "==============================================================================\n",
              "Dep. Variable:                      y   No. Observations:                  559\n",
              "Model:               SARIMAX(5, 1, 5)   Log Likelihood               -7225.384\n",
              "Date:                Wed, 14 Jun 2023   AIC                          14472.768\n",
              "Time:                        10:46:16   BIC                          14520.336\n",
              "Sample:                             0   HQIC                         14491.345\n",
              "                                - 559                                         \n",
              "Covariance Type:                  opg                                         \n",
              "==============================================================================\n",
              "                 coef    std err          z      P>|z|      [0.025      0.975]\n",
              "------------------------------------------------------------------------------\n",
              "ar.L1          0.8601      0.069     12.421      0.000       0.724       0.996\n",
              "ar.L2         -1.4712      0.063    -23.530      0.000      -1.594      -1.349\n",
              "ar.L3          0.8641      0.099      8.731      0.000       0.670       1.058\n",
              "ar.L4         -1.0224      0.056    -18.310      0.000      -1.132      -0.913\n",
              "ar.L5          0.0666      0.060      1.109      0.267      -0.051       0.184\n",
              "ma.L1         -1.5090      0.062    -24.298      0.000      -1.631      -1.387\n",
              "ma.L2          1.8658      0.092     20.332      0.000       1.686       2.046\n",
              "ma.L3         -1.6715      0.113    -14.838      0.000      -1.892      -1.451\n",
              "ma.L4          1.3724      0.082     16.796      0.000       1.212       1.533\n",
              "ma.L5         -0.6776      0.049    -13.825      0.000      -0.774      -0.582\n",
              "sigma2      1.298e+10   6.88e-12   1.89e+21      0.000     1.3e+10     1.3e+10\n",
              "===================================================================================\n",
              "Ljung-Box (L1) (Q):                   0.03   Jarque-Bera (JB):             26830.96\n",
              "Prob(Q):                              0.86   Prob(JB):                         0.00\n",
              "Heteroskedasticity (H):               2.72   Skew:                             3.76\n",
              "Prob(H) (two-sided):                  0.00   Kurtosis:                        36.13\n",
              "===================================================================================\n",
              "\n",
              "Warnings:\n",
              "[1] Covariance matrix calculated using the outer product of gradients (complex-step).\n",
              "[2] Covariance matrix is singular or near-singular, with condition number 2.5e+36. Standard errors may be unstable.\n",
              "\"\"\""
            ],
            "text/html": [
              "<table class=\"simpletable\">\n",
              "<caption>SARIMAX Results</caption>\n",
              "<tr>\n",
              "  <th>Dep. Variable:</th>           <td>y</td>        <th>  No. Observations:  </th>    <td>559</td>   \n",
              "</tr>\n",
              "<tr>\n",
              "  <th>Model:</th>           <td>SARIMAX(5, 1, 5)</td> <th>  Log Likelihood     </th> <td>-7225.384</td>\n",
              "</tr>\n",
              "<tr>\n",
              "  <th>Date:</th>            <td>Wed, 14 Jun 2023</td> <th>  AIC                </th> <td>14472.768</td>\n",
              "</tr>\n",
              "<tr>\n",
              "  <th>Time:</th>                <td>10:46:16</td>     <th>  BIC                </th> <td>14520.336</td>\n",
              "</tr>\n",
              "<tr>\n",
              "  <th>Sample:</th>                  <td>0</td>        <th>  HQIC               </th> <td>14491.345</td>\n",
              "</tr>\n",
              "<tr>\n",
              "  <th></th>                      <td> - 559</td>      <th>                     </th>     <td> </td>    \n",
              "</tr>\n",
              "<tr>\n",
              "  <th>Covariance Type:</th>        <td>opg</td>       <th>                     </th>     <td> </td>    \n",
              "</tr>\n",
              "</table>\n",
              "<table class=\"simpletable\">\n",
              "<tr>\n",
              "     <td></td>       <th>coef</th>     <th>std err</th>      <th>z</th>      <th>P>|z|</th>  <th>[0.025</th>    <th>0.975]</th>  \n",
              "</tr>\n",
              "<tr>\n",
              "  <th>ar.L1</th>  <td>    0.8601</td> <td>    0.069</td> <td>   12.421</td> <td> 0.000</td> <td>    0.724</td> <td>    0.996</td>\n",
              "</tr>\n",
              "<tr>\n",
              "  <th>ar.L2</th>  <td>   -1.4712</td> <td>    0.063</td> <td>  -23.530</td> <td> 0.000</td> <td>   -1.594</td> <td>   -1.349</td>\n",
              "</tr>\n",
              "<tr>\n",
              "  <th>ar.L3</th>  <td>    0.8641</td> <td>    0.099</td> <td>    8.731</td> <td> 0.000</td> <td>    0.670</td> <td>    1.058</td>\n",
              "</tr>\n",
              "<tr>\n",
              "  <th>ar.L4</th>  <td>   -1.0224</td> <td>    0.056</td> <td>  -18.310</td> <td> 0.000</td> <td>   -1.132</td> <td>   -0.913</td>\n",
              "</tr>\n",
              "<tr>\n",
              "  <th>ar.L5</th>  <td>    0.0666</td> <td>    0.060</td> <td>    1.109</td> <td> 0.267</td> <td>   -0.051</td> <td>    0.184</td>\n",
              "</tr>\n",
              "<tr>\n",
              "  <th>ma.L1</th>  <td>   -1.5090</td> <td>    0.062</td> <td>  -24.298</td> <td> 0.000</td> <td>   -1.631</td> <td>   -1.387</td>\n",
              "</tr>\n",
              "<tr>\n",
              "  <th>ma.L2</th>  <td>    1.8658</td> <td>    0.092</td> <td>   20.332</td> <td> 0.000</td> <td>    1.686</td> <td>    2.046</td>\n",
              "</tr>\n",
              "<tr>\n",
              "  <th>ma.L3</th>  <td>   -1.6715</td> <td>    0.113</td> <td>  -14.838</td> <td> 0.000</td> <td>   -1.892</td> <td>   -1.451</td>\n",
              "</tr>\n",
              "<tr>\n",
              "  <th>ma.L4</th>  <td>    1.3724</td> <td>    0.082</td> <td>   16.796</td> <td> 0.000</td> <td>    1.212</td> <td>    1.533</td>\n",
              "</tr>\n",
              "<tr>\n",
              "  <th>ma.L5</th>  <td>   -0.6776</td> <td>    0.049</td> <td>  -13.825</td> <td> 0.000</td> <td>   -0.774</td> <td>   -0.582</td>\n",
              "</tr>\n",
              "<tr>\n",
              "  <th>sigma2</th> <td> 1.298e+10</td> <td> 6.88e-12</td> <td> 1.89e+21</td> <td> 0.000</td> <td>  1.3e+10</td> <td>  1.3e+10</td>\n",
              "</tr>\n",
              "</table>\n",
              "<table class=\"simpletable\">\n",
              "<tr>\n",
              "  <th>Ljung-Box (L1) (Q):</th>     <td>0.03</td> <th>  Jarque-Bera (JB):  </th> <td>26830.96</td>\n",
              "</tr>\n",
              "<tr>\n",
              "  <th>Prob(Q):</th>                <td>0.86</td> <th>  Prob(JB):          </th>   <td>0.00</td>  \n",
              "</tr>\n",
              "<tr>\n",
              "  <th>Heteroskedasticity (H):</th> <td>2.72</td> <th>  Skew:              </th>   <td>3.76</td>  \n",
              "</tr>\n",
              "<tr>\n",
              "  <th>Prob(H) (two-sided):</th>    <td>0.00</td> <th>  Kurtosis:          </th>   <td>36.13</td> \n",
              "</tr>\n",
              "</table><br/><br/>Warnings:<br/>[1] Covariance matrix calculated using the outer product of gradients (complex-step).<br/>[2] Covariance matrix is singular or near-singular, with condition number 2.5e+36. Standard errors may be unstable."
            ]
          },
          "metadata": {},
          "execution_count": 78
        }
      ],
      "source": [
        "stepwise_fit = auto_arima(train_data['sales'], trace =True,suppress_warning =True)\n",
        "stepwise_fit.summary()"
      ]
    },
    {
      "cell_type": "code",
      "execution_count": 79,
      "metadata": {
        "colab": {
          "base_uri": "https://localhost:8080/",
          "height": 554
        },
        "id": "lxGjm4pfyQDV",
        "outputId": "e5271e1f-73f8-4af5-be52-5f8da738f7cd"
      },
      "outputs": [
        {
          "output_type": "execute_result",
          "data": {
            "text/plain": [
              "<class 'statsmodels.iolib.summary.Summary'>\n",
              "\"\"\"\n",
              "                               SARIMAX Results                                \n",
              "==============================================================================\n",
              "Dep. Variable:                  sales   No. Observations:                  559\n",
              "Model:                 ARIMA(4, 1, 3)   Log Likelihood               -7261.979\n",
              "Date:                Wed, 14 Jun 2023   AIC                          14539.959\n",
              "Time:                        10:46:17   BIC                          14574.553\n",
              "Sample:                             0   HQIC                         14553.469\n",
              "                                - 559                                         \n",
              "Covariance Type:                  opg                                         \n",
              "==============================================================================\n",
              "                 coef    std err          z      P>|z|      [0.025      0.975]\n",
              "------------------------------------------------------------------------------\n",
              "ar.L1          1.2133      0.050     24.257      0.000       1.115       1.311\n",
              "ar.L2         -1.1744      0.068    -17.377      0.000      -1.307      -1.042\n",
              "ar.L3          0.2393      0.063      3.827      0.000       0.117       0.362\n",
              "ar.L4         -0.2090      0.039     -5.393      0.000      -0.285      -0.133\n",
              "ma.L1         -1.9243      0.041    -46.766      0.000      -2.005      -1.844\n",
              "ma.L2          1.8184      0.057     32.019      0.000       1.707       1.930\n",
              "ma.L3         -0.7040      0.038    -18.542      0.000      -0.778      -0.630\n",
              "sigma2      1.255e+10   7.99e-12   1.57e+21      0.000    1.26e+10    1.26e+10\n",
              "===================================================================================\n",
              "Ljung-Box (L1) (Q):                   0.57   Jarque-Bera (JB):             17403.06\n",
              "Prob(Q):                              0.45   Prob(JB):                         0.00\n",
              "Heteroskedasticity (H):               2.60   Skew:                             3.26\n",
              "Prob(H) (two-sided):                  0.00   Kurtosis:                        29.57\n",
              "===================================================================================\n",
              "\n",
              "Warnings:\n",
              "[1] Covariance matrix calculated using the outer product of gradients (complex-step).\n",
              "[2] Covariance matrix is singular or near-singular, with condition number 3.18e+36. Standard errors may be unstable.\n",
              "\"\"\""
            ],
            "text/html": [
              "<table class=\"simpletable\">\n",
              "<caption>SARIMAX Results</caption>\n",
              "<tr>\n",
              "  <th>Dep. Variable:</th>         <td>sales</td>      <th>  No. Observations:  </th>    <td>559</td>   \n",
              "</tr>\n",
              "<tr>\n",
              "  <th>Model:</th>            <td>ARIMA(4, 1, 3)</td>  <th>  Log Likelihood     </th> <td>-7261.979</td>\n",
              "</tr>\n",
              "<tr>\n",
              "  <th>Date:</th>            <td>Wed, 14 Jun 2023</td> <th>  AIC                </th> <td>14539.959</td>\n",
              "</tr>\n",
              "<tr>\n",
              "  <th>Time:</th>                <td>10:46:17</td>     <th>  BIC                </th> <td>14574.553</td>\n",
              "</tr>\n",
              "<tr>\n",
              "  <th>Sample:</th>                  <td>0</td>        <th>  HQIC               </th> <td>14553.469</td>\n",
              "</tr>\n",
              "<tr>\n",
              "  <th></th>                      <td> - 559</td>      <th>                     </th>     <td> </td>    \n",
              "</tr>\n",
              "<tr>\n",
              "  <th>Covariance Type:</th>        <td>opg</td>       <th>                     </th>     <td> </td>    \n",
              "</tr>\n",
              "</table>\n",
              "<table class=\"simpletable\">\n",
              "<tr>\n",
              "     <td></td>       <th>coef</th>     <th>std err</th>      <th>z</th>      <th>P>|z|</th>  <th>[0.025</th>    <th>0.975]</th>  \n",
              "</tr>\n",
              "<tr>\n",
              "  <th>ar.L1</th>  <td>    1.2133</td> <td>    0.050</td> <td>   24.257</td> <td> 0.000</td> <td>    1.115</td> <td>    1.311</td>\n",
              "</tr>\n",
              "<tr>\n",
              "  <th>ar.L2</th>  <td>   -1.1744</td> <td>    0.068</td> <td>  -17.377</td> <td> 0.000</td> <td>   -1.307</td> <td>   -1.042</td>\n",
              "</tr>\n",
              "<tr>\n",
              "  <th>ar.L3</th>  <td>    0.2393</td> <td>    0.063</td> <td>    3.827</td> <td> 0.000</td> <td>    0.117</td> <td>    0.362</td>\n",
              "</tr>\n",
              "<tr>\n",
              "  <th>ar.L4</th>  <td>   -0.2090</td> <td>    0.039</td> <td>   -5.393</td> <td> 0.000</td> <td>   -0.285</td> <td>   -0.133</td>\n",
              "</tr>\n",
              "<tr>\n",
              "  <th>ma.L1</th>  <td>   -1.9243</td> <td>    0.041</td> <td>  -46.766</td> <td> 0.000</td> <td>   -2.005</td> <td>   -1.844</td>\n",
              "</tr>\n",
              "<tr>\n",
              "  <th>ma.L2</th>  <td>    1.8184</td> <td>    0.057</td> <td>   32.019</td> <td> 0.000</td> <td>    1.707</td> <td>    1.930</td>\n",
              "</tr>\n",
              "<tr>\n",
              "  <th>ma.L3</th>  <td>   -0.7040</td> <td>    0.038</td> <td>  -18.542</td> <td> 0.000</td> <td>   -0.778</td> <td>   -0.630</td>\n",
              "</tr>\n",
              "<tr>\n",
              "  <th>sigma2</th> <td> 1.255e+10</td> <td> 7.99e-12</td> <td> 1.57e+21</td> <td> 0.000</td> <td> 1.26e+10</td> <td> 1.26e+10</td>\n",
              "</tr>\n",
              "</table>\n",
              "<table class=\"simpletable\">\n",
              "<tr>\n",
              "  <th>Ljung-Box (L1) (Q):</th>     <td>0.57</td> <th>  Jarque-Bera (JB):  </th> <td>17403.06</td>\n",
              "</tr>\n",
              "<tr>\n",
              "  <th>Prob(Q):</th>                <td>0.45</td> <th>  Prob(JB):          </th>   <td>0.00</td>  \n",
              "</tr>\n",
              "<tr>\n",
              "  <th>Heteroskedasticity (H):</th> <td>2.60</td> <th>  Skew:              </th>   <td>3.26</td>  \n",
              "</tr>\n",
              "<tr>\n",
              "  <th>Prob(H) (two-sided):</th>    <td>0.00</td> <th>  Kurtosis:          </th>   <td>29.57</td> \n",
              "</tr>\n",
              "</table><br/><br/>Warnings:<br/>[1] Covariance matrix calculated using the outer product of gradients (complex-step).<br/>[2] Covariance matrix is singular or near-singular, with condition number 3.18e+36. Standard errors may be unstable."
            ]
          },
          "metadata": {},
          "execution_count": 79
        }
      ],
      "source": [
        "model2 = ARIMA(train_data, order=(4,1,3))\n",
        "model_fit = model2.fit()\n",
        "model_fit.summary()"
      ]
    },
    {
      "cell_type": "markdown",
      "metadata": {
        "id": "j5OAXW-cyQDV"
      },
      "source": [
        "##### Prediction"
      ]
    },
    {
      "cell_type": "code",
      "execution_count": 80,
      "metadata": {
        "colab": {
          "base_uri": "https://localhost:8080/"
        },
        "id": "mKYtpc8FyQDW",
        "outputId": "d8307554-eb37-4383-83b3-2c825f42f41f"
      },
      "outputs": [
        {
          "output_type": "stream",
          "name": "stdout",
          "text": [
            "559   607,639.966\n",
            "560   630,194.250\n",
            "561   651,454.079\n",
            "562   666,077.970\n",
            "563   654,891.230\n",
            "          ...    \n",
            "891   634,203.754\n",
            "892   628,277.564\n",
            "893   625,003.338\n",
            "894   626,826.608\n",
            "895   632,319.652\n",
            "Name: predicted_mean, Length: 337, dtype: float64\n"
          ]
        }
      ],
      "source": [
        "Arima_pred = model_fit.predict(start =len(train_data),\n",
        "                       end = len(train_data) +len(test_data)-1,\n",
        "                       typ ='levels')\n",
        "\n",
        "print(Arima_pred)"
      ]
    },
    {
      "cell_type": "code",
      "execution_count": 81,
      "metadata": {
        "colab": {
          "base_uri": "https://localhost:8080/",
          "height": 391
        },
        "id": "ODqK824EyQDZ",
        "outputId": "9b46c520-ba4d-4b25-b137-6151af77faa2"
      },
      "outputs": [
        {
          "output_type": "display_data",
          "data": {
            "text/plain": [
              "<Figure size 800x400 with 1 Axes>"
            ],
            "image/png": "[encoded data removed]"
          },
          "metadata": {}
        }
      ],
      "source": [
        "plt.figure(figsize=(8,4))\n",
        "plt.plot(train_data['sales'], label ='Train')\n",
        "plt.plot(test_data['sales'], label ='Test')\n",
        "plt.plot(Arima_pred, label ='Arima Forecast')\n",
        "plt.legend(loc='best')\n",
        "plt.title('ARIMA Model Forecast')\n",
        "plt.show();"
      ]
    },
    {
      "cell_type": "markdown",
      "metadata": {
        "id": "kXLVbS_zyQDa"
      },
      "source": [
        "###### Evaluation"
      ]
    },
    {
      "cell_type": "code",
      "execution_count": 82,
      "metadata": {
        "colab": {
          "base_uri": "https://localhost:8080/",
          "height": 112
        },
        "id": "w2INOv0UyQDa",
        "outputId": "fe7b9f58-e4c1-4d96-9537-4442d2ce53d1"
      },
      "outputs": [
        {
          "output_type": "execute_result",
          "data": {
            "text/plain": [
              "   Model                mse  msle        rmse  rmsle\n",
              "0     AR 62,117,015,608.195 0.186 249,232.850  0.430\n",
              "1  ARIMA 38,698,069,226.590 0.134 196,718.250  0.370"
            ],
            "text/html": [
              "\n",
              "  <div id=\"df-9d684cc3-a72b-48e4-9863-1873938f4efc\">\n",
              "    <div class=\"colab-df-container\">\n",
              "      <div>\n",
              "<style scoped>\n",
              "    .dataframe tbody tr th:only-of-type {\n",
              "        vertical-align: middle;\n",
              "    }\n",
              "\n",
              "    .dataframe tbody tr th {\n",
              "        vertical-align: top;\n",
              "    }\n",
              "\n",
              "    .dataframe thead th {\n",
              "        text-align: right;\n",
              "    }\n",
              "</style>\n",
              "<table border=\"1\" class=\"dataframe\">\n",
              "  <thead>\n",
              "    <tr style=\"text-align: right;\">\n",
              "      <th></th>\n",
              "      <th>Model</th>\n",
              "      <th>mse</th>\n",
              "      <th>msle</th>\n",
              "      <th>rmse</th>\n",
              "      <th>rmsle</th>\n",
              "    </tr>\n",
              "  </thead>\n",
              "  <tbody>\n",
              "    <tr>\n",
              "      <th>0</th>\n",
              "      <td>AR</td>\n",
              "      <td>62,117,015,608.195</td>\n",
              "      <td>0.186</td>\n",
              "      <td>249,232.850</td>\n",
              "      <td>0.430</td>\n",
              "    </tr>\n",
              "    <tr>\n",
              "      <th>1</th>\n",
              "      <td>ARIMA</td>\n",
              "      <td>38,698,069,226.590</td>\n",
              "      <td>0.134</td>\n",
              "      <td>196,718.250</td>\n",
              "      <td>0.370</td>\n",
              "    </tr>\n",
              "  </tbody>\n",
              "</table>\n",
              "</div>\n",
              "      <button class=\"colab-df-convert\" onclick=\"convertToInteractive('df-9d684cc3-a72b-48e4-9863-1873938f4efc')\"\n",
              "              title=\"Convert this dataframe to an interactive table.\"\n",
              "              style=\"display:none;\">\n",
              "        \n",
              "  <svg xmlns=\"http://www.w3.org/2000/svg\" height=\"24px\"viewBox=\"0 0 24 24\"\n",
              "       width=\"24px\">\n",
              "    <path d=\"M0 0h24v24H0V0z\" fill=\"none\"/>\n",
              "    <path d=\"M18.56 5.44l.94 2.06.94-2.06 2.06-.94-2.06-.94-.94-2.06-.94 2.06-2.06.94zm-11 1L8.5 8.5l.94-2.06 2.06-.94-2.06-.94L8.5 2.5l-.94 2.06-2.06.94zm10 10l.94 2.06.94-2.06 2.06-.94-2.06-.94-.94-2.06-.94 2.06-2.06.94z\"/><path d=\"M17.41 7.96l-1.37-1.37c-.4-.4-.92-.59-1.43-.59-.52 0-1.04.2-1.43.59L10.3 9.45l-7.72 7.72c-.78.78-.78 2.05 0 2.83L4 21.41c.39.39.9.59 1.41.59.51 0 1.02-.2 1.41-.59l7.78-7.78 2.81-2.81c.8-.78.8-2.07 0-2.86zM5.41 20L4 18.59l7.72-7.72 1.47 1.35L5.41 20z\"/>\n",
              "  </svg>\n",
              "      </button>\n",
              "      \n",
              "  <style>\n",
              "    .colab-df-container {\n",
              "      display:flex;\n",
              "      flex-wrap:wrap;\n",
              "      gap: 12px;\n",
              "    }\n",
              "\n",
              "    .colab-df-convert {\n",
              "      background-color: #E8F0FE;\n",
              "      border: none;\n",
              "      border-radius: 50%;\n",
              "      cursor: pointer;\n",
              "      display: none;\n",
              "      fill: #1967D2;\n",
              "      height: 32px;\n",
              "      padding: 0 0 0 0;\n",
              "      width: 32px;\n",
              "    }\n",
              "\n",
              "    .colab-df-convert:hover {\n",
              "      background-color: #E2EBFA;\n",
              "      box-shadow: 0px 1px 2px rgba(60, 64, 67, 0.3), 0px 1px 3px 1px rgba(60, 64, 67, 0.15);\n",
              "      fill: #174EA6;\n",
              "    }\n",
              "\n",
              "    [theme=dark] .colab-df-convert {\n",
              "      background-color: #3B4455;\n",
              "      fill: #D2E3FC;\n",
              "    }\n",
              "\n",
              "    [theme=dark] .colab-df-convert:hover {\n",
              "      background-color: #434B5C;\n",
              "      box-shadow: 0px 1px 3px 1px rgba(0, 0, 0, 0.15);\n",
              "      filter: drop-shadow(0px 1px 2px rgba(0, 0, 0, 0.3));\n",
              "      fill: #FFFFFF;\n",
              "    }\n",
              "  </style>\n",
              "\n",
              "      <script>\n",
              "        const buttonEl =\n",
              "          document.querySelector('#df-9d684cc3-a72b-48e4-9863-1873938f4efc button.colab-df-convert');\n",
              "        buttonEl.style.display =\n",
              "          google.colab.kernel.accessAllowed ? 'block' : 'none';\n",
              "\n",
              "        async function convertToInteractive(key) {\n",
              "          const element = document.querySelector('#df-9d684cc3-a72b-48e4-9863-1873938f4efc');\n",
              "          const dataTable =\n",
              "            await google.colab.kernel.invokeFunction('convertToInteractive',\n",
              "                                                     [key], {});\n",
              "          if (!dataTable) return;\n",
              "\n",
              "          const docLinkHtml = 'Like what you see? Visit the ' +\n",
              "            '<a target=\"_blank\" href=https://colab.research.google.com/notebooks/data_table.ipynb>data table notebook</a>'\n",
              "            + ' to learn more about interactive tables.';\n",
              "          element.innerHTML = '';\n",
              "          dataTable['output_type'] = 'display_data';\n",
              "          await google.colab.output.renderOutput(dataTable, element);\n",
              "          const docLink = document.createElement('div');\n",
              "          docLink.innerHTML = docLinkHtml;\n",
              "          element.appendChild(docLink);\n",
              "        }\n",
              "      </script>\n",
              "    </div>\n",
              "  </div>\n",
              "  "
            ]
          },
          "metadata": {},
          "execution_count": 82
        }
      ],
      "source": [
        "mse = mean_squared_error(test_data,Arima_pred)\n",
        "msle = mean_squared_log_error(test_data, Arima_pred)\n",
        "rmse =np.sqrt(mse).round(2)\n",
        "rmsle =np.sqrt(msle).round(2)\n",
        "\n",
        "results1 =pd.DataFrame([['ARIMA',mse, msle,rmse,rmsle]], columns =['Model','mse','msle','rmse','rmsle'])\n",
        "\n",
        "results = results.append(results1,ignore_index =True)\n",
        "\n",
        "results"
      ]
    },
    {
      "cell_type": "markdown",
      "metadata": {
        "id": "bA5r4H1iyQDc"
      },
      "source": [
        "##### Comment:\n",
        "\n",
        "The ARIMA model performs better than the AR model"
      ]
    },
    {
      "cell_type": "markdown",
      "metadata": {
        "id": "WKulofmmyQDd"
      },
      "source": [
        "#### Multivariate Forecasting with Sales as dependent variable"
      ]
    },
    {
      "cell_type": "markdown",
      "metadata": {
        "id": "oZInFXJ5yQDe"
      },
      "source": [
        "#### Linear Model"
      ]
    },
    {
      "cell_type": "code",
      "execution_count": 83,
      "metadata": {
        "id": "m0n_baUexL9L"
      },
      "outputs": [],
      "source": [
        "# Linear Regression Model\n",
        "lr = LinearRegression()\n",
        "model = lr.fit(X_train, y_train)\n",
        "\n",
        "# Make prediction on X_test\n",
        "lr_predictions = lr.predict(X_test)"
      ]
    },
    {
      "cell_type": "code",
      "execution_count": 84,
      "metadata": {
        "colab": {
          "base_uri": "https://localhost:8080/"
        },
        "id": "8FtlvF2yQ7JC",
        "outputId": "8074c7e9-40ab-4aba-a9c0-ed0c57da4e20"
      },
      "outputs": [
        {
          "output_type": "stream",
          "name": "stdout",
          "text": [
            "\n",
            "Evaluation Results for Linear Regression:\n",
            "MSE: 0.79\n",
            "RMSE: 0.89\n",
            "RMSLE: 0.28\n"
          ]
        }
      ],
      "source": [
        "# Evaluation Metrics for Linear Regression\n",
        "lr_mse = mean_squared_error(y_test, lr_predictions).round(2)\n",
        "lr_rmse = np.sqrt(lr_mse).round(2)\n",
        "\n",
        "# apply the absolute value function to y_test to remove negative signs\n",
        "y_test_abs = abs(y_test)\n",
        "lr_predictions_abs = abs(lr_predictions)\n",
        "\n",
        "# calculate the mean squared logarithmic error using the new y_test_abs and lr_predictions_abs array\n",
        "lr_rmsle = np.sqrt(mean_squared_log_error(y_test_abs, lr_predictions_abs)).round(2)\n",
        "\n",
        "# Print the evaluation results for Linear Regression model\n",
        "print(\"\\nEvaluation Results for Linear Regression:\")\n",
        "print(\"MSE:\", lr_mse)\n",
        "print(\"RMSE:\", lr_rmse)\n",
        "print(\"RMSLE:\", lr_rmsle)"
      ]
    },
    {
      "cell_type": "code",
      "execution_count": 85,
      "metadata": {
        "colab": {
          "base_uri": "https://localhost:8080/"
        },
        "id": "Gytm9GdexMAg",
        "outputId": "ea3414c2-b80a-4034-989d-4d665a264cff"
      },
      "outputs": [
        {
          "output_type": "stream",
          "name": "stdout",
          "text": [
            "Mean Squared Error: 0.79\n"
          ]
        }
      ],
      "source": [
        "from sklearn.metrics import mean_squared_error\n",
        "\n",
        "# predict on test set\n",
        "y_pred = model.predict(X_test)\n",
        "\n",
        "# calculate MSE\n",
        "mse = mean_squared_error(y_test, y_pred)\n",
        "\n",
        "print(f\"Mean Squared Error: {mse:.2f}\")"
      ]
    },
    {
      "cell_type": "markdown",
      "metadata": {
        "id": "-mZ4p3DSQ7JG"
      },
      "source": [
        "#### Decision Tree Regression Model"
      ]
    },
    {
      "cell_type": "code",
      "execution_count": 86,
      "metadata": {
        "colab": {
          "base_uri": "https://localhost:8080/"
        },
        "id": "mdbdDyANQ7JH",
        "outputId": "d1b7a9c4-9749-4944-9a16-87a93443cbf7"
      },
      "outputs": [
        {
          "output_type": "stream",
          "name": "stdout",
          "text": [
            "\n",
            "Evaluation Results for Decision Tree Regression:\n",
            "MSE: 0.06\n",
            "RMSE: 0.24\n",
            "RMLSE: 0.06\n"
          ]
        }
      ],
      "source": [
        "# Decision Tree Regression Model\n",
        "dt = DecisionTreeRegressor()\n",
        "dt.fit(X_train, y_train)\n",
        "\n",
        "# Make prediction on X_test\n",
        "dt_predictions = dt.predict(X_test)\n",
        "\n",
        "# Evaluation Metrics for Decision Tree Regression\n",
        "dt_mse = mean_squared_error(y_test, dt_predictions).round(2)\n",
        "dt_rmse = np.sqrt(dt_mse).round(2)\n",
        "\n",
        "# Evaluation Metrics for Decision Tree Regression\n",
        "dt_predictions_abs = abs(dt_predictions)\n",
        "\n",
        "# calculate the mean squared logarithmic error using the new y_test_abs and dt_predictions_abs array\n",
        "dt_rmsle = np.sqrt(mean_squared_log_error(y_test_abs, dt_predictions_abs)).round(2)\n",
        "\n",
        "# Print the evaluation results for Decision Tree Regression model\n",
        "print(\"\\nEvaluation Results for Decision Tree Regression:\")\n",
        "print(\"MSE:\", dt_mse)\n",
        "print(\"RMSE:\", dt_rmse)\n",
        "\n",
        "print(\"RMLSE:\", dt_rmsle)"
      ]
    },
    {
      "cell_type": "markdown",
      "metadata": {
        "id": "MUnvBcAin-mL"
      },
      "source": [
        "#### XGBoost Model"
      ]
    },
    {
      "cell_type": "code",
      "execution_count": 87,
      "metadata": {
        "id": "nKuDBvuDQ7JM"
      },
      "outputs": [],
      "source": [
        "# create an instance of the XGBRegressor class\n",
        "xgb_model = xgb.XGBRegressor()\n",
        "\n",
        "# fit the model on the training data\n",
        "xgb_model.fit(X_train, y_train)\n",
        "\n",
        "# make predictions on the test data\n",
        "xgb_predictions = xgb_model.predict(X_test)"
      ]
    },
    {
      "cell_type": "code",
      "execution_count": 88,
      "metadata": {
        "colab": {
          "base_uri": "https://localhost:8080/"
        },
        "id": "dfqvq88JQ7JN",
        "outputId": "51b08422-9588-48bd-ae82-ebd3e1a00b9b"
      },
      "outputs": [
        {
          "output_type": "stream",
          "name": "stdout",
          "text": [
            "\n",
            "Evaluation Results for XGBoost:\n",
            "MSE: 0.15\n",
            "RMSE: 0.39\n",
            "RMSLE: 0.13\n"
          ]
        }
      ],
      "source": [
        "# Evaluation Metrics for XGBoost\n",
        "xgb_mse = mean_squared_error(y_test, xgb_predictions).round(2)\n",
        "xgb_rmse = np.sqrt(xgb_mse).round(2)\n",
        "\n",
        "#y_test_abs = abs(y_test)\n",
        "xgb_predictions_abs = abs(xgb_predictions)\n",
        "\n",
        "# calculate the mean squared logarithmic error using the new y_test_abs and xgb_predictions_abs array\n",
        "xgb_rmsle = np.sqrt(mean_squared_log_error(y_test_abs, xgb_predictions_abs)).round(2)\n",
        "\n",
        "# Print the evaluation results for XGBoost model\n",
        "print(\"\\nEvaluation Results for XGBoost:\")\n",
        "print(\"MSE:\", xgb_mse)\n",
        "print(\"RMSE:\", xgb_rmse)\n",
        "print(\"RMSLE:\", xgb_rmsle)"
      ]
    },
    {
      "cell_type": "markdown",
      "metadata": {
        "id": "2mgkhgCdQ7JO"
      },
      "source": [
        "#### Random Forest Regression Model"
      ]
    },
    {
      "cell_type": "code",
      "execution_count": 89,
      "metadata": {
        "id": "XbzUgVqgQ7JQ"
      },
      "outputs": [],
      "source": [
        "# Random Forest Regression Model\n",
        "rf = RandomForestRegressor(n_estimators=20, random_state=42)\n",
        "rf.fit(X_train, y_train)\n",
        "\n",
        "# Make prediction on X_test\n",
        "rf_predictions = rf.predict(X_test)"
      ]
    },
    {
      "cell_type": "code",
      "execution_count": 90,
      "metadata": {
        "colab": {
          "base_uri": "https://localhost:8080/"
        },
        "id": "kAbQUZpOy3QT",
        "outputId": "657e532f-1d60-46c0-f3ba-8565c433c0ef"
      },
      "outputs": [
        {
          "output_type": "stream",
          "name": "stdout",
          "text": [
            "\n",
            "Evaluation Results for Random Forest:\n",
            "MSE: 0.04\n",
            "RMSE: 0.2\n",
            "RMSLE: 0.05\n"
          ]
        }
      ],
      "source": [
        "# Evaluation Metrics for Random Forest Regression\n",
        "rf_mse = mean_squared_error(y_test, rf_predictions).round(2)\n",
        "rf_rmse = np.sqrt(rf_mse).round(2)\n",
        "\n",
        "# apply the absolute value function to y_test to remove negative signs\n",
        "rf_predictions_abs = abs(rf_predictions)\n",
        "\n",
        "# calculate the mean squared logarithmic error using the new y_test_abs and rf_predictions_abs array\n",
        "rf_rmsle = np.sqrt(mean_squared_log_error(y_test_abs, rf_predictions_abs)).round(2)\n",
        "\n",
        "# Print the evaluation results for Random Forest Regrression model\n",
        "print(\"\\nEvaluation Results for Random Forest:\")\n",
        "print(\"MSE:\", rf_mse)\n",
        "print(\"RMSE:\", rf_rmse)\n",
        "print(\"RMSLE:\", rf_rmsle)\n",
        ""
      ]
    },
    {
      "cell_type": "markdown",
      "metadata": {
        "id": "gsKWmmanyQDn"
      },
      "source": [
        "### Evaluation"
      ]
    },
    {
      "cell_type": "code",
      "execution_count": 94,
      "metadata": {
        "colab": {
          "base_uri": "https://localhost:8080/"
        },
        "id": "qCa9cWS43oe0",
        "outputId": "aa0b789b-85fb-4482-ee65-3766c764b4c5"
      },
      "outputs": [
        {
          "metadata": {
            "tags": null
          },
          "name": "stdout",
          "output_type": "stream",
          "text": [
            "Comparison Table of Evaluation Results:\n",
            "                     MSE  RMSE  RMSLE\n",
            "Linear Regression 0.790 0.890  0.280\n",
            "Decision Tree     0.060 0.240  0.060\n",
            "XGBoost           0.150 0.390  0.130\n",
            "Random Forest     0.040 0.200  0.050\n"
          ]
        }
      ],
      "source": [
        "# Define a table to compare evaluation results\n",
        "evaluation_metrics = ['MSE', 'RMSE', 'RMSLE']\n",
        "models = ['Linear Regression', 'Decision Tree', 'XGBoost', 'Random Forest']\n",
        "results = [[lr_mse, lr_rmse, lr_rmsle],\n",
        "           [dt_mse, dt_rmse, dt_rmsle],\n",
        "           [xgb_mse, xgb_rmse, xgb_rmsle],\n",
        "           [rf_mse, rf_rmse, rf_rmsle]]\n",
        "results_table = pd.DataFrame(data=results, columns=evaluation_metrics, index=models)\n",
        "\n",
        "# Print the comparison table\n",
        "print(\"Comparison Table of Evaluation Results:\\n\", results_table)\n"
      ]
    },
    {
      "cell_type": "code",
      "source": [
        "import pickle\n",
        "\n",
        "# Random Forest Regression Model\n",
        "rf = RandomForestRegressor(n_estimators=20, random_state=42)\n",
        "rf.fit(X_train, y_train)\n",
        "\n",
        "\n"
      ],
      "metadata": {
        "id": "R6mf0l_NktLi"
      },
      "execution_count": 92,
      "outputs": []
    },
    {
      "cell_type": "code",
      "source": [
        "# Save the trained Random Forest model as pickle file\n",
        "with open('ml.pkl', 'wb') as file:\n",
        "    pickle.dump(rf, file)"
      ],
      "metadata": {
        "id": "gHNdUrtsn4Lp"
      },
      "execution_count": 95,
      "outputs": []
    },
    {
      "cell_type": "markdown",
      "metadata": {
        "id": "yTG1csD1yQDo"
      },
      "source": [
        "#### Comments\n",
        "\n",
        "* From the evaluation metric summary, the decision tree model performs better than the other models"
      ]
    }
  ],
  "metadata": {
    "colab": {
      "provenance": [],
      "include_colab_link": true
    },
    "kernelspec": {
      "display_name": "Python 3 (ipykernel)",
      "language": "python",
      "name": "python3"
    },
    "language_info": {
      "codemirror_mode": {
        "name": "ipython",
        "version": 3
      },
      "file_extension": ".py",
      "mimetype": "text/x-python",
      "name": "python",
      "nbconvert_exporter": "python",
      "pygments_lexer": "ipython3",
      "version": "3.9.13"
    },
    "widgets": {
      "application/vnd.jupyter.widget-state+json": {
        "e632b4e378594480a0608646f7cdfc7d": {
          "model_module": "@jupyter-widgets/output",
          "model_name": "OutputModel",
          "model_module_version": "1.0.0",
          "state": {
            "_dom_classes": [],
            "_model_module": "@jupyter-widgets/output",
            "_model_module_version": "1.0.0",
            "_model_name": "OutputModel",
            "_view_count": null,
            "_view_module": "@jupyter-widgets/output",
            "_view_module_version": "1.0.0",
            "_view_name": "OutputView",
            "layout": "IPY_MODEL_a9cbc599cbd7442e927a3bab79e8b15d",
            "msg_id": "",
            "outputs": [
              {
                "output_type": "display_data",
                "data": {
                  "text/plain": "<Figure size 800x200 with 1 Axes>",
                  "image/png": "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\n"
                },
                "metadata": {}
              },
              {
                "output_type": "display_data",
                "data": {
                  "text/plain": "<Figure size 800x200 with 1 Axes>",
                  "image/png": "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\n"
                },
                "metadata": {}
              },
              {
                "output_type": "display_data",
                "data": {
                  "text/plain": "<Figure size 800x200 with 1 Axes>",
                  "image/png": "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\n"
                },
                "metadata": {}
              }
            ]
          }
        },
        "a9cbc599cbd7442e927a3bab79e8b15d": {
          "model_module": "@jupyter-widgets/base",
          "model_name": "LayoutModel",
          "model_module_version": "1.2.0",
          "state": {
            "_model_module": "@jupyter-widgets/base",
            "_model_module_version": "1.2.0",
            "_model_name": "LayoutModel",
            "_view_count": null,
            "_view_module": "@jupyter-widgets/base",
            "_view_module_version": "1.2.0",
            "_view_name": "LayoutView",
            "align_content": null,
            "align_items": null,
            "align_self": null,
            "border": null,
            "bottom": null,
            "display": null,
            "flex": null,
            "flex_flow": null,
            "grid_area": null,
            "grid_auto_columns": null,
            "grid_auto_flow": null,
            "grid_auto_rows": null,
            "grid_column": null,
            "grid_gap": null,
            "grid_row": null,
            "grid_template_areas": null,
            "grid_template_columns": null,
            "grid_template_rows": null,
            "height": null,
            "justify_content": null,
            "justify_items": null,
            "left": null,
            "margin": null,
            "max_height": null,
            "max_width": null,
            "min_height": null,
            "min_width": null,
            "object_fit": null,
            "object_position": null,
            "order": null,
            "overflow": null,
            "overflow_x": null,
            "overflow_y": null,
            "padding": null,
            "right": null,
            "top": null,
            "visibility": null,
            "width": null
          }
        }
      }
    }
  },
  "nbformat": 4,
  "nbformat_minor": 0
}