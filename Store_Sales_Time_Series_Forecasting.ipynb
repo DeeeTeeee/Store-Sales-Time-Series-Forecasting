{
  "cells": [
    {
      "cell_type": "markdown",
      "metadata": {
        "id": "view-in-github",
        "colab_type": "text"
      },
      "source": [
        "<a href=\"https://colab.research.google.com/github/DeeeTeeee/Store-Sales-Time-Series-Forecasting/blob/main/Store_Sales_Time_Series_Forecasting.ipynb\" target=\"_parent\"><img src=\"https://colab.research.google.com/assets/colab-badge.svg\" alt=\"Open In Colab\"/></a>"
      ]
    },
    {
      "cell_type": "markdown",
      "metadata": {
        "id": "BzK4yMsDloLs"
      },
      "source": [
        "# Regression Project (Store Sales -- Time Series Forecasting)\n"
      ]
    },
    {
      "cell_type": "code",
      "source": [
        "#!pip install category_encoders\n",
        "#!pip install squarify\n",
        "#!pip install pmdarima"
      ],
      "metadata": {
        "id": "2TjllbgGzODH"
      },
      "execution_count": null,
      "outputs": []
    },
    {
      "cell_type": "markdown",
      "metadata": {
        "id": "pu_bByuPyQCe"
      },
      "source": [
        "## Import Packages"
      ]
    },
    {
      "cell_type": "code",
      "execution_count": null,
      "metadata": {
        "id": "gjRNDsUIQzQo"
      },
      "outputs": [],
      "source": [
        "import pandas as pd\n",
        "import numpy as np\n",
        "import matplotlib.pyplot as plt\n",
        "import matplotlib.patches as mpathes\n",
        "import matplotlib.dates as mdates\n",
        "import seaborn as sns\n",
        "import plotly.express as px\n",
        "import ipywidgets as widgets\n",
        "from IPython.display import display\n",
        "import warnings\n",
        "import plotly.graph_objects as go\n",
        "warnings.filterwarnings('ignore')\n",
        "import datetime as dt\n",
        "import squarify\n",
        "\n",
        "from scipy.stats import f_oneway\n",
        "from datetime import datetime\n",
        "from datetime import date\n",
        "\n",
        "from  category_encoders import BinaryEncoder\n",
        "from sklearn import preprocessing\n",
        "from sklearn.preprocessing import StandardScaler\n",
        "from sklearn.model_selection import train_test_split\n",
        "\n",
        "from statsmodels.graphics.tsaplots import plot_pacf,plot_acf\n",
        "from statsmodels.tsa.ar_model import AutoReg\n",
        "from pmdarima import auto_arima\n",
        "from statsmodels.tsa.arima.model import ARIMA\n",
        "from statsmodels.tsa.statespace.sarimax import SARIMAX\n",
        "\n",
        "from sklearn.linear_model import LinearRegression\n",
        "from sklearn.tree import DecisionTreeRegressor\n",
        "from sklearn.ensemble import RandomForestRegressor\n",
        "import xgboost as xgb\n",
        "\n",
        "from sklearn.metrics import mean_squared_error\n",
        "from sklearn.metrics import mean_squared_log_error"
      ]
    },
    {
      "cell_type": "code",
      "source": [
        "# For CSV, use pandas.read_csv\n",
        "from google.colab import drive\n",
        "drive.mount('/content/drive')"
      ],
      "metadata": {
        "colab": {
          "base_uri": "https://localhost:8080/"
        },
        "id": "hilaC2ftzuQk",
        "outputId": "ea51e9a2-6b3d-4c10-b4e9-01cb21c2875f"
      },
      "execution_count": null,
      "outputs": [
        {
          "output_type": "stream",
          "name": "stdout",
          "text": [
            "Drive already mounted at /content/drive; to attempt to forcibly remount, call drive.mount(\"/content/drive\", force_remount=True).\n"
          ]
        }
      ]
    },
    {
      "cell_type": "markdown",
      "metadata": {
        "id": "16sWU3AZyQCh"
      },
      "source": [
        "## Load Data"
      ]
    },
    {
      "cell_type": "code",
      "execution_count": null,
      "metadata": {
        "id": "FxUMzySBQ9Bs"
      },
      "outputs": [],
      "source": [
        "#Loading all datasets\n",
        "holiday = pd.read_csv('/content/drive/MyDrive/lp2/holidays_events.csv',index_col=[\"date\"],parse_dates=[\"date\"])\n",
        "oil = pd.read_csv('/content/drive/MyDrive/lp2/oil.csv', parse_dates=[\"date\"])\n",
        "stores = pd.read_csv('/content/drive/MyDrive/lp2/stores.csv')\n",
        "test = pd.read_csv('/content/drive/MyDrive/lp2/test.csv',index_col=[\"date\"],parse_dates=[\"date\"])\n",
        "train = pd.read_csv('/content/drive/MyDrive/lp2/train.csv',index_col=[\"date\"],parse_dates=['date'])\n",
        "transactions = pd.read_csv('/content/drive/MyDrive/lp2/transactions.csv',index_col=[\"date\"],parse_dates=[\"date\"])\n",
        "sample_submission = pd.read_csv('/content/drive/MyDrive/lp2/sample_submission.csv')"
      ]
    },
    {
      "cell_type": "markdown",
      "metadata": {
        "id": "BBNajc6IRauL"
      },
      "source": [
        "## Exploratory Data Analysis: EDA"
      ]
    },
    {
      "cell_type": "markdown",
      "metadata": {
        "id": "PQPKuCNWyQCj"
      },
      "source": [
        "### Questions\n",
        "\n",
        "#### 1. Is the train dataset complete (has all the required dates)?\n",
        "\n",
        "#### 2. Which dates have the lowest and highest sales for each year?\n",
        "\n",
        "#### 3. Did the earthquake impact sales?\n",
        "\n",
        "#### 4. Are certain groups of stores selling more products? (Cluster, city, state, type)\n",
        "\n",
        "#### 5. Are sales affected by promotions, oil prices and holidays?\n",
        "\n"
      ]
    },
    {
      "cell_type": "markdown",
      "metadata": {
        "id": "vTiXZYLGyQCj"
      },
      "source": [
        "### Hypothesis\n",
        "\n",
        "##### Null Hypothesis:  Holidays do not affect the unit store sales\n",
        "##### Alternate Hypothesis:  Holidays affect the sales in the store sales"
      ]
    },
    {
      "cell_type": "markdown",
      "metadata": {
        "id": "EUtpfNOIyQCk"
      },
      "source": [
        "### Data Overview\n",
        "Here, the following were checked:<br>\n",
        "* The shape of all the datasets\n",
        "* The datatypes of the columns in the datasets\n",
        "* Summary statistics\n",
        "* Missing values"
      ]
    },
    {
      "cell_type": "markdown",
      "metadata": {
        "id": "6GLJaIX9yQCl"
      },
      "source": [
        "##### Data Shape"
      ]
    },
    {
      "cell_type": "code",
      "execution_count": null,
      "metadata": {
        "colab": {
          "base_uri": "https://localhost:8080/"
        },
        "id": "SQlX3HBNQ9Ee",
        "outputId": "342a14c6-0084-4e3b-f590-7ed10320cbd8"
      },
      "outputs": [
        {
          "output_type": "stream",
          "name": "stdout",
          "text": [
            "The shape of the holiday dataset is: (350, 5)\n",
            "The shape of the oil dataset is: (1218, 2)\n",
            "The shape of the stores dataset is: (54, 5)\n",
            "The shape of the test dataset is: (28512, 4)\n",
            "The shape of the train dataset is: (3000888, 5)\n",
            "The shape of the transactions dataset is: (83488, 2)\n",
            "The shape of the sample_submission dataset is: (28512, 2)\n"
          ]
        }
      ],
      "source": [
        "# Print out the shapes of the datasets\n",
        "print(f\"The shape of the holiday dataset is: {holiday.shape}\")\n",
        "print(f\"The shape of the oil dataset is: {oil.shape}\")\n",
        "print(f\"The shape of the stores dataset is: {stores.shape}\")\n",
        "print(f\"The shape of the test dataset is: {test.shape}\")\n",
        "print(f\"The shape of the train dataset is: {train.shape}\")\n",
        "print(f\"The shape of the transactions dataset is: {transactions.shape}\")\n",
        "print(f\"The shape of the sample_submission dataset is: {sample_submission.shape}\")"
      ]
    },
    {
      "cell_type": "markdown",
      "metadata": {
        "id": "JPTF4cQKyQCn"
      },
      "source": [
        "##### Datatypes"
      ]
    },
    {
      "cell_type": "code",
      "execution_count": null,
      "metadata": {
        "colab": {
          "base_uri": "https://localhost:8080/"
        },
        "id": "MlJsPrCFQ9Hn",
        "outputId": "847217ed-4352-4e18-a28d-7baa775467d5"
      },
      "outputs": [
        {
          "output_type": "stream",
          "name": "stdout",
          "text": [
            "Data types for Stores:\n",
            "store_nbr     int64\n",
            "city         object\n",
            "state        object\n",
            "type         object\n",
            "cluster       int64\n",
            "dtype: object\n",
            "__________________________________________________\n",
            "Data types for Train:\n",
            "id               int64\n",
            "store_nbr        int64\n",
            "family          object\n",
            "sales          float64\n",
            "onpromotion      int64\n",
            "dtype: object\n",
            "__________________________________________________\n",
            "Data types for Test:\n",
            "id              int64\n",
            "store_nbr       int64\n",
            "family         object\n",
            "onpromotion     int64\n",
            "dtype: object\n",
            "__________________________________________________\n",
            "Data types for Transactions:\n",
            "store_nbr       int64\n",
            "transactions    int64\n",
            "dtype: object\n",
            "__________________________________________________\n",
            "Data types for Oil:\n",
            "date          datetime64[ns]\n",
            "dcoilwtico           float64\n",
            "dtype: object\n",
            "__________________________________________________\n",
            "Data types for Holiday:\n",
            "type           object\n",
            "locale         object\n",
            "locale_name    object\n",
            "description    object\n",
            "transferred      bool\n",
            "dtype: object\n",
            "__________________________________________________\n",
            "Data types for Sample_Submission:\n",
            "id         int64\n",
            "sales    float64\n",
            "dtype: object\n",
            "__________________________________________________\n"
          ]
        }
      ],
      "source": [
        "# Print the data types of each dataset\n",
        "def show_data_type(dataset_name, dataset):\n",
        "    print(f\"Data types for {dataset_name}:\")\n",
        "    print(dataset.dtypes)\n",
        "    print('_' * 50)\n",
        "        \n",
        "show_data_type('Stores', stores)\n",
        "show_data_type('Train', train)\n",
        "show_data_type('Test', test)\n",
        "show_data_type('Transactions', transactions)\n",
        "show_data_type('Oil', oil)\n",
        "show_data_type('Holiday', holiday)\n",
        "show_data_type('Sample_Submission', sample_submission)\n",
        "\n"
      ]
    },
    {
      "cell_type": "markdown",
      "metadata": {
        "id": "0ZigK7CAyQCo"
      },
      "source": [
        "##### Summary Statistics"
      ]
    },
    {
      "cell_type": "code",
      "execution_count": null,
      "metadata": {
        "colab": {
          "base_uri": "https://localhost:8080/"
        },
        "id": "HAiaFJ9DijXq",
        "outputId": "ab1f1d1b-8d3d-447f-cc5e-a28217a929d1"
      },
      "outputs": [
        {
          "output_type": "stream",
          "name": "stdout",
          "text": [
            "\n",
            "Holiday dataset summary statistics:\n",
            "\n",
            "           type    locale locale_name description transferred\n",
            "count       350       350         350         350         350\n",
            "unique        6         3          24         103           2\n",
            "top     Holiday  National     Ecuador    Carnaval       False\n",
            "freq        221       174         174          10         338\n",
            "__________________________________________________\n",
            "\n",
            "Oil dataset summary statistics:\n",
            "\n",
            "        dcoilwtico\n",
            "count  1175.000000\n",
            "mean     67.714366\n",
            "std      25.630476\n",
            "min      26.190000\n",
            "25%      46.405000\n",
            "50%      53.190000\n",
            "75%      95.660000\n",
            "max     110.620000\n",
            "__________________________________________________\n",
            "\n",
            "Stores dataset summary statistics:\n",
            "\n",
            "       store_nbr    cluster\n",
            "count  54.000000  54.000000\n",
            "mean   27.500000   8.481481\n",
            "std    15.732133   4.693395\n",
            "min     1.000000   1.000000\n",
            "25%    14.250000   4.000000\n",
            "50%    27.500000   8.500000\n",
            "75%    40.750000  13.000000\n",
            "max    54.000000  17.000000\n",
            "__________________________________________________\n",
            "\n",
            "Train dataset summary statistics:\n",
            "\n",
            "                 id     store_nbr         sales   onpromotion\n",
            "count  3.000888e+06  3.000888e+06  3.000888e+06  3.000888e+06\n",
            "mean   1.500444e+06  2.750000e+01  3.577757e+02  2.602770e+00\n",
            "std    8.662819e+05  1.558579e+01  1.101998e+03  1.221888e+01\n",
            "min    0.000000e+00  1.000000e+00  0.000000e+00  0.000000e+00\n",
            "25%    7.502218e+05  1.400000e+01  0.000000e+00  0.000000e+00\n",
            "50%    1.500444e+06  2.750000e+01  1.100000e+01  0.000000e+00\n",
            "75%    2.250665e+06  4.100000e+01  1.958473e+02  0.000000e+00\n",
            "max    3.000887e+06  5.400000e+01  1.247170e+05  7.410000e+02\n",
            "__________________________________________________\n",
            "\n",
            "Test dataset summary statistics:\n",
            "\n",
            "                 id     store_nbr   onpromotion\n",
            "count  2.851200e+04  28512.000000  28512.000000\n",
            "mean   3.015144e+06     27.500000      6.965383\n",
            "std    8.230850e+03     15.586057     20.683952\n",
            "min    3.000888e+06      1.000000      0.000000\n",
            "25%    3.008016e+06     14.000000      0.000000\n",
            "50%    3.015144e+06     27.500000      0.000000\n",
            "75%    3.022271e+06     41.000000      6.000000\n",
            "max    3.029399e+06     54.000000    646.000000\n",
            "__________________________________________________\n",
            "\n",
            "Transactions dataset summary statistics:\n",
            "\n",
            "          store_nbr  transactions\n",
            "count  83488.000000  83488.000000\n",
            "mean      26.939237   1694.602158\n",
            "std       15.608204    963.286644\n",
            "min        1.000000      5.000000\n",
            "25%       13.000000   1046.000000\n",
            "50%       27.000000   1393.000000\n",
            "75%       40.000000   2079.000000\n",
            "max       54.000000   8359.000000\n",
            "__________________________________________________\n",
            "\n",
            "Sample_submission dataset summary statistics:\n",
            "\n",
            "                 id    sales\n",
            "count  2.851200e+04  28512.0\n",
            "mean   3.015144e+06      0.0\n",
            "std    8.230850e+03      0.0\n",
            "min    3.000888e+06      0.0\n",
            "25%    3.008016e+06      0.0\n",
            "50%    3.015144e+06      0.0\n",
            "75%    3.022271e+06      0.0\n",
            "max    3.029399e+06      0.0\n",
            "__________________________________________________\n"
          ]
        }
      ],
      "source": [
        "#checking for the summary of the datasets:\n",
        "datasets = {'holiday': holiday, 'oil': oil, 'stores': stores, 'train': train, 'test': test, 'transactions': transactions, 'sample_submission' : sample_submission}\n",
        "\n",
        "for name, data in datasets.items():\n",
        "    print(f\"\\n{name.capitalize()} dataset summary statistics:\\n\")\n",
        "    print(data.describe())\n",
        "    print('_' * 50)"
      ]
    },
    {
      "cell_type": "markdown",
      "metadata": {
        "id": "MoBVYYQQyQCq"
      },
      "source": [
        "##### Missing Values"
      ]
    },
    {
      "cell_type": "code",
      "execution_count": null,
      "metadata": {
        "colab": {
          "base_uri": "https://localhost:8080/"
        },
        "id": "kcffAUPakf0R",
        "outputId": "46bb3857-089a-4837-d333-d56f611259f1"
      },
      "outputs": [
        {
          "output_type": "stream",
          "name": "stdout",
          "text": [
            "Missing values in stores dataset:\n",
            "store_nbr    0\n",
            "city         0\n",
            "state        0\n",
            "type         0\n",
            "cluster      0\n",
            "dtype: int64\n",
            "__________________________________________________\n",
            "Missing values in train dataset:\n",
            "id             0\n",
            "store_nbr      0\n",
            "family         0\n",
            "sales          0\n",
            "onpromotion    0\n",
            "dtype: int64\n",
            "__________________________________________________\n",
            "Missing values in test dataset:\n",
            "id             0\n",
            "store_nbr      0\n",
            "family         0\n",
            "onpromotion    0\n",
            "dtype: int64\n",
            "__________________________________________________\n",
            "Missing values in transactions dataset:\n",
            "store_nbr       0\n",
            "transactions    0\n",
            "dtype: int64\n",
            "__________________________________________________\n",
            "Missing values in oil dataset:\n",
            "date           0\n",
            "dcoilwtico    43\n",
            "dtype: int64\n",
            "__________________________________________________\n",
            "Missing values in holiday dataset:\n",
            "type           0\n",
            "locale         0\n",
            "locale_name    0\n",
            "description    0\n",
            "transferred    0\n",
            "dtype: int64\n",
            "__________________________________________________\n",
            "Missing values in sample_submission dataset:\n",
            "id       0\n",
            "sales    0\n",
            "dtype: int64\n",
            "__________________________________________________\n"
          ]
        }
      ],
      "source": [
        "# showing missing values in all dataset using a function\n",
        "\n",
        "datasets = {'stores': stores, 'train': train, 'test': test, 'transactions': transactions, 'oil': oil, 'holiday': holiday, 'sample_submission' : sample_submission}\n",
        "\n",
        "def show_missing_values(datasets):\n",
        "    for name, data in datasets.items():\n",
        "        print(f\"Missing values in {name} dataset:\")\n",
        "        print(data.isnull().sum())\n",
        "        print('_' * 50)\n",
        "\n",
        "show_missing_values(datasets)\n"
      ]
    },
    {
      "cell_type": "markdown",
      "metadata": {
        "id": "7_qmHndIlsGa"
      },
      "source": [
        "#### Comment:\n",
        "* Missing data was found in the oil datasets.\n",
        "\n",
        "#### Approach:\n",
        "* The missing data were to be replaced by the mean value per month.<br> The rationale was to represent the missing values properly by the values over the month period.\n",
        "\n",
        "\n"
      ]
    },
    {
      "cell_type": "code",
      "execution_count": null,
      "metadata": {
        "id": "K4gK60b0XAp1"
      },
      "outputs": [],
      "source": [
        "#replacing the nan with the mean of each month of its year\n",
        "for year in range(2013, 2023):\n",
        "    for month in range(1, 13):\n",
        "        mask = (oil['date'].dt.month == month) & (oil['date'].dt.year == year)\n",
        "        mean = oil.loc[mask, 'dcoilwtico'].mean()\n",
        "        oil.loc[mask, 'dcoilwtico'] = oil.loc[mask, 'dcoilwtico'].fillna(mean)\n",
        "\n"
      ]
    },
    {
      "cell_type": "code",
      "execution_count": null,
      "metadata": {
        "colab": {
          "base_uri": "https://localhost:8080/"
        },
        "id": "--Qi2wU0Q9TD",
        "outputId": "40ec8526-3ee1-4a25-c4a0-c9e7dd7595ee"
      },
      "outputs": [
        {
          "output_type": "stream",
          "name": "stdout",
          "text": [
            "date          0\n",
            "dcoilwtico    0\n",
            "dtype: int64\n"
          ]
        }
      ],
      "source": [
        "# Print the missing values in the dataset again to confirm that there are no missing values left\n",
        "print(oil.isnull().sum())"
      ]
    },
    {
      "cell_type": "markdown",
      "metadata": {
        "id": "BDhMI4ekoM_3"
      },
      "source": [
        "### Merging Data"
      ]
    },
    {
      "cell_type": "code",
      "execution_count": null,
      "metadata": {
        "id": "6kgYoo76XmJ_"
      },
      "outputs": [],
      "source": [
        "# combine the datasets on common columns one after the other\n",
        "merged_data1 = pd.merge(train, transactions, how='outer', on=['date', 'store_nbr'])\n",
        "merged_data2 = pd.merge(merged_data1, holiday, how='outer', on='date')\n",
        "merged_data3 = pd.merge(merged_data2, oil, how='outer', on='date')\n",
        "merged_data = pd.merge(merged_data3, stores, how='outer', on='store_nbr')"
      ]
    },
    {
      "cell_type": "code",
      "execution_count": null,
      "metadata": {
        "colab": {
          "base_uri": "https://localhost:8080/"
        },
        "id": "mdsEAYazXmM2",
        "outputId": "38058fed-4837-44a8-fc31-180f7c14a1bd"
      },
      "outputs": [
        {
          "output_type": "stream",
          "name": "stdout",
          "text": [
            "<class 'pandas.core.frame.DataFrame'>\n",
            "Int64Index: 3054427 entries, 0 to 3054426\n",
            "Data columns (total 17 columns):\n",
            " #   Column        Dtype         \n",
            "---  ------        -----         \n",
            " 0   date          datetime64[ns]\n",
            " 1   id            float64       \n",
            " 2   store_nbr     float64       \n",
            " 3   family        object        \n",
            " 4   sales         float64       \n",
            " 5   onpromotion   float64       \n",
            " 6   transactions  float64       \n",
            " 7   type_x        object        \n",
            " 8   locale        object        \n",
            " 9   locale_name   object        \n",
            " 10  description   object        \n",
            " 11  transferred   object        \n",
            " 12  dcoilwtico    float64       \n",
            " 13  city          object        \n",
            " 14  state         object        \n",
            " 15  type_y        object        \n",
            " 16  cluster       float64       \n",
            "dtypes: datetime64[ns](1), float64(7), object(9)\n",
            "memory usage: 419.5+ MB\n"
          ]
        }
      ],
      "source": [
        "merged_data.info()"
      ]
    },
    {
      "cell_type": "markdown",
      "metadata": {
        "id": "dDL5F0iuqxiT"
      },
      "source": [
        "##### Renaming Columns\n",
        "\n",
        "* Two columns had to be renamed. \n",
        "* 'type_x' column was changed to holiday_type\n",
        "* 'type_y' column was changed to store_type"
      ]
    },
    {
      "cell_type": "code",
      "execution_count": null,
      "metadata": {
        "colab": {
          "base_uri": "https://localhost:8080/",
          "height": 357
        },
        "id": "H9ASjiAjXmPN",
        "outputId": "cc203bf0-fd95-4fe0-8f8f-71f3c9ecdc35"
      },
      "outputs": [
        {
          "output_type": "execute_result",
          "data": {
            "text/plain": [
              "        date   id  store_nbr      family  sales  onpromotion  transactions  \\\n",
              "0 2013-01-01  0.0        1.0  AUTOMOTIVE    0.0          0.0           NaN   \n",
              "1 2013-01-01  1.0        1.0   BABY CARE    0.0          0.0           NaN   \n",
              "2 2013-01-01  2.0        1.0      BEAUTY    0.0          0.0           NaN   \n",
              "3 2013-01-01  3.0        1.0   BEVERAGES    0.0          0.0           NaN   \n",
              "4 2013-01-01  4.0        1.0       BOOKS    0.0          0.0           NaN   \n",
              "\n",
              "  holiday_type    locale locale_name         description transferred  \\\n",
              "0      Holiday  National     Ecuador  Primer dia del ano       False   \n",
              "1      Holiday  National     Ecuador  Primer dia del ano       False   \n",
              "2      Holiday  National     Ecuador  Primer dia del ano       False   \n",
              "3      Holiday  National     Ecuador  Primer dia del ano       False   \n",
              "4      Holiday  National     Ecuador  Primer dia del ano       False   \n",
              "\n",
              "   dcoilwtico   city      state store_type  cluster  \n",
              "0   94.756667  Quito  Pichincha          D     13.0  \n",
              "1   94.756667  Quito  Pichincha          D     13.0  \n",
              "2   94.756667  Quito  Pichincha          D     13.0  \n",
              "3   94.756667  Quito  Pichincha          D     13.0  \n",
              "4   94.756667  Quito  Pichincha          D     13.0  "
            ],
            "text/html": [
              "\n",
              "  <div id=\"df-739ac95b-769c-46ef-8f05-6447fdbde9c9\">\n",
              "    <div class=\"colab-df-container\">\n",
              "      <div>\n",
              "<style scoped>\n",
              "    .dataframe tbody tr th:only-of-type {\n",
              "        vertical-align: middle;\n",
              "    }\n",
              "\n",
              "    .dataframe tbody tr th {\n",
              "        vertical-align: top;\n",
              "    }\n",
              "\n",
              "    .dataframe thead th {\n",
              "        text-align: right;\n",
              "    }\n",
              "</style>\n",
              "<table border=\"1\" class=\"dataframe\">\n",
              "  <thead>\n",
              "    <tr style=\"text-align: right;\">\n",
              "      <th></th>\n",
              "      <th>date</th>\n",
              "      <th>id</th>\n",
              "      <th>store_nbr</th>\n",
              "      <th>family</th>\n",
              "      <th>sales</th>\n",
              "      <th>onpromotion</th>\n",
              "      <th>transactions</th>\n",
              "      <th>holiday_type</th>\n",
              "      <th>locale</th>\n",
              "      <th>locale_name</th>\n",
              "      <th>description</th>\n",
              "      <th>transferred</th>\n",
              "      <th>dcoilwtico</th>\n",
              "      <th>city</th>\n",
              "      <th>state</th>\n",
              "      <th>store_type</th>\n",
              "      <th>cluster</th>\n",
              "    </tr>\n",
              "  </thead>\n",
              "  <tbody>\n",
              "    <tr>\n",
              "      <th>0</th>\n",
              "      <td>2013-01-01</td>\n",
              "      <td>0.0</td>\n",
              "      <td>1.0</td>\n",
              "      <td>AUTOMOTIVE</td>\n",
              "      <td>0.0</td>\n",
              "      <td>0.0</td>\n",
              "      <td>NaN</td>\n",
              "      <td>Holiday</td>\n",
              "      <td>National</td>\n",
              "      <td>Ecuador</td>\n",
              "      <td>Primer dia del ano</td>\n",
              "      <td>False</td>\n",
              "      <td>94.756667</td>\n",
              "      <td>Quito</td>\n",
              "      <td>Pichincha</td>\n",
              "      <td>D</td>\n",
              "      <td>13.0</td>\n",
              "    </tr>\n",
              "    <tr>\n",
              "      <th>1</th>\n",
              "      <td>2013-01-01</td>\n",
              "      <td>1.0</td>\n",
              "      <td>1.0</td>\n",
              "      <td>BABY CARE</td>\n",
              "      <td>0.0</td>\n",
              "      <td>0.0</td>\n",
              "      <td>NaN</td>\n",
              "      <td>Holiday</td>\n",
              "      <td>National</td>\n",
              "      <td>Ecuador</td>\n",
              "      <td>Primer dia del ano</td>\n",
              "      <td>False</td>\n",
              "      <td>94.756667</td>\n",
              "      <td>Quito</td>\n",
              "      <td>Pichincha</td>\n",
              "      <td>D</td>\n",
              "      <td>13.0</td>\n",
              "    </tr>\n",
              "    <tr>\n",
              "      <th>2</th>\n",
              "      <td>2013-01-01</td>\n",
              "      <td>2.0</td>\n",
              "      <td>1.0</td>\n",
              "      <td>BEAUTY</td>\n",
              "      <td>0.0</td>\n",
              "      <td>0.0</td>\n",
              "      <td>NaN</td>\n",
              "      <td>Holiday</td>\n",
              "      <td>National</td>\n",
              "      <td>Ecuador</td>\n",
              "      <td>Primer dia del ano</td>\n",
              "      <td>False</td>\n",
              "      <td>94.756667</td>\n",
              "      <td>Quito</td>\n",
              "      <td>Pichincha</td>\n",
              "      <td>D</td>\n",
              "      <td>13.0</td>\n",
              "    </tr>\n",
              "    <tr>\n",
              "      <th>3</th>\n",
              "      <td>2013-01-01</td>\n",
              "      <td>3.0</td>\n",
              "      <td>1.0</td>\n",
              "      <td>BEVERAGES</td>\n",
              "      <td>0.0</td>\n",
              "      <td>0.0</td>\n",
              "      <td>NaN</td>\n",
              "      <td>Holiday</td>\n",
              "      <td>National</td>\n",
              "      <td>Ecuador</td>\n",
              "      <td>Primer dia del ano</td>\n",
              "      <td>False</td>\n",
              "      <td>94.756667</td>\n",
              "      <td>Quito</td>\n",
              "      <td>Pichincha</td>\n",
              "      <td>D</td>\n",
              "      <td>13.0</td>\n",
              "    </tr>\n",
              "    <tr>\n",
              "      <th>4</th>\n",
              "      <td>2013-01-01</td>\n",
              "      <td>4.0</td>\n",
              "      <td>1.0</td>\n",
              "      <td>BOOKS</td>\n",
              "      <td>0.0</td>\n",
              "      <td>0.0</td>\n",
              "      <td>NaN</td>\n",
              "      <td>Holiday</td>\n",
              "      <td>National</td>\n",
              "      <td>Ecuador</td>\n",
              "      <td>Primer dia del ano</td>\n",
              "      <td>False</td>\n",
              "      <td>94.756667</td>\n",
              "      <td>Quito</td>\n",
              "      <td>Pichincha</td>\n",
              "      <td>D</td>\n",
              "      <td>13.0</td>\n",
              "    </tr>\n",
              "  </tbody>\n",
              "</table>\n",
              "</div>\n",
              "      <button class=\"colab-df-convert\" onclick=\"convertToInteractive('df-739ac95b-769c-46ef-8f05-6447fdbde9c9')\"\n",
              "              title=\"Convert this dataframe to an interactive table.\"\n",
              "              style=\"display:none;\">\n",
              "        \n",
              "  <svg xmlns=\"http://www.w3.org/2000/svg\" height=\"24px\"viewBox=\"0 0 24 24\"\n",
              "       width=\"24px\">\n",
              "    <path d=\"M0 0h24v24H0V0z\" fill=\"none\"/>\n",
              "    <path d=\"M18.56 5.44l.94 2.06.94-2.06 2.06-.94-2.06-.94-.94-2.06-.94 2.06-2.06.94zm-11 1L8.5 8.5l.94-2.06 2.06-.94-2.06-.94L8.5 2.5l-.94 2.06-2.06.94zm10 10l.94 2.06.94-2.06 2.06-.94-2.06-.94-.94-2.06-.94 2.06-2.06.94z\"/><path d=\"M17.41 7.96l-1.37-1.37c-.4-.4-.92-.59-1.43-.59-.52 0-1.04.2-1.43.59L10.3 9.45l-7.72 7.72c-.78.78-.78 2.05 0 2.83L4 21.41c.39.39.9.59 1.41.59.51 0 1.02-.2 1.41-.59l7.78-7.78 2.81-2.81c.8-.78.8-2.07 0-2.86zM5.41 20L4 18.59l7.72-7.72 1.47 1.35L5.41 20z\"/>\n",
              "  </svg>\n",
              "      </button>\n",
              "      \n",
              "  <style>\n",
              "    .colab-df-container {\n",
              "      display:flex;\n",
              "      flex-wrap:wrap;\n",
              "      gap: 12px;\n",
              "    }\n",
              "\n",
              "    .colab-df-convert {\n",
              "      background-color: #E8F0FE;\n",
              "      border: none;\n",
              "      border-radius: 50%;\n",
              "      cursor: pointer;\n",
              "      display: none;\n",
              "      fill: #1967D2;\n",
              "      height: 32px;\n",
              "      padding: 0 0 0 0;\n",
              "      width: 32px;\n",
              "    }\n",
              "\n",
              "    .colab-df-convert:hover {\n",
              "      background-color: #E2EBFA;\n",
              "      box-shadow: 0px 1px 2px rgba(60, 64, 67, 0.3), 0px 1px 3px 1px rgba(60, 64, 67, 0.15);\n",
              "      fill: #174EA6;\n",
              "    }\n",
              "\n",
              "    [theme=dark] .colab-df-convert {\n",
              "      background-color: #3B4455;\n",
              "      fill: #D2E3FC;\n",
              "    }\n",
              "\n",
              "    [theme=dark] .colab-df-convert:hover {\n",
              "      background-color: #434B5C;\n",
              "      box-shadow: 0px 1px 3px 1px rgba(0, 0, 0, 0.15);\n",
              "      filter: drop-shadow(0px 1px 2px rgba(0, 0, 0, 0.3));\n",
              "      fill: #FFFFFF;\n",
              "    }\n",
              "  </style>\n",
              "\n",
              "      <script>\n",
              "        const buttonEl =\n",
              "          document.querySelector('#df-739ac95b-769c-46ef-8f05-6447fdbde9c9 button.colab-df-convert');\n",
              "        buttonEl.style.display =\n",
              "          google.colab.kernel.accessAllowed ? 'block' : 'none';\n",
              "\n",
              "        async function convertToInteractive(key) {\n",
              "          const element = document.querySelector('#df-739ac95b-769c-46ef-8f05-6447fdbde9c9');\n",
              "          const dataTable =\n",
              "            await google.colab.kernel.invokeFunction('convertToInteractive',\n",
              "                                                     [key], {});\n",
              "          if (!dataTable) return;\n",
              "\n",
              "          const docLinkHtml = 'Like what you see? Visit the ' +\n",
              "            '<a target=\"_blank\" href=https://colab.research.google.com/notebooks/data_table.ipynb>data table notebook</a>'\n",
              "            + ' to learn more about interactive tables.';\n",
              "          element.innerHTML = '';\n",
              "          dataTable['output_type'] = 'display_data';\n",
              "          await google.colab.output.renderOutput(dataTable, element);\n",
              "          const docLink = document.createElement('div');\n",
              "          docLink.innerHTML = docLinkHtml;\n",
              "          element.appendChild(docLink);\n",
              "        }\n",
              "      </script>\n",
              "    </div>\n",
              "  </div>\n",
              "  "
            ]
          },
          "metadata": {},
          "execution_count": 22
        }
      ],
      "source": [
        "#Renaming Columns\n",
        "merged_data = merged_data.rename(columns={\"type_x\": \"holiday_type\", \"type_y\": \"store_type\"})\n",
        "merged_data.head()"
      ]
    },
    {
      "cell_type": "code",
      "execution_count": null,
      "metadata": {
        "colab": {
          "base_uri": "https://localhost:8080/",
          "height": 269
        },
        "id": "dMu0_tfZXmYb",
        "outputId": "410d155c-ffec-42d1-ffe6-22bc55189b2a",
        "scrolled": true
      },
      "outputs": [
        {
          "output_type": "execute_result",
          "data": {
            "text/plain": [
              "                  count          mean            std    min        25%  \\\n",
              "id            3054348.0  1.504277e+06  866261.012008   0.00  754676.75   \n",
              "store_nbr     3054348.0  2.750000e+01      15.585787   1.00      14.00   \n",
              "sales         3054348.0  3.590209e+02    1107.285897   0.00       0.00   \n",
              "onpromotion   3054348.0  2.617480e+00      12.254939   0.00       0.00   \n",
              "transactions  2805231.0  1.697071e+03     966.831652   5.00    1046.00   \n",
              "dcoilwtico    2175837.0  6.791923e+01      25.672600  26.19      46.53   \n",
              "cluster       3054348.0  8.481481e+00       4.649735   1.00       4.00   \n",
              "\n",
              "                     50%          75%         max  \n",
              "id            1507571.50  2255120.250  3000887.00  \n",
              "store_nbr          27.50       41.000       54.00  \n",
              "sales              11.00      196.011   124717.00  \n",
              "onpromotion         0.00        0.000      741.00  \n",
              "transactions     1395.00     2081.000     8359.00  \n",
              "dcoilwtico         53.38       95.610      110.62  \n",
              "cluster             8.50       13.000       17.00  "
            ],
            "text/html": [
              "\n",
              "  <div id=\"df-0cd88719-4542-4510-a37e-cc9d31143eef\">\n",
              "    <div class=\"colab-df-container\">\n",
              "      <div>\n",
              "<style scoped>\n",
              "    .dataframe tbody tr th:only-of-type {\n",
              "        vertical-align: middle;\n",
              "    }\n",
              "\n",
              "    .dataframe tbody tr th {\n",
              "        vertical-align: top;\n",
              "    }\n",
              "\n",
              "    .dataframe thead th {\n",
              "        text-align: right;\n",
              "    }\n",
              "</style>\n",
              "<table border=\"1\" class=\"dataframe\">\n",
              "  <thead>\n",
              "    <tr style=\"text-align: right;\">\n",
              "      <th></th>\n",
              "      <th>count</th>\n",
              "      <th>mean</th>\n",
              "      <th>std</th>\n",
              "      <th>min</th>\n",
              "      <th>25%</th>\n",
              "      <th>50%</th>\n",
              "      <th>75%</th>\n",
              "      <th>max</th>\n",
              "    </tr>\n",
              "  </thead>\n",
              "  <tbody>\n",
              "    <tr>\n",
              "      <th>id</th>\n",
              "      <td>3054348.0</td>\n",
              "      <td>1.504277e+06</td>\n",
              "      <td>866261.012008</td>\n",
              "      <td>0.00</td>\n",
              "      <td>754676.75</td>\n",
              "      <td>1507571.50</td>\n",
              "      <td>2255120.250</td>\n",
              "      <td>3000887.00</td>\n",
              "    </tr>\n",
              "    <tr>\n",
              "      <th>store_nbr</th>\n",
              "      <td>3054348.0</td>\n",
              "      <td>2.750000e+01</td>\n",
              "      <td>15.585787</td>\n",
              "      <td>1.00</td>\n",
              "      <td>14.00</td>\n",
              "      <td>27.50</td>\n",
              "      <td>41.000</td>\n",
              "      <td>54.00</td>\n",
              "    </tr>\n",
              "    <tr>\n",
              "      <th>sales</th>\n",
              "      <td>3054348.0</td>\n",
              "      <td>3.590209e+02</td>\n",
              "      <td>1107.285897</td>\n",
              "      <td>0.00</td>\n",
              "      <td>0.00</td>\n",
              "      <td>11.00</td>\n",
              "      <td>196.011</td>\n",
              "      <td>124717.00</td>\n",
              "    </tr>\n",
              "    <tr>\n",
              "      <th>onpromotion</th>\n",
              "      <td>3054348.0</td>\n",
              "      <td>2.617480e+00</td>\n",
              "      <td>12.254939</td>\n",
              "      <td>0.00</td>\n",
              "      <td>0.00</td>\n",
              "      <td>0.00</td>\n",
              "      <td>0.000</td>\n",
              "      <td>741.00</td>\n",
              "    </tr>\n",
              "    <tr>\n",
              "      <th>transactions</th>\n",
              "      <td>2805231.0</td>\n",
              "      <td>1.697071e+03</td>\n",
              "      <td>966.831652</td>\n",
              "      <td>5.00</td>\n",
              "      <td>1046.00</td>\n",
              "      <td>1395.00</td>\n",
              "      <td>2081.000</td>\n",
              "      <td>8359.00</td>\n",
              "    </tr>\n",
              "    <tr>\n",
              "      <th>dcoilwtico</th>\n",
              "      <td>2175837.0</td>\n",
              "      <td>6.791923e+01</td>\n",
              "      <td>25.672600</td>\n",
              "      <td>26.19</td>\n",
              "      <td>46.53</td>\n",
              "      <td>53.38</td>\n",
              "      <td>95.610</td>\n",
              "      <td>110.62</td>\n",
              "    </tr>\n",
              "    <tr>\n",
              "      <th>cluster</th>\n",
              "      <td>3054348.0</td>\n",
              "      <td>8.481481e+00</td>\n",
              "      <td>4.649735</td>\n",
              "      <td>1.00</td>\n",
              "      <td>4.00</td>\n",
              "      <td>8.50</td>\n",
              "      <td>13.000</td>\n",
              "      <td>17.00</td>\n",
              "    </tr>\n",
              "  </tbody>\n",
              "</table>\n",
              "</div>\n",
              "      <button class=\"colab-df-convert\" onclick=\"convertToInteractive('df-0cd88719-4542-4510-a37e-cc9d31143eef')\"\n",
              "              title=\"Convert this dataframe to an interactive table.\"\n",
              "              style=\"display:none;\">\n",
              "        \n",
              "  <svg xmlns=\"http://www.w3.org/2000/svg\" height=\"24px\"viewBox=\"0 0 24 24\"\n",
              "       width=\"24px\">\n",
              "    <path d=\"M0 0h24v24H0V0z\" fill=\"none\"/>\n",
              "    <path d=\"M18.56 5.44l.94 2.06.94-2.06 2.06-.94-2.06-.94-.94-2.06-.94 2.06-2.06.94zm-11 1L8.5 8.5l.94-2.06 2.06-.94-2.06-.94L8.5 2.5l-.94 2.06-2.06.94zm10 10l.94 2.06.94-2.06 2.06-.94-2.06-.94-.94-2.06-.94 2.06-2.06.94z\"/><path d=\"M17.41 7.96l-1.37-1.37c-.4-.4-.92-.59-1.43-.59-.52 0-1.04.2-1.43.59L10.3 9.45l-7.72 7.72c-.78.78-.78 2.05 0 2.83L4 21.41c.39.39.9.59 1.41.59.51 0 1.02-.2 1.41-.59l7.78-7.78 2.81-2.81c.8-.78.8-2.07 0-2.86zM5.41 20L4 18.59l7.72-7.72 1.47 1.35L5.41 20z\"/>\n",
              "  </svg>\n",
              "      </button>\n",
              "      \n",
              "  <style>\n",
              "    .colab-df-container {\n",
              "      display:flex;\n",
              "      flex-wrap:wrap;\n",
              "      gap: 12px;\n",
              "    }\n",
              "\n",
              "    .colab-df-convert {\n",
              "      background-color: #E8F0FE;\n",
              "      border: none;\n",
              "      border-radius: 50%;\n",
              "      cursor: pointer;\n",
              "      display: none;\n",
              "      fill: #1967D2;\n",
              "      height: 32px;\n",
              "      padding: 0 0 0 0;\n",
              "      width: 32px;\n",
              "    }\n",
              "\n",
              "    .colab-df-convert:hover {\n",
              "      background-color: #E2EBFA;\n",
              "      box-shadow: 0px 1px 2px rgba(60, 64, 67, 0.3), 0px 1px 3px 1px rgba(60, 64, 67, 0.15);\n",
              "      fill: #174EA6;\n",
              "    }\n",
              "\n",
              "    [theme=dark] .colab-df-convert {\n",
              "      background-color: #3B4455;\n",
              "      fill: #D2E3FC;\n",
              "    }\n",
              "\n",
              "    [theme=dark] .colab-df-convert:hover {\n",
              "      background-color: #434B5C;\n",
              "      box-shadow: 0px 1px 3px 1px rgba(0, 0, 0, 0.15);\n",
              "      filter: drop-shadow(0px 1px 2px rgba(0, 0, 0, 0.3));\n",
              "      fill: #FFFFFF;\n",
              "    }\n",
              "  </style>\n",
              "\n",
              "      <script>\n",
              "        const buttonEl =\n",
              "          document.querySelector('#df-0cd88719-4542-4510-a37e-cc9d31143eef button.colab-df-convert');\n",
              "        buttonEl.style.display =\n",
              "          google.colab.kernel.accessAllowed ? 'block' : 'none';\n",
              "\n",
              "        async function convertToInteractive(key) {\n",
              "          const element = document.querySelector('#df-0cd88719-4542-4510-a37e-cc9d31143eef');\n",
              "          const dataTable =\n",
              "            await google.colab.kernel.invokeFunction('convertToInteractive',\n",
              "                                                     [key], {});\n",
              "          if (!dataTable) return;\n",
              "\n",
              "          const docLinkHtml = 'Like what you see? Visit the ' +\n",
              "            '<a target=\"_blank\" href=https://colab.research.google.com/notebooks/data_table.ipynb>data table notebook</a>'\n",
              "            + ' to learn more about interactive tables.';\n",
              "          element.innerHTML = '';\n",
              "          dataTable['output_type'] = 'display_data';\n",
              "          await google.colab.output.renderOutput(dataTable, element);\n",
              "          const docLink = document.createElement('div');\n",
              "          docLink.innerHTML = docLinkHtml;\n",
              "          element.appendChild(docLink);\n",
              "        }\n",
              "      </script>\n",
              "    </div>\n",
              "  </div>\n",
              "  "
            ]
          },
          "metadata": {},
          "execution_count": 23
        }
      ],
      "source": [
        "merged_data.describe().T"
      ]
    },
    {
      "cell_type": "markdown",
      "metadata": {
        "id": "o-zaWGbSyQCv"
      },
      "source": [
        "#### Missing Values after merge"
      ]
    },
    {
      "cell_type": "code",
      "execution_count": null,
      "metadata": {
        "colab": {
          "base_uri": "https://localhost:8080/"
        },
        "id": "AAYvjNn6yQCv",
        "outputId": "815e9021-ab72-4f76-921e-878b177ffa10"
      },
      "outputs": [
        {
          "output_type": "execute_result",
          "data": {
            "text/plain": [
              "date             0.000000\n",
              "id               0.002586\n",
              "store_nbr        0.002586\n",
              "family           0.002586\n",
              "sales            0.002586\n",
              "onpromotion      0.002586\n",
              "transactions     8.158519\n",
              "holiday_type    83.545457\n",
              "locale          83.545457\n",
              "locale_name     83.545457\n",
              "description     83.545457\n",
              "transferred     83.545457\n",
              "dcoilwtico      28.764479\n",
              "city             0.002586\n",
              "state            0.002586\n",
              "store_type       0.002586\n",
              "cluster          0.002586\n",
              "dtype: float64"
            ]
          },
          "metadata": {},
          "execution_count": 24
        }
      ],
      "source": [
        "merged_data.isna().sum()/len(merged_data)*100"
      ]
    },
    {
      "cell_type": "markdown",
      "metadata": {
        "id": "6Q7QSyuxyQCw"
      },
      "source": [
        "#### Approach:\n",
        "* Drop missing values in sales column\n",
        "* Create new category for missing values in holidays"
      ]
    },
    {
      "cell_type": "code",
      "execution_count": null,
      "metadata": {
        "id": "HYCF-v4EyQCx"
      },
      "outputs": [],
      "source": [
        "#drop missing values in sales\n",
        "merged_data.dropna(subset=['sales'],inplace=True)"
      ]
    },
    {
      "cell_type": "code",
      "execution_count": null,
      "metadata": {
        "id": "2_OUycrlyQCx"
      },
      "outputs": [],
      "source": [
        "#All unique columns in the holiday column\n",
        "merged_data['holiday_type'].unique()\n",
        "\n",
        "#Replacing missing values with a new category\n",
        "merged_data['holiday_type'].replace(np.nan,'Not Holiday', inplace=True)\n",
        "\n"
      ]
    },
    {
      "cell_type": "code",
      "execution_count": null,
      "metadata": {
        "colab": {
          "base_uri": "https://localhost:8080/"
        },
        "id": "rn-ZzSotyQCx",
        "outputId": "fd686299-bc4d-4458-9725-b2ba37d2395e"
      },
      "outputs": [
        {
          "output_type": "execute_result",
          "data": {
            "text/plain": [
              "date                  0\n",
              "id                    0\n",
              "store_nbr             0\n",
              "family                0\n",
              "sales                 0\n",
              "onpromotion           0\n",
              "transactions     249117\n",
              "holiday_type          0\n",
              "locale          2551824\n",
              "locale_name     2551824\n",
              "description     2551824\n",
              "transferred     2551824\n",
              "dcoilwtico       878526\n",
              "city                  0\n",
              "state                 0\n",
              "store_type            0\n",
              "cluster               0\n",
              "dtype: int64"
            ]
          },
          "metadata": {},
          "execution_count": 27
        }
      ],
      "source": [
        "merged_data.isna().sum()"
      ]
    },
    {
      "cell_type": "markdown",
      "metadata": {
        "id": "u3Pk5r-7u12w"
      },
      "source": [
        "### Analysis"
      ]
    },
    {
      "cell_type": "markdown",
      "metadata": {
        "id": "0kB6FkWtvFNF"
      },
      "source": [
        "### 1. Is the train dataset complete (has all the required dates)?"
      ]
    },
    {
      "cell_type": "code",
      "execution_count": null,
      "metadata": {
        "colab": {
          "base_uri": "https://localhost:8080/"
        },
        "id": "s7VlHoRPykaD",
        "outputId": "2993b2dc-8fd4-488d-9a62-38236e4b7637"
      },
      "outputs": [
        {
          "output_type": "stream",
          "name": "stdout",
          "text": [
            "The time series is not complete. The following dates are missing:\n",
            "DatetimeIndex(['2013-12-25', '2014-12-25', '2015-12-25', '2016-12-25'], dtype='datetime64[ns]', freq=None)\n"
          ]
        }
      ],
      "source": [
        "# Create a date range from the first date to the last date in the series\n",
        "date_range = pd.date_range(start=train.index.min(), end=train.index.max())\n",
        "\n",
        "# Check if there are any dates in the range that are not in the index\n",
        "missing_dates = date_range.difference(train.index)\n",
        "\n",
        "if len(missing_dates) == 0:\n",
        "    print(\"The time series is complete.\")\n",
        "else:\n",
        "    print(\"The time series is not complete. The following dates are missing:\")\n",
        "    print(missing_dates)"
      ]
    },
    {
      "cell_type": "markdown",
      "metadata": {
        "id": "XCAEnubIyQC2"
      },
      "source": [
        "### 2.  Which dates have the lowest and highest sales for each year?"
      ]
    },
    {
      "cell_type": "code",
      "execution_count": null,
      "metadata": {
        "id": "RnI0MR_nu0Ef"
      },
      "outputs": [],
      "source": [
        "merged_data['year'] = pd.to_datetime(merged_data['date']).dt.year\n",
        "\n",
        "\n",
        "\n",
        "#Group merged_data by year and date\n",
        "grouped_data = merged_data.groupby(['year', 'date'])\n",
        "\n",
        "#Calculate total sales for each date\n",
        "sales_by_date = grouped_data['sales'].sum()\n",
        "\n",
        "\n",
        "# Putting everything in a dataframe\n",
        "pd.set_option('display.float_format', lambda x: f'{x:,.3f}')\n",
        "lowest_sales = pd.DataFrame(sales_by_date.groupby('year').nsmallest(1))\n",
        "highest_sales = pd.DataFrame(sales_by_date.groupby('year').nlargest(1))\n",
        "\n",
        "\n",
        "\n",
        "# # Print dates with lowest and highest sales for each year\n",
        "# # for year in merged_data['year'].unique():\n",
        "# #     print(\"Year:\", year)\n",
        "# # print(\"Lowest sales:\", lowest_sales['sales'])\n",
        "# # print(\"Highest sales:\", highest_sales['sales'])\n",
        "# # print(\"-\" * 50)\n"
      ]
    },
    {
      "cell_type": "code",
      "execution_count": null,
      "metadata": {
        "colab": {
          "base_uri": "https://localhost:8080/",
          "height": 238
        },
        "id": "xBX1lPB5yQC3",
        "outputId": "68345c9e-c846-4441-8ee6-e999c33292e2"
      },
      "outputs": [
        {
          "output_type": "execute_result",
          "data": {
            "text/plain": [
              "                             sales\n",
              "year year date                    \n",
              "2013 2013 2013-12-22 1,392,590.294\n",
              "2014 2014 2014-12-22 2,016,286.692\n",
              "2015 2015 2015-12-22 2,283,723.819\n",
              "2016 2016 2016-06-25 2,580,890.505\n",
              "2017 2017 2017-06-25 3,277,832.576"
            ],
            "text/html": [
              "\n",
              "  <div id=\"df-dc835152-564c-48fe-8c9a-4468e359616b\">\n",
              "    <div class=\"colab-df-container\">\n",
              "      <div>\n",
              "<style scoped>\n",
              "    .dataframe tbody tr th:only-of-type {\n",
              "        vertical-align: middle;\n",
              "    }\n",
              "\n",
              "    .dataframe tbody tr th {\n",
              "        vertical-align: top;\n",
              "    }\n",
              "\n",
              "    .dataframe thead th {\n",
              "        text-align: right;\n",
              "    }\n",
              "</style>\n",
              "<table border=\"1\" class=\"dataframe\">\n",
              "  <thead>\n",
              "    <tr style=\"text-align: right;\">\n",
              "      <th></th>\n",
              "      <th></th>\n",
              "      <th></th>\n",
              "      <th>sales</th>\n",
              "    </tr>\n",
              "    <tr>\n",
              "      <th>year</th>\n",
              "      <th>year</th>\n",
              "      <th>date</th>\n",
              "      <th></th>\n",
              "    </tr>\n",
              "  </thead>\n",
              "  <tbody>\n",
              "    <tr>\n",
              "      <th>2013</th>\n",
              "      <th>2013</th>\n",
              "      <th>2013-12-22</th>\n",
              "      <td>1,392,590.294</td>\n",
              "    </tr>\n",
              "    <tr>\n",
              "      <th>2014</th>\n",
              "      <th>2014</th>\n",
              "      <th>2014-12-22</th>\n",
              "      <td>2,016,286.692</td>\n",
              "    </tr>\n",
              "    <tr>\n",
              "      <th>2015</th>\n",
              "      <th>2015</th>\n",
              "      <th>2015-12-22</th>\n",
              "      <td>2,283,723.819</td>\n",
              "    </tr>\n",
              "    <tr>\n",
              "      <th>2016</th>\n",
              "      <th>2016</th>\n",
              "      <th>2016-06-25</th>\n",
              "      <td>2,580,890.505</td>\n",
              "    </tr>\n",
              "    <tr>\n",
              "      <th>2017</th>\n",
              "      <th>2017</th>\n",
              "      <th>2017-06-25</th>\n",
              "      <td>3,277,832.576</td>\n",
              "    </tr>\n",
              "  </tbody>\n",
              "</table>\n",
              "</div>\n",
              "      <button class=\"colab-df-convert\" onclick=\"convertToInteractive('df-dc835152-564c-48fe-8c9a-4468e359616b')\"\n",
              "              title=\"Convert this dataframe to an interactive table.\"\n",
              "              style=\"display:none;\">\n",
              "        \n",
              "  <svg xmlns=\"http://www.w3.org/2000/svg\" height=\"24px\"viewBox=\"0 0 24 24\"\n",
              "       width=\"24px\">\n",
              "    <path d=\"M0 0h24v24H0V0z\" fill=\"none\"/>\n",
              "    <path d=\"M18.56 5.44l.94 2.06.94-2.06 2.06-.94-2.06-.94-.94-2.06-.94 2.06-2.06.94zm-11 1L8.5 8.5l.94-2.06 2.06-.94-2.06-.94L8.5 2.5l-.94 2.06-2.06.94zm10 10l.94 2.06.94-2.06 2.06-.94-2.06-.94-.94-2.06-.94 2.06-2.06.94z\"/><path d=\"M17.41 7.96l-1.37-1.37c-.4-.4-.92-.59-1.43-.59-.52 0-1.04.2-1.43.59L10.3 9.45l-7.72 7.72c-.78.78-.78 2.05 0 2.83L4 21.41c.39.39.9.59 1.41.59.51 0 1.02-.2 1.41-.59l7.78-7.78 2.81-2.81c.8-.78.8-2.07 0-2.86zM5.41 20L4 18.59l7.72-7.72 1.47 1.35L5.41 20z\"/>\n",
              "  </svg>\n",
              "      </button>\n",
              "      \n",
              "  <style>\n",
              "    .colab-df-container {\n",
              "      display:flex;\n",
              "      flex-wrap:wrap;\n",
              "      gap: 12px;\n",
              "    }\n",
              "\n",
              "    .colab-df-convert {\n",
              "      background-color: #E8F0FE;\n",
              "      border: none;\n",
              "      border-radius: 50%;\n",
              "      cursor: pointer;\n",
              "      display: none;\n",
              "      fill: #1967D2;\n",
              "      height: 32px;\n",
              "      padding: 0 0 0 0;\n",
              "      width: 32px;\n",
              "    }\n",
              "\n",
              "    .colab-df-convert:hover {\n",
              "      background-color: #E2EBFA;\n",
              "      box-shadow: 0px 1px 2px rgba(60, 64, 67, 0.3), 0px 1px 3px 1px rgba(60, 64, 67, 0.15);\n",
              "      fill: #174EA6;\n",
              "    }\n",
              "\n",
              "    [theme=dark] .colab-df-convert {\n",
              "      background-color: #3B4455;\n",
              "      fill: #D2E3FC;\n",
              "    }\n",
              "\n",
              "    [theme=dark] .colab-df-convert:hover {\n",
              "      background-color: #434B5C;\n",
              "      box-shadow: 0px 1px 3px 1px rgba(0, 0, 0, 0.15);\n",
              "      filter: drop-shadow(0px 1px 2px rgba(0, 0, 0, 0.3));\n",
              "      fill: #FFFFFF;\n",
              "    }\n",
              "  </style>\n",
              "\n",
              "      <script>\n",
              "        const buttonEl =\n",
              "          document.querySelector('#df-dc835152-564c-48fe-8c9a-4468e359616b button.colab-df-convert');\n",
              "        buttonEl.style.display =\n",
              "          google.colab.kernel.accessAllowed ? 'block' : 'none';\n",
              "\n",
              "        async function convertToInteractive(key) {\n",
              "          const element = document.querySelector('#df-dc835152-564c-48fe-8c9a-4468e359616b');\n",
              "          const dataTable =\n",
              "            await google.colab.kernel.invokeFunction('convertToInteractive',\n",
              "                                                     [key], {});\n",
              "          if (!dataTable) return;\n",
              "\n",
              "          const docLinkHtml = 'Like what you see? Visit the ' +\n",
              "            '<a target=\"_blank\" href=https://colab.research.google.com/notebooks/data_table.ipynb>data table notebook</a>'\n",
              "            + ' to learn more about interactive tables.';\n",
              "          element.innerHTML = '';\n",
              "          dataTable['output_type'] = 'display_data';\n",
              "          await google.colab.output.renderOutput(dataTable, element);\n",
              "          const docLink = document.createElement('div');\n",
              "          docLink.innerHTML = docLinkHtml;\n",
              "          element.appendChild(docLink);\n",
              "        }\n",
              "      </script>\n",
              "    </div>\n",
              "  </div>\n",
              "  "
            ]
          },
          "metadata": {},
          "execution_count": 30
        }
      ],
      "source": [
        "#Dates with highest sales\n",
        "highest_sales"
      ]
    },
    {
      "cell_type": "code",
      "execution_count": null,
      "metadata": {
        "colab": {
          "base_uri": "https://localhost:8080/",
          "height": 238
        },
        "id": "0OVmyGhDyQC3",
        "outputId": "b2bb089b-cfaa-4e0f-d3f5-648501b9ff45"
      },
      "outputs": [
        {
          "output_type": "execute_result",
          "data": {
            "text/plain": [
              "                          sales\n",
              "year year date                 \n",
              "2013 2013 2013-01-01  2,511.619\n",
              "2014 2014 2014-01-01  8,602.065\n",
              "2015 2015 2015-01-01 12,773.617\n",
              "2016 2016 2016-01-01 16,433.394\n",
              "2017 2017 2017-01-01 12,082.501"
            ],
            "text/html": [
              "\n",
              "  <div id=\"df-83dfcbf7-13d0-4451-a042-b5d7fbf67bed\">\n",
              "    <div class=\"colab-df-container\">\n",
              "      <div>\n",
              "<style scoped>\n",
              "    .dataframe tbody tr th:only-of-type {\n",
              "        vertical-align: middle;\n",
              "    }\n",
              "\n",
              "    .dataframe tbody tr th {\n",
              "        vertical-align: top;\n",
              "    }\n",
              "\n",
              "    .dataframe thead th {\n",
              "        text-align: right;\n",
              "    }\n",
              "</style>\n",
              "<table border=\"1\" class=\"dataframe\">\n",
              "  <thead>\n",
              "    <tr style=\"text-align: right;\">\n",
              "      <th></th>\n",
              "      <th></th>\n",
              "      <th></th>\n",
              "      <th>sales</th>\n",
              "    </tr>\n",
              "    <tr>\n",
              "      <th>year</th>\n",
              "      <th>year</th>\n",
              "      <th>date</th>\n",
              "      <th></th>\n",
              "    </tr>\n",
              "  </thead>\n",
              "  <tbody>\n",
              "    <tr>\n",
              "      <th>2013</th>\n",
              "      <th>2013</th>\n",
              "      <th>2013-01-01</th>\n",
              "      <td>2,511.619</td>\n",
              "    </tr>\n",
              "    <tr>\n",
              "      <th>2014</th>\n",
              "      <th>2014</th>\n",
              "      <th>2014-01-01</th>\n",
              "      <td>8,602.065</td>\n",
              "    </tr>\n",
              "    <tr>\n",
              "      <th>2015</th>\n",
              "      <th>2015</th>\n",
              "      <th>2015-01-01</th>\n",
              "      <td>12,773.617</td>\n",
              "    </tr>\n",
              "    <tr>\n",
              "      <th>2016</th>\n",
              "      <th>2016</th>\n",
              "      <th>2016-01-01</th>\n",
              "      <td>16,433.394</td>\n",
              "    </tr>\n",
              "    <tr>\n",
              "      <th>2017</th>\n",
              "      <th>2017</th>\n",
              "      <th>2017-01-01</th>\n",
              "      <td>12,082.501</td>\n",
              "    </tr>\n",
              "  </tbody>\n",
              "</table>\n",
              "</div>\n",
              "      <button class=\"colab-df-convert\" onclick=\"convertToInteractive('df-83dfcbf7-13d0-4451-a042-b5d7fbf67bed')\"\n",
              "              title=\"Convert this dataframe to an interactive table.\"\n",
              "              style=\"display:none;\">\n",
              "        \n",
              "  <svg xmlns=\"http://www.w3.org/2000/svg\" height=\"24px\"viewBox=\"0 0 24 24\"\n",
              "       width=\"24px\">\n",
              "    <path d=\"M0 0h24v24H0V0z\" fill=\"none\"/>\n",
              "    <path d=\"M18.56 5.44l.94 2.06.94-2.06 2.06-.94-2.06-.94-.94-2.06-.94 2.06-2.06.94zm-11 1L8.5 8.5l.94-2.06 2.06-.94-2.06-.94L8.5 2.5l-.94 2.06-2.06.94zm10 10l.94 2.06.94-2.06 2.06-.94-2.06-.94-.94-2.06-.94 2.06-2.06.94z\"/><path d=\"M17.41 7.96l-1.37-1.37c-.4-.4-.92-.59-1.43-.59-.52 0-1.04.2-1.43.59L10.3 9.45l-7.72 7.72c-.78.78-.78 2.05 0 2.83L4 21.41c.39.39.9.59 1.41.59.51 0 1.02-.2 1.41-.59l7.78-7.78 2.81-2.81c.8-.78.8-2.07 0-2.86zM5.41 20L4 18.59l7.72-7.72 1.47 1.35L5.41 20z\"/>\n",
              "  </svg>\n",
              "      </button>\n",
              "      \n",
              "  <style>\n",
              "    .colab-df-container {\n",
              "      display:flex;\n",
              "      flex-wrap:wrap;\n",
              "      gap: 12px;\n",
              "    }\n",
              "\n",
              "    .colab-df-convert {\n",
              "      background-color: #E8F0FE;\n",
              "      border: none;\n",
              "      border-radius: 50%;\n",
              "      cursor: pointer;\n",
              "      display: none;\n",
              "      fill: #1967D2;\n",
              "      height: 32px;\n",
              "      padding: 0 0 0 0;\n",
              "      width: 32px;\n",
              "    }\n",
              "\n",
              "    .colab-df-convert:hover {\n",
              "      background-color: #E2EBFA;\n",
              "      box-shadow: 0px 1px 2px rgba(60, 64, 67, 0.3), 0px 1px 3px 1px rgba(60, 64, 67, 0.15);\n",
              "      fill: #174EA6;\n",
              "    }\n",
              "\n",
              "    [theme=dark] .colab-df-convert {\n",
              "      background-color: #3B4455;\n",
              "      fill: #D2E3FC;\n",
              "    }\n",
              "\n",
              "    [theme=dark] .colab-df-convert:hover {\n",
              "      background-color: #434B5C;\n",
              "      box-shadow: 0px 1px 3px 1px rgba(0, 0, 0, 0.15);\n",
              "      filter: drop-shadow(0px 1px 2px rgba(0, 0, 0, 0.3));\n",
              "      fill: #FFFFFF;\n",
              "    }\n",
              "  </style>\n",
              "\n",
              "      <script>\n",
              "        const buttonEl =\n",
              "          document.querySelector('#df-83dfcbf7-13d0-4451-a042-b5d7fbf67bed button.colab-df-convert');\n",
              "        buttonEl.style.display =\n",
              "          google.colab.kernel.accessAllowed ? 'block' : 'none';\n",
              "\n",
              "        async function convertToInteractive(key) {\n",
              "          const element = document.querySelector('#df-83dfcbf7-13d0-4451-a042-b5d7fbf67bed');\n",
              "          const dataTable =\n",
              "            await google.colab.kernel.invokeFunction('convertToInteractive',\n",
              "                                                     [key], {});\n",
              "          if (!dataTable) return;\n",
              "\n",
              "          const docLinkHtml = 'Like what you see? Visit the ' +\n",
              "            '<a target=\"_blank\" href=https://colab.research.google.com/notebooks/data_table.ipynb>data table notebook</a>'\n",
              "            + ' to learn more about interactive tables.';\n",
              "          element.innerHTML = '';\n",
              "          dataTable['output_type'] = 'display_data';\n",
              "          await google.colab.output.renderOutput(dataTable, element);\n",
              "          const docLink = document.createElement('div');\n",
              "          docLink.innerHTML = docLinkHtml;\n",
              "          element.appendChild(docLink);\n",
              "        }\n",
              "      </script>\n",
              "    </div>\n",
              "  </div>\n",
              "  "
            ]
          },
          "metadata": {},
          "execution_count": 31
        }
      ],
      "source": [
        "#Dates with lowest sales\n",
        "lowest_sales"
      ]
    },
    {
      "cell_type": "code",
      "execution_count": null,
      "metadata": {
        "colab": {
          "base_uri": "https://localhost:8080/",
          "height": 1000,
          "referenced_widgets": [
            "acacbc19e75a44d4b0aab3e423bb24bd",
            "10588861ec114aab9f914e743e962f36"
          ]
        },
        "id": "o4E_qHKrm57g",
        "outputId": "e422a216-a175-4634-e7e2-fbdea21a87af"
      },
      "outputs": [
        {
          "output_type": "display_data",
          "data": {
            "text/plain": [
              "Output()"
            ],
            "application/vnd.jupyter.widget-view+json": {
              "version_major": 2,
              "version_minor": 0,
              "model_id": "acacbc19e75a44d4b0aab3e423bb24bd"
            }
          },
          "metadata": {}
        }
      ],
      "source": [
        "# Group the merged_data by year and date, and calculate the minimum and maximum sales for each date\n",
        "sales_by_date = merged_data.groupby(['year', 'date'])['sales'].agg(['min', 'max'])\n",
        "\n",
        "# Create a slide object\n",
        "slide = widgets.Output()\n",
        "\n",
        "# Loop through each year, and plot the minimum and maximum sales for each date as two lines\n",
        "for year in sales_by_date.index.get_level_values('year').unique():\n",
        "    data = sales_by_date.loc[year]\n",
        "    fig, ax = plt.subplots(figsize=(8, 2))\n",
        "    ax.plot(data.index.get_level_values('date'), data['min'], label=f'Min Sales {year}')\n",
        "    ax.plot(data.index.get_level_values('date'), data['max'], label=f'Max Sales {year}')\n",
        "    ax.set_title(f'Lowest and Highest Sales for {year}')\n",
        "    ax.set_xlabel('Date')\n",
        "    ax.set_ylabel('Sales')\n",
        "    ax.legend()\n",
        "    # Display the figure in the slide\n",
        "    with slide:\n",
        "        display(fig)\n",
        "    plt.close(fig)\n",
        "\n",
        "# Display the slide\n",
        "display(slide)\n"
      ]
    },
    {
      "cell_type": "markdown",
      "metadata": {
        "id": "k6AdSAW5yQC4"
      },
      "source": [
        "#### Insights:\n",
        " * From 2013 to 2015, the highest sales have been recorded in December.\n",
        " * However, the trends changed in 2016 and 2017 where the highest sales were recorded in June.\n",
        " * Perhaps, more promotions were carried out in June as compared to December"
      ]
    },
    {
      "cell_type": "markdown",
      "metadata": {
        "id": "P92F4izS1oAm"
      },
      "source": [
        "### 3. Did the earthquake impact sales?\n",
        "\n",
        " A magnitude 7.8 earthquake struck Ecuador on April 16, 2016. People rallied in relief efforts donating water and other first need products which greatly affected supermarket sales for several weeks after the earthquake."
      ]
    },
    {
      "cell_type": "code",
      "execution_count": null,
      "metadata": {
        "colab": {
          "base_uri": "https://localhost:8080/"
        },
        "id": "u9qo-Y4HhWxm",
        "outputId": "cd98ca08-5c5e-4b3d-a3b5-f7afffd39f62"
      },
      "outputs": [
        {
          "output_type": "stream",
          "name": "stdout",
          "text": [
            "The sales for the date 2016-04-16 is $862,121.49\n"
          ]
        }
      ],
      "source": [
        "# merged_data[merged_data['date'] == '2016-04-16']['sales'].sum()\n",
        "date = '2016-04-16'\n",
        "sales_sum = merged_data[merged_data['date'] == date]['sales'].sum()\n",
        "print(\"The sales for the date {} is ${:,.2f}\".format(date, sales_sum))\n"
      ]
    },
    {
      "cell_type": "code",
      "execution_count": null,
      "metadata": {
        "colab": {
          "base_uri": "https://localhost:8080/",
          "height": 407
        },
        "id": "s9dFLntm_Vmo",
        "outputId": "0784296b-e8f9-4dbc-9108-a0a1e63d1e1c"
      },
      "outputs": [
        {
          "output_type": "display_data",
          "data": {
            "text/plain": [
              "<Figure size 2000x600 with 1 Axes>"
            ],
            "image/png": "[encoded data removed]"
          },
          "metadata": {}
        }
      ],
      "source": [
        "#define earthquake date\n",
        "earthquake = [pd.to_datetime('2016-04-16')]\n",
        "\n",
        "#Obtain 2016 dataset\n",
        "data16 = merged_data[merged_data['year'] ==2016]\n",
        "\n",
        "#Plotting\n",
        "ax = data16.groupby(['date'],as_index=False)['sales'].sum().plot(\n",
        "    'date', 'sales', figsize=(20,6))\n",
        "ax.axvline(earthquake, color='purple', linestyle='--')\n",
        "ax.legend(['sales', 'earthquake'])\n",
        "plt.title('Sales Trend in 2016',fontsize = 20)\n",
        "plt.xlabel('Month',fontsize = 15)\n",
        "plt.ylabel('Sales in Millions', fontsize=15);"
      ]
    },
    {
      "cell_type": "markdown",
      "metadata": {
        "id": "8s7CfCOrbl7A"
      },
      "source": [
        "#### Insights\n",
        "From the Graph:\n",
        "* Sales were on a steady rise from previous weeks prior the earthquake.\n",
        "* A few days after the earthquake, sales took a dip but rose steadily for about a week and suffered a major dip until May.\n",
        " "
      ]
    },
    {
      "cell_type": "markdown",
      "metadata": {
        "id": "iW6C56bT3Tqd"
      },
      "source": [
        "### 4. Are certain groups of stores selling more products? (Cluster, city, state, type)"
      ]
    },
    {
      "cell_type": "markdown",
      "metadata": {
        "id": "z9XflyCTyQC8"
      },
      "source": [
        "#### Collective grouping of cluster, city,state,type by transactions made"
      ]
    },
    {
      "cell_type": "code",
      "execution_count": null,
      "metadata": {
        "colab": {
          "base_uri": "https://localhost:8080/"
        },
        "id": "I3SQeRiz5vo3",
        "outputId": "f0aa8d75-b398-4e2e-9400-a6735ce3b758"
      },
      "outputs": [
        {
          "output_type": "stream",
          "name": "stdout",
          "text": [
            "cluster  city           state                           type\n",
            "1        Daule          Guayas                          D        2485687\n",
            "         Guayaquil      Guayas                          D        3568206\n",
            "         Salinas        Santa Elena                     D        1520362\n",
            "2        Cuenca         Azuay                           D        3284365\n",
            "3        El Carmen      Manabi                          C        1451290\n",
            "         Guayaquil      Guayas                          C        2236356\n",
            "         Machala        El Oro                          C        2181195\n",
            "         Playas         Guayas                          C        1123889\n",
            "         Quevedo        Los Rios                        C        1743003\n",
            "         Santo Domingo  Santo Domingo de los Tsachilas  C        1464498\n",
            "4        Loja           Loja                            D        2867052\n",
            "         Machala        El Oro                          D        1764146\n",
            "         Santo Domingo  Santo Domingo de los Tsachilas  D        2347877\n",
            "5        Quito          Pichincha                       A        7273093\n",
            "6        Cayambe        Pichincha                       B        3972488\n",
            "         Cuenca         Azuay                           B        2389482\n",
            "         Guayaquil      Guayas                          B        3864018\n",
            "         Quito          Pichincha                       B        4938701\n",
            "         Santo Domingo  Santo Domingo de los Tsachilas  B         842891\n",
            "7        Puyo           Pastaza                         C         504156\n",
            "         Riobamba       Chimborazo                      C        2287850\n",
            "8        Quito          Pichincha                       D       13000314\n",
            "9        Ambato         Tungurahua                      D        1788171\n",
            "         Quito          Pichincha                       D        2519007\n",
            "10       Babahoyo       Los Rios                        B        2306044\n",
            "         Esmeraldas     Esmeraldas                      E        2182356\n",
            "         Guayaquil      Guayas                          D        1065059\n",
            "                                                        E        2939042\n",
            "         Libertad       Guayas                          E        1738129\n",
            "11       Manta          Manabi                          A         275393\n",
            "         Quito          Pichincha                       A       10775218\n",
            "12       Quito          Pichincha                       C        2295485\n",
            "13       Manta          Manabi                          D        1180082\n",
            "         Quito          Pichincha                       D        8839760\n",
            "14       Ambato         Tungurahua                      A        4384444\n",
            "         Quito          Pichincha                       A       17633708\n",
            "15       Guaranda       Bolivar                         C        2107489\n",
            "         Ibarra         Imbabura                        C        2209898\n",
            "         Latacunga      Cotopaxi                        C        3531356\n",
            "         Quito          Pichincha                       C        1652493\n",
            "16       Quito          Pichincha                       B        2071278\n",
            "17       Guayaquil      Guayas                          A        2873614\n",
            "Name: transactions, dtype: int64\n"
          ]
        }
      ],
      "source": [
        "# Here, the stores and transactions were merged to help analysis\n",
        "merged = pd.merge(stores, transactions, on='store_nbr')\n",
        "\n",
        "# group the merged dataset by cluster, city, state, and type and calculate the sum of transactions for each group\n",
        "grouped = merged.groupby(['cluster', 'city', 'state', 'type'])['transactions'].sum()\n",
        "\n",
        "# print the grouped data\n",
        "print(grouped)\n"
      ]
    },
    {
      "cell_type": "markdown",
      "metadata": {
        "id": "hHrgGcqkyQC9"
      },
      "source": [
        "#### Group transactions made by city"
      ]
    },
    {
      "cell_type": "code",
      "execution_count": null,
      "metadata": {
        "colab": {
          "base_uri": "https://localhost:8080/",
          "height": 739
        },
        "id": "WMa5HYb05vrY",
        "outputId": "03ba83a7-f70e-4166-f5ec-579859197b97"
      },
      "outputs": [
        {
          "output_type": "execute_result",
          "data": {
            "text/plain": [
              "             city  transactions\n",
              "18          Quito      70999057\n",
              "8       Guayaquil      16546295\n",
              "0          Ambato       6172615\n",
              "3          Cuenca       5673847\n",
              "21  Santo Domingo       4655266\n",
              "2         Cayambe       3972488\n",
              "13        Machala       3945341\n",
              "10      Latacunga       3531356\n",
              "12           Loja       2867052\n",
              "4           Daule       2485687\n",
              "1        Babahoyo       2306044\n",
              "19       Riobamba       2287850\n",
              "9          Ibarra       2209898\n",
              "6      Esmeraldas       2182356\n",
              "7        Guaranda       2107489\n",
              "17        Quevedo       1743003\n",
              "11       Libertad       1738129\n",
              "20        Salinas       1520362\n",
              "14          Manta       1455475\n",
              "5       El Carmen       1451290\n",
              "15         Playas       1123889\n",
              "16           Puyo        504156"
            ],
            "text/html": [
              "\n",
              "  <div id=\"df-a4609752-6749-46a6-985b-aa0d6496c55f\">\n",
              "    <div class=\"colab-df-container\">\n",
              "      <div>\n",
              "<style scoped>\n",
              "    .dataframe tbody tr th:only-of-type {\n",
              "        vertical-align: middle;\n",
              "    }\n",
              "\n",
              "    .dataframe tbody tr th {\n",
              "        vertical-align: top;\n",
              "    }\n",
              "\n",
              "    .dataframe thead th {\n",
              "        text-align: right;\n",
              "    }\n",
              "</style>\n",
              "<table border=\"1\" class=\"dataframe\">\n",
              "  <thead>\n",
              "    <tr style=\"text-align: right;\">\n",
              "      <th></th>\n",
              "      <th>city</th>\n",
              "      <th>transactions</th>\n",
              "    </tr>\n",
              "  </thead>\n",
              "  <tbody>\n",
              "    <tr>\n",
              "      <th>18</th>\n",
              "      <td>Quito</td>\n",
              "      <td>70999057</td>\n",
              "    </tr>\n",
              "    <tr>\n",
              "      <th>8</th>\n",
              "      <td>Guayaquil</td>\n",
              "      <td>16546295</td>\n",
              "    </tr>\n",
              "    <tr>\n",
              "      <th>0</th>\n",
              "      <td>Ambato</td>\n",
              "      <td>6172615</td>\n",
              "    </tr>\n",
              "    <tr>\n",
              "      <th>3</th>\n",
              "      <td>Cuenca</td>\n",
              "      <td>5673847</td>\n",
              "    </tr>\n",
              "    <tr>\n",
              "      <th>21</th>\n",
              "      <td>Santo Domingo</td>\n",
              "      <td>4655266</td>\n",
              "    </tr>\n",
              "    <tr>\n",
              "      <th>2</th>\n",
              "      <td>Cayambe</td>\n",
              "      <td>3972488</td>\n",
              "    </tr>\n",
              "    <tr>\n",
              "      <th>13</th>\n",
              "      <td>Machala</td>\n",
              "      <td>3945341</td>\n",
              "    </tr>\n",
              "    <tr>\n",
              "      <th>10</th>\n",
              "      <td>Latacunga</td>\n",
              "      <td>3531356</td>\n",
              "    </tr>\n",
              "    <tr>\n",
              "      <th>12</th>\n",
              "      <td>Loja</td>\n",
              "      <td>2867052</td>\n",
              "    </tr>\n",
              "    <tr>\n",
              "      <th>4</th>\n",
              "      <td>Daule</td>\n",
              "      <td>2485687</td>\n",
              "    </tr>\n",
              "    <tr>\n",
              "      <th>1</th>\n",
              "      <td>Babahoyo</td>\n",
              "      <td>2306044</td>\n",
              "    </tr>\n",
              "    <tr>\n",
              "      <th>19</th>\n",
              "      <td>Riobamba</td>\n",
              "      <td>2287850</td>\n",
              "    </tr>\n",
              "    <tr>\n",
              "      <th>9</th>\n",
              "      <td>Ibarra</td>\n",
              "      <td>2209898</td>\n",
              "    </tr>\n",
              "    <tr>\n",
              "      <th>6</th>\n",
              "      <td>Esmeraldas</td>\n",
              "      <td>2182356</td>\n",
              "    </tr>\n",
              "    <tr>\n",
              "      <th>7</th>\n",
              "      <td>Guaranda</td>\n",
              "      <td>2107489</td>\n",
              "    </tr>\n",
              "    <tr>\n",
              "      <th>17</th>\n",
              "      <td>Quevedo</td>\n",
              "      <td>1743003</td>\n",
              "    </tr>\n",
              "    <tr>\n",
              "      <th>11</th>\n",
              "      <td>Libertad</td>\n",
              "      <td>1738129</td>\n",
              "    </tr>\n",
              "    <tr>\n",
              "      <th>20</th>\n",
              "      <td>Salinas</td>\n",
              "      <td>1520362</td>\n",
              "    </tr>\n",
              "    <tr>\n",
              "      <th>14</th>\n",
              "      <td>Manta</td>\n",
              "      <td>1455475</td>\n",
              "    </tr>\n",
              "    <tr>\n",
              "      <th>5</th>\n",
              "      <td>El Carmen</td>\n",
              "      <td>1451290</td>\n",
              "    </tr>\n",
              "    <tr>\n",
              "      <th>15</th>\n",
              "      <td>Playas</td>\n",
              "      <td>1123889</td>\n",
              "    </tr>\n",
              "    <tr>\n",
              "      <th>16</th>\n",
              "      <td>Puyo</td>\n",
              "      <td>504156</td>\n",
              "    </tr>\n",
              "  </tbody>\n",
              "</table>\n",
              "</div>\n",
              "      <button class=\"colab-df-convert\" onclick=\"convertToInteractive('df-a4609752-6749-46a6-985b-aa0d6496c55f')\"\n",
              "              title=\"Convert this dataframe to an interactive table.\"\n",
              "              style=\"display:none;\">\n",
              "        \n",
              "  <svg xmlns=\"http://www.w3.org/2000/svg\" height=\"24px\"viewBox=\"0 0 24 24\"\n",
              "       width=\"24px\">\n",
              "    <path d=\"M0 0h24v24H0V0z\" fill=\"none\"/>\n",
              "    <path d=\"M18.56 5.44l.94 2.06.94-2.06 2.06-.94-2.06-.94-.94-2.06-.94 2.06-2.06.94zm-11 1L8.5 8.5l.94-2.06 2.06-.94-2.06-.94L8.5 2.5l-.94 2.06-2.06.94zm10 10l.94 2.06.94-2.06 2.06-.94-2.06-.94-.94-2.06-.94 2.06-2.06.94z\"/><path d=\"M17.41 7.96l-1.37-1.37c-.4-.4-.92-.59-1.43-.59-.52 0-1.04.2-1.43.59L10.3 9.45l-7.72 7.72c-.78.78-.78 2.05 0 2.83L4 21.41c.39.39.9.59 1.41.59.51 0 1.02-.2 1.41-.59l7.78-7.78 2.81-2.81c.8-.78.8-2.07 0-2.86zM5.41 20L4 18.59l7.72-7.72 1.47 1.35L5.41 20z\"/>\n",
              "  </svg>\n",
              "      </button>\n",
              "      \n",
              "  <style>\n",
              "    .colab-df-container {\n",
              "      display:flex;\n",
              "      flex-wrap:wrap;\n",
              "      gap: 12px;\n",
              "    }\n",
              "\n",
              "    .colab-df-convert {\n",
              "      background-color: #E8F0FE;\n",
              "      border: none;\n",
              "      border-radius: 50%;\n",
              "      cursor: pointer;\n",
              "      display: none;\n",
              "      fill: #1967D2;\n",
              "      height: 32px;\n",
              "      padding: 0 0 0 0;\n",
              "      width: 32px;\n",
              "    }\n",
              "\n",
              "    .colab-df-convert:hover {\n",
              "      background-color: #E2EBFA;\n",
              "      box-shadow: 0px 1px 2px rgba(60, 64, 67, 0.3), 0px 1px 3px 1px rgba(60, 64, 67, 0.15);\n",
              "      fill: #174EA6;\n",
              "    }\n",
              "\n",
              "    [theme=dark] .colab-df-convert {\n",
              "      background-color: #3B4455;\n",
              "      fill: #D2E3FC;\n",
              "    }\n",
              "\n",
              "    [theme=dark] .colab-df-convert:hover {\n",
              "      background-color: #434B5C;\n",
              "      box-shadow: 0px 1px 3px 1px rgba(0, 0, 0, 0.15);\n",
              "      filter: drop-shadow(0px 1px 2px rgba(0, 0, 0, 0.3));\n",
              "      fill: #FFFFFF;\n",
              "    }\n",
              "  </style>\n",
              "\n",
              "      <script>\n",
              "        const buttonEl =\n",
              "          document.querySelector('#df-a4609752-6749-46a6-985b-aa0d6496c55f button.colab-df-convert');\n",
              "        buttonEl.style.display =\n",
              "          google.colab.kernel.accessAllowed ? 'block' : 'none';\n",
              "\n",
              "        async function convertToInteractive(key) {\n",
              "          const element = document.querySelector('#df-a4609752-6749-46a6-985b-aa0d6496c55f');\n",
              "          const dataTable =\n",
              "            await google.colab.kernel.invokeFunction('convertToInteractive',\n",
              "                                                     [key], {});\n",
              "          if (!dataTable) return;\n",
              "\n",
              "          const docLinkHtml = 'Like what you see? Visit the ' +\n",
              "            '<a target=\"_blank\" href=https://colab.research.google.com/notebooks/data_table.ipynb>data table notebook</a>'\n",
              "            + ' to learn more about interactive tables.';\n",
              "          element.innerHTML = '';\n",
              "          dataTable['output_type'] = 'display_data';\n",
              "          await google.colab.output.renderOutput(dataTable, element);\n",
              "          const docLink = document.createElement('div');\n",
              "          docLink.innerHTML = docLinkHtml;\n",
              "          element.appendChild(docLink);\n",
              "        }\n",
              "      </script>\n",
              "    </div>\n",
              "  </div>\n",
              "  "
            ]
          },
          "metadata": {},
          "execution_count": 36
        }
      ],
      "source": [
        "# Aggregate sales data by city\n",
        "sales_by_city = merged.groupby('city')['transactions'].sum().reset_index().sort_values(by = 'transactions', ascending = False)\n",
        "sales_by_city"
      ]
    },
    {
      "cell_type": "code",
      "execution_count": null,
      "metadata": {
        "colab": {
          "base_uri": "https://localhost:8080/",
          "height": 565
        },
        "id": "NamHrOCDyQC-",
        "outputId": "896e1b65-29f3-403e-837e-2b31af7e098c"
      },
      "outputs": [
        {
          "output_type": "display_data",
          "data": {
            "text/plain": [
              "<Figure size 1400x500 with 1 Axes>"
            ],
            "image/png": "[encoded data removed]"
          },
          "metadata": {}
        }
      ],
      "source": [
        "# Create bubble plot\n",
        "plt.figure(figsize=(14,5))\n",
        "sns.scatterplot(x='city', y='transactions', size='transactions', sizes=(50, 1000), data=sales_by_city, palette='Set2')\n",
        "plt.title('Total Sales by City', fontsize=15)\n",
        "plt.xlabel('City',fontsize=12)\n",
        "plt.ylabel('Total Transactions in ten million',fontsize=12)\n",
        "plt.xticks(rotation=45)\n",
        "plt.show()"
      ]
    },
    {
      "cell_type": "markdown",
      "metadata": {
        "id": "Bw-l6YHNyQC-"
      },
      "source": [
        "#### Insights\n",
        "\n",
        "* The City Quita recorded the highest sale transactions with Puyo recording the lowest"
      ]
    },
    {
      "cell_type": "markdown",
      "metadata": {
        "id": "HZRuhNMmyQC-"
      },
      "source": [
        "#### Group transactions by State"
      ]
    },
    {
      "cell_type": "code",
      "execution_count": null,
      "metadata": {
        "colab": {
          "base_uri": "https://localhost:8080/",
          "height": 551
        },
        "id": "oHVdBXd85vw_",
        "outputId": "05256d9b-1d11-49f8-9698-0f46608addaa"
      },
      "outputs": [
        {
          "output_type": "execute_result",
          "data": {
            "text/plain": [
              "                             state  transactions\n",
              "12                       Pichincha      74971545\n",
              "6                           Guayas      21894000\n",
              "15                      Tungurahua       6172615\n",
              "0                            Azuay       5673847\n",
              "14  Santo Domingo de los Tsachilas       4655266\n",
              "9                         Los Rios       4049047\n",
              "4                           El Oro       3945341\n",
              "3                         Cotopaxi       3531356\n",
              "10                          Manabi       2906765\n",
              "8                             Loja       2867052\n",
              "2                       Chimborazo       2287850\n",
              "7                         Imbabura       2209898\n",
              "5                       Esmeraldas       2182356\n",
              "1                          Bolivar       2107489\n",
              "13                     Santa Elena       1520362\n",
              "11                         Pastaza        504156"
            ],
            "text/html": [
              "\n",
              "  <div id=\"df-5e3c95ea-60f6-45c3-b133-e4cfb0d8e256\">\n",
              "    <div class=\"colab-df-container\">\n",
              "      <div>\n",
              "<style scoped>\n",
              "    .dataframe tbody tr th:only-of-type {\n",
              "        vertical-align: middle;\n",
              "    }\n",
              "\n",
              "    .dataframe tbody tr th {\n",
              "        vertical-align: top;\n",
              "    }\n",
              "\n",
              "    .dataframe thead th {\n",
              "        text-align: right;\n",
              "    }\n",
              "</style>\n",
              "<table border=\"1\" class=\"dataframe\">\n",
              "  <thead>\n",
              "    <tr style=\"text-align: right;\">\n",
              "      <th></th>\n",
              "      <th>state</th>\n",
              "      <th>transactions</th>\n",
              "    </tr>\n",
              "  </thead>\n",
              "  <tbody>\n",
              "    <tr>\n",
              "      <th>12</th>\n",
              "      <td>Pichincha</td>\n",
              "      <td>74971545</td>\n",
              "    </tr>\n",
              "    <tr>\n",
              "      <th>6</th>\n",
              "      <td>Guayas</td>\n",
              "      <td>21894000</td>\n",
              "    </tr>\n",
              "    <tr>\n",
              "      <th>15</th>\n",
              "      <td>Tungurahua</td>\n",
              "      <td>6172615</td>\n",
              "    </tr>\n",
              "    <tr>\n",
              "      <th>0</th>\n",
              "      <td>Azuay</td>\n",
              "      <td>5673847</td>\n",
              "    </tr>\n",
              "    <tr>\n",
              "      <th>14</th>\n",
              "      <td>Santo Domingo de los Tsachilas</td>\n",
              "      <td>4655266</td>\n",
              "    </tr>\n",
              "    <tr>\n",
              "      <th>9</th>\n",
              "      <td>Los Rios</td>\n",
              "      <td>4049047</td>\n",
              "    </tr>\n",
              "    <tr>\n",
              "      <th>4</th>\n",
              "      <td>El Oro</td>\n",
              "      <td>3945341</td>\n",
              "    </tr>\n",
              "    <tr>\n",
              "      <th>3</th>\n",
              "      <td>Cotopaxi</td>\n",
              "      <td>3531356</td>\n",
              "    </tr>\n",
              "    <tr>\n",
              "      <th>10</th>\n",
              "      <td>Manabi</td>\n",
              "      <td>2906765</td>\n",
              "    </tr>\n",
              "    <tr>\n",
              "      <th>8</th>\n",
              "      <td>Loja</td>\n",
              "      <td>2867052</td>\n",
              "    </tr>\n",
              "    <tr>\n",
              "      <th>2</th>\n",
              "      <td>Chimborazo</td>\n",
              "      <td>2287850</td>\n",
              "    </tr>\n",
              "    <tr>\n",
              "      <th>7</th>\n",
              "      <td>Imbabura</td>\n",
              "      <td>2209898</td>\n",
              "    </tr>\n",
              "    <tr>\n",
              "      <th>5</th>\n",
              "      <td>Esmeraldas</td>\n",
              "      <td>2182356</td>\n",
              "    </tr>\n",
              "    <tr>\n",
              "      <th>1</th>\n",
              "      <td>Bolivar</td>\n",
              "      <td>2107489</td>\n",
              "    </tr>\n",
              "    <tr>\n",
              "      <th>13</th>\n",
              "      <td>Santa Elena</td>\n",
              "      <td>1520362</td>\n",
              "    </tr>\n",
              "    <tr>\n",
              "      <th>11</th>\n",
              "      <td>Pastaza</td>\n",
              "      <td>504156</td>\n",
              "    </tr>\n",
              "  </tbody>\n",
              "</table>\n",
              "</div>\n",
              "      <button class=\"colab-df-convert\" onclick=\"convertToInteractive('df-5e3c95ea-60f6-45c3-b133-e4cfb0d8e256')\"\n",
              "              title=\"Convert this dataframe to an interactive table.\"\n",
              "              style=\"display:none;\">\n",
              "        \n",
              "  <svg xmlns=\"http://www.w3.org/2000/svg\" height=\"24px\"viewBox=\"0 0 24 24\"\n",
              "       width=\"24px\">\n",
              "    <path d=\"M0 0h24v24H0V0z\" fill=\"none\"/>\n",
              "    <path d=\"M18.56 5.44l.94 2.06.94-2.06 2.06-.94-2.06-.94-.94-2.06-.94 2.06-2.06.94zm-11 1L8.5 8.5l.94-2.06 2.06-.94-2.06-.94L8.5 2.5l-.94 2.06-2.06.94zm10 10l.94 2.06.94-2.06 2.06-.94-2.06-.94-.94-2.06-.94 2.06-2.06.94z\"/><path d=\"M17.41 7.96l-1.37-1.37c-.4-.4-.92-.59-1.43-.59-.52 0-1.04.2-1.43.59L10.3 9.45l-7.72 7.72c-.78.78-.78 2.05 0 2.83L4 21.41c.39.39.9.59 1.41.59.51 0 1.02-.2 1.41-.59l7.78-7.78 2.81-2.81c.8-.78.8-2.07 0-2.86zM5.41 20L4 18.59l7.72-7.72 1.47 1.35L5.41 20z\"/>\n",
              "  </svg>\n",
              "      </button>\n",
              "      \n",
              "  <style>\n",
              "    .colab-df-container {\n",
              "      display:flex;\n",
              "      flex-wrap:wrap;\n",
              "      gap: 12px;\n",
              "    }\n",
              "\n",
              "    .colab-df-convert {\n",
              "      background-color: #E8F0FE;\n",
              "      border: none;\n",
              "      border-radius: 50%;\n",
              "      cursor: pointer;\n",
              "      display: none;\n",
              "      fill: #1967D2;\n",
              "      height: 32px;\n",
              "      padding: 0 0 0 0;\n",
              "      width: 32px;\n",
              "    }\n",
              "\n",
              "    .colab-df-convert:hover {\n",
              "      background-color: #E2EBFA;\n",
              "      box-shadow: 0px 1px 2px rgba(60, 64, 67, 0.3), 0px 1px 3px 1px rgba(60, 64, 67, 0.15);\n",
              "      fill: #174EA6;\n",
              "    }\n",
              "\n",
              "    [theme=dark] .colab-df-convert {\n",
              "      background-color: #3B4455;\n",
              "      fill: #D2E3FC;\n",
              "    }\n",
              "\n",
              "    [theme=dark] .colab-df-convert:hover {\n",
              "      background-color: #434B5C;\n",
              "      box-shadow: 0px 1px 3px 1px rgba(0, 0, 0, 0.15);\n",
              "      filter: drop-shadow(0px 1px 2px rgba(0, 0, 0, 0.3));\n",
              "      fill: #FFFFFF;\n",
              "    }\n",
              "  </style>\n",
              "\n",
              "      <script>\n",
              "        const buttonEl =\n",
              "          document.querySelector('#df-5e3c95ea-60f6-45c3-b133-e4cfb0d8e256 button.colab-df-convert');\n",
              "        buttonEl.style.display =\n",
              "          google.colab.kernel.accessAllowed ? 'block' : 'none';\n",
              "\n",
              "        async function convertToInteractive(key) {\n",
              "          const element = document.querySelector('#df-5e3c95ea-60f6-45c3-b133-e4cfb0d8e256');\n",
              "          const dataTable =\n",
              "            await google.colab.kernel.invokeFunction('convertToInteractive',\n",
              "                                                     [key], {});\n",
              "          if (!dataTable) return;\n",
              "\n",
              "          const docLinkHtml = 'Like what you see? Visit the ' +\n",
              "            '<a target=\"_blank\" href=https://colab.research.google.com/notebooks/data_table.ipynb>data table notebook</a>'\n",
              "            + ' to learn more about interactive tables.';\n",
              "          element.innerHTML = '';\n",
              "          dataTable['output_type'] = 'display_data';\n",
              "          await google.colab.output.renderOutput(dataTable, element);\n",
              "          const docLink = document.createElement('div');\n",
              "          docLink.innerHTML = docLinkHtml;\n",
              "          element.appendChild(docLink);\n",
              "        }\n",
              "      </script>\n",
              "    </div>\n",
              "  </div>\n",
              "  "
            ]
          },
          "metadata": {},
          "execution_count": 38
        }
      ],
      "source": [
        "# Group merged dataset by state and sum transactions\n",
        "state_transactions = merged.groupby('state')['transactions'].sum().reset_index().sort_values(by = 'transactions', ascending = False)\n",
        "state_transactions"
      ]
    },
    {
      "cell_type": "code",
      "execution_count": null,
      "metadata": {
        "colab": {
          "base_uri": "https://localhost:8080/",
          "height": 570
        },
        "id": "-rg1z1b_fnDM",
        "outputId": "ba82e3c3-2cb0-4c69-d607-5fdcd721e9a4"
      },
      "outputs": [
        {
          "output_type": "display_data",
          "data": {
            "text/plain": [
              "<Figure size 1000x600 with 1 Axes>"
            ],
            "image/png": "[encoded data removed]"
          },
          "metadata": {}
        }
      ],
      "source": [
        "#Create a horizontal bar chart with Seaborn\n",
        "sns.set_style('whitegrid')\n",
        "plt.figure(figsize=(10,6))\n",
        "sns.barplot(data=state_transactions,x ='transactions',y ='state', palette ='pastel')\n",
        "plt.title('Total Sales by State',fontsize =15)\n",
        "plt.xlabel('Total Sales in ten millions', fontsize =12)\n",
        "plt.ylabel('State',fontsize =12)\n",
        "plt.show()\n"
      ]
    },
    {
      "cell_type": "markdown",
      "metadata": {
        "id": "3V5X73bmyQC_"
      },
      "source": [
        "#### Insights\n",
        "\n",
        "The state with the highest sale transsactions is Pinchincha with Pastaza recording the lowest number of transactions"
      ]
    },
    {
      "cell_type": "markdown",
      "metadata": {
        "id": "mQm0pMS_yQC_"
      },
      "source": [
        "#### Group transactions by store"
      ]
    },
    {
      "cell_type": "code",
      "execution_count": null,
      "metadata": {
        "id": "9TbdOibs5v2Y"
      },
      "outputs": [],
      "source": [
        "trans_store = merged.groupby('type')['transactions'].sum().reset_index()"
      ]
    },
    {
      "cell_type": "code",
      "execution_count": null,
      "metadata": {
        "colab": {
          "base_uri": "https://localhost:8080/",
          "height": 521
        },
        "id": "883rLKhV5v7O",
        "outputId": "af937152-346f-454d-d5ec-5e2540337d60"
      },
      "outputs": [
        {
          "output_type": "display_data",
          "data": {
            "text/plain": [
              "<Figure size 800x600 with 1 Axes>"
            ],
            "image/png": "[encoded data removed]"
          },
          "metadata": {}
        }
      ],
      "source": [
        "# Set up the color gradient\n",
        "colors = sns.color_palette('Blues', len(trans_store))\n",
        "color_map = dict(zip(trans_store['type'], colors))\n",
        "\n",
        "# Create the treemap\n",
        "fig, ax = plt.subplots(figsize=(8, 6))\n",
        "squarify.plot(sizes=trans_store['transactions'], label=trans_store['type'], alpha=0.8, color=[color_map[type] for type in trans_store['type']])\n",
        "plt.axis('off')\n",
        "plt.title('Total Sales by Store Type')\n",
        "plt.show()\n"
      ]
    },
    {
      "cell_type": "markdown",
      "metadata": {
        "id": "RBVqo2P1yQDA"
      },
      "source": [
        "#### Insights\n",
        "\n",
        "The store type D was found to record the highest number of transactions"
      ]
    },
    {
      "cell_type": "markdown",
      "metadata": {
        "id": "WrqsVvcxJtLV"
      },
      "source": [
        "### 5. Are sales affected by promotions, oil prices and holidays?"
      ]
    },
    {
      "cell_type": "code",
      "execution_count": null,
      "metadata": {
        "colab": {
          "base_uri": "https://localhost:8080/"
        },
        "id": "zoXajKudKLuO",
        "outputId": "da13629f-cc74-4996-87ae-6c734f565b69"
      },
      "outputs": [
        {
          "output_type": "stream",
          "name": "stdout",
          "text": [
            "Correlation coefficient, Promotion: 0.4282410665192464\n",
            "Correlation coefficient, Sales: -0.0791611658452773\n"
          ]
        }
      ],
      "source": [
        "# Calculate the correlation between sales and promotions\n",
        "corr1 = merged_data['sales'].corr(merged_data['onpromotion'])\n",
        "corr2 = merged_data['sales'].corr(merged_data['dcoilwtico'])\n",
        "\n",
        "# Print the correlation coefficient\n",
        "print('Correlation coefficient, Promotion:', corr1)\n",
        "print('Correlation coefficient, Sales:', corr2)"
      ]
    },
    {
      "cell_type": "markdown",
      "metadata": {
        "id": "xinGtUujwYDu"
      },
      "source": [
        "#### Insights\n",
        "\n",
        "From the values obtained:\n",
        "* Sales is positively correlated with promotion, thus an increase in promotion products may increase sales.\n",
        "* However, the relationship is quite weak.\n",
        "* Also, it can be deduced that the oil prices have a negative correlation with sales, thus, an increase in oil prices will may decrease sales at the stores due to increased prices which checks consumer spending.\n",
        "* However, there relationship is very weak"
      ]
    },
    {
      "cell_type": "markdown",
      "metadata": {
        "id": "ex2OBNiPyQDC"
      },
      "source": [
        "#### Hypothesis for holiday column using ANOVA test"
      ]
    },
    {
      "cell_type": "code",
      "execution_count": null,
      "metadata": {
        "colab": {
          "base_uri": "https://localhost:8080/"
        },
        "id": "ZUr9BFmKyQDC",
        "outputId": "c936e72e-eae4-4af9-9bf4-f86cf2989944"
      },
      "outputs": [
        {
          "output_type": "stream",
          "name": "stdout",
          "text": [
            "F_onewayResult(statistic=260.5458995720661, pvalue=0.0)\n"
          ]
        }
      ],
      "source": [
        "holiday_list = merged_data.groupby('holiday_type')['sales'].apply(list)\n",
        "Anova_results = f_oneway(*holiday_list)\n",
        "print(Anova_results)"
      ]
    },
    {
      "cell_type": "markdown",
      "metadata": {
        "id": "SlezdTXDyQDD"
      },
      "source": [
        "#### Insights\n",
        "The p-value is less than the significant level 0.05 so we reject the null hypothesis. That is, holiday columns are correlated with the sales made. Thus, sales are affected by holidays"
      ]
    },
    {
      "cell_type": "markdown",
      "metadata": {
        "id": "JZLlJoZSpopx"
      },
      "source": [
        "### Feature Processing"
      ]
    },
    {
      "cell_type": "code",
      "execution_count": null,
      "metadata": {
        "id": "HgG0fkABC9Ko"
      },
      "outputs": [],
      "source": [
        "#drop unnecessary columns\n",
        "merged_data = merged_data.drop(columns=['id','locale', 'locale_name', 'description', 'transferred'])"
      ]
    },
    {
      "cell_type": "code",
      "execution_count": null,
      "metadata": {
        "id": "5BJ_XCTxyQDE"
      },
      "outputs": [],
      "source": [
        "#drop columns for univariate analysis\n",
        "merged_data1 = merged_data.drop(columns=['store_nbr','family','state','onpromotion','transactions','city','dcoilwtico','holiday_type','cluster','year','store_type'])"
      ]
    },
    {
      "cell_type": "markdown",
      "metadata": {
        "id": "6tRtdHlCyQDF"
      },
      "source": [
        "### Feature Engineering"
      ]
    },
    {
      "cell_type": "code",
      "execution_count": null,
      "metadata": {
        "id": "7KMivniMyQDF"
      },
      "outputs": [],
      "source": [
        "def getDateFeatures(df,date):\n",
        "    df['month'] = df['date'].dt.month\n",
        "    df['is_month_start'] = df['date'].dt.is_month_start.astype(int)\n",
        "    df['is_month_end'] = df['date'].dt.is_month_end.astype(int)\n",
        "    df['day'] = df['date'].dt.day\n",
        "    df['is_weekend'] = df['date'].dt.isocalendar().week\n",
        "    df['day_of_the_year'] = df['date'].dt.dayofyear\n",
        "    df['quarter'] = df['date'].dt.quarter\n",
        "    df['is_quarter_start'] = df['date'].dt.is_quarter_start.astype(int)\n",
        "    df['is_quarter_end'] = df['date'].dt.is_quarter_end.astype(int)\n",
        "    \n",
        "    return df"
      ]
    },
    {
      "cell_type": "code",
      "execution_count": null,
      "metadata": {
        "id": "HVN6wFTfyQDG"
      },
      "outputs": [],
      "source": [
        "merged_data = getDateFeatures(merged_data, 'date')"
      ]
    },
    {
      "cell_type": "code",
      "execution_count": null,
      "metadata": {
        "colab": {
          "base_uri": "https://localhost:8080/",
          "height": 679
        },
        "id": "hyGMi_VoyQDG",
        "outputId": "cd22a2f6-709d-4ae8-d407-6747656cf721"
      },
      "outputs": [
        {
          "output_type": "execute_result",
          "data": {
            "text/plain": [
              "              date  store_nbr                      family     sales  \\\n",
              "0       2013-01-01      1.000                  AUTOMOTIVE     0.000   \n",
              "1       2013-01-01      1.000                   BABY CARE     0.000   \n",
              "2       2013-01-01      1.000                      BEAUTY     0.000   \n",
              "3       2013-01-01      1.000                   BEVERAGES     0.000   \n",
              "4       2013-01-01      1.000                       BOOKS     0.000   \n",
              "...            ...        ...                         ...       ...   \n",
              "3054343 2017-08-15      9.000                     POULTRY   438.133   \n",
              "3054344 2017-08-15      9.000              PREPARED FOODS   154.553   \n",
              "3054345 2017-08-15      9.000                     PRODUCE 2,419.729   \n",
              "3054346 2017-08-15      9.000  SCHOOL AND OFFICE SUPPLIES   121.000   \n",
              "3054347 2017-08-15      9.000                     SEAFOOD    16.000   \n",
              "\n",
              "         onpromotion  transactions holiday_type  dcoilwtico   city      state  \\\n",
              "0              0.000           NaN      Holiday      94.757  Quito  Pichincha   \n",
              "1              0.000           NaN      Holiday      94.757  Quito  Pichincha   \n",
              "2              0.000           NaN      Holiday      94.757  Quito  Pichincha   \n",
              "3              0.000           NaN      Holiday      94.757  Quito  Pichincha   \n",
              "4              0.000           NaN      Holiday      94.757  Quito  Pichincha   \n",
              "...              ...           ...          ...         ...    ...        ...   \n",
              "3054343        0.000     2,155.000      Holiday      47.570  Quito  Pichincha   \n",
              "3054344        1.000     2,155.000      Holiday      47.570  Quito  Pichincha   \n",
              "3054345      148.000     2,155.000      Holiday      47.570  Quito  Pichincha   \n",
              "3054346        8.000     2,155.000      Holiday      47.570  Quito  Pichincha   \n",
              "3054347        0.000     2,155.000      Holiday      47.570  Quito  Pichincha   \n",
              "\n",
              "         ...  year  month  is_month_start  is_month_end  day  is_weekend  \\\n",
              "0        ...  2013      1               1             0    1           1   \n",
              "1        ...  2013      1               1             0    1           1   \n",
              "2        ...  2013      1               1             0    1           1   \n",
              "3        ...  2013      1               1             0    1           1   \n",
              "4        ...  2013      1               1             0    1           1   \n",
              "...      ...   ...    ...             ...           ...  ...         ...   \n",
              "3054343  ...  2017      8               0             0   15          33   \n",
              "3054344  ...  2017      8               0             0   15          33   \n",
              "3054345  ...  2017      8               0             0   15          33   \n",
              "3054346  ...  2017      8               0             0   15          33   \n",
              "3054347  ...  2017      8               0             0   15          33   \n",
              "\n",
              "         day_of_the_year  quarter  is_quarter_start  is_quarter_end  \n",
              "0                      1        1                 1               0  \n",
              "1                      1        1                 1               0  \n",
              "2                      1        1                 1               0  \n",
              "3                      1        1                 1               0  \n",
              "4                      1        1                 1               0  \n",
              "...                  ...      ...               ...             ...  \n",
              "3054343              227        3                 0               0  \n",
              "3054344              227        3                 0               0  \n",
              "3054345              227        3                 0               0  \n",
              "3054346              227        3                 0               0  \n",
              "3054347              227        3                 0               0  \n",
              "\n",
              "[3054348 rows x 22 columns]"
            ],
            "text/html": [
              "\n",
              "  <div id=\"df-baa97f16-77ed-4ac1-8078-5951c2019ac5\">\n",
              "    <div class=\"colab-df-container\">\n",
              "      <div>\n",
              "<style scoped>\n",
              "    .dataframe tbody tr th:only-of-type {\n",
              "        vertical-align: middle;\n",
              "    }\n",
              "\n",
              "    .dataframe tbody tr th {\n",
              "        vertical-align: top;\n",
              "    }\n",
              "\n",
              "    .dataframe thead th {\n",
              "        text-align: right;\n",
              "    }\n",
              "</style>\n",
              "<table border=\"1\" class=\"dataframe\">\n",
              "  <thead>\n",
              "    <tr style=\"text-align: right;\">\n",
              "      <th></th>\n",
              "      <th>date</th>\n",
              "      <th>store_nbr</th>\n",
              "      <th>family</th>\n",
              "      <th>sales</th>\n",
              "      <th>onpromotion</th>\n",
              "      <th>transactions</th>\n",
              "      <th>holiday_type</th>\n",
              "      <th>dcoilwtico</th>\n",
              "      <th>city</th>\n",
              "      <th>state</th>\n",
              "      <th>...</th>\n",
              "      <th>year</th>\n",
              "      <th>month</th>\n",
              "      <th>is_month_start</th>\n",
              "      <th>is_month_end</th>\n",
              "      <th>day</th>\n",
              "      <th>is_weekend</th>\n",
              "      <th>day_of_the_year</th>\n",
              "      <th>quarter</th>\n",
              "      <th>is_quarter_start</th>\n",
              "      <th>is_quarter_end</th>\n",
              "    </tr>\n",
              "  </thead>\n",
              "  <tbody>\n",
              "    <tr>\n",
              "      <th>0</th>\n",
              "      <td>2013-01-01</td>\n",
              "      <td>1.000</td>\n",
              "      <td>AUTOMOTIVE</td>\n",
              "      <td>0.000</td>\n",
              "      <td>0.000</td>\n",
              "      <td>NaN</td>\n",
              "      <td>Holiday</td>\n",
              "      <td>94.757</td>\n",
              "      <td>Quito</td>\n",
              "      <td>Pichincha</td>\n",
              "      <td>...</td>\n",
              "      <td>2013</td>\n",
              "      <td>1</td>\n",
              "      <td>1</td>\n",
              "      <td>0</td>\n",
              "      <td>1</td>\n",
              "      <td>1</td>\n",
              "      <td>1</td>\n",
              "      <td>1</td>\n",
              "      <td>1</td>\n",
              "      <td>0</td>\n",
              "    </tr>\n",
              "    <tr>\n",
              "      <th>1</th>\n",
              "      <td>2013-01-01</td>\n",
              "      <td>1.000</td>\n",
              "      <td>BABY CARE</td>\n",
              "      <td>0.000</td>\n",
              "      <td>0.000</td>\n",
              "      <td>NaN</td>\n",
              "      <td>Holiday</td>\n",
              "      <td>94.757</td>\n",
              "      <td>Quito</td>\n",
              "      <td>Pichincha</td>\n",
              "      <td>...</td>\n",
              "      <td>2013</td>\n",
              "      <td>1</td>\n",
              "      <td>1</td>\n",
              "      <td>0</td>\n",
              "      <td>1</td>\n",
              "      <td>1</td>\n",
              "      <td>1</td>\n",
              "      <td>1</td>\n",
              "      <td>1</td>\n",
              "      <td>0</td>\n",
              "    </tr>\n",
              "    <tr>\n",
              "      <th>2</th>\n",
              "      <td>2013-01-01</td>\n",
              "      <td>1.000</td>\n",
              "      <td>BEAUTY</td>\n",
              "      <td>0.000</td>\n",
              "      <td>0.000</td>\n",
              "      <td>NaN</td>\n",
              "      <td>Holiday</td>\n",
              "      <td>94.757</td>\n",
              "      <td>Quito</td>\n",
              "      <td>Pichincha</td>\n",
              "      <td>...</td>\n",
              "      <td>2013</td>\n",
              "      <td>1</td>\n",
              "      <td>1</td>\n",
              "      <td>0</td>\n",
              "      <td>1</td>\n",
              "      <td>1</td>\n",
              "      <td>1</td>\n",
              "      <td>1</td>\n",
              "      <td>1</td>\n",
              "      <td>0</td>\n",
              "    </tr>\n",
              "    <tr>\n",
              "      <th>3</th>\n",
              "      <td>2013-01-01</td>\n",
              "      <td>1.000</td>\n",
              "      <td>BEVERAGES</td>\n",
              "      <td>0.000</td>\n",
              "      <td>0.000</td>\n",
              "      <td>NaN</td>\n",
              "      <td>Holiday</td>\n",
              "      <td>94.757</td>\n",
              "      <td>Quito</td>\n",
              "      <td>Pichincha</td>\n",
              "      <td>...</td>\n",
              "      <td>2013</td>\n",
              "      <td>1</td>\n",
              "      <td>1</td>\n",
              "      <td>0</td>\n",
              "      <td>1</td>\n",
              "      <td>1</td>\n",
              "      <td>1</td>\n",
              "      <td>1</td>\n",
              "      <td>1</td>\n",
              "      <td>0</td>\n",
              "    </tr>\n",
              "    <tr>\n",
              "      <th>4</th>\n",
              "      <td>2013-01-01</td>\n",
              "      <td>1.000</td>\n",
              "      <td>BOOKS</td>\n",
              "      <td>0.000</td>\n",
              "      <td>0.000</td>\n",
              "      <td>NaN</td>\n",
              "      <td>Holiday</td>\n",
              "      <td>94.757</td>\n",
              "      <td>Quito</td>\n",
              "      <td>Pichincha</td>\n",
              "      <td>...</td>\n",
              "      <td>2013</td>\n",
              "      <td>1</td>\n",
              "      <td>1</td>\n",
              "      <td>0</td>\n",
              "      <td>1</td>\n",
              "      <td>1</td>\n",
              "      <td>1</td>\n",
              "      <td>1</td>\n",
              "      <td>1</td>\n",
              "      <td>0</td>\n",
              "    </tr>\n",
              "    <tr>\n",
              "      <th>...</th>\n",
              "      <td>...</td>\n",
              "      <td>...</td>\n",
              "      <td>...</td>\n",
              "      <td>...</td>\n",
              "      <td>...</td>\n",
              "      <td>...</td>\n",
              "      <td>...</td>\n",
              "      <td>...</td>\n",
              "      <td>...</td>\n",
              "      <td>...</td>\n",
              "      <td>...</td>\n",
              "      <td>...</td>\n",
              "      <td>...</td>\n",
              "      <td>...</td>\n",
              "      <td>...</td>\n",
              "      <td>...</td>\n",
              "      <td>...</td>\n",
              "      <td>...</td>\n",
              "      <td>...</td>\n",
              "      <td>...</td>\n",
              "      <td>...</td>\n",
              "    </tr>\n",
              "    <tr>\n",
              "      <th>3054343</th>\n",
              "      <td>2017-08-15</td>\n",
              "      <td>9.000</td>\n",
              "      <td>POULTRY</td>\n",
              "      <td>438.133</td>\n",
              "      <td>0.000</td>\n",
              "      <td>2,155.000</td>\n",
              "      <td>Holiday</td>\n",
              "      <td>47.570</td>\n",
              "      <td>Quito</td>\n",
              "      <td>Pichincha</td>\n",
              "      <td>...</td>\n",
              "      <td>2017</td>\n",
              "      <td>8</td>\n",
              "      <td>0</td>\n",
              "      <td>0</td>\n",
              "      <td>15</td>\n",
              "      <td>33</td>\n",
              "      <td>227</td>\n",
              "      <td>3</td>\n",
              "      <td>0</td>\n",
              "      <td>0</td>\n",
              "    </tr>\n",
              "    <tr>\n",
              "      <th>3054344</th>\n",
              "      <td>2017-08-15</td>\n",
              "      <td>9.000</td>\n",
              "      <td>PREPARED FOODS</td>\n",
              "      <td>154.553</td>\n",
              "      <td>1.000</td>\n",
              "      <td>2,155.000</td>\n",
              "      <td>Holiday</td>\n",
              "      <td>47.570</td>\n",
              "      <td>Quito</td>\n",
              "      <td>Pichincha</td>\n",
              "      <td>...</td>\n",
              "      <td>2017</td>\n",
              "      <td>8</td>\n",
              "      <td>0</td>\n",
              "      <td>0</td>\n",
              "      <td>15</td>\n",
              "      <td>33</td>\n",
              "      <td>227</td>\n",
              "      <td>3</td>\n",
              "      <td>0</td>\n",
              "      <td>0</td>\n",
              "    </tr>\n",
              "    <tr>\n",
              "      <th>3054345</th>\n",
              "      <td>2017-08-15</td>\n",
              "      <td>9.000</td>\n",
              "      <td>PRODUCE</td>\n",
              "      <td>2,419.729</td>\n",
              "      <td>148.000</td>\n",
              "      <td>2,155.000</td>\n",
              "      <td>Holiday</td>\n",
              "      <td>47.570</td>\n",
              "      <td>Quito</td>\n",
              "      <td>Pichincha</td>\n",
              "      <td>...</td>\n",
              "      <td>2017</td>\n",
              "      <td>8</td>\n",
              "      <td>0</td>\n",
              "      <td>0</td>\n",
              "      <td>15</td>\n",
              "      <td>33</td>\n",
              "      <td>227</td>\n",
              "      <td>3</td>\n",
              "      <td>0</td>\n",
              "      <td>0</td>\n",
              "    </tr>\n",
              "    <tr>\n",
              "      <th>3054346</th>\n",
              "      <td>2017-08-15</td>\n",
              "      <td>9.000</td>\n",
              "      <td>SCHOOL AND OFFICE SUPPLIES</td>\n",
              "      <td>121.000</td>\n",
              "      <td>8.000</td>\n",
              "      <td>2,155.000</td>\n",
              "      <td>Holiday</td>\n",
              "      <td>47.570</td>\n",
              "      <td>Quito</td>\n",
              "      <td>Pichincha</td>\n",
              "      <td>...</td>\n",
              "      <td>2017</td>\n",
              "      <td>8</td>\n",
              "      <td>0</td>\n",
              "      <td>0</td>\n",
              "      <td>15</td>\n",
              "      <td>33</td>\n",
              "      <td>227</td>\n",
              "      <td>3</td>\n",
              "      <td>0</td>\n",
              "      <td>0</td>\n",
              "    </tr>\n",
              "    <tr>\n",
              "      <th>3054347</th>\n",
              "      <td>2017-08-15</td>\n",
              "      <td>9.000</td>\n",
              "      <td>SEAFOOD</td>\n",
              "      <td>16.000</td>\n",
              "      <td>0.000</td>\n",
              "      <td>2,155.000</td>\n",
              "      <td>Holiday</td>\n",
              "      <td>47.570</td>\n",
              "      <td>Quito</td>\n",
              "      <td>Pichincha</td>\n",
              "      <td>...</td>\n",
              "      <td>2017</td>\n",
              "      <td>8</td>\n",
              "      <td>0</td>\n",
              "      <td>0</td>\n",
              "      <td>15</td>\n",
              "      <td>33</td>\n",
              "      <td>227</td>\n",
              "      <td>3</td>\n",
              "      <td>0</td>\n",
              "      <td>0</td>\n",
              "    </tr>\n",
              "  </tbody>\n",
              "</table>\n",
              "<p>3054348 rows × 22 columns</p>\n",
              "</div>\n",
              "      <button class=\"colab-df-convert\" onclick=\"convertToInteractive('df-baa97f16-77ed-4ac1-8078-5951c2019ac5')\"\n",
              "              title=\"Convert this dataframe to an interactive table.\"\n",
              "              style=\"display:none;\">\n",
              "        \n",
              "  <svg xmlns=\"http://www.w3.org/2000/svg\" height=\"24px\"viewBox=\"0 0 24 24\"\n",
              "       width=\"24px\">\n",
              "    <path d=\"M0 0h24v24H0V0z\" fill=\"none\"/>\n",
              "    <path d=\"M18.56 5.44l.94 2.06.94-2.06 2.06-.94-2.06-.94-.94-2.06-.94 2.06-2.06.94zm-11 1L8.5 8.5l.94-2.06 2.06-.94-2.06-.94L8.5 2.5l-.94 2.06-2.06.94zm10 10l.94 2.06.94-2.06 2.06-.94-2.06-.94-.94-2.06-.94 2.06-2.06.94z\"/><path d=\"M17.41 7.96l-1.37-1.37c-.4-.4-.92-.59-1.43-.59-.52 0-1.04.2-1.43.59L10.3 9.45l-7.72 7.72c-.78.78-.78 2.05 0 2.83L4 21.41c.39.39.9.59 1.41.59.51 0 1.02-.2 1.41-.59l7.78-7.78 2.81-2.81c.8-.78.8-2.07 0-2.86zM5.41 20L4 18.59l7.72-7.72 1.47 1.35L5.41 20z\"/>\n",
              "  </svg>\n",
              "      </button>\n",
              "      \n",
              "  <style>\n",
              "    .colab-df-container {\n",
              "      display:flex;\n",
              "      flex-wrap:wrap;\n",
              "      gap: 12px;\n",
              "    }\n",
              "\n",
              "    .colab-df-convert {\n",
              "      background-color: #E8F0FE;\n",
              "      border: none;\n",
              "      border-radius: 50%;\n",
              "      cursor: pointer;\n",
              "      display: none;\n",
              "      fill: #1967D2;\n",
              "      height: 32px;\n",
              "      padding: 0 0 0 0;\n",
              "      width: 32px;\n",
              "    }\n",
              "\n",
              "    .colab-df-convert:hover {\n",
              "      background-color: #E2EBFA;\n",
              "      box-shadow: 0px 1px 2px rgba(60, 64, 67, 0.3), 0px 1px 3px 1px rgba(60, 64, 67, 0.15);\n",
              "      fill: #174EA6;\n",
              "    }\n",
              "\n",
              "    [theme=dark] .colab-df-convert {\n",
              "      background-color: #3B4455;\n",
              "      fill: #D2E3FC;\n",
              "    }\n",
              "\n",
              "    [theme=dark] .colab-df-convert:hover {\n",
              "      background-color: #434B5C;\n",
              "      box-shadow: 0px 1px 3px 1px rgba(0, 0, 0, 0.15);\n",
              "      filter: drop-shadow(0px 1px 2px rgba(0, 0, 0, 0.3));\n",
              "      fill: #FFFFFF;\n",
              "    }\n",
              "  </style>\n",
              "\n",
              "      <script>\n",
              "        const buttonEl =\n",
              "          document.querySelector('#df-baa97f16-77ed-4ac1-8078-5951c2019ac5 button.colab-df-convert');\n",
              "        buttonEl.style.display =\n",
              "          google.colab.kernel.accessAllowed ? 'block' : 'none';\n",
              "\n",
              "        async function convertToInteractive(key) {\n",
              "          const element = document.querySelector('#df-baa97f16-77ed-4ac1-8078-5951c2019ac5');\n",
              "          const dataTable =\n",
              "            await google.colab.kernel.invokeFunction('convertToInteractive',\n",
              "                                                     [key], {});\n",
              "          if (!dataTable) return;\n",
              "\n",
              "          const docLinkHtml = 'Like what you see? Visit the ' +\n",
              "            '<a target=\"_blank\" href=https://colab.research.google.com/notebooks/data_table.ipynb>data table notebook</a>'\n",
              "            + ' to learn more about interactive tables.';\n",
              "          element.innerHTML = '';\n",
              "          dataTable['output_type'] = 'display_data';\n",
              "          await google.colab.output.renderOutput(dataTable, element);\n",
              "          const docLink = document.createElement('div');\n",
              "          docLink.innerHTML = docLinkHtml;\n",
              "          element.appendChild(docLink);\n",
              "        }\n",
              "      </script>\n",
              "    </div>\n",
              "  </div>\n",
              "  "
            ]
          },
          "metadata": {},
          "execution_count": 48
        }
      ],
      "source": [
        "merged_data"
      ]
    },
    {
      "cell_type": "markdown",
      "metadata": {
        "id": "2se9uUBXyQDG"
      },
      "source": [
        "### Binary Encoding"
      ]
    },
    {
      "cell_type": "code",
      "execution_count": null,
      "metadata": {
        "id": "pO9YdTVBjuqv"
      },
      "outputs": [],
      "source": [
        "# Import necessary libraries\n",
        "from  category_encoders import BinaryEncoder\n",
        "\n",
        "# Instantiate BinaryEncoder\n",
        "ce = BinaryEncoder\n",
        "\n",
        "encoder = ce(cols=['family','city','state','store_type','cluster','holiday_type'], drop_invariant=True)\n",
        "merged_data = encoder.fit_transform(merged_data)"
      ]
    },
    {
      "cell_type": "code",
      "execution_count": null,
      "metadata": {
        "colab": {
          "base_uri": "https://localhost:8080/",
          "height": 532
        },
        "id": "gbUNyKjk5Twz",
        "outputId": "7acf8ef9-cea8-4edd-fa8e-2e42a479d114"
      },
      "outputs": [
        {
          "output_type": "execute_result",
          "data": {
            "text/plain": [
              "              date  store_nbr  family_0  family_1  family_2  family_3  \\\n",
              "35585   2015-12-03      1.000         0         0         1         1   \n",
              "898959  2017-02-18     23.000         0         0         0         1   \n",
              "1011578 2017-02-02     25.000         0         1         1         1   \n",
              "102746  2016-10-10     10.000         0         1         0         0   \n",
              "1275033 2015-07-07      3.000         0         0         1         1   \n",
              "731958  2017-05-09     20.000         0         1         0         0   \n",
              "190861  2014-09-26     12.000         0         1         0         1   \n",
              "874659  2015-02-25     23.000         0         1         1         1   \n",
              "\n",
              "         family_4  family_5     sales  onpromotion  ...  year  month  \\\n",
              "35585           0         0   240.561        0.000  ...  2015     12   \n",
              "898959          1         1    16.000        0.000  ...  2017      2   \n",
              "1011578         1         0    47.364        2.000  ...  2017      2   \n",
              "102746          1         0     0.000        0.000  ...  2016     10   \n",
              "1275033         0         1 5,097.000        7.000  ...  2015      7   \n",
              "731958          1         1   325.000       11.000  ...  2017      5   \n",
              "190861          1         1    77.000        0.000  ...  2014      9   \n",
              "874659          0         0     0.000        0.000  ...  2015      2   \n",
              "\n",
              "         is_month_start  is_month_end  day  is_weekend  day_of_the_year  \\\n",
              "35585                 0             0    3          49              337   \n",
              "898959                0             0   18           7               49   \n",
              "1011578               0             0    2           5               33   \n",
              "102746                0             0   10          41              284   \n",
              "1275033               0             0    7          28              188   \n",
              "731958                0             0    9          19              129   \n",
              "190861                0             0   26          39              269   \n",
              "874659                0             0   25           9               56   \n",
              "\n",
              "         quarter  is_quarter_start  is_quarter_end  \n",
              "35585          4                 0               0  \n",
              "898959         1                 0               0  \n",
              "1011578        1                 0               0  \n",
              "102746         4                 0               0  \n",
              "1275033        3                 0               0  \n",
              "731958         2                 0               0  \n",
              "190861         3                 0               0  \n",
              "874659         1                 0               0  \n",
              "\n",
              "[8 rows x 43 columns]"
            ],
            "text/html": [
              "\n",
              "  <div id=\"df-ce1940a0-b7c4-4ac5-9241-69819ae10f93\">\n",
              "    <div class=\"colab-df-container\">\n",
              "      <div>\n",
              "<style scoped>\n",
              "    .dataframe tbody tr th:only-of-type {\n",
              "        vertical-align: middle;\n",
              "    }\n",
              "\n",
              "    .dataframe tbody tr th {\n",
              "        vertical-align: top;\n",
              "    }\n",
              "\n",
              "    .dataframe thead th {\n",
              "        text-align: right;\n",
              "    }\n",
              "</style>\n",
              "<table border=\"1\" class=\"dataframe\">\n",
              "  <thead>\n",
              "    <tr style=\"text-align: right;\">\n",
              "      <th></th>\n",
              "      <th>date</th>\n",
              "      <th>store_nbr</th>\n",
              "      <th>family_0</th>\n",
              "      <th>family_1</th>\n",
              "      <th>family_2</th>\n",
              "      <th>family_3</th>\n",
              "      <th>family_4</th>\n",
              "      <th>family_5</th>\n",
              "      <th>sales</th>\n",
              "      <th>onpromotion</th>\n",
              "      <th>...</th>\n",
              "      <th>year</th>\n",
              "      <th>month</th>\n",
              "      <th>is_month_start</th>\n",
              "      <th>is_month_end</th>\n",
              "      <th>day</th>\n",
              "      <th>is_weekend</th>\n",
              "      <th>day_of_the_year</th>\n",
              "      <th>quarter</th>\n",
              "      <th>is_quarter_start</th>\n",
              "      <th>is_quarter_end</th>\n",
              "    </tr>\n",
              "  </thead>\n",
              "  <tbody>\n",
              "    <tr>\n",
              "      <th>35585</th>\n",
              "      <td>2015-12-03</td>\n",
              "      <td>1.000</td>\n",
              "      <td>0</td>\n",
              "      <td>0</td>\n",
              "      <td>1</td>\n",
              "      <td>1</td>\n",
              "      <td>0</td>\n",
              "      <td>0</td>\n",
              "      <td>240.561</td>\n",
              "      <td>0.000</td>\n",
              "      <td>...</td>\n",
              "      <td>2015</td>\n",
              "      <td>12</td>\n",
              "      <td>0</td>\n",
              "      <td>0</td>\n",
              "      <td>3</td>\n",
              "      <td>49</td>\n",
              "      <td>337</td>\n",
              "      <td>4</td>\n",
              "      <td>0</td>\n",
              "      <td>0</td>\n",
              "    </tr>\n",
              "    <tr>\n",
              "      <th>898959</th>\n",
              "      <td>2017-02-18</td>\n",
              "      <td>23.000</td>\n",
              "      <td>0</td>\n",
              "      <td>0</td>\n",
              "      <td>0</td>\n",
              "      <td>1</td>\n",
              "      <td>1</td>\n",
              "      <td>1</td>\n",
              "      <td>16.000</td>\n",
              "      <td>0.000</td>\n",
              "      <td>...</td>\n",
              "      <td>2017</td>\n",
              "      <td>2</td>\n",
              "      <td>0</td>\n",
              "      <td>0</td>\n",
              "      <td>18</td>\n",
              "      <td>7</td>\n",
              "      <td>49</td>\n",
              "      <td>1</td>\n",
              "      <td>0</td>\n",
              "      <td>0</td>\n",
              "    </tr>\n",
              "    <tr>\n",
              "      <th>1011578</th>\n",
              "      <td>2017-02-02</td>\n",
              "      <td>25.000</td>\n",
              "      <td>0</td>\n",
              "      <td>1</td>\n",
              "      <td>1</td>\n",
              "      <td>1</td>\n",
              "      <td>1</td>\n",
              "      <td>0</td>\n",
              "      <td>47.364</td>\n",
              "      <td>2.000</td>\n",
              "      <td>...</td>\n",
              "      <td>2017</td>\n",
              "      <td>2</td>\n",
              "      <td>0</td>\n",
              "      <td>0</td>\n",
              "      <td>2</td>\n",
              "      <td>5</td>\n",
              "      <td>33</td>\n",
              "      <td>1</td>\n",
              "      <td>0</td>\n",
              "      <td>0</td>\n",
              "    </tr>\n",
              "    <tr>\n",
              "      <th>102746</th>\n",
              "      <td>2016-10-10</td>\n",
              "      <td>10.000</td>\n",
              "      <td>0</td>\n",
              "      <td>1</td>\n",
              "      <td>0</td>\n",
              "      <td>0</td>\n",
              "      <td>1</td>\n",
              "      <td>0</td>\n",
              "      <td>0.000</td>\n",
              "      <td>0.000</td>\n",
              "      <td>...</td>\n",
              "      <td>2016</td>\n",
              "      <td>10</td>\n",
              "      <td>0</td>\n",
              "      <td>0</td>\n",
              "      <td>10</td>\n",
              "      <td>41</td>\n",
              "      <td>284</td>\n",
              "      <td>4</td>\n",
              "      <td>0</td>\n",
              "      <td>0</td>\n",
              "    </tr>\n",
              "    <tr>\n",
              "      <th>1275033</th>\n",
              "      <td>2015-07-07</td>\n",
              "      <td>3.000</td>\n",
              "      <td>0</td>\n",
              "      <td>0</td>\n",
              "      <td>1</td>\n",
              "      <td>1</td>\n",
              "      <td>0</td>\n",
              "      <td>1</td>\n",
              "      <td>5,097.000</td>\n",
              "      <td>7.000</td>\n",
              "      <td>...</td>\n",
              "      <td>2015</td>\n",
              "      <td>7</td>\n",
              "      <td>0</td>\n",
              "      <td>0</td>\n",
              "      <td>7</td>\n",
              "      <td>28</td>\n",
              "      <td>188</td>\n",
              "      <td>3</td>\n",
              "      <td>0</td>\n",
              "      <td>0</td>\n",
              "    </tr>\n",
              "    <tr>\n",
              "      <th>731958</th>\n",
              "      <td>2017-05-09</td>\n",
              "      <td>20.000</td>\n",
              "      <td>0</td>\n",
              "      <td>1</td>\n",
              "      <td>0</td>\n",
              "      <td>0</td>\n",
              "      <td>1</td>\n",
              "      <td>1</td>\n",
              "      <td>325.000</td>\n",
              "      <td>11.000</td>\n",
              "      <td>...</td>\n",
              "      <td>2017</td>\n",
              "      <td>5</td>\n",
              "      <td>0</td>\n",
              "      <td>0</td>\n",
              "      <td>9</td>\n",
              "      <td>19</td>\n",
              "      <td>129</td>\n",
              "      <td>2</td>\n",
              "      <td>0</td>\n",
              "      <td>0</td>\n",
              "    </tr>\n",
              "    <tr>\n",
              "      <th>190861</th>\n",
              "      <td>2014-09-26</td>\n",
              "      <td>12.000</td>\n",
              "      <td>0</td>\n",
              "      <td>1</td>\n",
              "      <td>0</td>\n",
              "      <td>1</td>\n",
              "      <td>1</td>\n",
              "      <td>1</td>\n",
              "      <td>77.000</td>\n",
              "      <td>0.000</td>\n",
              "      <td>...</td>\n",
              "      <td>2014</td>\n",
              "      <td>9</td>\n",
              "      <td>0</td>\n",
              "      <td>0</td>\n",
              "      <td>26</td>\n",
              "      <td>39</td>\n",
              "      <td>269</td>\n",
              "      <td>3</td>\n",
              "      <td>0</td>\n",
              "      <td>0</td>\n",
              "    </tr>\n",
              "    <tr>\n",
              "      <th>874659</th>\n",
              "      <td>2015-02-25</td>\n",
              "      <td>23.000</td>\n",
              "      <td>0</td>\n",
              "      <td>1</td>\n",
              "      <td>1</td>\n",
              "      <td>1</td>\n",
              "      <td>0</td>\n",
              "      <td>0</td>\n",
              "      <td>0.000</td>\n",
              "      <td>0.000</td>\n",
              "      <td>...</td>\n",
              "      <td>2015</td>\n",
              "      <td>2</td>\n",
              "      <td>0</td>\n",
              "      <td>0</td>\n",
              "      <td>25</td>\n",
              "      <td>9</td>\n",
              "      <td>56</td>\n",
              "      <td>1</td>\n",
              "      <td>0</td>\n",
              "      <td>0</td>\n",
              "    </tr>\n",
              "  </tbody>\n",
              "</table>\n",
              "<p>8 rows × 43 columns</p>\n",
              "</div>\n",
              "      <button class=\"colab-df-convert\" onclick=\"convertToInteractive('df-ce1940a0-b7c4-4ac5-9241-69819ae10f93')\"\n",
              "              title=\"Convert this dataframe to an interactive table.\"\n",
              "              style=\"display:none;\">\n",
              "        \n",
              "  <svg xmlns=\"http://www.w3.org/2000/svg\" height=\"24px\"viewBox=\"0 0 24 24\"\n",
              "       width=\"24px\">\n",
              "    <path d=\"M0 0h24v24H0V0z\" fill=\"none\"/>\n",
              "    <path d=\"M18.56 5.44l.94 2.06.94-2.06 2.06-.94-2.06-.94-.94-2.06-.94 2.06-2.06.94zm-11 1L8.5 8.5l.94-2.06 2.06-.94-2.06-.94L8.5 2.5l-.94 2.06-2.06.94zm10 10l.94 2.06.94-2.06 2.06-.94-2.06-.94-.94-2.06-.94 2.06-2.06.94z\"/><path d=\"M17.41 7.96l-1.37-1.37c-.4-.4-.92-.59-1.43-.59-.52 0-1.04.2-1.43.59L10.3 9.45l-7.72 7.72c-.78.78-.78 2.05 0 2.83L4 21.41c.39.39.9.59 1.41.59.51 0 1.02-.2 1.41-.59l7.78-7.78 2.81-2.81c.8-.78.8-2.07 0-2.86zM5.41 20L4 18.59l7.72-7.72 1.47 1.35L5.41 20z\"/>\n",
              "  </svg>\n",
              "      </button>\n",
              "      \n",
              "  <style>\n",
              "    .colab-df-container {\n",
              "      display:flex;\n",
              "      flex-wrap:wrap;\n",
              "      gap: 12px;\n",
              "    }\n",
              "\n",
              "    .colab-df-convert {\n",
              "      background-color: #E8F0FE;\n",
              "      border: none;\n",
              "      border-radius: 50%;\n",
              "      cursor: pointer;\n",
              "      display: none;\n",
              "      fill: #1967D2;\n",
              "      height: 32px;\n",
              "      padding: 0 0 0 0;\n",
              "      width: 32px;\n",
              "    }\n",
              "\n",
              "    .colab-df-convert:hover {\n",
              "      background-color: #E2EBFA;\n",
              "      box-shadow: 0px 1px 2px rgba(60, 64, 67, 0.3), 0px 1px 3px 1px rgba(60, 64, 67, 0.15);\n",
              "      fill: #174EA6;\n",
              "    }\n",
              "\n",
              "    [theme=dark] .colab-df-convert {\n",
              "      background-color: #3B4455;\n",
              "      fill: #D2E3FC;\n",
              "    }\n",
              "\n",
              "    [theme=dark] .colab-df-convert:hover {\n",
              "      background-color: #434B5C;\n",
              "      box-shadow: 0px 1px 3px 1px rgba(0, 0, 0, 0.15);\n",
              "      filter: drop-shadow(0px 1px 2px rgba(0, 0, 0, 0.3));\n",
              "      fill: #FFFFFF;\n",
              "    }\n",
              "  </style>\n",
              "\n",
              "      <script>\n",
              "        const buttonEl =\n",
              "          document.querySelector('#df-ce1940a0-b7c4-4ac5-9241-69819ae10f93 button.colab-df-convert');\n",
              "        buttonEl.style.display =\n",
              "          google.colab.kernel.accessAllowed ? 'block' : 'none';\n",
              "\n",
              "        async function convertToInteractive(key) {\n",
              "          const element = document.querySelector('#df-ce1940a0-b7c4-4ac5-9241-69819ae10f93');\n",
              "          const dataTable =\n",
              "            await google.colab.kernel.invokeFunction('convertToInteractive',\n",
              "                                                     [key], {});\n",
              "          if (!dataTable) return;\n",
              "\n",
              "          const docLinkHtml = 'Like what you see? Visit the ' +\n",
              "            '<a target=\"_blank\" href=https://colab.research.google.com/notebooks/data_table.ipynb>data table notebook</a>'\n",
              "            + ' to learn more about interactive tables.';\n",
              "          element.innerHTML = '';\n",
              "          dataTable['output_type'] = 'display_data';\n",
              "          await google.colab.output.renderOutput(dataTable, element);\n",
              "          const docLink = document.createElement('div');\n",
              "          docLink.innerHTML = docLinkHtml;\n",
              "          element.appendChild(docLink);\n",
              "        }\n",
              "      </script>\n",
              "    </div>\n",
              "  </div>\n",
              "  "
            ]
          },
          "metadata": {},
          "execution_count": 50
        }
      ],
      "source": [
        "merged_data.sample(8)"
      ]
    },
    {
      "cell_type": "markdown",
      "metadata": {
        "id": "BstxcIDEyQDH"
      },
      "source": [
        "### Feature Drop"
      ]
    },
    {
      "cell_type": "code",
      "execution_count": null,
      "metadata": {
        "id": "6GU4UNHAQ7Is"
      },
      "outputs": [],
      "source": [
        "# drop columns\n",
        "merged_data = merged_data.drop(columns=['date'])"
      ]
    },
    {
      "cell_type": "markdown",
      "metadata": {
        "id": "NbuTyRJkyQDI"
      },
      "source": [
        "### Scaling"
      ]
    },
    {
      "cell_type": "code",
      "execution_count": null,
      "metadata": {
        "id": "MUG4DyTRQ7Im"
      },
      "outputs": [],
      "source": [
        "from sklearn.preprocessing import StandardScaler\n",
        "\n",
        "# create an instance of StandardScaler\n",
        "scaler = StandardScaler()\n",
        "\n",
        "# select numerical columns\n",
        "num_cols = ['store_nbr','sales', 'transactions', 'dcoilwtico', 'year','month','is_month_start','is_month_end','day','is_weekend','day_of_the_year','quarter','is_quarter_start','is_quarter_end']\n",
        "\n",
        "# fit and transform the numerical columns\n",
        "merged_data[num_cols] = scaler.fit_transform(merged_data[num_cols])"
      ]
    },
    {
      "cell_type": "code",
      "execution_count": null,
      "metadata": {
        "colab": {
          "base_uri": "https://localhost:8080/",
          "height": 488
        },
        "id": "-dYKy8VFQ7It",
        "outputId": "cfbf0a4a-578b-4138-c9e5-3fb9966b236b"
      },
      "outputs": [
        {
          "output_type": "execute_result",
          "data": {
            "text/plain": [
              "         store_nbr  family_0  family_1  family_2  family_3  family_4  \\\n",
              "0           -1.700         0         0         0         0         0   \n",
              "1           -1.700         0         0         0         0         1   \n",
              "2           -1.700         0         0         0         0         1   \n",
              "3           -1.700         0         0         0         1         0   \n",
              "4           -1.700         0         0         0         1         0   \n",
              "...            ...       ...       ...       ...       ...       ...   \n",
              "3054343     -1.187         0         1         1         1         0   \n",
              "3054344     -1.187         0         1         1         1         1   \n",
              "3054345     -1.187         0         1         1         1         1   \n",
              "3054346     -1.187         1         0         0         0         0   \n",
              "3054347     -1.187         1         0         0         0         0   \n",
              "\n",
              "         family_5  sales  onpromotion  transactions  ...   year  month  \\\n",
              "0               1 -0.324        0.000           NaN  ... -1.369 -1.548   \n",
              "1               0 -0.324        0.000           NaN  ... -1.369 -1.548   \n",
              "2               1 -0.324        0.000           NaN  ... -1.369 -1.548   \n",
              "3               0 -0.324        0.000           NaN  ... -1.369 -1.548   \n",
              "4               1 -0.324        0.000           NaN  ... -1.369 -1.548   \n",
              "...           ...    ...          ...           ...  ...    ...    ...   \n",
              "3054343         1  0.071        0.000         0.474  ...  1.603  0.527   \n",
              "3054344         0 -0.185        1.000         0.474  ...  1.603  0.527   \n",
              "3054345         1  1.861      148.000         0.474  ...  1.603  0.527   \n",
              "3054346         0 -0.215        8.000         0.474  ...  1.603  0.527   \n",
              "3054347         1 -0.310        0.000         0.474  ...  1.603  0.527   \n",
              "\n",
              "         is_month_start  is_month_end    day  is_weekend  day_of_the_year  \\\n",
              "0                 5.392        -0.182 -1.665      -1.648           -1.676   \n",
              "1                 5.392        -0.182 -1.665      -1.648           -1.676   \n",
              "2                 5.392        -0.182 -1.665      -1.648           -1.676   \n",
              "3                 5.392        -0.182 -1.665      -1.648           -1.676   \n",
              "4                 5.392        -0.182 -1.665      -1.648           -1.676   \n",
              "...                 ...           ...    ...         ...              ...   \n",
              "3054343          -0.185        -0.182 -0.075       0.521            0.515   \n",
              "3054344          -0.185        -0.182 -0.075       0.521            0.515   \n",
              "3054345          -0.185        -0.182 -0.075       0.521            0.515   \n",
              "3054346          -0.185        -0.182 -0.075       0.521            0.515   \n",
              "3054347          -0.185        -0.182 -0.075       0.521            0.515   \n",
              "\n",
              "         quarter  is_quarter_start  is_quarter_end  \n",
              "0         -1.290             9.445          -0.103  \n",
              "1         -1.290             9.445          -0.103  \n",
              "2         -1.290             9.445          -0.103  \n",
              "3         -1.290             9.445          -0.103  \n",
              "4         -1.290             9.445          -0.103  \n",
              "...          ...               ...             ...  \n",
              "3054343    0.535            -0.106          -0.103  \n",
              "3054344    0.535            -0.106          -0.103  \n",
              "3054345    0.535            -0.106          -0.103  \n",
              "3054346    0.535            -0.106          -0.103  \n",
              "3054347    0.535            -0.106          -0.103  \n",
              "\n",
              "[3054348 rows x 42 columns]"
            ],
            "text/html": [
              "\n",
              "  <div id=\"df-465a0ed8-a13c-443d-8c92-832a6bc82242\">\n",
              "    <div class=\"colab-df-container\">\n",
              "      <div>\n",
              "<style scoped>\n",
              "    .dataframe tbody tr th:only-of-type {\n",
              "        vertical-align: middle;\n",
              "    }\n",
              "\n",
              "    .dataframe tbody tr th {\n",
              "        vertical-align: top;\n",
              "    }\n",
              "\n",
              "    .dataframe thead th {\n",
              "        text-align: right;\n",
              "    }\n",
              "</style>\n",
              "<table border=\"1\" class=\"dataframe\">\n",
              "  <thead>\n",
              "    <tr style=\"text-align: right;\">\n",
              "      <th></th>\n",
              "      <th>store_nbr</th>\n",
              "      <th>family_0</th>\n",
              "      <th>family_1</th>\n",
              "      <th>family_2</th>\n",
              "      <th>family_3</th>\n",
              "      <th>family_4</th>\n",
              "      <th>family_5</th>\n",
              "      <th>sales</th>\n",
              "      <th>onpromotion</th>\n",
              "      <th>transactions</th>\n",
              "      <th>...</th>\n",
              "      <th>year</th>\n",
              "      <th>month</th>\n",
              "      <th>is_month_start</th>\n",
              "      <th>is_month_end</th>\n",
              "      <th>day</th>\n",
              "      <th>is_weekend</th>\n",
              "      <th>day_of_the_year</th>\n",
              "      <th>quarter</th>\n",
              "      <th>is_quarter_start</th>\n",
              "      <th>is_quarter_end</th>\n",
              "    </tr>\n",
              "  </thead>\n",
              "  <tbody>\n",
              "    <tr>\n",
              "      <th>0</th>\n",
              "      <td>-1.700</td>\n",
              "      <td>0</td>\n",
              "      <td>0</td>\n",
              "      <td>0</td>\n",
              "      <td>0</td>\n",
              "      <td>0</td>\n",
              "      <td>1</td>\n",
              "      <td>-0.324</td>\n",
              "      <td>0.000</td>\n",
              "      <td>NaN</td>\n",
              "      <td>...</td>\n",
              "      <td>-1.369</td>\n",
              "      <td>-1.548</td>\n",
              "      <td>5.392</td>\n",
              "      <td>-0.182</td>\n",
              "      <td>-1.665</td>\n",
              "      <td>-1.648</td>\n",
              "      <td>-1.676</td>\n",
              "      <td>-1.290</td>\n",
              "      <td>9.445</td>\n",
              "      <td>-0.103</td>\n",
              "    </tr>\n",
              "    <tr>\n",
              "      <th>1</th>\n",
              "      <td>-1.700</td>\n",
              "      <td>0</td>\n",
              "      <td>0</td>\n",
              "      <td>0</td>\n",
              "      <td>0</td>\n",
              "      <td>1</td>\n",
              "      <td>0</td>\n",
              "      <td>-0.324</td>\n",
              "      <td>0.000</td>\n",
              "      <td>NaN</td>\n",
              "      <td>...</td>\n",
              "      <td>-1.369</td>\n",
              "      <td>-1.548</td>\n",
              "      <td>5.392</td>\n",
              "      <td>-0.182</td>\n",
              "      <td>-1.665</td>\n",
              "      <td>-1.648</td>\n",
              "      <td>-1.676</td>\n",
              "      <td>-1.290</td>\n",
              "      <td>9.445</td>\n",
              "      <td>-0.103</td>\n",
              "    </tr>\n",
              "    <tr>\n",
              "      <th>2</th>\n",
              "      <td>-1.700</td>\n",
              "      <td>0</td>\n",
              "      <td>0</td>\n",
              "      <td>0</td>\n",
              "      <td>0</td>\n",
              "      <td>1</td>\n",
              "      <td>1</td>\n",
              "      <td>-0.324</td>\n",
              "      <td>0.000</td>\n",
              "      <td>NaN</td>\n",
              "      <td>...</td>\n",
              "      <td>-1.369</td>\n",
              "      <td>-1.548</td>\n",
              "      <td>5.392</td>\n",
              "      <td>-0.182</td>\n",
              "      <td>-1.665</td>\n",
              "      <td>-1.648</td>\n",
              "      <td>-1.676</td>\n",
              "      <td>-1.290</td>\n",
              "      <td>9.445</td>\n",
              "      <td>-0.103</td>\n",
              "    </tr>\n",
              "    <tr>\n",
              "      <th>3</th>\n",
              "      <td>-1.700</td>\n",
              "      <td>0</td>\n",
              "      <td>0</td>\n",
              "      <td>0</td>\n",
              "      <td>1</td>\n",
              "      <td>0</td>\n",
              "      <td>0</td>\n",
              "      <td>-0.324</td>\n",
              "      <td>0.000</td>\n",
              "      <td>NaN</td>\n",
              "      <td>...</td>\n",
              "      <td>-1.369</td>\n",
              "      <td>-1.548</td>\n",
              "      <td>5.392</td>\n",
              "      <td>-0.182</td>\n",
              "      <td>-1.665</td>\n",
              "      <td>-1.648</td>\n",
              "      <td>-1.676</td>\n",
              "      <td>-1.290</td>\n",
              "      <td>9.445</td>\n",
              "      <td>-0.103</td>\n",
              "    </tr>\n",
              "    <tr>\n",
              "      <th>4</th>\n",
              "      <td>-1.700</td>\n",
              "      <td>0</td>\n",
              "      <td>0</td>\n",
              "      <td>0</td>\n",
              "      <td>1</td>\n",
              "      <td>0</td>\n",
              "      <td>1</td>\n",
              "      <td>-0.324</td>\n",
              "      <td>0.000</td>\n",
              "      <td>NaN</td>\n",
              "      <td>...</td>\n",
              "      <td>-1.369</td>\n",
              "      <td>-1.548</td>\n",
              "      <td>5.392</td>\n",
              "      <td>-0.182</td>\n",
              "      <td>-1.665</td>\n",
              "      <td>-1.648</td>\n",
              "      <td>-1.676</td>\n",
              "      <td>-1.290</td>\n",
              "      <td>9.445</td>\n",
              "      <td>-0.103</td>\n",
              "    </tr>\n",
              "    <tr>\n",
              "      <th>...</th>\n",
              "      <td>...</td>\n",
              "      <td>...</td>\n",
              "      <td>...</td>\n",
              "      <td>...</td>\n",
              "      <td>...</td>\n",
              "      <td>...</td>\n",
              "      <td>...</td>\n",
              "      <td>...</td>\n",
              "      <td>...</td>\n",
              "      <td>...</td>\n",
              "      <td>...</td>\n",
              "      <td>...</td>\n",
              "      <td>...</td>\n",
              "      <td>...</td>\n",
              "      <td>...</td>\n",
              "      <td>...</td>\n",
              "      <td>...</td>\n",
              "      <td>...</td>\n",
              "      <td>...</td>\n",
              "      <td>...</td>\n",
              "      <td>...</td>\n",
              "    </tr>\n",
              "    <tr>\n",
              "      <th>3054343</th>\n",
              "      <td>-1.187</td>\n",
              "      <td>0</td>\n",
              "      <td>1</td>\n",
              "      <td>1</td>\n",
              "      <td>1</td>\n",
              "      <td>0</td>\n",
              "      <td>1</td>\n",
              "      <td>0.071</td>\n",
              "      <td>0.000</td>\n",
              "      <td>0.474</td>\n",
              "      <td>...</td>\n",
              "      <td>1.603</td>\n",
              "      <td>0.527</td>\n",
              "      <td>-0.185</td>\n",
              "      <td>-0.182</td>\n",
              "      <td>-0.075</td>\n",
              "      <td>0.521</td>\n",
              "      <td>0.515</td>\n",
              "      <td>0.535</td>\n",
              "      <td>-0.106</td>\n",
              "      <td>-0.103</td>\n",
              "    </tr>\n",
              "    <tr>\n",
              "      <th>3054344</th>\n",
              "      <td>-1.187</td>\n",
              "      <td>0</td>\n",
              "      <td>1</td>\n",
              "      <td>1</td>\n",
              "      <td>1</td>\n",
              "      <td>1</td>\n",
              "      <td>0</td>\n",
              "      <td>-0.185</td>\n",
              "      <td>1.000</td>\n",
              "      <td>0.474</td>\n",
              "      <td>...</td>\n",
              "      <td>1.603</td>\n",
              "      <td>0.527</td>\n",
              "      <td>-0.185</td>\n",
              "      <td>-0.182</td>\n",
              "      <td>-0.075</td>\n",
              "      <td>0.521</td>\n",
              "      <td>0.515</td>\n",
              "      <td>0.535</td>\n",
              "      <td>-0.106</td>\n",
              "      <td>-0.103</td>\n",
              "    </tr>\n",
              "    <tr>\n",
              "      <th>3054345</th>\n",
              "      <td>-1.187</td>\n",
              "      <td>0</td>\n",
              "      <td>1</td>\n",
              "      <td>1</td>\n",
              "      <td>1</td>\n",
              "      <td>1</td>\n",
              "      <td>1</td>\n",
              "      <td>1.861</td>\n",
              "      <td>148.000</td>\n",
              "      <td>0.474</td>\n",
              "      <td>...</td>\n",
              "      <td>1.603</td>\n",
              "      <td>0.527</td>\n",
              "      <td>-0.185</td>\n",
              "      <td>-0.182</td>\n",
              "      <td>-0.075</td>\n",
              "      <td>0.521</td>\n",
              "      <td>0.515</td>\n",
              "      <td>0.535</td>\n",
              "      <td>-0.106</td>\n",
              "      <td>-0.103</td>\n",
              "    </tr>\n",
              "    <tr>\n",
              "      <th>3054346</th>\n",
              "      <td>-1.187</td>\n",
              "      <td>1</td>\n",
              "      <td>0</td>\n",
              "      <td>0</td>\n",
              "      <td>0</td>\n",
              "      <td>0</td>\n",
              "      <td>0</td>\n",
              "      <td>-0.215</td>\n",
              "      <td>8.000</td>\n",
              "      <td>0.474</td>\n",
              "      <td>...</td>\n",
              "      <td>1.603</td>\n",
              "      <td>0.527</td>\n",
              "      <td>-0.185</td>\n",
              "      <td>-0.182</td>\n",
              "      <td>-0.075</td>\n",
              "      <td>0.521</td>\n",
              "      <td>0.515</td>\n",
              "      <td>0.535</td>\n",
              "      <td>-0.106</td>\n",
              "      <td>-0.103</td>\n",
              "    </tr>\n",
              "    <tr>\n",
              "      <th>3054347</th>\n",
              "      <td>-1.187</td>\n",
              "      <td>1</td>\n",
              "      <td>0</td>\n",
              "      <td>0</td>\n",
              "      <td>0</td>\n",
              "      <td>0</td>\n",
              "      <td>1</td>\n",
              "      <td>-0.310</td>\n",
              "      <td>0.000</td>\n",
              "      <td>0.474</td>\n",
              "      <td>...</td>\n",
              "      <td>1.603</td>\n",
              "      <td>0.527</td>\n",
              "      <td>-0.185</td>\n",
              "      <td>-0.182</td>\n",
              "      <td>-0.075</td>\n",
              "      <td>0.521</td>\n",
              "      <td>0.515</td>\n",
              "      <td>0.535</td>\n",
              "      <td>-0.106</td>\n",
              "      <td>-0.103</td>\n",
              "    </tr>\n",
              "  </tbody>\n",
              "</table>\n",
              "<p>3054348 rows × 42 columns</p>\n",
              "</div>\n",
              "      <button class=\"colab-df-convert\" onclick=\"convertToInteractive('df-465a0ed8-a13c-443d-8c92-832a6bc82242')\"\n",
              "              title=\"Convert this dataframe to an interactive table.\"\n",
              "              style=\"display:none;\">\n",
              "        \n",
              "  <svg xmlns=\"http://www.w3.org/2000/svg\" height=\"24px\"viewBox=\"0 0 24 24\"\n",
              "       width=\"24px\">\n",
              "    <path d=\"M0 0h24v24H0V0z\" fill=\"none\"/>\n",
              "    <path d=\"M18.56 5.44l.94 2.06.94-2.06 2.06-.94-2.06-.94-.94-2.06-.94 2.06-2.06.94zm-11 1L8.5 8.5l.94-2.06 2.06-.94-2.06-.94L8.5 2.5l-.94 2.06-2.06.94zm10 10l.94 2.06.94-2.06 2.06-.94-2.06-.94-.94-2.06-.94 2.06-2.06.94z\"/><path d=\"M17.41 7.96l-1.37-1.37c-.4-.4-.92-.59-1.43-.59-.52 0-1.04.2-1.43.59L10.3 9.45l-7.72 7.72c-.78.78-.78 2.05 0 2.83L4 21.41c.39.39.9.59 1.41.59.51 0 1.02-.2 1.41-.59l7.78-7.78 2.81-2.81c.8-.78.8-2.07 0-2.86zM5.41 20L4 18.59l7.72-7.72 1.47 1.35L5.41 20z\"/>\n",
              "  </svg>\n",
              "      </button>\n",
              "      \n",
              "  <style>\n",
              "    .colab-df-container {\n",
              "      display:flex;\n",
              "      flex-wrap:wrap;\n",
              "      gap: 12px;\n",
              "    }\n",
              "\n",
              "    .colab-df-convert {\n",
              "      background-color: #E8F0FE;\n",
              "      border: none;\n",
              "      border-radius: 50%;\n",
              "      cursor: pointer;\n",
              "      display: none;\n",
              "      fill: #1967D2;\n",
              "      height: 32px;\n",
              "      padding: 0 0 0 0;\n",
              "      width: 32px;\n",
              "    }\n",
              "\n",
              "    .colab-df-convert:hover {\n",
              "      background-color: #E2EBFA;\n",
              "      box-shadow: 0px 1px 2px rgba(60, 64, 67, 0.3), 0px 1px 3px 1px rgba(60, 64, 67, 0.15);\n",
              "      fill: #174EA6;\n",
              "    }\n",
              "\n",
              "    [theme=dark] .colab-df-convert {\n",
              "      background-color: #3B4455;\n",
              "      fill: #D2E3FC;\n",
              "    }\n",
              "\n",
              "    [theme=dark] .colab-df-convert:hover {\n",
              "      background-color: #434B5C;\n",
              "      box-shadow: 0px 1px 3px 1px rgba(0, 0, 0, 0.15);\n",
              "      filter: drop-shadow(0px 1px 2px rgba(0, 0, 0, 0.3));\n",
              "      fill: #FFFFFF;\n",
              "    }\n",
              "  </style>\n",
              "\n",
              "      <script>\n",
              "        const buttonEl =\n",
              "          document.querySelector('#df-465a0ed8-a13c-443d-8c92-832a6bc82242 button.colab-df-convert');\n",
              "        buttonEl.style.display =\n",
              "          google.colab.kernel.accessAllowed ? 'block' : 'none';\n",
              "\n",
              "        async function convertToInteractive(key) {\n",
              "          const element = document.querySelector('#df-465a0ed8-a13c-443d-8c92-832a6bc82242');\n",
              "          const dataTable =\n",
              "            await google.colab.kernel.invokeFunction('convertToInteractive',\n",
              "                                                     [key], {});\n",
              "          if (!dataTable) return;\n",
              "\n",
              "          const docLinkHtml = 'Like what you see? Visit the ' +\n",
              "            '<a target=\"_blank\" href=https://colab.research.google.com/notebooks/data_table.ipynb>data table notebook</a>'\n",
              "            + ' to learn more about interactive tables.';\n",
              "          element.innerHTML = '';\n",
              "          dataTable['output_type'] = 'display_data';\n",
              "          await google.colab.output.renderOutput(dataTable, element);\n",
              "          const docLink = document.createElement('div');\n",
              "          docLink.innerHTML = docLinkHtml;\n",
              "          element.appendChild(docLink);\n",
              "        }\n",
              "      </script>\n",
              "    </div>\n",
              "  </div>\n",
              "  "
            ]
          },
          "metadata": {},
          "execution_count": 53
        }
      ],
      "source": [
        "merged_data"
      ]
    },
    {
      "cell_type": "markdown",
      "metadata": {
        "id": "C1XknlT3xMWP"
      },
      "source": [
        "### Spliting the Dataset"
      ]
    },
    {
      "cell_type": "code",
      "execution_count": null,
      "metadata": {
        "id": "jWFWbeiKQ7I0"
      },
      "outputs": [],
      "source": [
        "# split the data into train and test sets\n",
        "X_train, X_test, y_train, y_test = train_test_split(merged_data.drop('sales', axis=1), merged_data['sales'], test_size=0.2, random_state=42)"
      ]
    },
    {
      "cell_type": "code",
      "execution_count": null,
      "metadata": {
        "id": "ZiAmS8MSyQDJ"
      },
      "outputs": [],
      "source": [
        "# split for the stats model\n",
        "combined = merged_data1.groupby('date')['sales'].sum().reset_index()\n",
        "combined =combined.set_index('date')\n",
        "\n",
        "train_data = combined[1:len(combined)-337] \n",
        "test_data = combined[len(combined)-337:]"
      ]
    },
    {
      "cell_type": "code",
      "execution_count": null,
      "metadata": {
        "id": "2gyUBAgPQ7Ip"
      },
      "outputs": [],
      "source": [
        "merged_data.dropna(subset=['sales'], inplace=True)"
      ]
    },
    {
      "cell_type": "code",
      "execution_count": null,
      "metadata": {
        "colab": {
          "base_uri": "https://localhost:8080/",
          "height": 205
        },
        "id": "mkgK0pAEQ7Iq",
        "outputId": "f6225441-af97-495a-a004-fab7c01db4a7"
      },
      "outputs": [
        {
          "output_type": "execute_result",
          "data": {
            "text/plain": [
              "   store_nbr  family_0  family_1  family_2  family_3  family_4  family_5  \\\n",
              "0     -1.700         0         0         0         0         0         1   \n",
              "1     -1.700         0         0         0         0         1         0   \n",
              "\n",
              "   sales  onpromotion  transactions  ...   year  month  is_month_start  \\\n",
              "0 -0.324        0.000           NaN  ... -1.369 -1.548           5.392   \n",
              "1 -0.324        0.000           NaN  ... -1.369 -1.548           5.392   \n",
              "\n",
              "   is_month_end    day  is_weekend  day_of_the_year  quarter  \\\n",
              "0        -0.182 -1.665      -1.648           -1.676   -1.290   \n",
              "1        -0.182 -1.665      -1.648           -1.676   -1.290   \n",
              "\n",
              "   is_quarter_start  is_quarter_end  \n",
              "0             9.445          -0.103  \n",
              "1             9.445          -0.103  \n",
              "\n",
              "[2 rows x 42 columns]"
            ],
            "text/html": [
              "\n",
              "  <div id=\"df-23af141c-d4a3-49d7-b1a8-94f60ef11da6\">\n",
              "    <div class=\"colab-df-container\">\n",
              "      <div>\n",
              "<style scoped>\n",
              "    .dataframe tbody tr th:only-of-type {\n",
              "        vertical-align: middle;\n",
              "    }\n",
              "\n",
              "    .dataframe tbody tr th {\n",
              "        vertical-align: top;\n",
              "    }\n",
              "\n",
              "    .dataframe thead th {\n",
              "        text-align: right;\n",
              "    }\n",
              "</style>\n",
              "<table border=\"1\" class=\"dataframe\">\n",
              "  <thead>\n",
              "    <tr style=\"text-align: right;\">\n",
              "      <th></th>\n",
              "      <th>store_nbr</th>\n",
              "      <th>family_0</th>\n",
              "      <th>family_1</th>\n",
              "      <th>family_2</th>\n",
              "      <th>family_3</th>\n",
              "      <th>family_4</th>\n",
              "      <th>family_5</th>\n",
              "      <th>sales</th>\n",
              "      <th>onpromotion</th>\n",
              "      <th>transactions</th>\n",
              "      <th>...</th>\n",
              "      <th>year</th>\n",
              "      <th>month</th>\n",
              "      <th>is_month_start</th>\n",
              "      <th>is_month_end</th>\n",
              "      <th>day</th>\n",
              "      <th>is_weekend</th>\n",
              "      <th>day_of_the_year</th>\n",
              "      <th>quarter</th>\n",
              "      <th>is_quarter_start</th>\n",
              "      <th>is_quarter_end</th>\n",
              "    </tr>\n",
              "  </thead>\n",
              "  <tbody>\n",
              "    <tr>\n",
              "      <th>0</th>\n",
              "      <td>-1.700</td>\n",
              "      <td>0</td>\n",
              "      <td>0</td>\n",
              "      <td>0</td>\n",
              "      <td>0</td>\n",
              "      <td>0</td>\n",
              "      <td>1</td>\n",
              "      <td>-0.324</td>\n",
              "      <td>0.000</td>\n",
              "      <td>NaN</td>\n",
              "      <td>...</td>\n",
              "      <td>-1.369</td>\n",
              "      <td>-1.548</td>\n",
              "      <td>5.392</td>\n",
              "      <td>-0.182</td>\n",
              "      <td>-1.665</td>\n",
              "      <td>-1.648</td>\n",
              "      <td>-1.676</td>\n",
              "      <td>-1.290</td>\n",
              "      <td>9.445</td>\n",
              "      <td>-0.103</td>\n",
              "    </tr>\n",
              "    <tr>\n",
              "      <th>1</th>\n",
              "      <td>-1.700</td>\n",
              "      <td>0</td>\n",
              "      <td>0</td>\n",
              "      <td>0</td>\n",
              "      <td>0</td>\n",
              "      <td>1</td>\n",
              "      <td>0</td>\n",
              "      <td>-0.324</td>\n",
              "      <td>0.000</td>\n",
              "      <td>NaN</td>\n",
              "      <td>...</td>\n",
              "      <td>-1.369</td>\n",
              "      <td>-1.548</td>\n",
              "      <td>5.392</td>\n",
              "      <td>-0.182</td>\n",
              "      <td>-1.665</td>\n",
              "      <td>-1.648</td>\n",
              "      <td>-1.676</td>\n",
              "      <td>-1.290</td>\n",
              "      <td>9.445</td>\n",
              "      <td>-0.103</td>\n",
              "    </tr>\n",
              "  </tbody>\n",
              "</table>\n",
              "<p>2 rows × 42 columns</p>\n",
              "</div>\n",
              "      <button class=\"colab-df-convert\" onclick=\"convertToInteractive('df-23af141c-d4a3-49d7-b1a8-94f60ef11da6')\"\n",
              "              title=\"Convert this dataframe to an interactive table.\"\n",
              "              style=\"display:none;\">\n",
              "        \n",
              "  <svg xmlns=\"http://www.w3.org/2000/svg\" height=\"24px\"viewBox=\"0 0 24 24\"\n",
              "       width=\"24px\">\n",
              "    <path d=\"M0 0h24v24H0V0z\" fill=\"none\"/>\n",
              "    <path d=\"M18.56 5.44l.94 2.06.94-2.06 2.06-.94-2.06-.94-.94-2.06-.94 2.06-2.06.94zm-11 1L8.5 8.5l.94-2.06 2.06-.94-2.06-.94L8.5 2.5l-.94 2.06-2.06.94zm10 10l.94 2.06.94-2.06 2.06-.94-2.06-.94-.94-2.06-.94 2.06-2.06.94z\"/><path d=\"M17.41 7.96l-1.37-1.37c-.4-.4-.92-.59-1.43-.59-.52 0-1.04.2-1.43.59L10.3 9.45l-7.72 7.72c-.78.78-.78 2.05 0 2.83L4 21.41c.39.39.9.59 1.41.59.51 0 1.02-.2 1.41-.59l7.78-7.78 2.81-2.81c.8-.78.8-2.07 0-2.86zM5.41 20L4 18.59l7.72-7.72 1.47 1.35L5.41 20z\"/>\n",
              "  </svg>\n",
              "      </button>\n",
              "      \n",
              "  <style>\n",
              "    .colab-df-container {\n",
              "      display:flex;\n",
              "      flex-wrap:wrap;\n",
              "      gap: 12px;\n",
              "    }\n",
              "\n",
              "    .colab-df-convert {\n",
              "      background-color: #E8F0FE;\n",
              "      border: none;\n",
              "      border-radius: 50%;\n",
              "      cursor: pointer;\n",
              "      display: none;\n",
              "      fill: #1967D2;\n",
              "      height: 32px;\n",
              "      padding: 0 0 0 0;\n",
              "      width: 32px;\n",
              "    }\n",
              "\n",
              "    .colab-df-convert:hover {\n",
              "      background-color: #E2EBFA;\n",
              "      box-shadow: 0px 1px 2px rgba(60, 64, 67, 0.3), 0px 1px 3px 1px rgba(60, 64, 67, 0.15);\n",
              "      fill: #174EA6;\n",
              "    }\n",
              "\n",
              "    [theme=dark] .colab-df-convert {\n",
              "      background-color: #3B4455;\n",
              "      fill: #D2E3FC;\n",
              "    }\n",
              "\n",
              "    [theme=dark] .colab-df-convert:hover {\n",
              "      background-color: #434B5C;\n",
              "      box-shadow: 0px 1px 3px 1px rgba(0, 0, 0, 0.15);\n",
              "      filter: drop-shadow(0px 1px 2px rgba(0, 0, 0, 0.3));\n",
              "      fill: #FFFFFF;\n",
              "    }\n",
              "  </style>\n",
              "\n",
              "      <script>\n",
              "        const buttonEl =\n",
              "          document.querySelector('#df-23af141c-d4a3-49d7-b1a8-94f60ef11da6 button.colab-df-convert');\n",
              "        buttonEl.style.display =\n",
              "          google.colab.kernel.accessAllowed ? 'block' : 'none';\n",
              "\n",
              "        async function convertToInteractive(key) {\n",
              "          const element = document.querySelector('#df-23af141c-d4a3-49d7-b1a8-94f60ef11da6');\n",
              "          const dataTable =\n",
              "            await google.colab.kernel.invokeFunction('convertToInteractive',\n",
              "                                                     [key], {});\n",
              "          if (!dataTable) return;\n",
              "\n",
              "          const docLinkHtml = 'Like what you see? Visit the ' +\n",
              "            '<a target=\"_blank\" href=https://colab.research.google.com/notebooks/data_table.ipynb>data table notebook</a>'\n",
              "            + ' to learn more about interactive tables.';\n",
              "          element.innerHTML = '';\n",
              "          dataTable['output_type'] = 'display_data';\n",
              "          await google.colab.output.renderOutput(dataTable, element);\n",
              "          const docLink = document.createElement('div');\n",
              "          docLink.innerHTML = docLinkHtml;\n",
              "          element.appendChild(docLink);\n",
              "        }\n",
              "      </script>\n",
              "    </div>\n",
              "  </div>\n",
              "  "
            ]
          },
          "metadata": {},
          "execution_count": 57
        }
      ],
      "source": [
        "merged_data.head(2)"
      ]
    },
    {
      "cell_type": "markdown",
      "metadata": {
        "id": "xsytlKYiyQDL"
      },
      "source": [
        "#### Imputation"
      ]
    },
    {
      "cell_type": "code",
      "execution_count": null,
      "metadata": {
        "id": "DpnAYjZYQ7I6"
      },
      "outputs": [],
      "source": [
        "from sklearn.impute import SimpleImputer\n",
        "\n",
        "# create an instance of the SimpleImputer class\n",
        "imputer = SimpleImputer(strategy='mean')\n",
        "col = ['transactions','dcoilwtico']\n",
        "# impute the missing values in your data\n",
        "X_train[col] = imputer.fit_transform(X_train[col])\n",
        "X_test[col] = imputer.transform(X_test[col])"
      ]
    },
    {
      "cell_type": "markdown",
      "metadata": {
        "id": "H5ZJNCqKy7MV"
      },
      "source": [
        "### Modelling"
      ]
    },
    {
      "cell_type": "markdown",
      "metadata": {
        "id": "9rHheW6KyQDM"
      },
      "source": [
        "### Univariate Time Forecasting \n",
        "\n",
        "Approah:\n",
        "\n",
        "Use AR, ARIMA and SARIMA models"
      ]
    },
    {
      "cell_type": "markdown",
      "metadata": {
        "id": "Rkedt4HZyQDM"
      },
      "source": [
        "#### AR Model"
      ]
    },
    {
      "cell_type": "markdown",
      "metadata": {
        "id": "yT8rjSY3yQDN"
      },
      "source": [
        "##### Autocorrelation and Partial Autocorrelation\n"
      ]
    },
    {
      "cell_type": "code",
      "execution_count": null,
      "metadata": {
        "colab": {
          "base_uri": "https://localhost:8080/",
          "height": 904
        },
        "id": "cAoK_quGyQDN",
        "outputId": "0fca6886-6613-4e20-8c8a-b0b39e40bf32"
      },
      "outputs": [
        {
          "output_type": "display_data",
          "data": {
            "text/plain": [
              "<Figure size 500x800 with 0 Axes>"
            ]
          },
          "metadata": {}
        },
        {
          "output_type": "display_data",
          "data": {
            "text/plain": [
              "<Figure size 640x480 with 1 Axes>"
            ],
            "image/png": "[encoded data removed]"
          },
          "metadata": {}
        },
        {
          "output_type": "display_data",
          "data": {
            "text/plain": [
              "<Figure size 640x480 with 1 Axes>"
            ],
            "image/png": "[encoded data removed]"
          },
          "metadata": {}
        }
      ],
      "source": [
        "plt.figure(figsize=(5,8))\n",
        "pacf = plot_pacf(combined['sales'],lags =10)\n",
        "acf = plot_acf(combined['sales'],lags =10)"
      ]
    },
    {
      "cell_type": "markdown",
      "metadata": {
        "id": "ENwOAnhgyQDN"
      },
      "source": [
        "##### Stationarity Test"
      ]
    },
    {
      "cell_type": "code",
      "execution_count": null,
      "metadata": {
        "colab": {
          "base_uri": "https://localhost:8080/",
          "height": 468
        },
        "id": "VBYaNdMnyQDO",
        "outputId": "e2e022b7-2ef2-487e-f25c-f61c133a0480"
      },
      "outputs": [
        {
          "output_type": "display_data",
          "data": {
            "text/plain": [
              "<Figure size 1200x500 with 1 Axes>"
            ],
            "image/png": "[encoded data removed]"
          },
          "metadata": {}
        }
      ],
      "source": [
        "plt.figure(figsize=(12,5))\n",
        "rmean=combined['sales'].rolling(window=12).mean()\n",
        "rstd=combined['sales'].rolling(window=12).std()\n",
        "# print(rmean,rstd)\n",
        "orig=plt.plot(combined['sales'], color='black',label='Original')\n",
        "mean= plt.plot(rmean , color='red',label='Rolling Mean')\n",
        "std=plt.plot(rstd,color='blue',label = 'Rolling Standard Deviation')\n",
        "plt.legend(loc='best')\n",
        "plt.title(\"Rolling mean and standard deviation\")\n",
        "plt.show();"
      ]
    },
    {
      "cell_type": "markdown",
      "metadata": {
        "id": "6Pbc3cMkyQDO"
      },
      "source": [
        "###### Comment:\n",
        "From the graph above, the rolling mean and rolling standard deviation is constant, thus the dataset can be said to be stationary"
      ]
    },
    {
      "cell_type": "markdown",
      "metadata": {
        "id": "c6cIlnmqyQDO"
      },
      "source": [
        "#### Ar Model"
      ]
    },
    {
      "cell_type": "code",
      "execution_count": null,
      "metadata": {
        "colab": {
          "base_uri": "https://localhost:8080/",
          "height": 485
        },
        "id": "90xnAgIkyQDP",
        "outputId": "fafe6d0e-00e0-40ba-983a-d06b3a1073f0"
      },
      "outputs": [
        {
          "output_type": "execute_result",
          "data": {
            "text/plain": [
              "<class 'statsmodels.iolib.summary.Summary'>\n",
              "\"\"\"\n",
              "                            AutoReg Model Results                             \n",
              "==============================================================================\n",
              "Dep. Variable:                  sales   No. Observations:                 1346\n",
              "Model:                     AutoReg(5)   Log Likelihood              -18194.672\n",
              "Method:               Conditional MLE   S.D. of innovations         188914.485\n",
              "Date:                Sat, 29 Apr 2023   AIC                          36403.345\n",
              "Time:                        16:23:38   BIC                          36439.753\n",
              "Sample:                             5   HQIC                         36416.984\n",
              "                                 1346                                         \n",
              "==============================================================================\n",
              "                 coef    std err          z      P>|z|      [0.025      0.975]\n",
              "------------------------------------------------------------------------------\n",
              "const       1.256e+05   1.64e+04      7.679      0.000    9.36e+04    1.58e+05\n",
              "sales.L1       0.5466      0.027     20.223      0.000       0.494       0.600\n",
              "sales.L2      -0.0540      0.031     -1.748      0.080      -0.114       0.007\n",
              "sales.L3       0.1489      0.031      4.858      0.000       0.089       0.209\n",
              "sales.L4       0.0030      0.031      0.096      0.924      -0.058       0.063\n",
              "sales.L5       0.1465      0.027      5.417      0.000       0.093       0.199\n",
              "                                    Roots                                    \n",
              "=============================================================================\n",
              "                  Real          Imaginary           Modulus         Frequency\n",
              "-----------------------------------------------------------------------------\n",
              "AR.1            1.1123           -0.0000j            1.1123           -0.0000\n",
              "AR.2            0.5849           -1.3983j            1.5157           -0.1869\n",
              "AR.3            0.5849           +1.3983j            1.5157            0.1869\n",
              "AR.4           -1.1511           -1.1605j            1.6346           -0.3744\n",
              "AR.5           -1.1511           +1.1605j            1.6346            0.3744\n",
              "-----------------------------------------------------------------------------\n",
              "\"\"\""
            ],
            "text/html": [
              "<table class=\"simpletable\">\n",
              "<caption>AutoReg Model Results</caption>\n",
              "<tr>\n",
              "  <th>Dep. Variable:</th>       <td>sales</td>      <th>  No. Observations:  </th>    <td>1346</td>   \n",
              "</tr>\n",
              "<tr>\n",
              "  <th>Model:</th>            <td>AutoReg(5)</td>    <th>  Log Likelihood     </th> <td>-18194.672</td>\n",
              "</tr>\n",
              "<tr>\n",
              "  <th>Method:</th>         <td>Conditional MLE</td> <th>  S.D. of innovations</th> <td>188914.485</td>\n",
              "</tr>\n",
              "<tr>\n",
              "  <th>Date:</th>          <td>Sat, 29 Apr 2023</td> <th>  AIC                </th>  <td>36403.345</td>\n",
              "</tr>\n",
              "<tr>\n",
              "  <th>Time:</th>              <td>16:23:38</td>     <th>  BIC                </th>  <td>36439.753</td>\n",
              "</tr>\n",
              "<tr>\n",
              "  <th>Sample:</th>                <td>5</td>        <th>  HQIC               </th>  <td>36416.984</td>\n",
              "</tr>\n",
              "<tr>\n",
              "  <th></th>                     <td>1346</td>       <th>                     </th>      <td> </td>    \n",
              "</tr>\n",
              "</table>\n",
              "<table class=\"simpletable\">\n",
              "<tr>\n",
              "      <td></td>        <th>coef</th>     <th>std err</th>      <th>z</th>      <th>P>|z|</th>  <th>[0.025</th>    <th>0.975]</th>  \n",
              "</tr>\n",
              "<tr>\n",
              "  <th>const</th>    <td> 1.256e+05</td> <td> 1.64e+04</td> <td>    7.679</td> <td> 0.000</td> <td> 9.36e+04</td> <td> 1.58e+05</td>\n",
              "</tr>\n",
              "<tr>\n",
              "  <th>sales.L1</th> <td>    0.5466</td> <td>    0.027</td> <td>   20.223</td> <td> 0.000</td> <td>    0.494</td> <td>    0.600</td>\n",
              "</tr>\n",
              "<tr>\n",
              "  <th>sales.L2</th> <td>   -0.0540</td> <td>    0.031</td> <td>   -1.748</td> <td> 0.080</td> <td>   -0.114</td> <td>    0.007</td>\n",
              "</tr>\n",
              "<tr>\n",
              "  <th>sales.L3</th> <td>    0.1489</td> <td>    0.031</td> <td>    4.858</td> <td> 0.000</td> <td>    0.089</td> <td>    0.209</td>\n",
              "</tr>\n",
              "<tr>\n",
              "  <th>sales.L4</th> <td>    0.0030</td> <td>    0.031</td> <td>    0.096</td> <td> 0.924</td> <td>   -0.058</td> <td>    0.063</td>\n",
              "</tr>\n",
              "<tr>\n",
              "  <th>sales.L5</th> <td>    0.1465</td> <td>    0.027</td> <td>    5.417</td> <td> 0.000</td> <td>    0.093</td> <td>    0.199</td>\n",
              "</tr>\n",
              "</table>\n",
              "<table class=\"simpletable\">\n",
              "<caption>Roots</caption>\n",
              "<tr>\n",
              "    <td></td>   <th>            Real</th>  <th>         Imaginary</th> <th>         Modulus</th>  <th>        Frequency</th>\n",
              "</tr>\n",
              "<tr>\n",
              "  <th>AR.1</th> <td>           1.1123</td> <td>          -0.0000j</td> <td>           1.1123</td> <td>          -0.0000</td>\n",
              "</tr>\n",
              "<tr>\n",
              "  <th>AR.2</th> <td>           0.5849</td> <td>          -1.3983j</td> <td>           1.5157</td> <td>          -0.1869</td>\n",
              "</tr>\n",
              "<tr>\n",
              "  <th>AR.3</th> <td>           0.5849</td> <td>          +1.3983j</td> <td>           1.5157</td> <td>           0.1869</td>\n",
              "</tr>\n",
              "<tr>\n",
              "  <th>AR.4</th> <td>          -1.1511</td> <td>          -1.1605j</td> <td>           1.6346</td> <td>          -0.3744</td>\n",
              "</tr>\n",
              "<tr>\n",
              "  <th>AR.5</th> <td>          -1.1511</td> <td>          +1.1605j</td> <td>           1.6346</td> <td>           0.3744</td>\n",
              "</tr>\n",
              "</table>"
            ]
          },
          "metadata": {},
          "execution_count": 61
        }
      ],
      "source": [
        "model1 =AutoReg(train_data, lags=5).fit()\n",
        "model1.summary()"
      ]
    },
    {
      "cell_type": "markdown",
      "metadata": {
        "id": "dZF3gmSHyQDP"
      },
      "source": [
        "##### Predictions"
      ]
    },
    {
      "cell_type": "code",
      "execution_count": null,
      "metadata": {
        "id": "nSrBJEWnyQDQ"
      },
      "outputs": [],
      "source": [
        "Ar_pred = model1.predict(start =len(train_data),\n",
        "                       end = len(train_data) +len(test_data)-1,\n",
        "                       dynamic =False)"
      ]
    },
    {
      "cell_type": "code",
      "execution_count": null,
      "metadata": {
        "colab": {
          "base_uri": "https://localhost:8080/",
          "height": 314
        },
        "id": "dWbVD7zUyQDR",
        "outputId": "312c6a3d-6c57-4c6a-faac-8235a91981f7"
      },
      "outputs": [
        {
          "output_type": "display_data",
          "data": {
            "text/plain": [
              "<Figure size 500x300 with 1 Axes>"
            ],
            "image/png": "[encoded data removed]"
          },
          "metadata": {}
        }
      ],
      "source": [
        "plt.figure(figsize=(5,3))\n",
        "plt.plot(train_data['sales'], label ='Train')\n",
        "plt.plot(test_data['sales'], label ='Test')\n",
        "plt.plot(Ar_pred, label ='Ar Forecast')\n",
        "plt.legend(loc='best')\n",
        "plt.title('AutoRegression Model Forecast')\n",
        "plt.show;"
      ]
    },
    {
      "cell_type": "markdown",
      "metadata": {
        "id": "P_SmyZBJyQDS"
      },
      "source": [
        "##### Evaluation"
      ]
    },
    {
      "cell_type": "code",
      "execution_count": null,
      "metadata": {
        "id": "bTnA2fgEyQDT"
      },
      "outputs": [],
      "source": [
        "mse = mean_squared_error(test_data,Ar_pred)\n",
        "msle = mean_squared_log_error(test_data, Ar_pred)\n",
        "rmse =np.sqrt(mse).round(2)\n",
        "rmsle =np.sqrt(msle).round(2)"
      ]
    },
    {
      "cell_type": "code",
      "execution_count": null,
      "metadata": {
        "colab": {
          "base_uri": "https://localhost:8080/",
          "height": 81
        },
        "id": "TWou97nhyQDT",
        "outputId": "3e4c4311-d9c2-4a2d-a415-4f0354deea90"
      },
      "outputs": [
        {
          "output_type": "execute_result",
          "data": {
            "text/plain": [
              "  Model                 mse  msle        rmse  rmsle\n",
              "0    AR 133,593,712,396.329 0.211 365,504.740  0.460"
            ],
            "text/html": [
              "\n",
              "  <div id=\"df-f9f9fa6e-d112-4e33-9037-60035e6f928e\">\n",
              "    <div class=\"colab-df-container\">\n",
              "      <div>\n",
              "<style scoped>\n",
              "    .dataframe tbody tr th:only-of-type {\n",
              "        vertical-align: middle;\n",
              "    }\n",
              "\n",
              "    .dataframe tbody tr th {\n",
              "        vertical-align: top;\n",
              "    }\n",
              "\n",
              "    .dataframe thead th {\n",
              "        text-align: right;\n",
              "    }\n",
              "</style>\n",
              "<table border=\"1\" class=\"dataframe\">\n",
              "  <thead>\n",
              "    <tr style=\"text-align: right;\">\n",
              "      <th></th>\n",
              "      <th>Model</th>\n",
              "      <th>mse</th>\n",
              "      <th>msle</th>\n",
              "      <th>rmse</th>\n",
              "      <th>rmsle</th>\n",
              "    </tr>\n",
              "  </thead>\n",
              "  <tbody>\n",
              "    <tr>\n",
              "      <th>0</th>\n",
              "      <td>AR</td>\n",
              "      <td>133,593,712,396.329</td>\n",
              "      <td>0.211</td>\n",
              "      <td>365,504.740</td>\n",
              "      <td>0.460</td>\n",
              "    </tr>\n",
              "  </tbody>\n",
              "</table>\n",
              "</div>\n",
              "      <button class=\"colab-df-convert\" onclick=\"convertToInteractive('df-f9f9fa6e-d112-4e33-9037-60035e6f928e')\"\n",
              "              title=\"Convert this dataframe to an interactive table.\"\n",
              "              style=\"display:none;\">\n",
              "        \n",
              "  <svg xmlns=\"http://www.w3.org/2000/svg\" height=\"24px\"viewBox=\"0 0 24 24\"\n",
              "       width=\"24px\">\n",
              "    <path d=\"M0 0h24v24H0V0z\" fill=\"none\"/>\n",
              "    <path d=\"M18.56 5.44l.94 2.06.94-2.06 2.06-.94-2.06-.94-.94-2.06-.94 2.06-2.06.94zm-11 1L8.5 8.5l.94-2.06 2.06-.94-2.06-.94L8.5 2.5l-.94 2.06-2.06.94zm10 10l.94 2.06.94-2.06 2.06-.94-2.06-.94-.94-2.06-.94 2.06-2.06.94z\"/><path d=\"M17.41 7.96l-1.37-1.37c-.4-.4-.92-.59-1.43-.59-.52 0-1.04.2-1.43.59L10.3 9.45l-7.72 7.72c-.78.78-.78 2.05 0 2.83L4 21.41c.39.39.9.59 1.41.59.51 0 1.02-.2 1.41-.59l7.78-7.78 2.81-2.81c.8-.78.8-2.07 0-2.86zM5.41 20L4 18.59l7.72-7.72 1.47 1.35L5.41 20z\"/>\n",
              "  </svg>\n",
              "      </button>\n",
              "      \n",
              "  <style>\n",
              "    .colab-df-container {\n",
              "      display:flex;\n",
              "      flex-wrap:wrap;\n",
              "      gap: 12px;\n",
              "    }\n",
              "\n",
              "    .colab-df-convert {\n",
              "      background-color: #E8F0FE;\n",
              "      border: none;\n",
              "      border-radius: 50%;\n",
              "      cursor: pointer;\n",
              "      display: none;\n",
              "      fill: #1967D2;\n",
              "      height: 32px;\n",
              "      padding: 0 0 0 0;\n",
              "      width: 32px;\n",
              "    }\n",
              "\n",
              "    .colab-df-convert:hover {\n",
              "      background-color: #E2EBFA;\n",
              "      box-shadow: 0px 1px 2px rgba(60, 64, 67, 0.3), 0px 1px 3px 1px rgba(60, 64, 67, 0.15);\n",
              "      fill: #174EA6;\n",
              "    }\n",
              "\n",
              "    [theme=dark] .colab-df-convert {\n",
              "      background-color: #3B4455;\n",
              "      fill: #D2E3FC;\n",
              "    }\n",
              "\n",
              "    [theme=dark] .colab-df-convert:hover {\n",
              "      background-color: #434B5C;\n",
              "      box-shadow: 0px 1px 3px 1px rgba(0, 0, 0, 0.15);\n",
              "      filter: drop-shadow(0px 1px 2px rgba(0, 0, 0, 0.3));\n",
              "      fill: #FFFFFF;\n",
              "    }\n",
              "  </style>\n",
              "\n",
              "      <script>\n",
              "        const buttonEl =\n",
              "          document.querySelector('#df-f9f9fa6e-d112-4e33-9037-60035e6f928e button.colab-df-convert');\n",
              "        buttonEl.style.display =\n",
              "          google.colab.kernel.accessAllowed ? 'block' : 'none';\n",
              "\n",
              "        async function convertToInteractive(key) {\n",
              "          const element = document.querySelector('#df-f9f9fa6e-d112-4e33-9037-60035e6f928e');\n",
              "          const dataTable =\n",
              "            await google.colab.kernel.invokeFunction('convertToInteractive',\n",
              "                                                     [key], {});\n",
              "          if (!dataTable) return;\n",
              "\n",
              "          const docLinkHtml = 'Like what you see? Visit the ' +\n",
              "            '<a target=\"_blank\" href=https://colab.research.google.com/notebooks/data_table.ipynb>data table notebook</a>'\n",
              "            + ' to learn more about interactive tables.';\n",
              "          element.innerHTML = '';\n",
              "          dataTable['output_type'] = 'display_data';\n",
              "          await google.colab.output.renderOutput(dataTable, element);\n",
              "          const docLink = document.createElement('div');\n",
              "          docLink.innerHTML = docLinkHtml;\n",
              "          element.appendChild(docLink);\n",
              "        }\n",
              "      </script>\n",
              "    </div>\n",
              "  </div>\n",
              "  "
            ]
          },
          "metadata": {},
          "execution_count": 65
        }
      ],
      "source": [
        "results =pd.DataFrame([['AR',mse, msle,rmse,rmsle]], columns =['Model','mse','msle','rmse','rmsle'])\n",
        "\n",
        "results"
      ]
    },
    {
      "cell_type": "markdown",
      "metadata": {
        "id": "F9-McnGfyQDU"
      },
      "source": [
        "#### ARIMA"
      ]
    },
    {
      "cell_type": "code",
      "execution_count": null,
      "metadata": {
        "colab": {
          "base_uri": "https://localhost:8080/",
          "height": 1000
        },
        "id": "z1ws6jWvyQDU",
        "outputId": "87277d78-fccb-47f8-b6d0-d8f6b3e71a0e"
      },
      "outputs": [
        {
          "output_type": "stream",
          "name": "stdout",
          "text": [
            "Performing stepwise search to minimize aic\n",
            " ARIMA(2,1,2)(0,0,0)[0] intercept   : AIC=36357.548, Time=2.46 sec\n",
            " ARIMA(0,1,0)(0,0,0)[0] intercept   : AIC=36862.492, Time=0.11 sec\n",
            " ARIMA(1,1,0)(0,0,0)[0] intercept   : AIC=36781.721, Time=0.12 sec\n",
            " ARIMA(0,1,1)(0,0,0)[0] intercept   : AIC=36524.179, Time=0.34 sec\n",
            " ARIMA(0,1,0)(0,0,0)[0]             : AIC=36860.497, Time=0.05 sec\n",
            " ARIMA(1,1,2)(0,0,0)[0] intercept   : AIC=36369.181, Time=0.77 sec\n",
            " ARIMA(2,1,1)(0,0,0)[0] intercept   : AIC=36388.175, Time=0.48 sec\n",
            " ARIMA(3,1,2)(0,0,0)[0] intercept   : AIC=36366.788, Time=1.74 sec\n",
            " ARIMA(2,1,3)(0,0,0)[0] intercept   : AIC=36162.299, Time=3.75 sec\n",
            " ARIMA(1,1,3)(0,0,0)[0] intercept   : AIC=36363.648, Time=1.85 sec\n",
            " ARIMA(3,1,3)(0,0,0)[0] intercept   : AIC=36150.077, Time=6.33 sec\n",
            " ARIMA(4,1,3)(0,0,0)[0] intercept   : AIC=36125.675, Time=3.79 sec\n",
            " ARIMA(4,1,2)(0,0,0)[0] intercept   : AIC=36242.328, Time=3.84 sec\n",
            " ARIMA(5,1,3)(0,0,0)[0] intercept   : AIC=36166.751, Time=3.70 sec\n",
            " ARIMA(4,1,4)(0,0,0)[0] intercept   : AIC=36161.166, Time=6.59 sec\n",
            " ARIMA(3,1,4)(0,0,0)[0] intercept   : AIC=36294.955, Time=2.60 sec\n",
            " ARIMA(5,1,2)(0,0,0)[0] intercept   : AIC=36172.865, Time=2.85 sec\n",
            " ARIMA(5,1,4)(0,0,0)[0] intercept   : AIC=36171.240, Time=3.44 sec\n",
            " ARIMA(4,1,3)(0,0,0)[0]             : AIC=36123.183, Time=6.18 sec\n",
            " ARIMA(3,1,3)(0,0,0)[0]             : AIC=36141.099, Time=3.29 sec\n",
            " ARIMA(4,1,2)(0,0,0)[0]             : AIC=36240.008, Time=6.28 sec\n",
            " ARIMA(5,1,3)(0,0,0)[0]             : AIC=36164.782, Time=5.36 sec\n",
            " ARIMA(4,1,4)(0,0,0)[0]             : AIC=36158.093, Time=4.38 sec\n",
            " ARIMA(3,1,2)(0,0,0)[0]             : AIC=36364.602, Time=1.57 sec\n",
            " ARIMA(3,1,4)(0,0,0)[0]             : AIC=36290.801, Time=1.88 sec\n",
            " ARIMA(5,1,2)(0,0,0)[0]             : AIC=36170.892, Time=3.55 sec\n",
            " ARIMA(5,1,4)(0,0,0)[0]             : AIC=36169.262, Time=3.63 sec\n",
            "\n",
            "Best model:  ARIMA(4,1,3)(0,0,0)[0]          \n",
            "Total fit time: 81.005 seconds\n"
          ]
        },
        {
          "output_type": "execute_result",
          "data": {
            "text/plain": [
              "<class 'statsmodels.iolib.summary.Summary'>\n",
              "\"\"\"\n",
              "                               SARIMAX Results                                \n",
              "==============================================================================\n",
              "Dep. Variable:                      y   No. Observations:                 1346\n",
              "Model:               SARIMAX(4, 1, 3)   Log Likelihood              -18053.591\n",
              "Date:                Sat, 29 Apr 2023   AIC                          36123.183\n",
              "Time:                        16:25:35   BIC                          36164.816\n",
              "Sample:                             0   HQIC                         36138.778\n",
              "                               - 1346                                         \n",
              "Covariance Type:                  opg                                         \n",
              "==============================================================================\n",
              "                 coef    std err          z      P>|z|      [0.025      0.975]\n",
              "------------------------------------------------------------------------------\n",
              "ar.L1          1.3161      0.023     56.049      0.000       1.270       1.362\n",
              "ar.L2         -1.2230      0.037    -32.883      0.000      -1.296      -1.150\n",
              "ar.L3          0.2416      0.040      5.976      0.000       0.162       0.321\n",
              "ar.L4         -0.1302      0.031     -4.134      0.000      -0.192      -0.068\n",
              "ma.L1         -2.0166      0.019   -107.547      0.000      -2.053      -1.980\n",
              "ma.L2          1.9491      0.026     75.041      0.000       1.898       2.000\n",
              "ma.L3         -0.8017      0.018    -44.071      0.000      -0.837      -0.766\n",
              "sigma2      2.755e+10   6.08e-13   4.53e+22      0.000    2.75e+10    2.75e+10\n",
              "===================================================================================\n",
              "Ljung-Box (L1) (Q):                   0.23   Jarque-Bera (JB):             50387.13\n",
              "Prob(Q):                              0.63   Prob(JB):                         0.00\n",
              "Heteroskedasticity (H):               5.54   Skew:                             3.31\n",
              "Prob(H) (two-sided):                  0.00   Kurtosis:                        32.25\n",
              "===================================================================================\n",
              "\n",
              "Warnings:\n",
              "[1] Covariance matrix calculated using the outer product of gradients (complex-step).\n",
              "[2] Covariance matrix is singular or near-singular, with condition number 1.96e+39. Standard errors may be unstable.\n",
              "\"\"\""
            ],
            "text/html": [
              "<table class=\"simpletable\">\n",
              "<caption>SARIMAX Results</caption>\n",
              "<tr>\n",
              "  <th>Dep. Variable:</th>           <td>y</td>        <th>  No. Observations:  </th>    <td>1346</td>   \n",
              "</tr>\n",
              "<tr>\n",
              "  <th>Model:</th>           <td>SARIMAX(4, 1, 3)</td> <th>  Log Likelihood     </th> <td>-18053.591</td>\n",
              "</tr>\n",
              "<tr>\n",
              "  <th>Date:</th>            <td>Sat, 29 Apr 2023</td> <th>  AIC                </th>  <td>36123.183</td>\n",
              "</tr>\n",
              "<tr>\n",
              "  <th>Time:</th>                <td>16:25:35</td>     <th>  BIC                </th>  <td>36164.816</td>\n",
              "</tr>\n",
              "<tr>\n",
              "  <th>Sample:</th>                  <td>0</td>        <th>  HQIC               </th>  <td>36138.778</td>\n",
              "</tr>\n",
              "<tr>\n",
              "  <th></th>                      <td> - 1346</td>     <th>                     </th>      <td> </td>    \n",
              "</tr>\n",
              "<tr>\n",
              "  <th>Covariance Type:</th>        <td>opg</td>       <th>                     </th>      <td> </td>    \n",
              "</tr>\n",
              "</table>\n",
              "<table class=\"simpletable\">\n",
              "<tr>\n",
              "     <td></td>       <th>coef</th>     <th>std err</th>      <th>z</th>      <th>P>|z|</th>  <th>[0.025</th>    <th>0.975]</th>  \n",
              "</tr>\n",
              "<tr>\n",
              "  <th>ar.L1</th>  <td>    1.3161</td> <td>    0.023</td> <td>   56.049</td> <td> 0.000</td> <td>    1.270</td> <td>    1.362</td>\n",
              "</tr>\n",
              "<tr>\n",
              "  <th>ar.L2</th>  <td>   -1.2230</td> <td>    0.037</td> <td>  -32.883</td> <td> 0.000</td> <td>   -1.296</td> <td>   -1.150</td>\n",
              "</tr>\n",
              "<tr>\n",
              "  <th>ar.L3</th>  <td>    0.2416</td> <td>    0.040</td> <td>    5.976</td> <td> 0.000</td> <td>    0.162</td> <td>    0.321</td>\n",
              "</tr>\n",
              "<tr>\n",
              "  <th>ar.L4</th>  <td>   -0.1302</td> <td>    0.031</td> <td>   -4.134</td> <td> 0.000</td> <td>   -0.192</td> <td>   -0.068</td>\n",
              "</tr>\n",
              "<tr>\n",
              "  <th>ma.L1</th>  <td>   -2.0166</td> <td>    0.019</td> <td> -107.547</td> <td> 0.000</td> <td>   -2.053</td> <td>   -1.980</td>\n",
              "</tr>\n",
              "<tr>\n",
              "  <th>ma.L2</th>  <td>    1.9491</td> <td>    0.026</td> <td>   75.041</td> <td> 0.000</td> <td>    1.898</td> <td>    2.000</td>\n",
              "</tr>\n",
              "<tr>\n",
              "  <th>ma.L3</th>  <td>   -0.8017</td> <td>    0.018</td> <td>  -44.071</td> <td> 0.000</td> <td>   -0.837</td> <td>   -0.766</td>\n",
              "</tr>\n",
              "<tr>\n",
              "  <th>sigma2</th> <td> 2.755e+10</td> <td> 6.08e-13</td> <td> 4.53e+22</td> <td> 0.000</td> <td> 2.75e+10</td> <td> 2.75e+10</td>\n",
              "</tr>\n",
              "</table>\n",
              "<table class=\"simpletable\">\n",
              "<tr>\n",
              "  <th>Ljung-Box (L1) (Q):</th>     <td>0.23</td> <th>  Jarque-Bera (JB):  </th> <td>50387.13</td>\n",
              "</tr>\n",
              "<tr>\n",
              "  <th>Prob(Q):</th>                <td>0.63</td> <th>  Prob(JB):          </th>   <td>0.00</td>  \n",
              "</tr>\n",
              "<tr>\n",
              "  <th>Heteroskedasticity (H):</th> <td>5.54</td> <th>  Skew:              </th>   <td>3.31</td>  \n",
              "</tr>\n",
              "<tr>\n",
              "  <th>Prob(H) (two-sided):</th>    <td>0.00</td> <th>  Kurtosis:          </th>   <td>32.25</td> \n",
              "</tr>\n",
              "</table><br/><br/>Warnings:<br/>[1] Covariance matrix calculated using the outer product of gradients (complex-step).<br/>[2] Covariance matrix is singular or near-singular, with condition number 1.96e+39. Standard errors may be unstable."
            ]
          },
          "metadata": {},
          "execution_count": 66
        }
      ],
      "source": [
        "stepwise_fit = auto_arima(train_data['sales'], trace =True,suppress_warning =True)\n",
        "stepwise_fit.summary()"
      ]
    },
    {
      "cell_type": "code",
      "execution_count": null,
      "metadata": {
        "colab": {
          "base_uri": "https://localhost:8080/",
          "height": 554
        },
        "id": "lxGjm4pfyQDV",
        "outputId": "f1d91ce5-ac2b-4bb8-f513-f9050c4ccd6a"
      },
      "outputs": [
        {
          "output_type": "execute_result",
          "data": {
            "text/plain": [
              "<class 'statsmodels.iolib.summary.Summary'>\n",
              "\"\"\"\n",
              "                               SARIMAX Results                                \n",
              "==============================================================================\n",
              "Dep. Variable:                  sales   No. Observations:                 1346\n",
              "Model:                 ARIMA(4, 1, 3)   Log Likelihood              -18053.591\n",
              "Date:                Sat, 29 Apr 2023   AIC                          36123.183\n",
              "Time:                        16:25:51   BIC                          36164.816\n",
              "Sample:                             0   HQIC                         36138.778\n",
              "                               - 1346                                         \n",
              "Covariance Type:                  opg                                         \n",
              "==============================================================================\n",
              "                 coef    std err          z      P>|z|      [0.025      0.975]\n",
              "------------------------------------------------------------------------------\n",
              "ar.L1          1.3161      0.023     56.049      0.000       1.270       1.362\n",
              "ar.L2         -1.2230      0.037    -32.883      0.000      -1.296      -1.150\n",
              "ar.L3          0.2416      0.040      5.976      0.000       0.162       0.321\n",
              "ar.L4         -0.1302      0.031     -4.134      0.000      -0.192      -0.068\n",
              "ma.L1         -2.0166      0.019   -107.547      0.000      -2.053      -1.980\n",
              "ma.L2          1.9491      0.026     75.041      0.000       1.898       2.000\n",
              "ma.L3         -0.8017      0.018    -44.071      0.000      -0.837      -0.766\n",
              "sigma2      2.755e+10   6.08e-13   4.53e+22      0.000    2.75e+10    2.75e+10\n",
              "===================================================================================\n",
              "Ljung-Box (L1) (Q):                   0.23   Jarque-Bera (JB):             50387.13\n",
              "Prob(Q):                              0.63   Prob(JB):                         0.00\n",
              "Heteroskedasticity (H):               5.54   Skew:                             3.31\n",
              "Prob(H) (two-sided):                  0.00   Kurtosis:                        32.25\n",
              "===================================================================================\n",
              "\n",
              "Warnings:\n",
              "[1] Covariance matrix calculated using the outer product of gradients (complex-step).\n",
              "[2] Covariance matrix is singular or near-singular, with condition number 1.96e+39. Standard errors may be unstable.\n",
              "\"\"\""
            ],
            "text/html": [
              "<table class=\"simpletable\">\n",
              "<caption>SARIMAX Results</caption>\n",
              "<tr>\n",
              "  <th>Dep. Variable:</th>         <td>sales</td>      <th>  No. Observations:  </th>    <td>1346</td>   \n",
              "</tr>\n",
              "<tr>\n",
              "  <th>Model:</th>            <td>ARIMA(4, 1, 3)</td>  <th>  Log Likelihood     </th> <td>-18053.591</td>\n",
              "</tr>\n",
              "<tr>\n",
              "  <th>Date:</th>            <td>Sat, 29 Apr 2023</td> <th>  AIC                </th>  <td>36123.183</td>\n",
              "</tr>\n",
              "<tr>\n",
              "  <th>Time:</th>                <td>16:25:51</td>     <th>  BIC                </th>  <td>36164.816</td>\n",
              "</tr>\n",
              "<tr>\n",
              "  <th>Sample:</th>                  <td>0</td>        <th>  HQIC               </th>  <td>36138.778</td>\n",
              "</tr>\n",
              "<tr>\n",
              "  <th></th>                      <td> - 1346</td>     <th>                     </th>      <td> </td>    \n",
              "</tr>\n",
              "<tr>\n",
              "  <th>Covariance Type:</th>        <td>opg</td>       <th>                     </th>      <td> </td>    \n",
              "</tr>\n",
              "</table>\n",
              "<table class=\"simpletable\">\n",
              "<tr>\n",
              "     <td></td>       <th>coef</th>     <th>std err</th>      <th>z</th>      <th>P>|z|</th>  <th>[0.025</th>    <th>0.975]</th>  \n",
              "</tr>\n",
              "<tr>\n",
              "  <th>ar.L1</th>  <td>    1.3161</td> <td>    0.023</td> <td>   56.049</td> <td> 0.000</td> <td>    1.270</td> <td>    1.362</td>\n",
              "</tr>\n",
              "<tr>\n",
              "  <th>ar.L2</th>  <td>   -1.2230</td> <td>    0.037</td> <td>  -32.883</td> <td> 0.000</td> <td>   -1.296</td> <td>   -1.150</td>\n",
              "</tr>\n",
              "<tr>\n",
              "  <th>ar.L3</th>  <td>    0.2416</td> <td>    0.040</td> <td>    5.976</td> <td> 0.000</td> <td>    0.162</td> <td>    0.321</td>\n",
              "</tr>\n",
              "<tr>\n",
              "  <th>ar.L4</th>  <td>   -0.1302</td> <td>    0.031</td> <td>   -4.134</td> <td> 0.000</td> <td>   -0.192</td> <td>   -0.068</td>\n",
              "</tr>\n",
              "<tr>\n",
              "  <th>ma.L1</th>  <td>   -2.0166</td> <td>    0.019</td> <td> -107.547</td> <td> 0.000</td> <td>   -2.053</td> <td>   -1.980</td>\n",
              "</tr>\n",
              "<tr>\n",
              "  <th>ma.L2</th>  <td>    1.9491</td> <td>    0.026</td> <td>   75.041</td> <td> 0.000</td> <td>    1.898</td> <td>    2.000</td>\n",
              "</tr>\n",
              "<tr>\n",
              "  <th>ma.L3</th>  <td>   -0.8017</td> <td>    0.018</td> <td>  -44.071</td> <td> 0.000</td> <td>   -0.837</td> <td>   -0.766</td>\n",
              "</tr>\n",
              "<tr>\n",
              "  <th>sigma2</th> <td> 2.755e+10</td> <td> 6.08e-13</td> <td> 4.53e+22</td> <td> 0.000</td> <td> 2.75e+10</td> <td> 2.75e+10</td>\n",
              "</tr>\n",
              "</table>\n",
              "<table class=\"simpletable\">\n",
              "<tr>\n",
              "  <th>Ljung-Box (L1) (Q):</th>     <td>0.23</td> <th>  Jarque-Bera (JB):  </th> <td>50387.13</td>\n",
              "</tr>\n",
              "<tr>\n",
              "  <th>Prob(Q):</th>                <td>0.63</td> <th>  Prob(JB):          </th>   <td>0.00</td>  \n",
              "</tr>\n",
              "<tr>\n",
              "  <th>Heteroskedasticity (H):</th> <td>5.54</td> <th>  Skew:              </th>   <td>3.31</td>  \n",
              "</tr>\n",
              "<tr>\n",
              "  <th>Prob(H) (two-sided):</th>    <td>0.00</td> <th>  Kurtosis:          </th>   <td>32.25</td> \n",
              "</tr>\n",
              "</table><br/><br/>Warnings:<br/>[1] Covariance matrix calculated using the outer product of gradients (complex-step).<br/>[2] Covariance matrix is singular or near-singular, with condition number 1.96e+39. Standard errors may be unstable."
            ]
          },
          "metadata": {},
          "execution_count": 67
        }
      ],
      "source": [
        "model2 = ARIMA(train_data, order=(4,1,3))\n",
        "model_fit = model2.fit()\n",
        "model_fit.summary()"
      ]
    },
    {
      "cell_type": "markdown",
      "metadata": {
        "id": "j5OAXW-cyQDV"
      },
      "source": [
        "##### Prediction"
      ]
    },
    {
      "cell_type": "code",
      "execution_count": null,
      "metadata": {
        "colab": {
          "base_uri": "https://localhost:8080/"
        },
        "id": "mKYtpc8FyQDW",
        "outputId": "bb60b5d1-19b8-4005-d7f3-99ac7d8c0f9a"
      },
      "outputs": [
        {
          "output_type": "stream",
          "name": "stdout",
          "text": [
            "1346   830,060.096\n",
            "1347   701,254.047\n",
            "1348   666,935.327\n",
            "1349   720,840.775\n",
            "1350   827,025.322\n",
            "           ...    \n",
            "1678   821,047.664\n",
            "1679   833,913.730\n",
            "1680   817,441.353\n",
            "1681   784,306.799\n",
            "1682   759,707.190\n",
            "Name: predicted_mean, Length: 337, dtype: float64\n"
          ]
        }
      ],
      "source": [
        "Arima_pred = model_fit.predict(start =len(train_data),\n",
        "                       end = len(train_data) +len(test_data)-1,\n",
        "                       typ ='levels')\n",
        "\n",
        "print(Arima_pred)"
      ]
    },
    {
      "cell_type": "code",
      "execution_count": null,
      "metadata": {
        "colab": {
          "base_uri": "https://localhost:8080/",
          "height": 391
        },
        "id": "ODqK824EyQDZ",
        "outputId": "eda1d02a-c954-4808-a3b2-86675a807686"
      },
      "outputs": [
        {
          "output_type": "display_data",
          "data": {
            "text/plain": [
              "<Figure size 800x400 with 1 Axes>"
            ],
            "image/png": "[encoded data removed]"
          },
          "metadata": {}
        }
      ],
      "source": [
        "plt.figure(figsize=(8,4))\n",
        "plt.plot(train_data['sales'], label ='Train')\n",
        "plt.plot(test_data['sales'], label ='Test')\n",
        "plt.plot(Arima_pred, label ='Arima Forecast')\n",
        "plt.legend(loc='best')\n",
        "plt.title('ARIMA Model Forecast')\n",
        "plt.show();"
      ]
    },
    {
      "cell_type": "markdown",
      "metadata": {
        "id": "kXLVbS_zyQDa"
      },
      "source": [
        "###### Evaluation"
      ]
    },
    {
      "cell_type": "code",
      "execution_count": null,
      "metadata": {
        "colab": {
          "base_uri": "https://localhost:8080/",
          "height": 112
        },
        "id": "w2INOv0UyQDa",
        "outputId": "6dcbbc99-eb50-4b06-e07a-8ee8cd075982"
      },
      "outputs": [
        {
          "output_type": "execute_result",
          "data": {
            "text/plain": [
              "   Model                 mse  msle        rmse  rmsle\n",
              "0     AR 133,593,712,396.329 0.211 365,504.740  0.460\n",
              "1  ARIMA  60,445,940,232.248 0.100 245,857.560  0.320"
            ],
            "text/html": [
              "\n",
              "  <div id=\"df-7501256a-80fd-4474-8571-a8658ca05634\">\n",
              "    <div class=\"colab-df-container\">\n",
              "      <div>\n",
              "<style scoped>\n",
              "    .dataframe tbody tr th:only-of-type {\n",
              "        vertical-align: middle;\n",
              "    }\n",
              "\n",
              "    .dataframe tbody tr th {\n",
              "        vertical-align: top;\n",
              "    }\n",
              "\n",
              "    .dataframe thead th {\n",
              "        text-align: right;\n",
              "    }\n",
              "</style>\n",
              "<table border=\"1\" class=\"dataframe\">\n",
              "  <thead>\n",
              "    <tr style=\"text-align: right;\">\n",
              "      <th></th>\n",
              "      <th>Model</th>\n",
              "      <th>mse</th>\n",
              "      <th>msle</th>\n",
              "      <th>rmse</th>\n",
              "      <th>rmsle</th>\n",
              "    </tr>\n",
              "  </thead>\n",
              "  <tbody>\n",
              "    <tr>\n",
              "      <th>0</th>\n",
              "      <td>AR</td>\n",
              "      <td>133,593,712,396.329</td>\n",
              "      <td>0.211</td>\n",
              "      <td>365,504.740</td>\n",
              "      <td>0.460</td>\n",
              "    </tr>\n",
              "    <tr>\n",
              "      <th>1</th>\n",
              "      <td>ARIMA</td>\n",
              "      <td>60,445,940,232.248</td>\n",
              "      <td>0.100</td>\n",
              "      <td>245,857.560</td>\n",
              "      <td>0.320</td>\n",
              "    </tr>\n",
              "  </tbody>\n",
              "</table>\n",
              "</div>\n",
              "      <button class=\"colab-df-convert\" onclick=\"convertToInteractive('df-7501256a-80fd-4474-8571-a8658ca05634')\"\n",
              "              title=\"Convert this dataframe to an interactive table.\"\n",
              "              style=\"display:none;\">\n",
              "        \n",
              "  <svg xmlns=\"http://www.w3.org/2000/svg\" height=\"24px\"viewBox=\"0 0 24 24\"\n",
              "       width=\"24px\">\n",
              "    <path d=\"M0 0h24v24H0V0z\" fill=\"none\"/>\n",
              "    <path d=\"M18.56 5.44l.94 2.06.94-2.06 2.06-.94-2.06-.94-.94-2.06-.94 2.06-2.06.94zm-11 1L8.5 8.5l.94-2.06 2.06-.94-2.06-.94L8.5 2.5l-.94 2.06-2.06.94zm10 10l.94 2.06.94-2.06 2.06-.94-2.06-.94-.94-2.06-.94 2.06-2.06.94z\"/><path d=\"M17.41 7.96l-1.37-1.37c-.4-.4-.92-.59-1.43-.59-.52 0-1.04.2-1.43.59L10.3 9.45l-7.72 7.72c-.78.78-.78 2.05 0 2.83L4 21.41c.39.39.9.59 1.41.59.51 0 1.02-.2 1.41-.59l7.78-7.78 2.81-2.81c.8-.78.8-2.07 0-2.86zM5.41 20L4 18.59l7.72-7.72 1.47 1.35L5.41 20z\"/>\n",
              "  </svg>\n",
              "      </button>\n",
              "      \n",
              "  <style>\n",
              "    .colab-df-container {\n",
              "      display:flex;\n",
              "      flex-wrap:wrap;\n",
              "      gap: 12px;\n",
              "    }\n",
              "\n",
              "    .colab-df-convert {\n",
              "      background-color: #E8F0FE;\n",
              "      border: none;\n",
              "      border-radius: 50%;\n",
              "      cursor: pointer;\n",
              "      display: none;\n",
              "      fill: #1967D2;\n",
              "      height: 32px;\n",
              "      padding: 0 0 0 0;\n",
              "      width: 32px;\n",
              "    }\n",
              "\n",
              "    .colab-df-convert:hover {\n",
              "      background-color: #E2EBFA;\n",
              "      box-shadow: 0px 1px 2px rgba(60, 64, 67, 0.3), 0px 1px 3px 1px rgba(60, 64, 67, 0.15);\n",
              "      fill: #174EA6;\n",
              "    }\n",
              "\n",
              "    [theme=dark] .colab-df-convert {\n",
              "      background-color: #3B4455;\n",
              "      fill: #D2E3FC;\n",
              "    }\n",
              "\n",
              "    [theme=dark] .colab-df-convert:hover {\n",
              "      background-color: #434B5C;\n",
              "      box-shadow: 0px 1px 3px 1px rgba(0, 0, 0, 0.15);\n",
              "      filter: drop-shadow(0px 1px 2px rgba(0, 0, 0, 0.3));\n",
              "      fill: #FFFFFF;\n",
              "    }\n",
              "  </style>\n",
              "\n",
              "      <script>\n",
              "        const buttonEl =\n",
              "          document.querySelector('#df-7501256a-80fd-4474-8571-a8658ca05634 button.colab-df-convert');\n",
              "        buttonEl.style.display =\n",
              "          google.colab.kernel.accessAllowed ? 'block' : 'none';\n",
              "\n",
              "        async function convertToInteractive(key) {\n",
              "          const element = document.querySelector('#df-7501256a-80fd-4474-8571-a8658ca05634');\n",
              "          const dataTable =\n",
              "            await google.colab.kernel.invokeFunction('convertToInteractive',\n",
              "                                                     [key], {});\n",
              "          if (!dataTable) return;\n",
              "\n",
              "          const docLinkHtml = 'Like what you see? Visit the ' +\n",
              "            '<a target=\"_blank\" href=https://colab.research.google.com/notebooks/data_table.ipynb>data table notebook</a>'\n",
              "            + ' to learn more about interactive tables.';\n",
              "          element.innerHTML = '';\n",
              "          dataTable['output_type'] = 'display_data';\n",
              "          await google.colab.output.renderOutput(dataTable, element);\n",
              "          const docLink = document.createElement('div');\n",
              "          docLink.innerHTML = docLinkHtml;\n",
              "          element.appendChild(docLink);\n",
              "        }\n",
              "      </script>\n",
              "    </div>\n",
              "  </div>\n",
              "  "
            ]
          },
          "metadata": {},
          "execution_count": 70
        }
      ],
      "source": [
        "mse = mean_squared_error(test_data,Arima_pred)\n",
        "msle = mean_squared_log_error(test_data, Arima_pred)\n",
        "rmse =np.sqrt(mse).round(2)\n",
        "rmsle =np.sqrt(msle).round(2)\n",
        "\n",
        "results1 =pd.DataFrame([['ARIMA',mse, msle,rmse,rmsle]], columns =['Model','mse','msle','rmse','rmsle'])\n",
        "\n",
        "results = results.append(results1,ignore_index =True)\n",
        "\n",
        "results"
      ]
    },
    {
      "cell_type": "markdown",
      "metadata": {
        "id": "bA5r4H1iyQDc"
      },
      "source": [
        "##### Comment:\n",
        "\n",
        "The ARIMA model performs better than the AR model"
      ]
    },
    {
      "cell_type": "markdown",
      "metadata": {
        "id": "WKulofmmyQDd"
      },
      "source": [
        "#### Multivariate Forecasting with Sales as dependent variable"
      ]
    },
    {
      "cell_type": "markdown",
      "metadata": {
        "id": "oZInFXJ5yQDe"
      },
      "source": [
        "#### Linear Model"
      ]
    },
    {
      "cell_type": "code",
      "execution_count": null,
      "metadata": {
        "id": "m0n_baUexL9L"
      },
      "outputs": [],
      "source": [
        "# Linear Regression Model\n",
        "lr = LinearRegression()\n",
        "model = lr.fit(X_train, y_train)\n",
        "\n",
        "# Make prediction on X_test\n",
        "lr_predictions = lr.predict(X_test)"
      ]
    },
    {
      "cell_type": "code",
      "execution_count": null,
      "metadata": {
        "colab": {
          "base_uri": "https://localhost:8080/"
        },
        "id": "8FtlvF2yQ7JC",
        "outputId": "892c4439-98ab-4114-c169-85d3ed4c8958"
      },
      "outputs": [
        {
          "output_type": "stream",
          "name": "stdout",
          "text": [
            "\n",
            "Evaluation Results for Linear Regression:\n",
            "MSE: 0.69\n",
            "RMSE: 0.83\n",
            "RMSLE: 0.27\n"
          ]
        }
      ],
      "source": [
        "# Evaluation Metrics for Linear Regression\n",
        "lr_mse = mean_squared_error(y_test, lr_predictions).round(2)\n",
        "lr_rmse = np.sqrt(lr_mse).round(2)\n",
        "\n",
        "# apply the absolute value function to y_test to remove negative signs\n",
        "y_test_abs = abs(y_test)\n",
        "lr_predictions_abs = abs(lr_predictions)\n",
        "\n",
        "# calculate the mean squared logarithmic error using the new y_test_abs and lr_predictions_abs array\n",
        "lr_rmsle = np.sqrt(mean_squared_log_error(y_test_abs, lr_predictions_abs)).round(2)\n",
        "\n",
        "# Print the evaluation results for Linear Regression model\n",
        "print(\"\\nEvaluation Results for Linear Regression:\")\n",
        "print(\"MSE:\", lr_mse)\n",
        "print(\"RMSE:\", lr_rmse)\n",
        "print(\"RMSLE:\", lr_rmsle)"
      ]
    },
    {
      "cell_type": "code",
      "execution_count": null,
      "metadata": {
        "colab": {
          "base_uri": "https://localhost:8080/"
        },
        "id": "Gytm9GdexMAg",
        "outputId": "3581d9db-3ed0-4e47-b1b3-646270acbc7d"
      },
      "outputs": [
        {
          "name": "stdout",
          "output_type": "stream",
          "text": [
            "Mean Squared Error: 0.69\n"
          ]
        }
      ],
      "source": [
        "from sklearn.metrics import mean_squared_error\n",
        "\n",
        "# predict on test set\n",
        "y_pred = model.predict(X_test)\n",
        "\n",
        "# calculate MSE\n",
        "mse = mean_squared_error(y_test, y_pred)\n",
        "\n",
        "print(f\"Mean Squared Error: {mse:.2f}\")"
      ]
    },
    {
      "cell_type": "markdown",
      "metadata": {
        "id": "-mZ4p3DSQ7JG"
      },
      "source": [
        "#### Decision Tree Regression Model"
      ]
    },
    {
      "cell_type": "code",
      "execution_count": 74,
      "metadata": {
        "colab": {
          "base_uri": "https://localhost:8080/"
        },
        "id": "mdbdDyANQ7JH",
        "outputId": "02fdca2e-4a21-4ab6-c9a2-d404d87ff64d"
      },
      "outputs": [
        {
          "output_type": "stream",
          "name": "stdout",
          "text": [
            "\n",
            "Evaluation Results for Decision Tree Regression:\n",
            "MSE: 0.07\n",
            "RMSE: 0.26\n",
            "RMLSE: 0.06\n"
          ]
        }
      ],
      "source": [
        "# Decision Tree Regression Model\n",
        "dt = DecisionTreeRegressor()\n",
        "dt.fit(X_train, y_train)\n",
        "\n",
        "# Make prediction on X_test\n",
        "dt_predictions = dt.predict(X_test)\n",
        "\n",
        "# Evaluation Metrics for Decision Tree Regression\n",
        "dt_mse = mean_squared_error(y_test, dt_predictions).round(2)\n",
        "dt_rmse = np.sqrt(dt_mse).round(2)\n",
        "\n",
        "# Evaluation Metrics for Decision Tree Regression\n",
        "dt_predictions_abs = abs(dt_predictions)\n",
        "\n",
        "# calculate the mean squared logarithmic error using the new y_test_abs and dt_predictions_abs array\n",
        "dt_rmsle = np.sqrt(mean_squared_log_error(y_test_abs, dt_predictions_abs)).round(2)\n",
        "\n",
        "# Print the evaluation results for Decision Tree Regression model\n",
        "print(\"\\nEvaluation Results for Decision Tree Regression:\")\n",
        "print(\"MSE:\", dt_mse)\n",
        "print(\"RMSE:\", dt_rmse)\n",
        "\n",
        "print(\"RMLSE:\", dt_rmsle)"
      ]
    },
    {
      "cell_type": "markdown",
      "metadata": {
        "id": "MUnvBcAin-mL"
      },
      "source": [
        "#### XGBoost Model"
      ]
    },
    {
      "cell_type": "code",
      "execution_count": 75,
      "metadata": {
        "id": "nKuDBvuDQ7JM"
      },
      "outputs": [],
      "source": [
        "# create an instance of the XGBRegressor class\n",
        "xgb_model = xgb.XGBRegressor()\n",
        "\n",
        "# fit the model on the training data\n",
        "xgb_model.fit(X_train, y_train)\n",
        "\n",
        "# make predictions on the test data\n",
        "xgb_predictions = xgb_model.predict(X_test)"
      ]
    },
    {
      "cell_type": "code",
      "execution_count": 76,
      "metadata": {
        "colab": {
          "base_uri": "https://localhost:8080/"
        },
        "id": "dfqvq88JQ7JN",
        "outputId": "89c719ae-4aed-4ee6-9d5d-6b3b191d0dc3"
      },
      "outputs": [
        {
          "output_type": "stream",
          "name": "stdout",
          "text": [
            "\n",
            "Evaluation Results for XGBoost:\n",
            "MSE: 0.12\n",
            "RMSE: 0.35\n",
            "RMSLE: 0.12\n"
          ]
        }
      ],
      "source": [
        "# Evaluation Metrics for XGBoost\n",
        "xgb_mse = mean_squared_error(y_test, xgb_predictions).round(2)\n",
        "xgb_rmse = np.sqrt(xgb_mse).round(2)\n",
        "\n",
        "#y_test_abs = abs(y_test)\n",
        "xgb_predictions_abs = abs(xgb_predictions)\n",
        "\n",
        "# calculate the mean squared logarithmic error using the new y_test_abs and xgb_predictions_abs array\n",
        "xgb_rmsle = np.sqrt(mean_squared_log_error(y_test_abs, xgb_predictions_abs)).round(2)\n",
        "\n",
        "# Print the evaluation results for XGBoost model\n",
        "print(\"\\nEvaluation Results for XGBoost:\")\n",
        "print(\"MSE:\", xgb_mse)\n",
        "print(\"RMSE:\", xgb_rmse)\n",
        "print(\"RMSLE:\", xgb_rmsle)"
      ]
    },
    {
      "cell_type": "markdown",
      "metadata": {
        "id": "2mgkhgCdQ7JO"
      },
      "source": [
        "#### Random Forest Regression Model"
      ]
    },
    {
      "cell_type": "code",
      "execution_count": 77,
      "metadata": {
        "id": "XbzUgVqgQ7JQ"
      },
      "outputs": [],
      "source": [
        "# Random Forest Regression Model\n",
        "rf = RandomForestRegressor(n_estimators=20, random_state=42)\n",
        "rf.fit(X_train, y_train)\n",
        "\n",
        "# Make prediction on X_test\n",
        "rf_predictions = rf.predict(X_test)"
      ]
    },
    {
      "cell_type": "code",
      "execution_count": 78,
      "metadata": {
        "colab": {
          "base_uri": "https://localhost:8080/"
        },
        "id": "kAbQUZpOy3QT",
        "outputId": "83c66628-5a58-46ec-c1a1-6ea24ba3c0b5"
      },
      "outputs": [
        {
          "output_type": "stream",
          "name": "stdout",
          "text": [
            "\n",
            "Evaluation Results for Random Forest:\n",
            "MSE: 0.04\n",
            "RMSE: 0.2\n",
            "RMSLE: 0.05\n"
          ]
        }
      ],
      "source": [
        "# Evaluation Metrics for Random Forest Regression\n",
        "rf_mse = mean_squared_error(y_test, rf_predictions).round(2)\n",
        "rf_rmse = np.sqrt(rf_mse).round(2)\n",
        "\n",
        "# apply the absolute value function to y_test to remove negative signs\n",
        "rf_predictions_abs = abs(rf_predictions)\n",
        "\n",
        "# calculate the mean squared logarithmic error using the new y_test_abs and rf_predictions_abs array\n",
        "rf_rmsle = np.sqrt(mean_squared_log_error(y_test_abs, rf_predictions_abs)).round(2)\n",
        "\n",
        "# Print the evaluation results for Random Forest Regrression model\n",
        "print(\"\\nEvaluation Results for Random Forest:\")\n",
        "print(\"MSE:\", rf_mse)\n",
        "print(\"RMSE:\", rf_rmse)\n",
        "print(\"RMSLE:\", rf_rmsle)\n",
        "                                          "
      ]
    },
    {
      "cell_type": "markdown",
      "metadata": {
        "id": "gsKWmmanyQDn"
      },
      "source": [
        "### Evaluation"
      ]
    },
    {
      "cell_type": "code",
      "execution_count": 79,
      "metadata": {
        "colab": {
          "base_uri": "https://localhost:8080/"
        },
        "id": "qCa9cWS43oe0",
        "outputId": "a6629b8b-69af-4ca9-fd95-823e9920ad01"
      },
      "outputs": [
        {
          "output_type": "stream",
          "name": "stdout",
          "text": [
            "Comparison Table of Evaluation Results:\n",
            "                     MSE  RMSE  RMSLE\n",
            "Linear Regression 0.690 0.830  0.270\n",
            "Decision Tree     0.070 0.260  0.060\n",
            "XGBoost           0.120 0.350  0.120\n",
            "Random Forest     0.040 0.200  0.050\n"
          ]
        }
      ],
      "source": [
        "# Define a table to compare evaluation results\n",
        "evaluation_metrics = ['MSE', 'RMSE', 'RMSLE']\n",
        "models = ['Linear Regression', 'Decision Tree', 'XGBoost', 'Random Forest']\n",
        "results = [[lr_mse, lr_rmse, lr_rmsle],\n",
        "           [dt_mse, dt_rmse, dt_rmsle],\n",
        "           [xgb_mse, xgb_rmse, xgb_rmsle],\n",
        "           [rf_mse, rf_rmse, rf_rmsle]]\n",
        "results_table = pd.DataFrame(data=results, columns=evaluation_metrics, index=models)\n",
        "\n",
        "# Print the comparison table\n",
        "print(\"Comparison Table of Evaluation Results:\\n\", results_table)\n"
      ]
    },
    {
      "cell_type": "markdown",
      "metadata": {
        "id": "yTG1csD1yQDo"
      },
      "source": [
        "#### Comments\n",
        "\n",
        "* From the evaluation metric summary, the decision tree model performs better than the other models "
      ]
    }
  ],
  "metadata": {
    "colab": {
      "provenance": [],
      "include_colab_link": true
    },
    "kernelspec": {
      "display_name": "Python 3 (ipykernel)",
      "language": "python",
      "name": "python3"
    },
    "language_info": {
      "codemirror_mode": {
        "name": "ipython",
        "version": 3
      },
      "file_extension": ".py",
      "mimetype": "text/x-python",
      "name": "python",
      "nbconvert_exporter": "python",
      "pygments_lexer": "ipython3",
      "version": "3.9.13"
    },
    "widgets": {
      "application/vnd.jupyter.widget-state+json": {
        "acacbc19e75a44d4b0aab3e423bb24bd": {
          "model_module": "@jupyter-widgets/output",
          "model_name": "OutputModel",
          "model_module_version": "1.0.0",
          "state": {
            "_dom_classes": [],
            "_model_module": "@jupyter-widgets/output",
            "_model_module_version": "1.0.0",
            "_model_name": "OutputModel",
            "_view_count": null,
            "_view_module": "@jupyter-widgets/output",
            "_view_module_version": "1.0.0",
            "_view_name": "OutputView",
            "layout": "IPY_MODEL_10588861ec114aab9f914e743e962f36",
            "msg_id": "",
            "outputs": [
              {
                "output_type": "display_data",
                "data": {
                  "text/plain": "<Figure size 800x200 with 1 Axes>",
                  "image/png": "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\n"
                },
                "metadata": {}
              },
              {
                "output_type": "display_data",
                "data": {
                  "text/plain": "<Figure size 800x200 with 1 Axes>",
                  "image/png": "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\n"
                },
                "metadata": {}
              },
              {
                "output_type": "display_data",
                "data": {
                  "text/plain": "<Figure size 800x200 with 1 Axes>",
                  "image/png": "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\n"
                },
                "metadata": {}
              },
              {
                "output_type": "display_data",
                "data": {
                  "text/plain": "<Figure size 800x200 with 1 Axes>",
                  "image/png": "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\n"
                },
                "metadata": {}
              },
              {
                "output_type": "display_data",
                "data": {
                  "text/plain": "<Figure size 800x200 with 1 Axes>",
                  "image/png": "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\n"
                },
                "metadata": {}
              }
            ]
          }
        },
        "10588861ec114aab9f914e743e962f36": {
          "model_module": "@jupyter-widgets/base",
          "model_name": "LayoutModel",
          "model_module_version": "1.2.0",
          "state": {
            "_model_module": "@jupyter-widgets/base",
            "_model_module_version": "1.2.0",
            "_model_name": "LayoutModel",
            "_view_count": null,
            "_view_module": "@jupyter-widgets/base",
            "_view_module_version": "1.2.0",
            "_view_name": "LayoutView",
            "align_content": null,
            "align_items": null,
            "align_self": null,
            "border": null,
            "bottom": null,
            "display": null,
            "flex": null,
            "flex_flow": null,
            "grid_area": null,
            "grid_auto_columns": null,
            "grid_auto_flow": null,
            "grid_auto_rows": null,
            "grid_column": null,
            "grid_gap": null,
            "grid_row": null,
            "grid_template_areas": null,
            "grid_template_columns": null,
            "grid_template_rows": null,
            "height": null,
            "justify_content": null,
            "justify_items": null,
            "left": null,
            "margin": null,
            "max_height": null,
            "max_width": null,
            "min_height": null,
            "min_width": null,
            "object_fit": null,
            "object_position": null,
            "order": null,
            "overflow": null,
            "overflow_x": null,
            "overflow_y": null,
            "padding": null,
            "right": null,
            "top": null,
            "visibility": null,
            "width": null
          }
        }
      }
    }
  },
  "nbformat": 4,
  "nbformat_minor": 0
}