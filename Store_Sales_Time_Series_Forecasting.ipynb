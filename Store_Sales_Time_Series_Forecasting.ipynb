{
  "cells": [
    {
      "cell_type": "markdown",
      "metadata": {
        "id": "BzK4yMsDloLs"
      },
      "source": [
        "# **Regression Project (Store Sales -- Time Series Forecasting)**\n",
        "## **Corporation Favorita**\n",
        "## **Sydney Group**"
      ]
    },
    {
      "cell_type": "code",
      "execution_count": 1,
      "metadata": {
        "id": "OR-JH6PmxELm",
        "colab": {
          "base_uri": "https://localhost:8080/"
        },
        "outputId": "f4ad52d6-1f4a-4cf3-965c-c7038b9b4e2e"
      },
      "outputs": [
        {
          "output_type": "stream",
          "name": "stdout",
          "text": [
            "Looking in indexes: https://pypi.org/simple, https://us-python.pkg.dev/colab-wheels/public/simple/\n",
            "Collecting squarify\n",
            "  Downloading squarify-0.4.3-py3-none-any.whl (4.3 kB)\n",
            "Installing collected packages: squarify\n",
            "Successfully installed squarify-0.4.3\n"
          ]
        }
      ],
      "source": [
        "!pip install squarify"
      ]
    },
    {
      "cell_type": "code",
      "execution_count": 61,
      "metadata": {
        "id": "0OHBKcbsnJNF"
      },
      "outputs": [],
      "source": [
        "import ipywidgets as widgets\n",
        "from IPython.display import display\n",
        "import matplotlib.pyplot as plt"
      ]
    },
    {
      "cell_type": "code",
      "execution_count": 3,
      "metadata": {
        "id": "gjRNDsUIQzQo"
      },
      "outputs": [],
      "source": [
        "import pandas as pd\n",
        "import numpy as np\n",
        "import matplotlib.pyplot as plt\n",
        "import matplotlib.patches as mpathes\n",
        "import matplotlib.dates as mdates\n",
        "import seaborn as sns\n",
        "import plotly.express as px\n",
        "import warnings\n",
        "import plotly.graph_objects as go\n",
        "warnings.filterwarnings('ignore')\n",
        "import datetime as dt\n",
        "import squarify\n",
        "\n",
        "\n",
        "from datetime import datetime\n",
        "from datetime import date\n",
        "\n",
        "from sklearn.preprocessing import LabelEncoder\n",
        "from sklearn import preprocessing\n",
        "from sklearn.preprocessing import StandardScaler\n",
        "\n",
        "from sklearn.linear_model import LinearRegression\n",
        "from sklearn.tree import DecisionTreeRegressor\n",
        "from sklearn.ensemble import RandomForestRegressor\n",
        "\n",
        "\n",
        "from sklearn.metrics import mean_squared_error\n",
        "from sklearn.metrics import mean_squared_log_error"
      ]
    },
    {
      "cell_type": "code",
      "execution_count": 4,
      "metadata": {
        "colab": {
          "base_uri": "https://localhost:8080/"
        },
        "id": "QBEDxIqPQ89u",
        "outputId": "c70d7603-efcd-45c2-dd9a-dbcbeef3a6d1"
      },
      "outputs": [
        {
          "output_type": "stream",
          "name": "stdout",
          "text": [
            "Mounted at /content/drive\n"
          ]
        }
      ],
      "source": [
        "# For CSV, use pandas.read_csv\n",
        "from google.colab import drive\n",
        "drive.mount('/content/drive')"
      ]
    },
    {
      "cell_type": "code",
      "execution_count": 5,
      "metadata": {
        "id": "FxUMzySBQ9Bs"
      },
      "outputs": [],
      "source": [
        "#Loading all datasets\n",
        "holiday = pd.read_csv('/content/drive/MyDrive/lp2/holidays_events.csv',index_col=[\"date\"],parse_dates=[\"date\"])\n",
        "oil = pd.read_csv('/content/drive/MyDrive/lp2/oil.csv', parse_dates=[\"date\"])\n",
        "stores = pd.read_csv('/content/drive/MyDrive/lp2/stores.csv')\n",
        "test = pd.read_csv('/content/drive/MyDrive/lp2/test.csv',index_col=[\"date\"],parse_dates=[\"date\"])\n",
        "train = pd.read_csv('/content/drive/MyDrive/lp2/train.csv',index_col=[\"date\"],parse_dates=['date'])\n",
        "transactions = pd.read_csv('/content/drive/MyDrive/lp2/transactions.csv',index_col=[\"date\"],parse_dates=[\"date\"])\n",
        "sample_submission = pd.read_csv('/content/drive/MyDrive/lp2/sample_submission.csv')"
      ]
    },
    {
      "cell_type": "markdown",
      "metadata": {
        "id": "BBNajc6IRauL"
      },
      "source": [
        "# Exploratory Data Analysis: EDA\n",
        "## Univariate Analysis and Multivariate Analysis\n",
        "Dataframes"
      ]
    },
    {
      "cell_type": "code",
      "execution_count": 6,
      "metadata": {
        "colab": {
          "base_uri": "https://localhost:8080/"
        },
        "id": "SQlX3HBNQ9Ee",
        "outputId": "b972ee9b-1954-4361-966c-11859a46884c"
      },
      "outputs": [
        {
          "output_type": "stream",
          "name": "stdout",
          "text": [
            "The shape of the holiday dataset is: (350, 5)\n",
            "The shape of the oil dataset is: (1218, 2)\n",
            "The shape of the stores dataset is: (54, 5)\n",
            "The shape of the test dataset is: (28512, 4)\n",
            "The shape of the train dataset is: (3000888, 5)\n",
            "The shape of the transactions dataset is: (83488, 2)\n",
            "The shape of the sample_submission dataset is: (28512, 2)\n"
          ]
        }
      ],
      "source": [
        "# Print out the shapes of the datasets\n",
        "print(f\"The shape of the holiday dataset is: {holiday.shape}\")\n",
        "print(f\"The shape of the oil dataset is: {oil.shape}\")\n",
        "print(f\"The shape of the stores dataset is: {stores.shape}\")\n",
        "print(f\"The shape of the test dataset is: {test.shape}\")\n",
        "print(f\"The shape of the train dataset is: {train.shape}\")\n",
        "print(f\"The shape of the transactions dataset is: {transactions.shape}\")\n",
        "print(f\"The shape of the sample_submission dataset is: {sample_submission.shape}\")"
      ]
    },
    {
      "cell_type": "code",
      "execution_count": 7,
      "metadata": {
        "colab": {
          "base_uri": "https://localhost:8080/"
        },
        "id": "MlJsPrCFQ9Hn",
        "outputId": "b1edec02-e779-425a-fef4-8c75924eafbe"
      },
      "outputs": [
        {
          "output_type": "stream",
          "name": "stdout",
          "text": [
            "Data types for Stores:\n",
            "store_nbr     int64\n",
            "city         object\n",
            "state        object\n",
            "type         object\n",
            "cluster       int64\n",
            "dtype: object\n",
            "__________________________________________________\n",
            "Data types for Train:\n",
            "id               int64\n",
            "store_nbr        int64\n",
            "family          object\n",
            "sales          float64\n",
            "onpromotion      int64\n",
            "dtype: object\n",
            "__________________________________________________\n",
            "Data types for Test:\n",
            "id              int64\n",
            "store_nbr       int64\n",
            "family         object\n",
            "onpromotion     int64\n",
            "dtype: object\n",
            "__________________________________________________\n",
            "Data types for Transactions:\n",
            "store_nbr       int64\n",
            "transactions    int64\n",
            "dtype: object\n",
            "__________________________________________________\n",
            "Data types for Oil:\n",
            "date          datetime64[ns]\n",
            "dcoilwtico           float64\n",
            "dtype: object\n",
            "__________________________________________________\n",
            "Data types for Holiday:\n",
            "type           object\n",
            "locale         object\n",
            "locale_name    object\n",
            "description    object\n",
            "transferred      bool\n",
            "dtype: object\n",
            "__________________________________________________\n",
            "Data types for Sample_Submission:\n",
            "id         int64\n",
            "sales    float64\n",
            "dtype: object\n",
            "__________________________________________________\n"
          ]
        }
      ],
      "source": [
        "# Print the data types of each dataset\n",
        "def show_data_type(dataset_name, dataset):\n",
        "    print(f\"Data types for {dataset_name}:\")\n",
        "    print(dataset.dtypes)\n",
        "    print('_' * 50)\n",
        "        \n",
        "show_data_type('Stores', stores)\n",
        "show_data_type('Train', train)\n",
        "show_data_type('Test', test)\n",
        "show_data_type('Transactions', transactions)\n",
        "show_data_type('Oil', oil)\n",
        "show_data_type('Holiday', holiday)\n",
        "show_data_type('Sample_Submission', sample_submission)\n",
        "\n"
      ]
    },
    {
      "cell_type": "code",
      "execution_count": 8,
      "metadata": {
        "colab": {
          "base_uri": "https://localhost:8080/"
        },
        "id": "HAiaFJ9DijXq",
        "outputId": "43f2f64d-0fad-424c-d1ea-270343aad67e"
      },
      "outputs": [
        {
          "output_type": "stream",
          "name": "stdout",
          "text": [
            "\n",
            "Holiday dataset summary statistics:\n",
            "\n",
            "           type    locale locale_name description transferred\n",
            "count       350       350         350         350         350\n",
            "unique        6         3          24         103           2\n",
            "top     Holiday  National     Ecuador    Carnaval       False\n",
            "freq        221       174         174          10         338\n",
            "__________________________________________________\n",
            "\n",
            "Oil dataset summary statistics:\n",
            "\n",
            "        dcoilwtico\n",
            "count  1175.000000\n",
            "mean     67.714366\n",
            "std      25.630476\n",
            "min      26.190000\n",
            "25%      46.405000\n",
            "50%      53.190000\n",
            "75%      95.660000\n",
            "max     110.620000\n",
            "__________________________________________________\n",
            "\n",
            "Stores dataset summary statistics:\n",
            "\n",
            "       store_nbr    cluster\n",
            "count  54.000000  54.000000\n",
            "mean   27.500000   8.481481\n",
            "std    15.732133   4.693395\n",
            "min     1.000000   1.000000\n",
            "25%    14.250000   4.000000\n",
            "50%    27.500000   8.500000\n",
            "75%    40.750000  13.000000\n",
            "max    54.000000  17.000000\n",
            "__________________________________________________\n",
            "\n",
            "Train dataset summary statistics:\n",
            "\n",
            "                 id     store_nbr         sales   onpromotion\n",
            "count  3.000888e+06  3.000888e+06  3.000888e+06  3.000888e+06\n",
            "mean   1.500444e+06  2.750000e+01  3.577757e+02  2.602770e+00\n",
            "std    8.662819e+05  1.558579e+01  1.101998e+03  1.221888e+01\n",
            "min    0.000000e+00  1.000000e+00  0.000000e+00  0.000000e+00\n",
            "25%    7.502218e+05  1.400000e+01  0.000000e+00  0.000000e+00\n",
            "50%    1.500444e+06  2.750000e+01  1.100000e+01  0.000000e+00\n",
            "75%    2.250665e+06  4.100000e+01  1.958473e+02  0.000000e+00\n",
            "max    3.000887e+06  5.400000e+01  1.247170e+05  7.410000e+02\n",
            "__________________________________________________\n",
            "\n",
            "Test dataset summary statistics:\n",
            "\n",
            "                 id     store_nbr   onpromotion\n",
            "count  2.851200e+04  28512.000000  28512.000000\n",
            "mean   3.015144e+06     27.500000      6.965383\n",
            "std    8.230850e+03     15.586057     20.683952\n",
            "min    3.000888e+06      1.000000      0.000000\n",
            "25%    3.008016e+06     14.000000      0.000000\n",
            "50%    3.015144e+06     27.500000      0.000000\n",
            "75%    3.022271e+06     41.000000      6.000000\n",
            "max    3.029399e+06     54.000000    646.000000\n",
            "__________________________________________________\n",
            "\n",
            "Transactions dataset summary statistics:\n",
            "\n",
            "          store_nbr  transactions\n",
            "count  83488.000000  83488.000000\n",
            "mean      26.939237   1694.602158\n",
            "std       15.608204    963.286644\n",
            "min        1.000000      5.000000\n",
            "25%       13.000000   1046.000000\n",
            "50%       27.000000   1393.000000\n",
            "75%       40.000000   2079.000000\n",
            "max       54.000000   8359.000000\n",
            "__________________________________________________\n",
            "\n",
            "Sample_submission dataset summary statistics:\n",
            "\n",
            "                 id    sales\n",
            "count  2.851200e+04  28512.0\n",
            "mean   3.015144e+06      0.0\n",
            "std    8.230850e+03      0.0\n",
            "min    3.000888e+06      0.0\n",
            "25%    3.008016e+06      0.0\n",
            "50%    3.015144e+06      0.0\n",
            "75%    3.022271e+06      0.0\n",
            "max    3.029399e+06      0.0\n",
            "__________________________________________________\n"
          ]
        }
      ],
      "source": [
        "#checking for the summary of the datasets:\n",
        "datasets = {'holiday': holiday, 'oil': oil, 'stores': stores, 'train': train, 'test': test, 'transactions': transactions, 'sample_submission' : sample_submission}\n",
        "\n",
        "for name, data in datasets.items():\n",
        "    print(f\"\\n{name.capitalize()} dataset summary statistics:\\n\")\n",
        "    print(data.describe())\n",
        "    print('_' * 50)"
      ]
    },
    {
      "cell_type": "code",
      "execution_count": 9,
      "metadata": {
        "colab": {
          "base_uri": "https://localhost:8080/"
        },
        "id": "kcffAUPakf0R",
        "outputId": "f321b16e-ab40-49a9-f46e-f87266f57d83"
      },
      "outputs": [
        {
          "output_type": "stream",
          "name": "stdout",
          "text": [
            "Missing values in stores dataset:\n",
            "store_nbr    0\n",
            "city         0\n",
            "state        0\n",
            "type         0\n",
            "cluster      0\n",
            "dtype: int64\n",
            "__________________________________________________\n",
            "Missing values in train dataset:\n",
            "id             0\n",
            "store_nbr      0\n",
            "family         0\n",
            "sales          0\n",
            "onpromotion    0\n",
            "dtype: int64\n",
            "__________________________________________________\n",
            "Missing values in test dataset:\n",
            "id             0\n",
            "store_nbr      0\n",
            "family         0\n",
            "onpromotion    0\n",
            "dtype: int64\n",
            "__________________________________________________\n",
            "Missing values in transactions dataset:\n",
            "store_nbr       0\n",
            "transactions    0\n",
            "dtype: int64\n",
            "__________________________________________________\n",
            "Missing values in oil dataset:\n",
            "date           0\n",
            "dcoilwtico    43\n",
            "dtype: int64\n",
            "__________________________________________________\n",
            "Missing values in holiday dataset:\n",
            "type           0\n",
            "locale         0\n",
            "locale_name    0\n",
            "description    0\n",
            "transferred    0\n",
            "dtype: int64\n",
            "__________________________________________________\n",
            "Missing values in sample_submission dataset:\n",
            "id       0\n",
            "sales    0\n",
            "dtype: int64\n",
            "__________________________________________________\n"
          ]
        }
      ],
      "source": [
        "# showing missing values in all dataset using a function\n",
        "\n",
        "datasets = {'stores': stores, 'train': train, 'test': test, 'transactions': transactions, 'oil': oil, 'holiday': holiday, 'sample_submission' : sample_submission}\n",
        "\n",
        "def show_missing_values(datasets):\n",
        "    for name, data in datasets.items():\n",
        "        print(f\"Missing values in {name} dataset:\")\n",
        "        print(data.isnull().sum())\n",
        "        print('_' * 50)\n",
        "\n",
        "show_missing_values(datasets)\n"
      ]
    },
    {
      "cell_type": "markdown",
      "metadata": {
        "id": "7_qmHndIlsGa"
      },
      "source": [
        "*   We can see that only the oil dataset have missing values\n",
        "\n",
        "lets work on that:\n",
        "\n",
        "\n"
      ]
    },
    {
      "cell_type": "code",
      "execution_count": 10,
      "metadata": {
        "id": "K4gK60b0XAp1"
      },
      "outputs": [],
      "source": [
        "#replacing the nan with the mean of each month of its year\n",
        "for year in range(2013, 2023):\n",
        "    for month in range(1, 13):\n",
        "        mask = (oil['date'].dt.month == month) & (oil['date'].dt.year == year)\n",
        "        mean = oil.loc[mask, 'dcoilwtico'].mean()\n",
        "        oil.loc[mask, 'dcoilwtico'] = oil.loc[mask, 'dcoilwtico'].fillna(mean)\n",
        "\n"
      ]
    },
    {
      "cell_type": "code",
      "execution_count": 11,
      "metadata": {
        "colab": {
          "base_uri": "https://localhost:8080/"
        },
        "id": "--Qi2wU0Q9TD",
        "outputId": "1d7b2e6b-79d2-4947-83bf-89f7eed7bbd5"
      },
      "outputs": [
        {
          "output_type": "stream",
          "name": "stdout",
          "text": [
            "date          0\n",
            "dcoilwtico    0\n",
            "dtype: int64\n"
          ]
        }
      ],
      "source": [
        "# Print the missing values in the dataset again to confirm that there are no missing values left\n",
        "print(oil.isnull().sum())"
      ]
    },
    {
      "cell_type": "markdown",
      "metadata": {
        "id": "BDhMI4ekoM_3"
      },
      "source": [
        "# **Merging all datasets for further EDA**"
      ]
    },
    {
      "cell_type": "code",
      "execution_count": 12,
      "metadata": {
        "id": "6kgYoo76XmJ_"
      },
      "outputs": [],
      "source": [
        "# combine the datasets on common columns one after the other\n",
        "merged_data1 = pd.merge(train, transactions, how='outer', on=['date', 'store_nbr'])\n",
        "merged_data2 = pd.merge(merged_data1, holiday, how='outer', on='date')\n",
        "merged_data3 = pd.merge(merged_data2, oil, how='outer', on='date')\n",
        "merged_data = pd.merge(merged_data3, stores, how='outer', on='store_nbr')"
      ]
    },
    {
      "cell_type": "code",
      "execution_count": 13,
      "metadata": {
        "colab": {
          "base_uri": "https://localhost:8080/"
        },
        "id": "mdsEAYazXmM2",
        "outputId": "5fee0fa5-85c9-4f1e-f3b3-91c6b75eb2eb"
      },
      "outputs": [
        {
          "output_type": "stream",
          "name": "stdout",
          "text": [
            "<class 'pandas.core.frame.DataFrame'>\n",
            "Int64Index: 3054427 entries, 0 to 3054426\n",
            "Data columns (total 17 columns):\n",
            " #   Column        Dtype         \n",
            "---  ------        -----         \n",
            " 0   date          datetime64[ns]\n",
            " 1   id            float64       \n",
            " 2   store_nbr     float64       \n",
            " 3   family        object        \n",
            " 4   sales         float64       \n",
            " 5   onpromotion   float64       \n",
            " 6   transactions  float64       \n",
            " 7   type_x        object        \n",
            " 8   locale        object        \n",
            " 9   locale_name   object        \n",
            " 10  description   object        \n",
            " 11  transferred   object        \n",
            " 12  dcoilwtico    float64       \n",
            " 13  city          object        \n",
            " 14  state         object        \n",
            " 15  type_y        object        \n",
            " 16  cluster       float64       \n",
            "dtypes: datetime64[ns](1), float64(7), object(9)\n",
            "memory usage: 419.5+ MB\n"
          ]
        }
      ],
      "source": [
        "merged_data.info()"
      ]
    },
    {
      "cell_type": "code",
      "execution_count": 13,
      "metadata": {
        "id": "v8Z8bwH5eIHQ"
      },
      "outputs": [],
      "source": []
    },
    {
      "cell_type": "markdown",
      "metadata": {
        "id": "dDL5F0iuqxiT"
      },
      "source": [
        "we notice some column names like type_x, type_y..lets work on this by renaming them"
      ]
    },
    {
      "cell_type": "code",
      "execution_count": 14,
      "metadata": {
        "colab": {
          "base_uri": "https://localhost:8080/",
          "height": 357
        },
        "id": "H9ASjiAjXmPN",
        "outputId": "97cb04bc-6d87-4273-f3f6-d369a1dcf19e"
      },
      "outputs": [
        {
          "output_type": "execute_result",
          "data": {
            "text/plain": [
              "        date   id  store_nbr      family  sales  onpromotion  transactions  \\\n",
              "0 2013-01-01  0.0        1.0  AUTOMOTIVE    0.0          0.0           NaN   \n",
              "1 2013-01-01  1.0        1.0   BABY CARE    0.0          0.0           NaN   \n",
              "2 2013-01-01  2.0        1.0      BEAUTY    0.0          0.0           NaN   \n",
              "3 2013-01-01  3.0        1.0   BEVERAGES    0.0          0.0           NaN   \n",
              "4 2013-01-01  4.0        1.0       BOOKS    0.0          0.0           NaN   \n",
              "\n",
              "  holiday_type    locale locale_name         description transferred  \\\n",
              "0      Holiday  National     Ecuador  Primer dia del ano       False   \n",
              "1      Holiday  National     Ecuador  Primer dia del ano       False   \n",
              "2      Holiday  National     Ecuador  Primer dia del ano       False   \n",
              "3      Holiday  National     Ecuador  Primer dia del ano       False   \n",
              "4      Holiday  National     Ecuador  Primer dia del ano       False   \n",
              "\n",
              "   dcoilwtico   city      state store_type  cluster  \n",
              "0   94.756667  Quito  Pichincha          D     13.0  \n",
              "1   94.756667  Quito  Pichincha          D     13.0  \n",
              "2   94.756667  Quito  Pichincha          D     13.0  \n",
              "3   94.756667  Quito  Pichincha          D     13.0  \n",
              "4   94.756667  Quito  Pichincha          D     13.0  "
            ],
            "text/html": [
              "\n",
              "  <div id=\"df-a4840df2-fe65-43ef-a4df-51a5a2f97744\">\n",
              "    <div class=\"colab-df-container\">\n",
              "      <div>\n",
              "<style scoped>\n",
              "    .dataframe tbody tr th:only-of-type {\n",
              "        vertical-align: middle;\n",
              "    }\n",
              "\n",
              "    .dataframe tbody tr th {\n",
              "        vertical-align: top;\n",
              "    }\n",
              "\n",
              "    .dataframe thead th {\n",
              "        text-align: right;\n",
              "    }\n",
              "</style>\n",
              "<table border=\"1\" class=\"dataframe\">\n",
              "  <thead>\n",
              "    <tr style=\"text-align: right;\">\n",
              "      <th></th>\n",
              "      <th>date</th>\n",
              "      <th>id</th>\n",
              "      <th>store_nbr</th>\n",
              "      <th>family</th>\n",
              "      <th>sales</th>\n",
              "      <th>onpromotion</th>\n",
              "      <th>transactions</th>\n",
              "      <th>holiday_type</th>\n",
              "      <th>locale</th>\n",
              "      <th>locale_name</th>\n",
              "      <th>description</th>\n",
              "      <th>transferred</th>\n",
              "      <th>dcoilwtico</th>\n",
              "      <th>city</th>\n",
              "      <th>state</th>\n",
              "      <th>store_type</th>\n",
              "      <th>cluster</th>\n",
              "    </tr>\n",
              "  </thead>\n",
              "  <tbody>\n",
              "    <tr>\n",
              "      <th>0</th>\n",
              "      <td>2013-01-01</td>\n",
              "      <td>0.0</td>\n",
              "      <td>1.0</td>\n",
              "      <td>AUTOMOTIVE</td>\n",
              "      <td>0.0</td>\n",
              "      <td>0.0</td>\n",
              "      <td>NaN</td>\n",
              "      <td>Holiday</td>\n",
              "      <td>National</td>\n",
              "      <td>Ecuador</td>\n",
              "      <td>Primer dia del ano</td>\n",
              "      <td>False</td>\n",
              "      <td>94.756667</td>\n",
              "      <td>Quito</td>\n",
              "      <td>Pichincha</td>\n",
              "      <td>D</td>\n",
              "      <td>13.0</td>\n",
              "    </tr>\n",
              "    <tr>\n",
              "      <th>1</th>\n",
              "      <td>2013-01-01</td>\n",
              "      <td>1.0</td>\n",
              "      <td>1.0</td>\n",
              "      <td>BABY CARE</td>\n",
              "      <td>0.0</td>\n",
              "      <td>0.0</td>\n",
              "      <td>NaN</td>\n",
              "      <td>Holiday</td>\n",
              "      <td>National</td>\n",
              "      <td>Ecuador</td>\n",
              "      <td>Primer dia del ano</td>\n",
              "      <td>False</td>\n",
              "      <td>94.756667</td>\n",
              "      <td>Quito</td>\n",
              "      <td>Pichincha</td>\n",
              "      <td>D</td>\n",
              "      <td>13.0</td>\n",
              "    </tr>\n",
              "    <tr>\n",
              "      <th>2</th>\n",
              "      <td>2013-01-01</td>\n",
              "      <td>2.0</td>\n",
              "      <td>1.0</td>\n",
              "      <td>BEAUTY</td>\n",
              "      <td>0.0</td>\n",
              "      <td>0.0</td>\n",
              "      <td>NaN</td>\n",
              "      <td>Holiday</td>\n",
              "      <td>National</td>\n",
              "      <td>Ecuador</td>\n",
              "      <td>Primer dia del ano</td>\n",
              "      <td>False</td>\n",
              "      <td>94.756667</td>\n",
              "      <td>Quito</td>\n",
              "      <td>Pichincha</td>\n",
              "      <td>D</td>\n",
              "      <td>13.0</td>\n",
              "    </tr>\n",
              "    <tr>\n",
              "      <th>3</th>\n",
              "      <td>2013-01-01</td>\n",
              "      <td>3.0</td>\n",
              "      <td>1.0</td>\n",
              "      <td>BEVERAGES</td>\n",
              "      <td>0.0</td>\n",
              "      <td>0.0</td>\n",
              "      <td>NaN</td>\n",
              "      <td>Holiday</td>\n",
              "      <td>National</td>\n",
              "      <td>Ecuador</td>\n",
              "      <td>Primer dia del ano</td>\n",
              "      <td>False</td>\n",
              "      <td>94.756667</td>\n",
              "      <td>Quito</td>\n",
              "      <td>Pichincha</td>\n",
              "      <td>D</td>\n",
              "      <td>13.0</td>\n",
              "    </tr>\n",
              "    <tr>\n",
              "      <th>4</th>\n",
              "      <td>2013-01-01</td>\n",
              "      <td>4.0</td>\n",
              "      <td>1.0</td>\n",
              "      <td>BOOKS</td>\n",
              "      <td>0.0</td>\n",
              "      <td>0.0</td>\n",
              "      <td>NaN</td>\n",
              "      <td>Holiday</td>\n",
              "      <td>National</td>\n",
              "      <td>Ecuador</td>\n",
              "      <td>Primer dia del ano</td>\n",
              "      <td>False</td>\n",
              "      <td>94.756667</td>\n",
              "      <td>Quito</td>\n",
              "      <td>Pichincha</td>\n",
              "      <td>D</td>\n",
              "      <td>13.0</td>\n",
              "    </tr>\n",
              "  </tbody>\n",
              "</table>\n",
              "</div>\n",
              "      <button class=\"colab-df-convert\" onclick=\"convertToInteractive('df-a4840df2-fe65-43ef-a4df-51a5a2f97744')\"\n",
              "              title=\"Convert this dataframe to an interactive table.\"\n",
              "              style=\"display:none;\">\n",
              "        \n",
              "  <svg xmlns=\"http://www.w3.org/2000/svg\" height=\"24px\"viewBox=\"0 0 24 24\"\n",
              "       width=\"24px\">\n",
              "    <path d=\"M0 0h24v24H0V0z\" fill=\"none\"/>\n",
              "    <path d=\"M18.56 5.44l.94 2.06.94-2.06 2.06-.94-2.06-.94-.94-2.06-.94 2.06-2.06.94zm-11 1L8.5 8.5l.94-2.06 2.06-.94-2.06-.94L8.5 2.5l-.94 2.06-2.06.94zm10 10l.94 2.06.94-2.06 2.06-.94-2.06-.94-.94-2.06-.94 2.06-2.06.94z\"/><path d=\"M17.41 7.96l-1.37-1.37c-.4-.4-.92-.59-1.43-.59-.52 0-1.04.2-1.43.59L10.3 9.45l-7.72 7.72c-.78.78-.78 2.05 0 2.83L4 21.41c.39.39.9.59 1.41.59.51 0 1.02-.2 1.41-.59l7.78-7.78 2.81-2.81c.8-.78.8-2.07 0-2.86zM5.41 20L4 18.59l7.72-7.72 1.47 1.35L5.41 20z\"/>\n",
              "  </svg>\n",
              "      </button>\n",
              "      \n",
              "  <style>\n",
              "    .colab-df-container {\n",
              "      display:flex;\n",
              "      flex-wrap:wrap;\n",
              "      gap: 12px;\n",
              "    }\n",
              "\n",
              "    .colab-df-convert {\n",
              "      background-color: #E8F0FE;\n",
              "      border: none;\n",
              "      border-radius: 50%;\n",
              "      cursor: pointer;\n",
              "      display: none;\n",
              "      fill: #1967D2;\n",
              "      height: 32px;\n",
              "      padding: 0 0 0 0;\n",
              "      width: 32px;\n",
              "    }\n",
              "\n",
              "    .colab-df-convert:hover {\n",
              "      background-color: #E2EBFA;\n",
              "      box-shadow: 0px 1px 2px rgba(60, 64, 67, 0.3), 0px 1px 3px 1px rgba(60, 64, 67, 0.15);\n",
              "      fill: #174EA6;\n",
              "    }\n",
              "\n",
              "    [theme=dark] .colab-df-convert {\n",
              "      background-color: #3B4455;\n",
              "      fill: #D2E3FC;\n",
              "    }\n",
              "\n",
              "    [theme=dark] .colab-df-convert:hover {\n",
              "      background-color: #434B5C;\n",
              "      box-shadow: 0px 1px 3px 1px rgba(0, 0, 0, 0.15);\n",
              "      filter: drop-shadow(0px 1px 2px rgba(0, 0, 0, 0.3));\n",
              "      fill: #FFFFFF;\n",
              "    }\n",
              "  </style>\n",
              "\n",
              "      <script>\n",
              "        const buttonEl =\n",
              "          document.querySelector('#df-a4840df2-fe65-43ef-a4df-51a5a2f97744 button.colab-df-convert');\n",
              "        buttonEl.style.display =\n",
              "          google.colab.kernel.accessAllowed ? 'block' : 'none';\n",
              "\n",
              "        async function convertToInteractive(key) {\n",
              "          const element = document.querySelector('#df-a4840df2-fe65-43ef-a4df-51a5a2f97744');\n",
              "          const dataTable =\n",
              "            await google.colab.kernel.invokeFunction('convertToInteractive',\n",
              "                                                     [key], {});\n",
              "          if (!dataTable) return;\n",
              "\n",
              "          const docLinkHtml = 'Like what you see? Visit the ' +\n",
              "            '<a target=\"_blank\" href=https://colab.research.google.com/notebooks/data_table.ipynb>data table notebook</a>'\n",
              "            + ' to learn more about interactive tables.';\n",
              "          element.innerHTML = '';\n",
              "          dataTable['output_type'] = 'display_data';\n",
              "          await google.colab.output.renderOutput(dataTable, element);\n",
              "          const docLink = document.createElement('div');\n",
              "          docLink.innerHTML = docLinkHtml;\n",
              "          element.appendChild(docLink);\n",
              "        }\n",
              "      </script>\n",
              "    </div>\n",
              "  </div>\n",
              "  "
            ]
          },
          "metadata": {},
          "execution_count": 14
        }
      ],
      "source": [
        "merged_data = merged_data.rename(columns={\"type_x\": \"holiday_type\", \"type_y\": \"store_type\"})\n",
        "merged_data.head()"
      ]
    },
    {
      "cell_type": "code",
      "execution_count": 15,
      "metadata": {
        "colab": {
          "base_uri": "https://localhost:8080/"
        },
        "id": "Z3vMdJ3gXmSa",
        "outputId": "42d97ccf-2c1a-4b87-87e4-dc28835a0145"
      },
      "outputs": [
        {
          "output_type": "stream",
          "name": "stdout",
          "text": [
            "Info of merged_data:\n",
            "\n",
            "<class 'pandas.core.frame.DataFrame'>\n",
            "Int64Index: 3054427 entries, 0 to 3054426\n",
            "Data columns (total 17 columns):\n",
            " #   Column        Dtype         \n",
            "---  ------        -----         \n",
            " 0   date          datetime64[ns]\n",
            " 1   id            float64       \n",
            " 2   store_nbr     float64       \n",
            " 3   family        object        \n",
            " 4   sales         float64       \n",
            " 5   onpromotion   float64       \n",
            " 6   transactions  float64       \n",
            " 7   holiday_type  object        \n",
            " 8   locale        object        \n",
            " 9   locale_name   object        \n",
            " 10  description   object        \n",
            " 11  transferred   object        \n",
            " 12  dcoilwtico    float64       \n",
            " 13  city          object        \n",
            " 14  state         object        \n",
            " 15  store_type    object        \n",
            " 16  cluster       float64       \n",
            "dtypes: datetime64[ns](1), float64(7), object(9)\n",
            "memory usage: 419.5+ MB\n",
            "__________________________________________________\n",
            "\n",
            "Missing values in merged_data:\n",
            "\n",
            "date                  0\n",
            "id                   79\n",
            "store_nbr            79\n",
            "family               79\n",
            "sales                79\n",
            "onpromotion          79\n",
            "transactions     249196\n",
            "holiday_type    2551835\n",
            "locale          2551835\n",
            "locale_name     2551835\n",
            "description     2551835\n",
            "transferred     2551835\n",
            "dcoilwtico       878590\n",
            "city                 79\n",
            "state                79\n",
            "store_type           79\n",
            "cluster              79\n",
            "dtype: int64\n",
            "__________________________________________________\n",
            "\n",
            "Shape of merged_data: (3054427, 17)\n",
            "__________________________________________________\n",
            "\n",
            "Describe of merged_data:\n",
            "\n",
            "                  count          mean            std    min        25%  \\\n",
            "id            3054348.0  1.504277e+06  866261.012008   0.00  754676.75   \n",
            "store_nbr     3054348.0  2.750000e+01      15.585787   1.00      14.00   \n",
            "sales         3054348.0  3.590209e+02    1107.285897   0.00       0.00   \n",
            "onpromotion   3054348.0  2.617480e+00      12.254939   0.00       0.00   \n",
            "transactions  2805231.0  1.697071e+03     966.831652   5.00    1046.00   \n",
            "dcoilwtico    2175837.0  6.791923e+01      25.672600  26.19      46.53   \n",
            "cluster       3054348.0  8.481481e+00       4.649735   1.00       4.00   \n",
            "\n",
            "                     50%          75%         max  \n",
            "id            1507571.50  2255120.250  3000887.00  \n",
            "store_nbr          27.50       41.000       54.00  \n",
            "sales              11.00      196.011   124717.00  \n",
            "onpromotion         0.00        0.000      741.00  \n",
            "transactions     1395.00     2081.000     8359.00  \n",
            "dcoilwtico         53.38       95.610      110.62  \n",
            "cluster             8.50       13.000       17.00  \n",
            "__________________________________________________\n",
            "\n",
            "Duplicated values in merged_data: 0\n"
          ]
        }
      ],
      "source": [
        "# Show info of merged_data\n",
        "print(\"Info of merged_data:\\n\")\n",
        "merged_data.info()\n",
        "print('_' * 50)\n",
        "\n",
        "# Show missing values in merged_data\n",
        "print(\"\\nMissing values in merged_data:\\n\")\n",
        "print(merged_data.isna().sum())\n",
        "print('_' * 50)\n",
        "\n",
        "# Show shape of merged_data\n",
        "print(\"\\nShape of merged_data:\", merged_data.shape)\n",
        "print('_' * 50)\n",
        "\n",
        "# Show describe of merged_data\n",
        "print(\"\\nDescribe of merged_data:\\n\")\n",
        "print(merged_data.describe().T)\n",
        "print('_' * 50)\n",
        "\n",
        "# Show duplicated values in merged_data\n",
        "print(\"\\nDuplicated values in merged_data:\", merged_data.duplicated().sum())      \n"
      ]
    },
    {
      "cell_type": "code",
      "execution_count": 16,
      "metadata": {
        "colab": {
          "base_uri": "https://localhost:8080/",
          "height": 269
        },
        "id": "dMu0_tfZXmYb",
        "outputId": "3e7e13d7-d82b-44c2-ca17-286908f1a660"
      },
      "outputs": [
        {
          "output_type": "execute_result",
          "data": {
            "text/plain": [
              "                  count          mean            std    min        25%  \\\n",
              "id            3054348.0  1.504277e+06  866261.012008   0.00  754676.75   \n",
              "store_nbr     3054348.0  2.750000e+01      15.585787   1.00      14.00   \n",
              "sales         3054348.0  3.590209e+02    1107.285897   0.00       0.00   \n",
              "onpromotion   3054348.0  2.617480e+00      12.254939   0.00       0.00   \n",
              "transactions  2805231.0  1.697071e+03     966.831652   5.00    1046.00   \n",
              "dcoilwtico    2175837.0  6.791923e+01      25.672600  26.19      46.53   \n",
              "cluster       3054348.0  8.481481e+00       4.649735   1.00       4.00   \n",
              "\n",
              "                     50%          75%         max  \n",
              "id            1507571.50  2255120.250  3000887.00  \n",
              "store_nbr          27.50       41.000       54.00  \n",
              "sales              11.00      196.011   124717.00  \n",
              "onpromotion         0.00        0.000      741.00  \n",
              "transactions     1395.00     2081.000     8359.00  \n",
              "dcoilwtico         53.38       95.610      110.62  \n",
              "cluster             8.50       13.000       17.00  "
            ],
            "text/html": [
              "\n",
              "  <div id=\"df-c7147596-a398-4111-af39-185ea3855825\">\n",
              "    <div class=\"colab-df-container\">\n",
              "      <div>\n",
              "<style scoped>\n",
              "    .dataframe tbody tr th:only-of-type {\n",
              "        vertical-align: middle;\n",
              "    }\n",
              "\n",
              "    .dataframe tbody tr th {\n",
              "        vertical-align: top;\n",
              "    }\n",
              "\n",
              "    .dataframe thead th {\n",
              "        text-align: right;\n",
              "    }\n",
              "</style>\n",
              "<table border=\"1\" class=\"dataframe\">\n",
              "  <thead>\n",
              "    <tr style=\"text-align: right;\">\n",
              "      <th></th>\n",
              "      <th>count</th>\n",
              "      <th>mean</th>\n",
              "      <th>std</th>\n",
              "      <th>min</th>\n",
              "      <th>25%</th>\n",
              "      <th>50%</th>\n",
              "      <th>75%</th>\n",
              "      <th>max</th>\n",
              "    </tr>\n",
              "  </thead>\n",
              "  <tbody>\n",
              "    <tr>\n",
              "      <th>id</th>\n",
              "      <td>3054348.0</td>\n",
              "      <td>1.504277e+06</td>\n",
              "      <td>866261.012008</td>\n",
              "      <td>0.00</td>\n",
              "      <td>754676.75</td>\n",
              "      <td>1507571.50</td>\n",
              "      <td>2255120.250</td>\n",
              "      <td>3000887.00</td>\n",
              "    </tr>\n",
              "    <tr>\n",
              "      <th>store_nbr</th>\n",
              "      <td>3054348.0</td>\n",
              "      <td>2.750000e+01</td>\n",
              "      <td>15.585787</td>\n",
              "      <td>1.00</td>\n",
              "      <td>14.00</td>\n",
              "      <td>27.50</td>\n",
              "      <td>41.000</td>\n",
              "      <td>54.00</td>\n",
              "    </tr>\n",
              "    <tr>\n",
              "      <th>sales</th>\n",
              "      <td>3054348.0</td>\n",
              "      <td>3.590209e+02</td>\n",
              "      <td>1107.285897</td>\n",
              "      <td>0.00</td>\n",
              "      <td>0.00</td>\n",
              "      <td>11.00</td>\n",
              "      <td>196.011</td>\n",
              "      <td>124717.00</td>\n",
              "    </tr>\n",
              "    <tr>\n",
              "      <th>onpromotion</th>\n",
              "      <td>3054348.0</td>\n",
              "      <td>2.617480e+00</td>\n",
              "      <td>12.254939</td>\n",
              "      <td>0.00</td>\n",
              "      <td>0.00</td>\n",
              "      <td>0.00</td>\n",
              "      <td>0.000</td>\n",
              "      <td>741.00</td>\n",
              "    </tr>\n",
              "    <tr>\n",
              "      <th>transactions</th>\n",
              "      <td>2805231.0</td>\n",
              "      <td>1.697071e+03</td>\n",
              "      <td>966.831652</td>\n",
              "      <td>5.00</td>\n",
              "      <td>1046.00</td>\n",
              "      <td>1395.00</td>\n",
              "      <td>2081.000</td>\n",
              "      <td>8359.00</td>\n",
              "    </tr>\n",
              "    <tr>\n",
              "      <th>dcoilwtico</th>\n",
              "      <td>2175837.0</td>\n",
              "      <td>6.791923e+01</td>\n",
              "      <td>25.672600</td>\n",
              "      <td>26.19</td>\n",
              "      <td>46.53</td>\n",
              "      <td>53.38</td>\n",
              "      <td>95.610</td>\n",
              "      <td>110.62</td>\n",
              "    </tr>\n",
              "    <tr>\n",
              "      <th>cluster</th>\n",
              "      <td>3054348.0</td>\n",
              "      <td>8.481481e+00</td>\n",
              "      <td>4.649735</td>\n",
              "      <td>1.00</td>\n",
              "      <td>4.00</td>\n",
              "      <td>8.50</td>\n",
              "      <td>13.000</td>\n",
              "      <td>17.00</td>\n",
              "    </tr>\n",
              "  </tbody>\n",
              "</table>\n",
              "</div>\n",
              "      <button class=\"colab-df-convert\" onclick=\"convertToInteractive('df-c7147596-a398-4111-af39-185ea3855825')\"\n",
              "              title=\"Convert this dataframe to an interactive table.\"\n",
              "              style=\"display:none;\">\n",
              "        \n",
              "  <svg xmlns=\"http://www.w3.org/2000/svg\" height=\"24px\"viewBox=\"0 0 24 24\"\n",
              "       width=\"24px\">\n",
              "    <path d=\"M0 0h24v24H0V0z\" fill=\"none\"/>\n",
              "    <path d=\"M18.56 5.44l.94 2.06.94-2.06 2.06-.94-2.06-.94-.94-2.06-.94 2.06-2.06.94zm-11 1L8.5 8.5l.94-2.06 2.06-.94-2.06-.94L8.5 2.5l-.94 2.06-2.06.94zm10 10l.94 2.06.94-2.06 2.06-.94-2.06-.94-.94-2.06-.94 2.06-2.06.94z\"/><path d=\"M17.41 7.96l-1.37-1.37c-.4-.4-.92-.59-1.43-.59-.52 0-1.04.2-1.43.59L10.3 9.45l-7.72 7.72c-.78.78-.78 2.05 0 2.83L4 21.41c.39.39.9.59 1.41.59.51 0 1.02-.2 1.41-.59l7.78-7.78 2.81-2.81c.8-.78.8-2.07 0-2.86zM5.41 20L4 18.59l7.72-7.72 1.47 1.35L5.41 20z\"/>\n",
              "  </svg>\n",
              "      </button>\n",
              "      \n",
              "  <style>\n",
              "    .colab-df-container {\n",
              "      display:flex;\n",
              "      flex-wrap:wrap;\n",
              "      gap: 12px;\n",
              "    }\n",
              "\n",
              "    .colab-df-convert {\n",
              "      background-color: #E8F0FE;\n",
              "      border: none;\n",
              "      border-radius: 50%;\n",
              "      cursor: pointer;\n",
              "      display: none;\n",
              "      fill: #1967D2;\n",
              "      height: 32px;\n",
              "      padding: 0 0 0 0;\n",
              "      width: 32px;\n",
              "    }\n",
              "\n",
              "    .colab-df-convert:hover {\n",
              "      background-color: #E2EBFA;\n",
              "      box-shadow: 0px 1px 2px rgba(60, 64, 67, 0.3), 0px 1px 3px 1px rgba(60, 64, 67, 0.15);\n",
              "      fill: #174EA6;\n",
              "    }\n",
              "\n",
              "    [theme=dark] .colab-df-convert {\n",
              "      background-color: #3B4455;\n",
              "      fill: #D2E3FC;\n",
              "    }\n",
              "\n",
              "    [theme=dark] .colab-df-convert:hover {\n",
              "      background-color: #434B5C;\n",
              "      box-shadow: 0px 1px 3px 1px rgba(0, 0, 0, 0.15);\n",
              "      filter: drop-shadow(0px 1px 2px rgba(0, 0, 0, 0.3));\n",
              "      fill: #FFFFFF;\n",
              "    }\n",
              "  </style>\n",
              "\n",
              "      <script>\n",
              "        const buttonEl =\n",
              "          document.querySelector('#df-c7147596-a398-4111-af39-185ea3855825 button.colab-df-convert');\n",
              "        buttonEl.style.display =\n",
              "          google.colab.kernel.accessAllowed ? 'block' : 'none';\n",
              "\n",
              "        async function convertToInteractive(key) {\n",
              "          const element = document.querySelector('#df-c7147596-a398-4111-af39-185ea3855825');\n",
              "          const dataTable =\n",
              "            await google.colab.kernel.invokeFunction('convertToInteractive',\n",
              "                                                     [key], {});\n",
              "          if (!dataTable) return;\n",
              "\n",
              "          const docLinkHtml = 'Like what you see? Visit the ' +\n",
              "            '<a target=\"_blank\" href=https://colab.research.google.com/notebooks/data_table.ipynb>data table notebook</a>'\n",
              "            + ' to learn more about interactive tables.';\n",
              "          element.innerHTML = '';\n",
              "          dataTable['output_type'] = 'display_data';\n",
              "          await google.colab.output.renderOutput(dataTable, element);\n",
              "          const docLink = document.createElement('div');\n",
              "          docLink.innerHTML = docLinkHtml;\n",
              "          element.appendChild(docLink);\n",
              "        }\n",
              "      </script>\n",
              "    </div>\n",
              "  </div>\n",
              "  "
            ]
          },
          "metadata": {},
          "execution_count": 16
        }
      ],
      "source": [
        "merged_data.describe().T"
      ]
    },
    {
      "cell_type": "markdown",
      "metadata": {
        "id": "u3Pk5r-7u12w"
      },
      "source": [
        "# Let us Answer some **Questions**"
      ]
    },
    {
      "cell_type": "markdown",
      "metadata": {
        "id": "0kB6FkWtvFNF"
      },
      "source": [
        "1. Is the train dataset complete (has all the required dates)?"
      ]
    },
    {
      "cell_type": "code",
      "execution_count": 17,
      "metadata": {
        "colab": {
          "base_uri": "https://localhost:8080/"
        },
        "id": "1rSw-HR7uz19",
        "outputId": "6540ea40-d5f2-45a4-a1b1-bfa4547abd49"
      },
      "outputs": [
        {
          "output_type": "stream",
          "name": "stdout",
          "text": [
            "The train dataset is complete.\n"
          ]
        }
      ],
      "source": [
        "if train.isnull().sum().sum() == 0:\n",
        "    print(\"The train dataset is complete.\")\n",
        "else:\n",
        "    print(\"The train dataset is incomplete.\")"
      ]
    },
    {
      "cell_type": "code",
      "execution_count": 18,
      "metadata": {
        "colab": {
          "base_uri": "https://localhost:8080/"
        },
        "id": "s7VlHoRPykaD",
        "outputId": "73270f3b-c150-4998-e8c4-25cf529a5186"
      },
      "outputs": [
        {
          "output_type": "stream",
          "name": "stdout",
          "text": [
            "The time series is not complete. The following dates are missing:\n",
            "DatetimeIndex(['2013-12-25', '2014-12-25', '2015-12-25', '2016-12-25'], dtype='datetime64[ns]', freq=None)\n"
          ]
        }
      ],
      "source": [
        "# Create a date range from the first date to the last date in the series\n",
        "date_range = pd.date_range(start=train.index.min(), end=train.index.max())\n",
        "\n",
        "# Check if there are any dates in the range that are not in the index\n",
        "missing_dates = date_range.difference(train.index)\n",
        "\n",
        "if len(missing_dates) == 0:\n",
        "    print(\"The time series is complete.\")\n",
        "else:\n",
        "    print(\"The time series is not complete. The following dates are missing:\")\n",
        "    print(missing_dates)"
      ]
    },
    {
      "cell_type": "markdown",
      "metadata": {
        "id": "5LjkSvZ5lkyz"
      },
      "source": []
    },
    {
      "cell_type": "markdown",
      "metadata": {
        "id": "biLt_ku3wVnV"
      },
      "source": [
        "2. Which dates have the lowest and highest sales for each year?"
      ]
    },
    {
      "cell_type": "code",
      "execution_count": 19,
      "metadata": {
        "colab": {
          "base_uri": "https://localhost:8080/"
        },
        "id": "RnI0MR_nu0Ef",
        "outputId": "e8526d38-8926-4768-e298-d17237402d95"
      },
      "outputs": [
        {
          "output_type": "stream",
          "name": "stdout",
          "text": [
            "Year: 2013\n",
            "Lowest sales: year  date      \n",
            "2013  2013-12-25    0.0\n",
            "Name: sales, dtype: float64\n",
            "Highest sales: year  date      \n",
            "2013  2013-12-22    1.392590e+06\n",
            "Name: sales, dtype: float64\n",
            "--------------------------------------------------\n",
            "Year: 2014\n",
            "Lowest sales: year  date      \n",
            "2014  2014-12-25    0.0\n",
            "Name: sales, dtype: float64\n",
            "Highest sales: year  date      \n",
            "2014  2014-12-22    2.016287e+06\n",
            "Name: sales, dtype: float64\n",
            "--------------------------------------------------\n",
            "Year: 2015\n",
            "Lowest sales: year  date      \n",
            "2015  2015-12-25    0.0\n",
            "Name: sales, dtype: float64\n",
            "Highest sales: year  date      \n",
            "2015  2015-12-22    2.283724e+06\n",
            "Name: sales, dtype: float64\n",
            "--------------------------------------------------\n",
            "Year: 2016\n",
            "Lowest sales: year  date      \n",
            "2016  2016-12-25    0.0\n",
            "Name: sales, dtype: float64\n",
            "Highest sales: year  date      \n",
            "2016  2016-06-25    2.580891e+06\n",
            "Name: sales, dtype: float64\n",
            "--------------------------------------------------\n",
            "Year: 2017\n",
            "Lowest sales: year  date      \n",
            "2017  2017-08-16    0.0\n",
            "Name: sales, dtype: float64\n",
            "Highest sales: year  date      \n",
            "2017  2017-06-25    3.277833e+06\n",
            "Name: sales, dtype: float64\n",
            "--------------------------------------------------\n",
            "Year: 2012\n",
            "Lowest sales: year  date      \n",
            "2012  2012-03-02    0.0\n",
            "Name: sales, dtype: float64\n",
            "Highest sales: year  date      \n",
            "2012  2012-03-02    0.0\n",
            "Name: sales, dtype: float64\n",
            "--------------------------------------------------\n"
          ]
        }
      ],
      "source": [
        "merged_data['year'] = pd.to_datetime(merged_data['date']).dt.year\n",
        "\n",
        "# Group merged_data by year and date\n",
        "grouped_data = merged_data.groupby(['year', 'date'])\n",
        "\n",
        "# Calculate total sales for each date\n",
        "sales_by_date = grouped_data['sales'].sum()\n",
        "\n",
        "# Sort sales_by_date in ascending and descending order\n",
        "lowest_sales = sales_by_date.groupby('year').nsmallest(1)\n",
        "highest_sales = sales_by_date.groupby('year').nlargest(1)\n",
        "\n",
        "# Print dates with lowest and highest sales for each year\n",
        "for year in merged_data['year'].unique():\n",
        "    print(\"Year:\", year)\n",
        "    print(\"Lowest sales:\", lowest_sales[year])\n",
        "    print(\"Highest sales:\", highest_sales[year])\n",
        "    print(\"-\" * 50)\n"
      ]
    },
    {
      "cell_type": "code",
      "execution_count": 20,
      "metadata": {
        "colab": {
          "base_uri": "https://localhost:8080/",
          "height": 564
        },
        "id": "lzj09fA42rZv",
        "outputId": "4e88d615-a88a-4cc4-d158-43866858bf5d"
      },
      "outputs": [
        {
          "output_type": "display_data",
          "data": {
            "text/plain": [
              "<Figure size 1200x600 with 1 Axes>"
            ],
            "image/png": "[encoded data removed]"
          },
          "metadata": {}
        }
      ],
      "source": [
        "# Group the merged_data by year and date, and calculate the minimum and maximum sales for each date\n",
        "sales_by_date = merged_data.groupby(['year', 'date'])['sales'].agg(['min', 'max'])\n",
        "\n",
        "# Create a figure and axis object\n",
        "fig, ax = plt.subplots(figsize=(12, 6))\n",
        "\n",
        "# Loop through each year, and plot the minimum and maximum sales for each date as two lines\n",
        "for year in sales_by_date.index.get_level_values('year').unique():\n",
        "    data = sales_by_date.loc[year]\n",
        "    ax.plot(data.index.get_level_values('date'), data['min'], label=f'Min Sales {year}')\n",
        "    ax.plot(data.index.get_level_values('date'), data['max'], label=f'Max Sales {year}')\n",
        "\n",
        "# Set the title, x-axis label, y-axis label, and legend\n",
        "ax.set_title('Lowest and Highest Sales for Each Year')\n",
        "ax.set_xlabel('Date')\n",
        "ax.set_ylabel('Sales')\n",
        "ax.legend()\n",
        "\n",
        "# Display the chart\n",
        "plt.show()"
      ]
    },
    {
      "cell_type": "markdown",
      "metadata": {
        "id": "P92F4izS1oAm"
      },
      "source": [
        "3. Did the earthquake impact sales?\n",
        "\n",
        "A magnitude 7.8 earthquake struck Ecuador on **April 16, 2016**. People rallied in relief efforts donating water and other first need products which greatly affected supermarket sales for several weeks after the earthquake."
      ]
    },
    {
      "cell_type": "code",
      "execution_count": 22,
      "metadata": {
        "colab": {
          "base_uri": "https://localhost:8080/"
        },
        "id": "u9qo-Y4HhWxm",
        "outputId": "2626afbd-3336-4338-9da4-f7368149bf59"
      },
      "outputs": [
        {
          "output_type": "stream",
          "name": "stdout",
          "text": [
            "The sales for the date 2016-04-16 is $862,121.49\n"
          ]
        }
      ],
      "source": [
        "# merged_data[merged_data['date'] == '2016-04-16']['sales'].sum()\n",
        "date = '2016-04-16'\n",
        "sales_sum = merged_data[merged_data['date'] == date]['sales'].sum()\n",
        "print(\"The sales for the date {} is ${:,.2f}\".format(date, sales_sum))\n"
      ]
    },
    {
      "cell_type": "markdown",
      "metadata": {
        "id": "EqVzhd_99DBe"
      },
      "source": [
        "we can see that the sales on day the earthquake happened was $862121, however, we are interested in weeks after the event."
      ]
    },
    {
      "cell_type": "code",
      "execution_count": 23,
      "metadata": {
        "colab": {
          "base_uri": "https://localhost:8080/",
          "height": 389
        },
        "id": "s9dFLntm_Vmo",
        "outputId": "94152756-d64d-4890-bfd3-61d82540a13b"
      },
      "outputs": [
        {
          "output_type": "display_data",
          "data": {
            "text/plain": [
              "<Figure size 2000x600 with 1 Axes>"
            ],
            "image/png": "[encoded data removed]"
          },
          "metadata": {}
        }
      ],
      "source": [
        "#define earthqueake\n",
        "earthquake = [pd.to_datetime('2016-04-16')]\n",
        "\n",
        "ax = merged_data.groupby(['date'], as_index=False)['onpromotion'].sum().plot(\n",
        "    'date', 'onpromotion', figsize=(20,6), title='Total Items on Promotion from All Stores')\n",
        "ax.axvline(earthquake, color='purple', linestyle='--')\n",
        "ax.legend(['sales', 'earthquake']);"
      ]
    },
    {
      "cell_type": "markdown",
      "metadata": {
        "id": "8s7CfCOrbl7A"
      },
      "source": [
        "we can see that there was a drastic increase in sales immediately after the earthquake which lasted for some weeks"
      ]
    },
    {
      "cell_type": "markdown",
      "metadata": {
        "id": "iW6C56bT3Tqd"
      },
      "source": [
        "4. Are certain groups of stores selling more products? (Cluster, city, state, type)"
      ]
    },
    {
      "cell_type": "code",
      "execution_count": 24,
      "metadata": {
        "colab": {
          "base_uri": "https://localhost:8080/"
        },
        "id": "I3SQeRiz5vo3",
        "outputId": "0030113b-f389-4560-d7ba-18501c65073b"
      },
      "outputs": [
        {
          "output_type": "stream",
          "name": "stdout",
          "text": [
            "cluster  city           state                           type\n",
            "1        Daule          Guayas                          D        2485687\n",
            "         Guayaquil      Guayas                          D        3568206\n",
            "         Salinas        Santa Elena                     D        1520362\n",
            "2        Cuenca         Azuay                           D        3284365\n",
            "3        El Carmen      Manabi                          C        1451290\n",
            "         Guayaquil      Guayas                          C        2236356\n",
            "         Machala        El Oro                          C        2181195\n",
            "         Playas         Guayas                          C        1123889\n",
            "         Quevedo        Los Rios                        C        1743003\n",
            "         Santo Domingo  Santo Domingo de los Tsachilas  C        1464498\n",
            "4        Loja           Loja                            D        2867052\n",
            "         Machala        El Oro                          D        1764146\n",
            "         Santo Domingo  Santo Domingo de los Tsachilas  D        2347877\n",
            "5        Quito          Pichincha                       A        7273093\n",
            "6        Cayambe        Pichincha                       B        3972488\n",
            "         Cuenca         Azuay                           B        2389482\n",
            "         Guayaquil      Guayas                          B        3864018\n",
            "         Quito          Pichincha                       B        4938701\n",
            "         Santo Domingo  Santo Domingo de los Tsachilas  B         842891\n",
            "7        Puyo           Pastaza                         C         504156\n",
            "         Riobamba       Chimborazo                      C        2287850\n",
            "8        Quito          Pichincha                       D       13000314\n",
            "9        Ambato         Tungurahua                      D        1788171\n",
            "         Quito          Pichincha                       D        2519007\n",
            "10       Babahoyo       Los Rios                        B        2306044\n",
            "         Esmeraldas     Esmeraldas                      E        2182356\n",
            "         Guayaquil      Guayas                          D        1065059\n",
            "                                                        E        2939042\n",
            "         Libertad       Guayas                          E        1738129\n",
            "11       Manta          Manabi                          A         275393\n",
            "         Quito          Pichincha                       A       10775218\n",
            "12       Quito          Pichincha                       C        2295485\n",
            "13       Manta          Manabi                          D        1180082\n",
            "         Quito          Pichincha                       D        8839760\n",
            "14       Ambato         Tungurahua                      A        4384444\n",
            "         Quito          Pichincha                       A       17633708\n",
            "15       Guaranda       Bolivar                         C        2107489\n",
            "         Ibarra         Imbabura                        C        2209898\n",
            "         Latacunga      Cotopaxi                        C        3531356\n",
            "         Quito          Pichincha                       C        1652493\n",
            "16       Quito          Pichincha                       B        2071278\n",
            "17       Guayaquil      Guayas                          A        2873614\n",
            "Name: transactions, dtype: int64\n"
          ]
        }
      ],
      "source": [
        "# merge the two datasets on the store_nbr column\n",
        "merged = pd.merge(stores, transactions, on='store_nbr')\n",
        "\n",
        "# group the merged dataset by cluster, city, state, and type and calculate the sum of transactions for each group\n",
        "grouped = merged.groupby(['cluster', 'city', 'state', 'type'])['transactions'].sum()\n",
        "\n",
        "# print the grouped data\n",
        "print(grouped)\n"
      ]
    },
    {
      "cell_type": "code",
      "execution_count": 25,
      "metadata": {
        "colab": {
          "base_uri": "https://localhost:8080/",
          "height": 559
        },
        "id": "WMa5HYb05vrY",
        "outputId": "54919519-7d64-4f32-a87c-906e4628c6f8"
      },
      "outputs": [
        {
          "output_type": "display_data",
          "data": {
            "text/plain": [
              "<Figure size 1400x500 with 1 Axes>"
            ],
            "image/png": "[encoded data removed]"
          },
          "metadata": {}
        }
      ],
      "source": [
        "# Aggregate sales data by city\n",
        "sales_by_city = merged.groupby('city')['transactions'].sum().reset_index()\n",
        "\n",
        "# Create bubble plot\n",
        "plt.figure(figsize=(14,5))\n",
        "sns.scatterplot(x='city', y='transactions', size='transactions', sizes=(50, 1000), data=sales_by_city, palette='Set2')\n",
        "plt.title('Total Sales by City')\n",
        "plt.xlabel('City')\n",
        "plt.ylabel('Total Sales')\n",
        "plt.xticks(rotation=45)\n",
        "plt.show()\n"
      ]
    },
    {
      "cell_type": "code",
      "execution_count": 26,
      "metadata": {
        "colab": {
          "base_uri": "https://localhost:8080/",
          "height": 564
        },
        "id": "Fz7pq1TdsdvW",
        "outputId": "e330bbbf-d7e5-44be-cd0c-bd6f6cbd4ffc"
      },
      "outputs": [
        {
          "output_type": "display_data",
          "data": {
            "text/plain": [
              "<Figure size 1000x600 with 1 Axes>"
            ],
            "image/png": "[encoded data removed]"
          },
          "metadata": {}
        }
      ],
      "source": [
        "# Group by cluster and calculate the mean transactions\n",
        "grouped_df = merged.groupby(\"cluster\")[\"transactions\"].mean().reset_index()\n",
        "\n",
        "# Create bar plot\n",
        "plt.figure(figsize=(10,6))\n",
        "sns.barplot(x=\"cluster\", y=\"transactions\", data=grouped_df, palette='rocket')\n",
        "# Add labels and title\n",
        "plt.xlabel(\"Store Cluster\")\n",
        "plt.ylabel(\"Mean Transactions\")\n",
        "plt.title(\"Mean Transactions by Store Cluster\")\n",
        "# Show the plot\n",
        "plt.show()\n"
      ]
    },
    {
      "cell_type": "code",
      "execution_count": 27,
      "metadata": {
        "colab": {
          "base_uri": "https://localhost:8080/"
        },
        "id": "oHVdBXd85vw_",
        "outputId": "980a0903-5c7b-49e3-8314-7f6b50fd61e9"
      },
      "outputs": [
        {
          "output_type": "stream",
          "name": "stdout",
          "text": [
            "state\n",
            "Azuay                              5673847\n",
            "Bolivar                            2107489\n",
            "Chimborazo                         2287850\n",
            "Cotopaxi                           3531356\n",
            "El Oro                             3945341\n",
            "Esmeraldas                         2182356\n",
            "Guayas                            21894000\n",
            "Imbabura                           2209898\n",
            "Loja                               2867052\n",
            "Los Rios                           4049047\n",
            "Manabi                             2906765\n",
            "Pastaza                             504156\n",
            "Pichincha                         74971545\n",
            "Santa Elena                        1520362\n",
            "Santo Domingo de los Tsachilas     4655266\n",
            "Tungurahua                         6172615\n",
            "Name: transactions, dtype: int64\n"
          ]
        }
      ],
      "source": [
        "# Group merged dataset by state and sum transactions\n",
        "state_transactions = merged.groupby('state')['transactions'].sum()\n",
        "\n",
        "# Print state_transactions\n",
        "print(state_transactions)"
      ]
    },
    {
      "cell_type": "code",
      "execution_count": 28,
      "metadata": {
        "colab": {
          "base_uri": "https://localhost:8080/",
          "height": 564
        },
        "id": "-rg1z1b_fnDM",
        "outputId": "043b6a83-1701-41bc-cc2a-9597485ca770"
      },
      "outputs": [
        {
          "output_type": "display_data",
          "data": {
            "text/plain": [
              "<Figure size 1000x600 with 1 Axes>"
            ],
            "image/png": "[encoded data removed]"
          },
          "metadata": {}
        }
      ],
      "source": [
        "# Group stores by state and calculate total sales\n",
        "sales_by_state = stores.merge(transactions, on='store_nbr', how='left').groupby('state')['transactions'].sum().reset_index()\n",
        "\n",
        "# Transpose the sales_by_state dataframe\n",
        "sales_by_state_transposed = sales_by_state.set_index('state').T\n",
        "\n",
        "# Create a horizontal bar chart with Seaborn\n",
        "sns.set_style('whitegrid')\n",
        "plt.figure(figsize=(10,6))\n",
        "sns.barplot(data=sales_by_state_transposed, palette='pastel', orient='h')\n",
        "plt.title('Total Sales by State')\n",
        "plt.xlabel('Total Sales')\n",
        "plt.ylabel('State')\n",
        "plt.show()\n"
      ]
    },
    {
      "cell_type": "code",
      "execution_count": 29,
      "metadata": {
        "colab": {
          "base_uri": "https://localhost:8080/"
        },
        "id": "9TbdOibs5v2Y",
        "outputId": "294f6904-25d3-4550-bd9c-1f25e13ff137"
      },
      "outputs": [
        {
          "output_type": "stream",
          "name": "stdout",
          "text": [
            "type\n",
            "A    43215470\n",
            "B    20384902\n",
            "C    24788958\n",
            "D    46230088\n",
            "E     6859527\n",
            "Name: transactions, dtype: int64\n"
          ]
        }
      ],
      "source": [
        "\n",
        "# merge the two datasets on store_nbr\n",
        "merged_df = pd.merge(stores, transactions, on='store_nbr')\n",
        "\n",
        "# group by store type and sum the transactions for each group\n",
        "type_transactions = merged.groupby('type')['transactions'].sum()\n",
        "\n",
        "# print the results\n",
        "print(type_transactions)\n"
      ]
    },
    {
      "cell_type": "code",
      "execution_count": 30,
      "metadata": {
        "colab": {
          "base_uri": "https://localhost:8080/",
          "height": 675
        },
        "id": "883rLKhV5v7O",
        "outputId": "abf9cf3d-3b43-4b4c-edaf-842cdff39830"
      },
      "outputs": [
        {
          "output_type": "display_data",
          "data": {
            "text/plain": [
              "<Figure size 800x800 with 1 Axes>"
            ],
            "image/png": "[encoded data removed]"
          },
          "metadata": {}
        }
      ],
      "source": [
        "\n",
        "# Group by store type and sum the transactions column\n",
        "sales_by_type = merged.groupby('type')['transactions'].sum().reset_index()\n",
        "\n",
        "# Set up the color gradient\n",
        "colors = sns.color_palette('Blues', len(sales_by_type))\n",
        "color_map = dict(zip(sales_by_type['type'], colors))\n",
        "\n",
        "# Create the treemap\n",
        "fig, ax = plt.subplots(figsize=(8, 8))\n",
        "squarify.plot(sizes=sales_by_type['transactions'], label=sales_by_type['type'], alpha=0.8, color=[color_map[type] for type in sales_by_type['type']])\n",
        "plt.axis('off')\n",
        "plt.title('Total Sales by Store Type')\n",
        "plt.show()\n"
      ]
    },
    {
      "cell_type": "markdown",
      "metadata": {
        "id": "WrqsVvcxJtLV"
      },
      "source": [
        "5. **Are sales affected by promotions, oil prices and holidays?**"
      ]
    },
    {
      "cell_type": "code",
      "execution_count": 31,
      "metadata": {
        "colab": {
          "base_uri": "https://localhost:8080/"
        },
        "id": "zoXajKudKLuO",
        "outputId": "29002ecf-0097-4252-9640-2edeeb62d95e"
      },
      "outputs": [
        {
          "output_type": "stream",
          "name": "stdout",
          "text": [
            "Correlation coefficient: 0.4279232048121313\n"
          ]
        }
      ],
      "source": [
        "# Calculate the correlation between sales and promotions\n",
        "corr = train[\"sales\"].corr(train[\"onpromotion\"])\n",
        "\n",
        "# Print the correlation coefficient\n",
        "print(\"Correlation coefficient:\", corr)"
      ]
    },
    {
      "cell_type": "markdown",
      "metadata": {
        "id": "xinGtUujwYDu"
      },
      "source": [
        "we can see that there isnt much corellation between these two, lets probe depper by charting this to see:"
      ]
    },
    {
      "cell_type": "code",
      "execution_count": 32,
      "metadata": {
        "colab": {
          "base_uri": "https://localhost:8080/",
          "height": 472
        },
        "id": "NVvFzyrPNTz6",
        "outputId": "c6d92554-2b2b-4e9a-956e-15f619bb8fed"
      },
      "outputs": [
        {
          "output_type": "display_data",
          "data": {
            "text/plain": [
              "<Figure size 640x480 with 1 Axes>"
            ],
            "image/png": "[encoded data removed]"
          },
          "metadata": {}
        }
      ],
      "source": [
        "# Create a scatter plot of sales vs. onpromotion\n",
        "plt.scatter(train[\"onpromotion\"], train[\"sales\"], alpha=0.5, c=train[\"onpromotion\"], cmap=\"viridis\", s=50)\n",
        "\n",
        "# Add labels and title\n",
        "plt.xlabel(\"On Promotion\")\n",
        "plt.ylabel(\"Sales\")\n",
        "plt.title(\"Scatter Plot of Sales vs. On Promotion\")\n",
        "\n",
        "# Show the plot\n",
        "plt.show()"
      ]
    },
    {
      "cell_type": "code",
      "execution_count": 33,
      "metadata": {
        "colab": {
          "base_uri": "https://localhost:8080/",
          "height": 211
        },
        "id": "x28VvKeBJ5Mg",
        "outputId": "9818bdaa-7434-4f8d-c184-0a4266d353fd"
      },
      "outputs": [
        {
          "output_type": "execute_result",
          "data": {
            "text/plain": [
              "              date         id  store_nbr     family   sales  onpromotion  \\\n",
              "3000792 2013-04-02   163914.0        9.0  BEVERAGES  1331.0          0.0   \n",
              "2016244 2016-01-02  1948891.0       41.0       EGGS   143.0          0.0   \n",
              "\n",
              "         transactions holiday_type locale locale_name description transferred  \\\n",
              "3000792        2340.0          NaN    NaN         NaN         NaN         NaN   \n",
              "2016244        1347.0          NaN    NaN         NaN         NaN         NaN   \n",
              "\n",
              "         dcoilwtico     city      state store_type  cluster  year  \n",
              "3000792       97.23    Quito  Pichincha          B      6.0  2013  \n",
              "2016244         NaN  Machala     El Oro          D      4.0  2016  "
            ],
            "text/html": [
              "\n",
              "  <div id=\"df-a74de4e7-3ebf-4f5c-a3d8-a1c653b696ce\">\n",
              "    <div class=\"colab-df-container\">\n",
              "      <div>\n",
              "<style scoped>\n",
              "    .dataframe tbody tr th:only-of-type {\n",
              "        vertical-align: middle;\n",
              "    }\n",
              "\n",
              "    .dataframe tbody tr th {\n",
              "        vertical-align: top;\n",
              "    }\n",
              "\n",
              "    .dataframe thead th {\n",
              "        text-align: right;\n",
              "    }\n",
              "</style>\n",
              "<table border=\"1\" class=\"dataframe\">\n",
              "  <thead>\n",
              "    <tr style=\"text-align: right;\">\n",
              "      <th></th>\n",
              "      <th>date</th>\n",
              "      <th>id</th>\n",
              "      <th>store_nbr</th>\n",
              "      <th>family</th>\n",
              "      <th>sales</th>\n",
              "      <th>onpromotion</th>\n",
              "      <th>transactions</th>\n",
              "      <th>holiday_type</th>\n",
              "      <th>locale</th>\n",
              "      <th>locale_name</th>\n",
              "      <th>description</th>\n",
              "      <th>transferred</th>\n",
              "      <th>dcoilwtico</th>\n",
              "      <th>city</th>\n",
              "      <th>state</th>\n",
              "      <th>store_type</th>\n",
              "      <th>cluster</th>\n",
              "      <th>year</th>\n",
              "    </tr>\n",
              "  </thead>\n",
              "  <tbody>\n",
              "    <tr>\n",
              "      <th>3000792</th>\n",
              "      <td>2013-04-02</td>\n",
              "      <td>163914.0</td>\n",
              "      <td>9.0</td>\n",
              "      <td>BEVERAGES</td>\n",
              "      <td>1331.0</td>\n",
              "      <td>0.0</td>\n",
              "      <td>2340.0</td>\n",
              "      <td>NaN</td>\n",
              "      <td>NaN</td>\n",
              "      <td>NaN</td>\n",
              "      <td>NaN</td>\n",
              "      <td>NaN</td>\n",
              "      <td>97.23</td>\n",
              "      <td>Quito</td>\n",
              "      <td>Pichincha</td>\n",
              "      <td>B</td>\n",
              "      <td>6.0</td>\n",
              "      <td>2013</td>\n",
              "    </tr>\n",
              "    <tr>\n",
              "      <th>2016244</th>\n",
              "      <td>2016-01-02</td>\n",
              "      <td>1948891.0</td>\n",
              "      <td>41.0</td>\n",
              "      <td>EGGS</td>\n",
              "      <td>143.0</td>\n",
              "      <td>0.0</td>\n",
              "      <td>1347.0</td>\n",
              "      <td>NaN</td>\n",
              "      <td>NaN</td>\n",
              "      <td>NaN</td>\n",
              "      <td>NaN</td>\n",
              "      <td>NaN</td>\n",
              "      <td>NaN</td>\n",
              "      <td>Machala</td>\n",
              "      <td>El Oro</td>\n",
              "      <td>D</td>\n",
              "      <td>4.0</td>\n",
              "      <td>2016</td>\n",
              "    </tr>\n",
              "  </tbody>\n",
              "</table>\n",
              "</div>\n",
              "      <button class=\"colab-df-convert\" onclick=\"convertToInteractive('df-a74de4e7-3ebf-4f5c-a3d8-a1c653b696ce')\"\n",
              "              title=\"Convert this dataframe to an interactive table.\"\n",
              "              style=\"display:none;\">\n",
              "        \n",
              "  <svg xmlns=\"http://www.w3.org/2000/svg\" height=\"24px\"viewBox=\"0 0 24 24\"\n",
              "       width=\"24px\">\n",
              "    <path d=\"M0 0h24v24H0V0z\" fill=\"none\"/>\n",
              "    <path d=\"M18.56 5.44l.94 2.06.94-2.06 2.06-.94-2.06-.94-.94-2.06-.94 2.06-2.06.94zm-11 1L8.5 8.5l.94-2.06 2.06-.94-2.06-.94L8.5 2.5l-.94 2.06-2.06.94zm10 10l.94 2.06.94-2.06 2.06-.94-2.06-.94-.94-2.06-.94 2.06-2.06.94z\"/><path d=\"M17.41 7.96l-1.37-1.37c-.4-.4-.92-.59-1.43-.59-.52 0-1.04.2-1.43.59L10.3 9.45l-7.72 7.72c-.78.78-.78 2.05 0 2.83L4 21.41c.39.39.9.59 1.41.59.51 0 1.02-.2 1.41-.59l7.78-7.78 2.81-2.81c.8-.78.8-2.07 0-2.86zM5.41 20L4 18.59l7.72-7.72 1.47 1.35L5.41 20z\"/>\n",
              "  </svg>\n",
              "      </button>\n",
              "      \n",
              "  <style>\n",
              "    .colab-df-container {\n",
              "      display:flex;\n",
              "      flex-wrap:wrap;\n",
              "      gap: 12px;\n",
              "    }\n",
              "\n",
              "    .colab-df-convert {\n",
              "      background-color: #E8F0FE;\n",
              "      border: none;\n",
              "      border-radius: 50%;\n",
              "      cursor: pointer;\n",
              "      display: none;\n",
              "      fill: #1967D2;\n",
              "      height: 32px;\n",
              "      padding: 0 0 0 0;\n",
              "      width: 32px;\n",
              "    }\n",
              "\n",
              "    .colab-df-convert:hover {\n",
              "      background-color: #E2EBFA;\n",
              "      box-shadow: 0px 1px 2px rgba(60, 64, 67, 0.3), 0px 1px 3px 1px rgba(60, 64, 67, 0.15);\n",
              "      fill: #174EA6;\n",
              "    }\n",
              "\n",
              "    [theme=dark] .colab-df-convert {\n",
              "      background-color: #3B4455;\n",
              "      fill: #D2E3FC;\n",
              "    }\n",
              "\n",
              "    [theme=dark] .colab-df-convert:hover {\n",
              "      background-color: #434B5C;\n",
              "      box-shadow: 0px 1px 3px 1px rgba(0, 0, 0, 0.15);\n",
              "      filter: drop-shadow(0px 1px 2px rgba(0, 0, 0, 0.3));\n",
              "      fill: #FFFFFF;\n",
              "    }\n",
              "  </style>\n",
              "\n",
              "      <script>\n",
              "        const buttonEl =\n",
              "          document.querySelector('#df-a74de4e7-3ebf-4f5c-a3d8-a1c653b696ce button.colab-df-convert');\n",
              "        buttonEl.style.display =\n",
              "          google.colab.kernel.accessAllowed ? 'block' : 'none';\n",
              "\n",
              "        async function convertToInteractive(key) {\n",
              "          const element = document.querySelector('#df-a74de4e7-3ebf-4f5c-a3d8-a1c653b696ce');\n",
              "          const dataTable =\n",
              "            await google.colab.kernel.invokeFunction('convertToInteractive',\n",
              "                                                     [key], {});\n",
              "          if (!dataTable) return;\n",
              "\n",
              "          const docLinkHtml = 'Like what you see? Visit the ' +\n",
              "            '<a target=\"_blank\" href=https://colab.research.google.com/notebooks/data_table.ipynb>data table notebook</a>'\n",
              "            + ' to learn more about interactive tables.';\n",
              "          element.innerHTML = '';\n",
              "          dataTable['output_type'] = 'display_data';\n",
              "          await google.colab.output.renderOutput(dataTable, element);\n",
              "          const docLink = document.createElement('div');\n",
              "          docLink.innerHTML = docLinkHtml;\n",
              "          element.appendChild(docLink);\n",
              "        }\n",
              "      </script>\n",
              "    </div>\n",
              "  </div>\n",
              "  "
            ]
          },
          "metadata": {},
          "execution_count": 33
        }
      ],
      "source": [
        "merged_data.sample(2)"
      ]
    },
    {
      "cell_type": "markdown",
      "metadata": {
        "id": "JZLlJoZSpopx"
      },
      "source": [
        "# New Feature Creation"
      ]
    },
    {
      "cell_type": "code",
      "execution_count": 34,
      "metadata": {
        "id": "HgG0fkABC9Ko"
      },
      "outputs": [],
      "source": [
        "#drop unnecessary columns\n",
        "merged_data = merged_data.drop(columns=['id','locale', 'locale_name', 'description', 'transferred'])"
      ]
    },
    {
      "cell_type": "code",
      "execution_count": 34,
      "metadata": {
        "id": "rdB7u5kxQ7Ih"
      },
      "outputs": [],
      "source": []
    },
    {
      "cell_type": "code",
      "execution_count": 35,
      "metadata": {
        "colab": {
          "base_uri": "https://localhost:8080/",
          "height": 112
        },
        "id": "zkIvz8O4Q7Ii",
        "outputId": "c0559e30-6dc5-4c13-8f5b-bcbbccd4843c"
      },
      "outputs": [
        {
          "output_type": "execute_result",
          "data": {
            "text/plain": [
              "        date  store_nbr      family  sales  onpromotion  transactions  \\\n",
              "0 2013-01-01        1.0  AUTOMOTIVE    0.0          0.0           NaN   \n",
              "1 2013-01-01        1.0   BABY CARE    0.0          0.0           NaN   \n",
              "\n",
              "  holiday_type  dcoilwtico   city      state store_type  cluster  year  \n",
              "0      Holiday   94.756667  Quito  Pichincha          D     13.0  2013  \n",
              "1      Holiday   94.756667  Quito  Pichincha          D     13.0  2013  "
            ],
            "text/html": [
              "\n",
              "  <div id=\"df-f4b35442-8de6-439b-af94-ab834af94edd\">\n",
              "    <div class=\"colab-df-container\">\n",
              "      <div>\n",
              "<style scoped>\n",
              "    .dataframe tbody tr th:only-of-type {\n",
              "        vertical-align: middle;\n",
              "    }\n",
              "\n",
              "    .dataframe tbody tr th {\n",
              "        vertical-align: top;\n",
              "    }\n",
              "\n",
              "    .dataframe thead th {\n",
              "        text-align: right;\n",
              "    }\n",
              "</style>\n",
              "<table border=\"1\" class=\"dataframe\">\n",
              "  <thead>\n",
              "    <tr style=\"text-align: right;\">\n",
              "      <th></th>\n",
              "      <th>date</th>\n",
              "      <th>store_nbr</th>\n",
              "      <th>family</th>\n",
              "      <th>sales</th>\n",
              "      <th>onpromotion</th>\n",
              "      <th>transactions</th>\n",
              "      <th>holiday_type</th>\n",
              "      <th>dcoilwtico</th>\n",
              "      <th>city</th>\n",
              "      <th>state</th>\n",
              "      <th>store_type</th>\n",
              "      <th>cluster</th>\n",
              "      <th>year</th>\n",
              "    </tr>\n",
              "  </thead>\n",
              "  <tbody>\n",
              "    <tr>\n",
              "      <th>0</th>\n",
              "      <td>2013-01-01</td>\n",
              "      <td>1.0</td>\n",
              "      <td>AUTOMOTIVE</td>\n",
              "      <td>0.0</td>\n",
              "      <td>0.0</td>\n",
              "      <td>NaN</td>\n",
              "      <td>Holiday</td>\n",
              "      <td>94.756667</td>\n",
              "      <td>Quito</td>\n",
              "      <td>Pichincha</td>\n",
              "      <td>D</td>\n",
              "      <td>13.0</td>\n",
              "      <td>2013</td>\n",
              "    </tr>\n",
              "    <tr>\n",
              "      <th>1</th>\n",
              "      <td>2013-01-01</td>\n",
              "      <td>1.0</td>\n",
              "      <td>BABY CARE</td>\n",
              "      <td>0.0</td>\n",
              "      <td>0.0</td>\n",
              "      <td>NaN</td>\n",
              "      <td>Holiday</td>\n",
              "      <td>94.756667</td>\n",
              "      <td>Quito</td>\n",
              "      <td>Pichincha</td>\n",
              "      <td>D</td>\n",
              "      <td>13.0</td>\n",
              "      <td>2013</td>\n",
              "    </tr>\n",
              "  </tbody>\n",
              "</table>\n",
              "</div>\n",
              "      <button class=\"colab-df-convert\" onclick=\"convertToInteractive('df-f4b35442-8de6-439b-af94-ab834af94edd')\"\n",
              "              title=\"Convert this dataframe to an interactive table.\"\n",
              "              style=\"display:none;\">\n",
              "        \n",
              "  <svg xmlns=\"http://www.w3.org/2000/svg\" height=\"24px\"viewBox=\"0 0 24 24\"\n",
              "       width=\"24px\">\n",
              "    <path d=\"M0 0h24v24H0V0z\" fill=\"none\"/>\n",
              "    <path d=\"M18.56 5.44l.94 2.06.94-2.06 2.06-.94-2.06-.94-.94-2.06-.94 2.06-2.06.94zm-11 1L8.5 8.5l.94-2.06 2.06-.94-2.06-.94L8.5 2.5l-.94 2.06-2.06.94zm10 10l.94 2.06.94-2.06 2.06-.94-2.06-.94-.94-2.06-.94 2.06-2.06.94z\"/><path d=\"M17.41 7.96l-1.37-1.37c-.4-.4-.92-.59-1.43-.59-.52 0-1.04.2-1.43.59L10.3 9.45l-7.72 7.72c-.78.78-.78 2.05 0 2.83L4 21.41c.39.39.9.59 1.41.59.51 0 1.02-.2 1.41-.59l7.78-7.78 2.81-2.81c.8-.78.8-2.07 0-2.86zM5.41 20L4 18.59l7.72-7.72 1.47 1.35L5.41 20z\"/>\n",
              "  </svg>\n",
              "      </button>\n",
              "      \n",
              "  <style>\n",
              "    .colab-df-container {\n",
              "      display:flex;\n",
              "      flex-wrap:wrap;\n",
              "      gap: 12px;\n",
              "    }\n",
              "\n",
              "    .colab-df-convert {\n",
              "      background-color: #E8F0FE;\n",
              "      border: none;\n",
              "      border-radius: 50%;\n",
              "      cursor: pointer;\n",
              "      display: none;\n",
              "      fill: #1967D2;\n",
              "      height: 32px;\n",
              "      padding: 0 0 0 0;\n",
              "      width: 32px;\n",
              "    }\n",
              "\n",
              "    .colab-df-convert:hover {\n",
              "      background-color: #E2EBFA;\n",
              "      box-shadow: 0px 1px 2px rgba(60, 64, 67, 0.3), 0px 1px 3px 1px rgba(60, 64, 67, 0.15);\n",
              "      fill: #174EA6;\n",
              "    }\n",
              "\n",
              "    [theme=dark] .colab-df-convert {\n",
              "      background-color: #3B4455;\n",
              "      fill: #D2E3FC;\n",
              "    }\n",
              "\n",
              "    [theme=dark] .colab-df-convert:hover {\n",
              "      background-color: #434B5C;\n",
              "      box-shadow: 0px 1px 3px 1px rgba(0, 0, 0, 0.15);\n",
              "      filter: drop-shadow(0px 1px 2px rgba(0, 0, 0, 0.3));\n",
              "      fill: #FFFFFF;\n",
              "    }\n",
              "  </style>\n",
              "\n",
              "      <script>\n",
              "        const buttonEl =\n",
              "          document.querySelector('#df-f4b35442-8de6-439b-af94-ab834af94edd button.colab-df-convert');\n",
              "        buttonEl.style.display =\n",
              "          google.colab.kernel.accessAllowed ? 'block' : 'none';\n",
              "\n",
              "        async function convertToInteractive(key) {\n",
              "          const element = document.querySelector('#df-f4b35442-8de6-439b-af94-ab834af94edd');\n",
              "          const dataTable =\n",
              "            await google.colab.kernel.invokeFunction('convertToInteractive',\n",
              "                                                     [key], {});\n",
              "          if (!dataTable) return;\n",
              "\n",
              "          const docLinkHtml = 'Like what you see? Visit the ' +\n",
              "            '<a target=\"_blank\" href=https://colab.research.google.com/notebooks/data_table.ipynb>data table notebook</a>'\n",
              "            + ' to learn more about interactive tables.';\n",
              "          element.innerHTML = '';\n",
              "          dataTable['output_type'] = 'display_data';\n",
              "          await google.colab.output.renderOutput(dataTable, element);\n",
              "          const docLink = document.createElement('div');\n",
              "          docLink.innerHTML = docLinkHtml;\n",
              "          element.appendChild(docLink);\n",
              "        }\n",
              "      </script>\n",
              "    </div>\n",
              "  </div>\n",
              "  "
            ]
          },
          "metadata": {},
          "execution_count": 35
        }
      ],
      "source": [
        "merged_data.head(2)"
      ]
    },
    {
      "cell_type": "code",
      "execution_count": 36,
      "metadata": {
        "id": "pO9YdTVBjuqv"
      },
      "outputs": [],
      "source": [
        "\n",
        "# Import necessary libraries\n",
        "from sklearn.preprocessing import LabelEncoder\n",
        "\n",
        "# Instantiate LabelEncoder\n",
        "le = LabelEncoder()\n",
        "\n",
        "# Encode categorical columns\n",
        "merged_data['family'] = le.fit_transform(merged_data['family'])\n",
        "merged_data['city'] = le.fit_transform(merged_data['city'])\n",
        "merged_data['state'] = le.fit_transform(merged_data['state'])\n",
        "merged_data['store_type'] = le.fit_transform(merged_data['store_type'])\n",
        "merged_data['cluster'] = le.fit_transform(merged_data['cluster'])\n",
        "merged_data['holiday_type'] = le.fit_transform(merged_data['holiday_type'])\n",
        "\n"
      ]
    },
    {
      "cell_type": "code",
      "execution_count": 37,
      "metadata": {
        "id": "MUG4DyTRQ7Im"
      },
      "outputs": [],
      "source": [
        "from sklearn.preprocessing import StandardScaler\n",
        "\n",
        "# create an instance of StandardScaler\n",
        "scaler = StandardScaler()\n",
        "\n",
        "# select numerical columns\n",
        "num_cols = ['store_nbr','family','sales', 'transactions', 'dcoilwtico','city', 'cluster', 'year']\n",
        "\n",
        "# fit and transform the numerical columns\n",
        "merged_data[num_cols] = scaler.fit_transform(merged_data[num_cols])"
      ]
    },
    {
      "cell_type": "code",
      "execution_count": 38,
      "metadata": {
        "colab": {
          "base_uri": "https://localhost:8080/",
          "height": 344
        },
        "id": "gbUNyKjk5Twz",
        "outputId": "32f8be24-dabc-46bf-b2ad-ba2ccc9d80ed"
      },
      "outputs": [
        {
          "output_type": "execute_result",
          "data": {
            "text/plain": [
              "              date  store_nbr    family     sales  onpromotion  transactions  \\\n",
              "2544156 2017-07-12  -1.443623  0.525044 -0.320623          0.0     -0.459306   \n",
              "697267  2014-07-08  -0.481208 -0.630154 -0.324235          0.0           NaN   \n",
              "1493904 2014-11-29   0.352886  1.155152 -0.322429          0.0     -0.442757   \n",
              "1310490 2013-10-13   0.160403  1.155152 -0.324235          0.0     -1.141948   \n",
              "2978466 2016-01-22  -1.251140  0.209990 -0.058721          0.0      1.111806   \n",
              "2168494 2014-07-26   1.058657  1.575224 -0.316107          0.0      3.153526   \n",
              "2831895 2013-04-26  -1.379462 -1.680335 -0.323332          0.0     -0.091093   \n",
              "1642924 2013-03-21   0.545369  0.315008 -0.324235          0.0           NaN   \n",
              "\n",
              "         holiday_type  dcoilwtico      city  state  store_type   cluster  \\\n",
              "2544156             6   -0.874054  1.347872     14           3 -0.963828   \n",
              "697267              2    1.407757  0.869009     12           1 -0.533713   \n",
              "1493904             6         NaN  0.709388      9           2 -1.178885   \n",
              "1310490             6         NaN -0.727201      6           2 -1.178885   \n",
              "2978466             6   -1.396401  0.869009     12           3 -0.103599   \n",
              "2168494             6         NaN  0.869009     12           0 -0.748771   \n",
              "2831895             6    0.962535  0.869009     12           3  0.971687   \n",
              "1642924             6    0.955913 -0.248338      6           4  0.326515   \n",
              "\n",
              "             year  \n",
              "2544156  1.603345  \n",
              "697267  -0.626061  \n",
              "1493904 -0.626061  \n",
              "1310490 -1.369197  \n",
              "2978466  0.860210  \n",
              "2168494 -0.626061  \n",
              "2831895 -1.369197  \n",
              "1642924 -1.369197  "
            ],
            "text/html": [
              "\n",
              "  <div id=\"df-077201d4-693b-43c6-8513-1f9b0d49f8b0\">\n",
              "    <div class=\"colab-df-container\">\n",
              "      <div>\n",
              "<style scoped>\n",
              "    .dataframe tbody tr th:only-of-type {\n",
              "        vertical-align: middle;\n",
              "    }\n",
              "\n",
              "    .dataframe tbody tr th {\n",
              "        vertical-align: top;\n",
              "    }\n",
              "\n",
              "    .dataframe thead th {\n",
              "        text-align: right;\n",
              "    }\n",
              "</style>\n",
              "<table border=\"1\" class=\"dataframe\">\n",
              "  <thead>\n",
              "    <tr style=\"text-align: right;\">\n",
              "      <th></th>\n",
              "      <th>date</th>\n",
              "      <th>store_nbr</th>\n",
              "      <th>family</th>\n",
              "      <th>sales</th>\n",
              "      <th>onpromotion</th>\n",
              "      <th>transactions</th>\n",
              "      <th>holiday_type</th>\n",
              "      <th>dcoilwtico</th>\n",
              "      <th>city</th>\n",
              "      <th>state</th>\n",
              "      <th>store_type</th>\n",
              "      <th>cluster</th>\n",
              "      <th>year</th>\n",
              "    </tr>\n",
              "  </thead>\n",
              "  <tbody>\n",
              "    <tr>\n",
              "      <th>2544156</th>\n",
              "      <td>2017-07-12</td>\n",
              "      <td>-1.443623</td>\n",
              "      <td>0.525044</td>\n",
              "      <td>-0.320623</td>\n",
              "      <td>0.0</td>\n",
              "      <td>-0.459306</td>\n",
              "      <td>6</td>\n",
              "      <td>-0.874054</td>\n",
              "      <td>1.347872</td>\n",
              "      <td>14</td>\n",
              "      <td>3</td>\n",
              "      <td>-0.963828</td>\n",
              "      <td>1.603345</td>\n",
              "    </tr>\n",
              "    <tr>\n",
              "      <th>697267</th>\n",
              "      <td>2014-07-08</td>\n",
              "      <td>-0.481208</td>\n",
              "      <td>-0.630154</td>\n",
              "      <td>-0.324235</td>\n",
              "      <td>0.0</td>\n",
              "      <td>NaN</td>\n",
              "      <td>2</td>\n",
              "      <td>1.407757</td>\n",
              "      <td>0.869009</td>\n",
              "      <td>12</td>\n",
              "      <td>1</td>\n",
              "      <td>-0.533713</td>\n",
              "      <td>-0.626061</td>\n",
              "    </tr>\n",
              "    <tr>\n",
              "      <th>1493904</th>\n",
              "      <td>2014-11-29</td>\n",
              "      <td>0.352886</td>\n",
              "      <td>1.155152</td>\n",
              "      <td>-0.322429</td>\n",
              "      <td>0.0</td>\n",
              "      <td>-0.442757</td>\n",
              "      <td>6</td>\n",
              "      <td>NaN</td>\n",
              "      <td>0.709388</td>\n",
              "      <td>9</td>\n",
              "      <td>2</td>\n",
              "      <td>-1.178885</td>\n",
              "      <td>-0.626061</td>\n",
              "    </tr>\n",
              "    <tr>\n",
              "      <th>1310490</th>\n",
              "      <td>2013-10-13</td>\n",
              "      <td>0.160403</td>\n",
              "      <td>1.155152</td>\n",
              "      <td>-0.324235</td>\n",
              "      <td>0.0</td>\n",
              "      <td>-1.141948</td>\n",
              "      <td>6</td>\n",
              "      <td>NaN</td>\n",
              "      <td>-0.727201</td>\n",
              "      <td>6</td>\n",
              "      <td>2</td>\n",
              "      <td>-1.178885</td>\n",
              "      <td>-1.369197</td>\n",
              "    </tr>\n",
              "    <tr>\n",
              "      <th>2978466</th>\n",
              "      <td>2016-01-22</td>\n",
              "      <td>-1.251140</td>\n",
              "      <td>0.209990</td>\n",
              "      <td>-0.058721</td>\n",
              "      <td>0.0</td>\n",
              "      <td>1.111806</td>\n",
              "      <td>6</td>\n",
              "      <td>-1.396401</td>\n",
              "      <td>0.869009</td>\n",
              "      <td>12</td>\n",
              "      <td>3</td>\n",
              "      <td>-0.103599</td>\n",
              "      <td>0.860210</td>\n",
              "    </tr>\n",
              "    <tr>\n",
              "      <th>2168494</th>\n",
              "      <td>2014-07-26</td>\n",
              "      <td>1.058657</td>\n",
              "      <td>1.575224</td>\n",
              "      <td>-0.316107</td>\n",
              "      <td>0.0</td>\n",
              "      <td>3.153526</td>\n",
              "      <td>6</td>\n",
              "      <td>NaN</td>\n",
              "      <td>0.869009</td>\n",
              "      <td>12</td>\n",
              "      <td>0</td>\n",
              "      <td>-0.748771</td>\n",
              "      <td>-0.626061</td>\n",
              "    </tr>\n",
              "    <tr>\n",
              "      <th>2831895</th>\n",
              "      <td>2013-04-26</td>\n",
              "      <td>-1.379462</td>\n",
              "      <td>-1.680335</td>\n",
              "      <td>-0.323332</td>\n",
              "      <td>0.0</td>\n",
              "      <td>-0.091093</td>\n",
              "      <td>6</td>\n",
              "      <td>0.962535</td>\n",
              "      <td>0.869009</td>\n",
              "      <td>12</td>\n",
              "      <td>3</td>\n",
              "      <td>0.971687</td>\n",
              "      <td>-1.369197</td>\n",
              "    </tr>\n",
              "    <tr>\n",
              "      <th>1642924</th>\n",
              "      <td>2013-03-21</td>\n",
              "      <td>0.545369</td>\n",
              "      <td>0.315008</td>\n",
              "      <td>-0.324235</td>\n",
              "      <td>0.0</td>\n",
              "      <td>NaN</td>\n",
              "      <td>6</td>\n",
              "      <td>0.955913</td>\n",
              "      <td>-0.248338</td>\n",
              "      <td>6</td>\n",
              "      <td>4</td>\n",
              "      <td>0.326515</td>\n",
              "      <td>-1.369197</td>\n",
              "    </tr>\n",
              "  </tbody>\n",
              "</table>\n",
              "</div>\n",
              "      <button class=\"colab-df-convert\" onclick=\"convertToInteractive('df-077201d4-693b-43c6-8513-1f9b0d49f8b0')\"\n",
              "              title=\"Convert this dataframe to an interactive table.\"\n",
              "              style=\"display:none;\">\n",
              "        \n",
              "  <svg xmlns=\"http://www.w3.org/2000/svg\" height=\"24px\"viewBox=\"0 0 24 24\"\n",
              "       width=\"24px\">\n",
              "    <path d=\"M0 0h24v24H0V0z\" fill=\"none\"/>\n",
              "    <path d=\"M18.56 5.44l.94 2.06.94-2.06 2.06-.94-2.06-.94-.94-2.06-.94 2.06-2.06.94zm-11 1L8.5 8.5l.94-2.06 2.06-.94-2.06-.94L8.5 2.5l-.94 2.06-2.06.94zm10 10l.94 2.06.94-2.06 2.06-.94-2.06-.94-.94-2.06-.94 2.06-2.06.94z\"/><path d=\"M17.41 7.96l-1.37-1.37c-.4-.4-.92-.59-1.43-.59-.52 0-1.04.2-1.43.59L10.3 9.45l-7.72 7.72c-.78.78-.78 2.05 0 2.83L4 21.41c.39.39.9.59 1.41.59.51 0 1.02-.2 1.41-.59l7.78-7.78 2.81-2.81c.8-.78.8-2.07 0-2.86zM5.41 20L4 18.59l7.72-7.72 1.47 1.35L5.41 20z\"/>\n",
              "  </svg>\n",
              "      </button>\n",
              "      \n",
              "  <style>\n",
              "    .colab-df-container {\n",
              "      display:flex;\n",
              "      flex-wrap:wrap;\n",
              "      gap: 12px;\n",
              "    }\n",
              "\n",
              "    .colab-df-convert {\n",
              "      background-color: #E8F0FE;\n",
              "      border: none;\n",
              "      border-radius: 50%;\n",
              "      cursor: pointer;\n",
              "      display: none;\n",
              "      fill: #1967D2;\n",
              "      height: 32px;\n",
              "      padding: 0 0 0 0;\n",
              "      width: 32px;\n",
              "    }\n",
              "\n",
              "    .colab-df-convert:hover {\n",
              "      background-color: #E2EBFA;\n",
              "      box-shadow: 0px 1px 2px rgba(60, 64, 67, 0.3), 0px 1px 3px 1px rgba(60, 64, 67, 0.15);\n",
              "      fill: #174EA6;\n",
              "    }\n",
              "\n",
              "    [theme=dark] .colab-df-convert {\n",
              "      background-color: #3B4455;\n",
              "      fill: #D2E3FC;\n",
              "    }\n",
              "\n",
              "    [theme=dark] .colab-df-convert:hover {\n",
              "      background-color: #434B5C;\n",
              "      box-shadow: 0px 1px 3px 1px rgba(0, 0, 0, 0.15);\n",
              "      filter: drop-shadow(0px 1px 2px rgba(0, 0, 0, 0.3));\n",
              "      fill: #FFFFFF;\n",
              "    }\n",
              "  </style>\n",
              "\n",
              "      <script>\n",
              "        const buttonEl =\n",
              "          document.querySelector('#df-077201d4-693b-43c6-8513-1f9b0d49f8b0 button.colab-df-convert');\n",
              "        buttonEl.style.display =\n",
              "          google.colab.kernel.accessAllowed ? 'block' : 'none';\n",
              "\n",
              "        async function convertToInteractive(key) {\n",
              "          const element = document.querySelector('#df-077201d4-693b-43c6-8513-1f9b0d49f8b0');\n",
              "          const dataTable =\n",
              "            await google.colab.kernel.invokeFunction('convertToInteractive',\n",
              "                                                     [key], {});\n",
              "          if (!dataTable) return;\n",
              "\n",
              "          const docLinkHtml = 'Like what you see? Visit the ' +\n",
              "            '<a target=\"_blank\" href=https://colab.research.google.com/notebooks/data_table.ipynb>data table notebook</a>'\n",
              "            + ' to learn more about interactive tables.';\n",
              "          element.innerHTML = '';\n",
              "          dataTable['output_type'] = 'display_data';\n",
              "          await google.colab.output.renderOutput(dataTable, element);\n",
              "          const docLink = document.createElement('div');\n",
              "          docLink.innerHTML = docLinkHtml;\n",
              "          element.appendChild(docLink);\n",
              "        }\n",
              "      </script>\n",
              "    </div>\n",
              "  </div>\n",
              "  "
            ]
          },
          "metadata": {},
          "execution_count": 38
        }
      ],
      "source": [
        "merged_data.sample(8)"
      ]
    },
    {
      "cell_type": "code",
      "execution_count": 39,
      "metadata": {
        "id": "2gyUBAgPQ7Ip"
      },
      "outputs": [],
      "source": [
        "merged_data.dropna(subset=['sales'], inplace=True)"
      ]
    },
    {
      "cell_type": "code",
      "execution_count": 40,
      "metadata": {
        "colab": {
          "base_uri": "https://localhost:8080/",
          "height": 112
        },
        "id": "mkgK0pAEQ7Iq",
        "outputId": "0f036fc8-4833-4d2d-968b-645313567c3e"
      },
      "outputs": [
        {
          "output_type": "execute_result",
          "data": {
            "text/plain": [
              "        date  store_nbr    family     sales  onpromotion  transactions  \\\n",
              "0 2013-01-01  -1.700267 -1.680335 -0.324235          0.0           NaN   \n",
              "1 2013-01-01  -1.700267 -1.575317 -0.324235          0.0           NaN   \n",
              "\n",
              "   holiday_type  dcoilwtico      city  state  store_type   cluster      year  \n",
              "0             3    1.045373  0.869009     12           3  0.971687 -1.369197  \n",
              "1             3    1.045373  0.869009     12           3  0.971687 -1.369197  "
            ],
            "text/html": [
              "\n",
              "  <div id=\"df-c7affa08-daa7-4ba1-9046-69d925c0adca\">\n",
              "    <div class=\"colab-df-container\">\n",
              "      <div>\n",
              "<style scoped>\n",
              "    .dataframe tbody tr th:only-of-type {\n",
              "        vertical-align: middle;\n",
              "    }\n",
              "\n",
              "    .dataframe tbody tr th {\n",
              "        vertical-align: top;\n",
              "    }\n",
              "\n",
              "    .dataframe thead th {\n",
              "        text-align: right;\n",
              "    }\n",
              "</style>\n",
              "<table border=\"1\" class=\"dataframe\">\n",
              "  <thead>\n",
              "    <tr style=\"text-align: right;\">\n",
              "      <th></th>\n",
              "      <th>date</th>\n",
              "      <th>store_nbr</th>\n",
              "      <th>family</th>\n",
              "      <th>sales</th>\n",
              "      <th>onpromotion</th>\n",
              "      <th>transactions</th>\n",
              "      <th>holiday_type</th>\n",
              "      <th>dcoilwtico</th>\n",
              "      <th>city</th>\n",
              "      <th>state</th>\n",
              "      <th>store_type</th>\n",
              "      <th>cluster</th>\n",
              "      <th>year</th>\n",
              "    </tr>\n",
              "  </thead>\n",
              "  <tbody>\n",
              "    <tr>\n",
              "      <th>0</th>\n",
              "      <td>2013-01-01</td>\n",
              "      <td>-1.700267</td>\n",
              "      <td>-1.680335</td>\n",
              "      <td>-0.324235</td>\n",
              "      <td>0.0</td>\n",
              "      <td>NaN</td>\n",
              "      <td>3</td>\n",
              "      <td>1.045373</td>\n",
              "      <td>0.869009</td>\n",
              "      <td>12</td>\n",
              "      <td>3</td>\n",
              "      <td>0.971687</td>\n",
              "      <td>-1.369197</td>\n",
              "    </tr>\n",
              "    <tr>\n",
              "      <th>1</th>\n",
              "      <td>2013-01-01</td>\n",
              "      <td>-1.700267</td>\n",
              "      <td>-1.575317</td>\n",
              "      <td>-0.324235</td>\n",
              "      <td>0.0</td>\n",
              "      <td>NaN</td>\n",
              "      <td>3</td>\n",
              "      <td>1.045373</td>\n",
              "      <td>0.869009</td>\n",
              "      <td>12</td>\n",
              "      <td>3</td>\n",
              "      <td>0.971687</td>\n",
              "      <td>-1.369197</td>\n",
              "    </tr>\n",
              "  </tbody>\n",
              "</table>\n",
              "</div>\n",
              "      <button class=\"colab-df-convert\" onclick=\"convertToInteractive('df-c7affa08-daa7-4ba1-9046-69d925c0adca')\"\n",
              "              title=\"Convert this dataframe to an interactive table.\"\n",
              "              style=\"display:none;\">\n",
              "        \n",
              "  <svg xmlns=\"http://www.w3.org/2000/svg\" height=\"24px\"viewBox=\"0 0 24 24\"\n",
              "       width=\"24px\">\n",
              "    <path d=\"M0 0h24v24H0V0z\" fill=\"none\"/>\n",
              "    <path d=\"M18.56 5.44l.94 2.06.94-2.06 2.06-.94-2.06-.94-.94-2.06-.94 2.06-2.06.94zm-11 1L8.5 8.5l.94-2.06 2.06-.94-2.06-.94L8.5 2.5l-.94 2.06-2.06.94zm10 10l.94 2.06.94-2.06 2.06-.94-2.06-.94-.94-2.06-.94 2.06-2.06.94z\"/><path d=\"M17.41 7.96l-1.37-1.37c-.4-.4-.92-.59-1.43-.59-.52 0-1.04.2-1.43.59L10.3 9.45l-7.72 7.72c-.78.78-.78 2.05 0 2.83L4 21.41c.39.39.9.59 1.41.59.51 0 1.02-.2 1.41-.59l7.78-7.78 2.81-2.81c.8-.78.8-2.07 0-2.86zM5.41 20L4 18.59l7.72-7.72 1.47 1.35L5.41 20z\"/>\n",
              "  </svg>\n",
              "      </button>\n",
              "      \n",
              "  <style>\n",
              "    .colab-df-container {\n",
              "      display:flex;\n",
              "      flex-wrap:wrap;\n",
              "      gap: 12px;\n",
              "    }\n",
              "\n",
              "    .colab-df-convert {\n",
              "      background-color: #E8F0FE;\n",
              "      border: none;\n",
              "      border-radius: 50%;\n",
              "      cursor: pointer;\n",
              "      display: none;\n",
              "      fill: #1967D2;\n",
              "      height: 32px;\n",
              "      padding: 0 0 0 0;\n",
              "      width: 32px;\n",
              "    }\n",
              "\n",
              "    .colab-df-convert:hover {\n",
              "      background-color: #E2EBFA;\n",
              "      box-shadow: 0px 1px 2px rgba(60, 64, 67, 0.3), 0px 1px 3px 1px rgba(60, 64, 67, 0.15);\n",
              "      fill: #174EA6;\n",
              "    }\n",
              "\n",
              "    [theme=dark] .colab-df-convert {\n",
              "      background-color: #3B4455;\n",
              "      fill: #D2E3FC;\n",
              "    }\n",
              "\n",
              "    [theme=dark] .colab-df-convert:hover {\n",
              "      background-color: #434B5C;\n",
              "      box-shadow: 0px 1px 3px 1px rgba(0, 0, 0, 0.15);\n",
              "      filter: drop-shadow(0px 1px 2px rgba(0, 0, 0, 0.3));\n",
              "      fill: #FFFFFF;\n",
              "    }\n",
              "  </style>\n",
              "\n",
              "      <script>\n",
              "        const buttonEl =\n",
              "          document.querySelector('#df-c7affa08-daa7-4ba1-9046-69d925c0adca button.colab-df-convert');\n",
              "        buttonEl.style.display =\n",
              "          google.colab.kernel.accessAllowed ? 'block' : 'none';\n",
              "\n",
              "        async function convertToInteractive(key) {\n",
              "          const element = document.querySelector('#df-c7affa08-daa7-4ba1-9046-69d925c0adca');\n",
              "          const dataTable =\n",
              "            await google.colab.kernel.invokeFunction('convertToInteractive',\n",
              "                                                     [key], {});\n",
              "          if (!dataTable) return;\n",
              "\n",
              "          const docLinkHtml = 'Like what you see? Visit the ' +\n",
              "            '<a target=\"_blank\" href=https://colab.research.google.com/notebooks/data_table.ipynb>data table notebook</a>'\n",
              "            + ' to learn more about interactive tables.';\n",
              "          element.innerHTML = '';\n",
              "          dataTable['output_type'] = 'display_data';\n",
              "          await google.colab.output.renderOutput(dataTable, element);\n",
              "          const docLink = document.createElement('div');\n",
              "          docLink.innerHTML = docLinkHtml;\n",
              "          element.appendChild(docLink);\n",
              "        }\n",
              "      </script>\n",
              "    </div>\n",
              "  </div>\n",
              "  "
            ]
          },
          "metadata": {},
          "execution_count": 40
        }
      ],
      "source": [
        "merged_data.head(2)"
      ]
    },
    {
      "cell_type": "code",
      "execution_count": 41,
      "metadata": {
        "id": "6GU4UNHAQ7Is"
      },
      "outputs": [],
      "source": [
        "# drop columns\n",
        "merged_data = merged_data.drop(columns=['state','date'])"
      ]
    },
    {
      "cell_type": "code",
      "execution_count": 42,
      "metadata": {
        "colab": {
          "base_uri": "https://localhost:8080/",
          "height": 424
        },
        "id": "-dYKy8VFQ7It",
        "outputId": "e1d97488-a384-4d27-9e85-160e7004240c"
      },
      "outputs": [
        {
          "output_type": "execute_result",
          "data": {
            "text/plain": [
              "         store_nbr    family     sales  onpromotion  transactions  \\\n",
              "0        -1.700267 -1.680335 -0.324235          0.0           NaN   \n",
              "1        -1.700267 -1.575317 -0.324235          0.0           NaN   \n",
              "2        -1.700267 -1.470299 -0.324235          0.0           NaN   \n",
              "3        -1.700267 -1.365281 -0.324235          0.0           NaN   \n",
              "4        -1.700267 -1.260263 -0.324235          0.0           NaN   \n",
              "...            ...       ...       ...          ...           ...   \n",
              "3054343  -1.186979  1.260170  0.071447          0.0      0.473638   \n",
              "3054344  -1.186979  1.365188 -0.184657          1.0      0.473638   \n",
              "3054345  -1.186979  1.470206  1.861045        148.0      0.473638   \n",
              "3054346  -1.186979  1.575224 -0.214959          8.0      0.473638   \n",
              "3054347  -1.186979  1.680242 -0.309785          0.0      0.473638   \n",
              "\n",
              "         holiday_type  dcoilwtico      city  store_type   cluster      year  \n",
              "0                   3    1.045373  0.869009           3  0.971687 -1.369197  \n",
              "1                   3    1.045373  0.869009           3  0.971687 -1.369197  \n",
              "2                   3    1.045373  0.869009           3  0.971687 -1.369197  \n",
              "3                   3    1.045373  0.869009           3  0.971687 -1.369197  \n",
              "4                   3    1.045373  0.869009           3  0.971687 -1.369197  \n",
              "...               ...         ...       ...         ...       ...       ...  \n",
              "3054343             3   -0.792644  0.869009           1 -0.533713  1.603345  \n",
              "3054344             3   -0.792644  0.869009           1 -0.533713  1.603345  \n",
              "3054345             3   -0.792644  0.869009           1 -0.533713  1.603345  \n",
              "3054346             3   -0.792644  0.869009           1 -0.533713  1.603345  \n",
              "3054347             3   -0.792644  0.869009           1 -0.533713  1.603345  \n",
              "\n",
              "[3054348 rows x 11 columns]"
            ],
            "text/html": [
              "\n",
              "  <div id=\"df-1b295488-18d3-4fce-bd5d-27c062789e53\">\n",
              "    <div class=\"colab-df-container\">\n",
              "      <div>\n",
              "<style scoped>\n",
              "    .dataframe tbody tr th:only-of-type {\n",
              "        vertical-align: middle;\n",
              "    }\n",
              "\n",
              "    .dataframe tbody tr th {\n",
              "        vertical-align: top;\n",
              "    }\n",
              "\n",
              "    .dataframe thead th {\n",
              "        text-align: right;\n",
              "    }\n",
              "</style>\n",
              "<table border=\"1\" class=\"dataframe\">\n",
              "  <thead>\n",
              "    <tr style=\"text-align: right;\">\n",
              "      <th></th>\n",
              "      <th>store_nbr</th>\n",
              "      <th>family</th>\n",
              "      <th>sales</th>\n",
              "      <th>onpromotion</th>\n",
              "      <th>transactions</th>\n",
              "      <th>holiday_type</th>\n",
              "      <th>dcoilwtico</th>\n",
              "      <th>city</th>\n",
              "      <th>store_type</th>\n",
              "      <th>cluster</th>\n",
              "      <th>year</th>\n",
              "    </tr>\n",
              "  </thead>\n",
              "  <tbody>\n",
              "    <tr>\n",
              "      <th>0</th>\n",
              "      <td>-1.700267</td>\n",
              "      <td>-1.680335</td>\n",
              "      <td>-0.324235</td>\n",
              "      <td>0.0</td>\n",
              "      <td>NaN</td>\n",
              "      <td>3</td>\n",
              "      <td>1.045373</td>\n",
              "      <td>0.869009</td>\n",
              "      <td>3</td>\n",
              "      <td>0.971687</td>\n",
              "      <td>-1.369197</td>\n",
              "    </tr>\n",
              "    <tr>\n",
              "      <th>1</th>\n",
              "      <td>-1.700267</td>\n",
              "      <td>-1.575317</td>\n",
              "      <td>-0.324235</td>\n",
              "      <td>0.0</td>\n",
              "      <td>NaN</td>\n",
              "      <td>3</td>\n",
              "      <td>1.045373</td>\n",
              "      <td>0.869009</td>\n",
              "      <td>3</td>\n",
              "      <td>0.971687</td>\n",
              "      <td>-1.369197</td>\n",
              "    </tr>\n",
              "    <tr>\n",
              "      <th>2</th>\n",
              "      <td>-1.700267</td>\n",
              "      <td>-1.470299</td>\n",
              "      <td>-0.324235</td>\n",
              "      <td>0.0</td>\n",
              "      <td>NaN</td>\n",
              "      <td>3</td>\n",
              "      <td>1.045373</td>\n",
              "      <td>0.869009</td>\n",
              "      <td>3</td>\n",
              "      <td>0.971687</td>\n",
              "      <td>-1.369197</td>\n",
              "    </tr>\n",
              "    <tr>\n",
              "      <th>3</th>\n",
              "      <td>-1.700267</td>\n",
              "      <td>-1.365281</td>\n",
              "      <td>-0.324235</td>\n",
              "      <td>0.0</td>\n",
              "      <td>NaN</td>\n",
              "      <td>3</td>\n",
              "      <td>1.045373</td>\n",
              "      <td>0.869009</td>\n",
              "      <td>3</td>\n",
              "      <td>0.971687</td>\n",
              "      <td>-1.369197</td>\n",
              "    </tr>\n",
              "    <tr>\n",
              "      <th>4</th>\n",
              "      <td>-1.700267</td>\n",
              "      <td>-1.260263</td>\n",
              "      <td>-0.324235</td>\n",
              "      <td>0.0</td>\n",
              "      <td>NaN</td>\n",
              "      <td>3</td>\n",
              "      <td>1.045373</td>\n",
              "      <td>0.869009</td>\n",
              "      <td>3</td>\n",
              "      <td>0.971687</td>\n",
              "      <td>-1.369197</td>\n",
              "    </tr>\n",
              "    <tr>\n",
              "      <th>...</th>\n",
              "      <td>...</td>\n",
              "      <td>...</td>\n",
              "      <td>...</td>\n",
              "      <td>...</td>\n",
              "      <td>...</td>\n",
              "      <td>...</td>\n",
              "      <td>...</td>\n",
              "      <td>...</td>\n",
              "      <td>...</td>\n",
              "      <td>...</td>\n",
              "      <td>...</td>\n",
              "    </tr>\n",
              "    <tr>\n",
              "      <th>3054343</th>\n",
              "      <td>-1.186979</td>\n",
              "      <td>1.260170</td>\n",
              "      <td>0.071447</td>\n",
              "      <td>0.0</td>\n",
              "      <td>0.473638</td>\n",
              "      <td>3</td>\n",
              "      <td>-0.792644</td>\n",
              "      <td>0.869009</td>\n",
              "      <td>1</td>\n",
              "      <td>-0.533713</td>\n",
              "      <td>1.603345</td>\n",
              "    </tr>\n",
              "    <tr>\n",
              "      <th>3054344</th>\n",
              "      <td>-1.186979</td>\n",
              "      <td>1.365188</td>\n",
              "      <td>-0.184657</td>\n",
              "      <td>1.0</td>\n",
              "      <td>0.473638</td>\n",
              "      <td>3</td>\n",
              "      <td>-0.792644</td>\n",
              "      <td>0.869009</td>\n",
              "      <td>1</td>\n",
              "      <td>-0.533713</td>\n",
              "      <td>1.603345</td>\n",
              "    </tr>\n",
              "    <tr>\n",
              "      <th>3054345</th>\n",
              "      <td>-1.186979</td>\n",
              "      <td>1.470206</td>\n",
              "      <td>1.861045</td>\n",
              "      <td>148.0</td>\n",
              "      <td>0.473638</td>\n",
              "      <td>3</td>\n",
              "      <td>-0.792644</td>\n",
              "      <td>0.869009</td>\n",
              "      <td>1</td>\n",
              "      <td>-0.533713</td>\n",
              "      <td>1.603345</td>\n",
              "    </tr>\n",
              "    <tr>\n",
              "      <th>3054346</th>\n",
              "      <td>-1.186979</td>\n",
              "      <td>1.575224</td>\n",
              "      <td>-0.214959</td>\n",
              "      <td>8.0</td>\n",
              "      <td>0.473638</td>\n",
              "      <td>3</td>\n",
              "      <td>-0.792644</td>\n",
              "      <td>0.869009</td>\n",
              "      <td>1</td>\n",
              "      <td>-0.533713</td>\n",
              "      <td>1.603345</td>\n",
              "    </tr>\n",
              "    <tr>\n",
              "      <th>3054347</th>\n",
              "      <td>-1.186979</td>\n",
              "      <td>1.680242</td>\n",
              "      <td>-0.309785</td>\n",
              "      <td>0.0</td>\n",
              "      <td>0.473638</td>\n",
              "      <td>3</td>\n",
              "      <td>-0.792644</td>\n",
              "      <td>0.869009</td>\n",
              "      <td>1</td>\n",
              "      <td>-0.533713</td>\n",
              "      <td>1.603345</td>\n",
              "    </tr>\n",
              "  </tbody>\n",
              "</table>\n",
              "<p>3054348 rows × 11 columns</p>\n",
              "</div>\n",
              "      <button class=\"colab-df-convert\" onclick=\"convertToInteractive('df-1b295488-18d3-4fce-bd5d-27c062789e53')\"\n",
              "              title=\"Convert this dataframe to an interactive table.\"\n",
              "              style=\"display:none;\">\n",
              "        \n",
              "  <svg xmlns=\"http://www.w3.org/2000/svg\" height=\"24px\"viewBox=\"0 0 24 24\"\n",
              "       width=\"24px\">\n",
              "    <path d=\"M0 0h24v24H0V0z\" fill=\"none\"/>\n",
              "    <path d=\"M18.56 5.44l.94 2.06.94-2.06 2.06-.94-2.06-.94-.94-2.06-.94 2.06-2.06.94zm-11 1L8.5 8.5l.94-2.06 2.06-.94-2.06-.94L8.5 2.5l-.94 2.06-2.06.94zm10 10l.94 2.06.94-2.06 2.06-.94-2.06-.94-.94-2.06-.94 2.06-2.06.94z\"/><path d=\"M17.41 7.96l-1.37-1.37c-.4-.4-.92-.59-1.43-.59-.52 0-1.04.2-1.43.59L10.3 9.45l-7.72 7.72c-.78.78-.78 2.05 0 2.83L4 21.41c.39.39.9.59 1.41.59.51 0 1.02-.2 1.41-.59l7.78-7.78 2.81-2.81c.8-.78.8-2.07 0-2.86zM5.41 20L4 18.59l7.72-7.72 1.47 1.35L5.41 20z\"/>\n",
              "  </svg>\n",
              "      </button>\n",
              "      \n",
              "  <style>\n",
              "    .colab-df-container {\n",
              "      display:flex;\n",
              "      flex-wrap:wrap;\n",
              "      gap: 12px;\n",
              "    }\n",
              "\n",
              "    .colab-df-convert {\n",
              "      background-color: #E8F0FE;\n",
              "      border: none;\n",
              "      border-radius: 50%;\n",
              "      cursor: pointer;\n",
              "      display: none;\n",
              "      fill: #1967D2;\n",
              "      height: 32px;\n",
              "      padding: 0 0 0 0;\n",
              "      width: 32px;\n",
              "    }\n",
              "\n",
              "    .colab-df-convert:hover {\n",
              "      background-color: #E2EBFA;\n",
              "      box-shadow: 0px 1px 2px rgba(60, 64, 67, 0.3), 0px 1px 3px 1px rgba(60, 64, 67, 0.15);\n",
              "      fill: #174EA6;\n",
              "    }\n",
              "\n",
              "    [theme=dark] .colab-df-convert {\n",
              "      background-color: #3B4455;\n",
              "      fill: #D2E3FC;\n",
              "    }\n",
              "\n",
              "    [theme=dark] .colab-df-convert:hover {\n",
              "      background-color: #434B5C;\n",
              "      box-shadow: 0px 1px 3px 1px rgba(0, 0, 0, 0.15);\n",
              "      filter: drop-shadow(0px 1px 2px rgba(0, 0, 0, 0.3));\n",
              "      fill: #FFFFFF;\n",
              "    }\n",
              "  </style>\n",
              "\n",
              "      <script>\n",
              "        const buttonEl =\n",
              "          document.querySelector('#df-1b295488-18d3-4fce-bd5d-27c062789e53 button.colab-df-convert');\n",
              "        buttonEl.style.display =\n",
              "          google.colab.kernel.accessAllowed ? 'block' : 'none';\n",
              "\n",
              "        async function convertToInteractive(key) {\n",
              "          const element = document.querySelector('#df-1b295488-18d3-4fce-bd5d-27c062789e53');\n",
              "          const dataTable =\n",
              "            await google.colab.kernel.invokeFunction('convertToInteractive',\n",
              "                                                     [key], {});\n",
              "          if (!dataTable) return;\n",
              "\n",
              "          const docLinkHtml = 'Like what you see? Visit the ' +\n",
              "            '<a target=\"_blank\" href=https://colab.research.google.com/notebooks/data_table.ipynb>data table notebook</a>'\n",
              "            + ' to learn more about interactive tables.';\n",
              "          element.innerHTML = '';\n",
              "          dataTable['output_type'] = 'display_data';\n",
              "          await google.colab.output.renderOutput(dataTable, element);\n",
              "          const docLink = document.createElement('div');\n",
              "          docLink.innerHTML = docLinkHtml;\n",
              "          element.appendChild(docLink);\n",
              "        }\n",
              "      </script>\n",
              "    </div>\n",
              "  </div>\n",
              "  "
            ]
          },
          "metadata": {},
          "execution_count": 42
        }
      ],
      "source": [
        "merged_data"
      ]
    },
    {
      "cell_type": "markdown",
      "metadata": {
        "id": "C1XknlT3xMWP"
      },
      "source": [
        "## Spliting the Dataset"
      ]
    },
    {
      "cell_type": "code",
      "execution_count": 43,
      "metadata": {
        "colab": {
          "base_uri": "https://localhost:8080/"
        },
        "id": "jWFWbeiKQ7I0",
        "outputId": "874b0d39-16bf-47e0-bfe5-c97114ee277d"
      },
      "outputs": [
        {
          "output_type": "stream",
          "name": "stdout",
          "text": [
            "R-squared score: 0.24\n"
          ]
        }
      ],
      "source": [
        "import pandas as pd\n",
        "from sklearn.model_selection import train_test_split\n",
        "from sklearn.linear_model import LinearRegression\n",
        "\n",
        "\n",
        "# convert datetime column to Unix timestamp format\n",
        "#merged_data['date'] = pd.to_datetime(merged_data['date'])\n",
        "#merged_data['date'] = (merged_data['date'] - pd.Timestamp(\"1970-01-01\")) // pd.Timedelta('1s')\n",
        "\n",
        "# split the data into train and test sets\n",
        "X_train, X_test, y_train, y_test = train_test_split(merged_data.drop('sales', axis=1), merged_data['sales'], test_size=0.2, random_state=42)\n",
        "\n",
        "from sklearn.impute import SimpleImputer\n",
        "\n",
        "# create an instance of the SimpleImputer class\n",
        "imputer = SimpleImputer(strategy='mean')\n",
        "\n",
        "# impute the missing values in your data\n",
        "X_train = imputer.fit_transform(X_train)\n",
        "X_test = imputer.transform(X_test)\n",
        "# fit the linear regression model\n",
        "model = LinearRegression()\n",
        "model.fit(X_train, y_train)\n",
        "\n",
        "# evaluate the model on the test set\n",
        "score = model.score(X_test, y_test)\n",
        "print(f'R-squared score: {score:.2f}')\n"
      ]
    },
    {
      "cell_type": "code",
      "execution_count": 44,
      "metadata": {
        "id": "DpnAYjZYQ7I6"
      },
      "outputs": [],
      "source": [
        "from sklearn.impute import SimpleImputer\n",
        "\n",
        "# create an instance of the SimpleImputer class\n",
        "imputer = SimpleImputer(strategy='mean')\n",
        "\n",
        "# impute the missing values in your data\n",
        "X_train = imputer.fit_transform(X_train)\n",
        "X_test = imputer.transform(X_test)"
      ]
    },
    {
      "cell_type": "markdown",
      "metadata": {
        "id": "H5ZJNCqKy7MV"
      },
      "source": [
        "#**Machine Learning Modeling**\n",
        "\n",
        "## Linear Regression Model"
      ]
    },
    {
      "cell_type": "code",
      "execution_count": 45,
      "metadata": {
        "colab": {
          "base_uri": "https://localhost:8080/"
        },
        "id": "Gytm9GdexMAg",
        "outputId": "2bd6d03b-fd21-4f5d-cc3d-7a0d38bc1350"
      },
      "outputs": [
        {
          "output_type": "stream",
          "name": "stdout",
          "text": [
            "Mean Squared Error: 0.76\n"
          ]
        }
      ],
      "source": [
        "from sklearn.metrics import mean_squared_error\n",
        "\n",
        "# predict on test set\n",
        "y_pred = model.predict(X_test)\n",
        "\n",
        "# calculate MSE\n",
        "mse = mean_squared_error(y_test, y_pred)\n",
        "\n",
        "print(f\"Mean Squared Error: {mse:.2f}\")"
      ]
    },
    {
      "cell_type": "code",
      "execution_count": 46,
      "metadata": {
        "id": "m0n_baUexL9L"
      },
      "outputs": [],
      "source": [
        "# Linear Regression Model\n",
        "lr = LinearRegression()\n",
        "lr.fit(X_train, y_train)\n",
        "\n",
        "# Make prediction on X_test\n",
        "lr_predictions = lr.predict(X_test)"
      ]
    },
    {
      "cell_type": "code",
      "execution_count": 47,
      "metadata": {
        "colab": {
          "base_uri": "https://localhost:8080/"
        },
        "id": "8FtlvF2yQ7JC",
        "outputId": "32eff1b8-03e8-437b-bc26-3861ed3f3ad6"
      },
      "outputs": [
        {
          "output_type": "stream",
          "name": "stdout",
          "text": [
            "\n",
            "Evaluation Results for Linear Regression:\n",
            "MSE: 0.76\n",
            "RMSE: 0.87\n",
            "RMSLE: 0.3\n"
          ]
        }
      ],
      "source": [
        "# Evaluation Metrics for Linear Regression\n",
        "lr_mse = mean_squared_error(y_test, lr_predictions).round(2)\n",
        "lr_rmse = np.sqrt(lr_mse).round(2)\n",
        "\n",
        "# apply the absolute value function to y_test to remove negative signs\n",
        "y_test_abs = abs(y_test)\n",
        "lr_predictions_abs = abs(lr_predictions)\n",
        "\n",
        "# calculate the mean squared logarithmic error using the new y_test_abs and lr_predictions_abs array\n",
        "lr_rmsle = np.sqrt(mean_squared_log_error(y_test_abs, lr_predictions_abs)).round(2)\n",
        "\n",
        "# Print the evaluation results for Linear Regression model\n",
        "print(\"\\nEvaluation Results for Linear Regression:\")\n",
        "print(\"MSE:\", lr_mse)\n",
        "print(\"RMSE:\", lr_rmse)\n",
        "print(\"RMSLE:\", lr_rmsle)"
      ]
    },
    {
      "cell_type": "markdown",
      "metadata": {
        "id": "-mZ4p3DSQ7JG"
      },
      "source": [
        "## Decision Tree Regression Model"
      ]
    },
    {
      "cell_type": "code",
      "execution_count": 48,
      "metadata": {
        "colab": {
          "base_uri": "https://localhost:8080/"
        },
        "id": "mdbdDyANQ7JH",
        "outputId": "166e08d9-143c-45ca-e613-546713684af2"
      },
      "outputs": [
        {
          "output_type": "stream",
          "name": "stdout",
          "text": [
            "\n",
            "Evaluation Results for Decision Tree Regression:\n",
            "MSE: 0.12\n",
            "RMSE: 0.35\n",
            "RMLSE: 0.08\n"
          ]
        }
      ],
      "source": [
        "# Decision Tree Regression Model\n",
        "dt = DecisionTreeRegressor()\n",
        "dt.fit(X_train, y_train)\n",
        "\n",
        "# Make prediction on X_test\n",
        "dt_predictions = dt.predict(X_test)\n",
        "\n",
        "# Evaluation Metrics for Decision Tree Regression\n",
        "dt_mse = mean_squared_error(y_test, dt_predictions).round(2)\n",
        "dt_rmse = np.sqrt(dt_mse).round(2)\n",
        "\n",
        "# Evaluation Metrics for Decision Tree Regression\n",
        "dt_predictions_abs = abs(dt_predictions)\n",
        "\n",
        "# calculate the mean squared logarithmic error using the new y_test_abs and dt_predictions_abs array\n",
        "dt_rmsle = np.sqrt(mean_squared_log_error(y_test_abs, dt_predictions_abs)).round(2)\n",
        "\n",
        "# Print the evaluation results for Decision Tree Regression model\n",
        "print(\"\\nEvaluation Results for Decision Tree Regression:\")\n",
        "print(\"MSE:\", dt_mse)\n",
        "print(\"RMSE:\", dt_rmse)\n",
        "\n",
        "print(\"RMLSE:\", dt_rmsle)"
      ]
    },
    {
      "cell_type": "markdown",
      "metadata": {
        "id": "MUnvBcAin-mL"
      },
      "source": [
        "## XGBoost Model"
      ]
    },
    {
      "cell_type": "code",
      "execution_count": 49,
      "metadata": {
        "id": "nKuDBvuDQ7JM"
      },
      "outputs": [],
      "source": [
        "# import the XGBoost library\n",
        "import xgboost as xgb\n",
        "\n",
        "# create an instance of the XGBRegressor class\n",
        "xgb_model = xgb.XGBRegressor()\n",
        "\n",
        "# fit the model on the training data\n",
        "xgb_model.fit(X_train, y_train)\n",
        "\n",
        "# make predictions on the test data\n",
        "xgb_predictions = xgb_model.predict(X_test)\n"
      ]
    },
    {
      "cell_type": "code",
      "execution_count": 50,
      "metadata": {
        "colab": {
          "base_uri": "https://localhost:8080/"
        },
        "id": "dfqvq88JQ7JN",
        "outputId": "964e7133-6269-45a1-b4bf-5a88f6fc1d52"
      },
      "outputs": [
        {
          "output_type": "stream",
          "name": "stdout",
          "text": [
            "\n",
            "Evaluation Results for XGBoost:\n",
            "MSE: 0.08\n",
            "RMSE: 0.28\n",
            "RMSLE: 0.09\n"
          ]
        }
      ],
      "source": [
        "# Evaluation Metrics for XGBoost\n",
        "xgb_mse = mean_squared_error(y_test, xgb_predictions).round(2)\n",
        "xgb_rmse = np.sqrt(xgb_mse).round(2)\n",
        "\n",
        "#y_test_abs = abs(y_test)\n",
        "xgb_predictions_abs = abs(xgb_predictions)\n",
        "\n",
        "# calculate the mean squared logarithmic error using the new y_test_abs and xgb_predictions_abs array\n",
        "xgb_rmsle = np.sqrt(mean_squared_log_error(y_test_abs, xgb_predictions_abs)).round(2)\n",
        "\n",
        "# Print the evaluation results for XGBoost model\n",
        "print(\"\\nEvaluation Results for XGBoost:\")\n",
        "print(\"MSE:\", xgb_mse)\n",
        "print(\"RMSE:\", xgb_rmse)\n",
        "print(\"RMSLE:\", xgb_rmsle)"
      ]
    },
    {
      "cell_type": "markdown",
      "metadata": {
        "id": "2mgkhgCdQ7JO"
      },
      "source": [
        "## Random Forest Regression Model"
      ]
    },
    {
      "cell_type": "code",
      "execution_count": 51,
      "metadata": {
        "id": "XbzUgVqgQ7JQ"
      },
      "outputs": [],
      "source": [
        "# Random Forest Regression Model\n",
        "rf = RandomForestRegressor(n_estimators=20, random_state=42)\n",
        "rf.fit(X_train, y_train)\n",
        "\n",
        "# Make prediction on X_test\n",
        "rf_predictions = rf.predict(X_test)"
      ]
    },
    {
      "cell_type": "code",
      "source": [
        "# Evaluation Metrics for Random Forest Regression\n",
        "rf_mse = mean_squared_error(y_test, rf_predictions).round(2)\n",
        "rf_rmse = np.sqrt(rf_mse).round(2)\n",
        "\n",
        "# apply the absolute value function to y_test to remove negative signs\n",
        "rf_predictions_abs = abs(rf_predictions)\n",
        "\n",
        "# calculate the mean squared logarithmic error using the new y_test_abs and rf_predictions_abs array\n",
        "rf_rmsle = np.sqrt(mean_squared_log_error(y_test_abs, rf_predictions_abs)).round(2)\n",
        "\n",
        "# Print the evaluation results for Random Forest Regrression model\n",
        "print(\"\\nEvaluation Results for Random Forest:\")\n",
        "print(\"MSE:\", rf_mse)\n",
        "print(\"RMSE:\", rf_rmse)\n",
        "print(\"RMSLE:\", rf_rmsle)\n",
        "                                          "
      ],
      "metadata": {
        "colab": {
          "base_uri": "https://localhost:8080/"
        },
        "id": "kAbQUZpOy3QT",
        "outputId": "ad993f58-b7af-4be9-af05-c1601319c487"
      },
      "execution_count": 52,
      "outputs": [
        {
          "output_type": "stream",
          "name": "stdout",
          "text": [
            "\n",
            "Evaluation Results for Random Forest:\n",
            "MSE: 0.06\n",
            "RMSE: 0.24\n",
            "RMSLE: 0.07\n"
          ]
        }
      ]
    },
    {
      "cell_type": "code",
      "source": [
        "# Define a table to compare evaluation results\n",
        "evaluation_metrics = ['MSE', 'RMSE', 'RMSLE']\n",
        "models = ['Linear Regression', 'Decision Tree', 'XGBoost', 'Random Forest']\n",
        "results = [[lr_mse, lr_rmse, lr_rmsle],\n",
        "           [dt_mse, dt_rmse, dt_rmsle],\n",
        "           [xgb_mse, xgb_rmse, xgb_rmsle],\n",
        "           [rf_mse, rf_rmse, rf_rmsle]]\n",
        "results_table = pd.DataFrame(data=results, columns=evaluation_metrics, index=models)\n",
        "\n",
        "# Print the comparison table\n",
        "print(\"Comparison Table of Evaluation Results:\\n\", results_table)\n"
      ],
      "metadata": {
        "colab": {
          "base_uri": "https://localhost:8080/"
        },
        "id": "qCa9cWS43oe0",
        "outputId": "6e995922-2fc7-43ee-bbc0-7a0be96271c3"
      },
      "execution_count": 53,
      "outputs": [
        {
          "output_type": "stream",
          "name": "stdout",
          "text": [
            "Comparison Table of Evaluation Results:\n",
            "                     MSE  RMSE  RMSLE\n",
            "Linear Regression  0.76  0.87   0.30\n",
            "Decision Tree      0.12  0.35   0.08\n",
            "XGBoost            0.08  0.28   0.09\n",
            "Random Forest      0.06  0.24   0.07\n"
          ]
        }
      ]
    }
  ],
  "metadata": {
    "colab": {
      "provenance": []
    },
    "kernelspec": {
      "display_name": "Python 3 (ipykernel)",
      "language": "python",
      "name": "python3"
    },
    "language_info": {
      "codemirror_mode": {
        "name": "ipython",
        "version": 3
      },
      "file_extension": ".py",
      "mimetype": "text/x-python",
      "name": "python",
      "nbconvert_exporter": "python",
      "pygments_lexer": "ipython3",
      "version": "3.9.7"
    }
  },
  "nbformat": 4,
  "nbformat_minor": 0
}